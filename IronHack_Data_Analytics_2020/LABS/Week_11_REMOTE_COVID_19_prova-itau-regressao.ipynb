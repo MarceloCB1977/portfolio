{
 "cells": [
  {
   "cell_type": "markdown",
   "metadata": {},
   "source": [
    "# Prova Itaú - Regressão"
   ]
  },
  {
   "cell_type": "markdown",
   "metadata": {},
   "source": [
    "# Prova 1."
   ]
  },
  {
   "cell_type": "markdown",
   "metadata": {},
   "source": [
    "## Questão 6) \n",
    "\n",
    "Considerando os dados presentes no arquivo reg01.csv, obtenha um modelo de regressão linear com regularização L1 (LASSO com parâmetro de regularização igual a 1) utilizando a metodologia Leave-One-out. Qual o valor médio do Root Mean Squared Error (RMSE) para a base de treino? Qual o valor médio do RMSE para a base de validação?"
   ]
  },
  {
   "cell_type": "code",
   "execution_count": 46,
   "metadata": {
    "ExecuteTime": {
     "end_time": "2020-05-13T13:06:21.564067Z",
     "start_time": "2020-05-13T13:06:21.364085Z"
    }
   },
   "outputs": [],
   "source": [
    "import pandas as pd\n",
    "import numpy as np\n",
    "from sklearn.linear_model import LinearRegression\n",
    "from sklearn.tree import DecisionTreeRegressor\n",
    "from sklearn.linear_model import Lasso\n",
    "from sklearn.model_selection import LeaveOneOut\n",
    "from sklearn.model_selection import cross_val_score, KFold, cross_validate"
   ]
  },
  {
   "cell_type": "code",
   "execution_count": 4,
   "metadata": {
    "ExecuteTime": {
     "end_time": "2020-05-13T12:27:33.469697Z",
     "start_time": "2020-05-13T12:27:33.410219Z"
    }
   },
   "outputs": [
    {
     "data": {
      "text/html": [
       "<div>\n",
       "<style scoped>\n",
       "    .dataframe tbody tr th:only-of-type {\n",
       "        vertical-align: middle;\n",
       "    }\n",
       "\n",
       "    .dataframe tbody tr th {\n",
       "        vertical-align: top;\n",
       "    }\n",
       "\n",
       "    .dataframe thead th {\n",
       "        text-align: right;\n",
       "    }\n",
       "</style>\n",
       "<table border=\"1\" class=\"dataframe\">\n",
       "  <thead>\n",
       "    <tr style=\"text-align: right;\">\n",
       "      <th></th>\n",
       "      <th>x0</th>\n",
       "      <th>x1</th>\n",
       "      <th>x2</th>\n",
       "      <th>x3</th>\n",
       "      <th>x4</th>\n",
       "      <th>x5</th>\n",
       "      <th>x6</th>\n",
       "      <th>x7</th>\n",
       "      <th>x8</th>\n",
       "      <th>x9</th>\n",
       "      <th>target</th>\n",
       "    </tr>\n",
       "  </thead>\n",
       "  <tbody>\n",
       "    <tr>\n",
       "      <th>0</th>\n",
       "      <td>-0.640731</td>\n",
       "      <td>0.677929</td>\n",
       "      <td>-0.285153</td>\n",
       "      <td>0.469127</td>\n",
       "      <td>1.629361</td>\n",
       "      <td>-0.407575</td>\n",
       "      <td>0.677929</td>\n",
       "      <td>0.781634</td>\n",
       "      <td>-0.132065</td>\n",
       "      <td>-0.125852</td>\n",
       "      <td>238.342700</td>\n",
       "    </tr>\n",
       "    <tr>\n",
       "      <th>1</th>\n",
       "      <td>-1.257229</td>\n",
       "      <td>0.199883</td>\n",
       "      <td>0.369755</td>\n",
       "      <td>0.905828</td>\n",
       "      <td>2.199284</td>\n",
       "      <td>0.407064</td>\n",
       "      <td>0.199883</td>\n",
       "      <td>-0.276165</td>\n",
       "      <td>0.136314</td>\n",
       "      <td>-0.835977</td>\n",
       "      <td>30.823609</td>\n",
       "    </tr>\n",
       "    <tr>\n",
       "      <th>2</th>\n",
       "      <td>-1.351330</td>\n",
       "      <td>-0.159821</td>\n",
       "      <td>-0.667650</td>\n",
       "      <td>-0.067187</td>\n",
       "      <td>1.309160</td>\n",
       "      <td>-0.702359</td>\n",
       "      <td>-0.159821</td>\n",
       "      <td>-0.133427</td>\n",
       "      <td>-0.683428</td>\n",
       "      <td>-1.016574</td>\n",
       "      <td>-135.707090</td>\n",
       "    </tr>\n",
       "  </tbody>\n",
       "</table>\n",
       "</div>"
      ],
      "text/plain": [
       "         x0        x1        x2        x3        x4        x5        x6  \\\n",
       "0 -0.640731  0.677929 -0.285153  0.469127  1.629361 -0.407575  0.677929   \n",
       "1 -1.257229  0.199883  0.369755  0.905828  2.199284  0.407064  0.199883   \n",
       "2 -1.351330 -0.159821 -0.667650 -0.067187  1.309160 -0.702359 -0.159821   \n",
       "\n",
       "         x7        x8        x9      target  \n",
       "0  0.781634 -0.132065 -0.125852  238.342700  \n",
       "1 -0.276165  0.136314 -0.835977   30.823609  \n",
       "2 -0.133427 -0.683428 -1.016574 -135.707090  "
      ]
     },
     "execution_count": 4,
     "metadata": {},
     "output_type": "execute_result"
    }
   ],
   "source": [
    "reg01 = pd.read_csv('data/reg01.csv')\n",
    "reg01.head(3)"
   ]
  },
  {
   "cell_type": "code",
   "execution_count": 6,
   "metadata": {
    "ExecuteTime": {
     "end_time": "2020-05-13T12:29:08.948739Z",
     "start_time": "2020-05-13T12:29:08.936744Z"
    }
   },
   "outputs": [],
   "source": [
    "X_reg01 = reg01.drop(['target'], axis=1)\n",
    "y_reg01 = reg01['target']"
   ]
  },
  {
   "cell_type": "code",
   "execution_count": 7,
   "metadata": {
    "ExecuteTime": {
     "end_time": "2020-05-13T12:29:52.252995Z",
     "start_time": "2020-05-13T12:29:52.242002Z"
    }
   },
   "outputs": [
    {
     "data": {
      "text/plain": [
       "1000"
      ]
     },
     "execution_count": 7,
     "metadata": {},
     "output_type": "execute_result"
    }
   ],
   "source": [
    "loo = LeaveOneOut()\n",
    "loo.get_n_splits(X_reg01)"
   ]
  },
  {
   "cell_type": "code",
   "execution_count": 42,
   "metadata": {
    "ExecuteTime": {
     "end_time": "2020-05-13T13:03:54.779089Z",
     "start_time": "2020-05-13T13:03:39.462984Z"
    }
   },
   "outputs": [
    {
     "data": {
      "text/plain": [
       "Lasso(alpha=1, copy_X=True, fit_intercept=True, max_iter=1000, normalize=False,\n",
       "      positive=False, precompute=False, random_state=None, selection='cyclic',\n",
       "      tol=0.0001, warm_start=False)"
      ]
     },
     "execution_count": 42,
     "metadata": {},
     "output_type": "execute_result"
    }
   ],
   "source": [
    "lasso = Lasso(alpha=1)\n",
    "scores_reg01 = cross_validate(lasso, X_reg01, y_reg01, cv=KFold(n_splits=X_reg01.shape[0]), scoring='neg_root_mean_squared_error', return_train_score=True)\n",
    "lasso.fit(X_reg01, y_reg01)"
   ]
  },
  {
   "cell_type": "code",
   "execution_count": 60,
   "metadata": {
    "ExecuteTime": {
     "end_time": "2020-05-13T14:33:39.370036Z",
     "start_time": "2020-05-13T14:33:39.320068Z"
    }
   },
   "outputs": [
    {
     "name": "stdout",
     "output_type": "stream",
     "text": [
      "Mean Score train: 19.22025983771034\n",
      "Mean Score test: 15.465218791702428\n"
     ]
    }
   ],
   "source": [
    "print(f\"Mean Score train: {-scores_reg01['train_score'].mean()}\")\n",
    "print(f\"Mean Score test: {-scores_reg01['test_score'].mean()}\")"
   ]
  },
  {
   "cell_type": "markdown",
   "metadata": {},
   "source": [
    "## Questão 7) \n",
    "\n",
    "Considerando os dados presentes no arquivo reg02.csv, treine uma árvore de regressão (sem realizar podas) com quebras baseadas no erro quadrático médio (do inglês MSE - Mean Squared Error) utilizando a metodologia de validação cruzada k-fold com 𝑘=10. Qual o valor do Mean Absolute Error (MAE) para a base de treino? Qual o valor médio do MAE para a base de validação?"
   ]
  },
  {
   "cell_type": "code",
   "execution_count": 31,
   "metadata": {
    "ExecuteTime": {
     "end_time": "2020-05-13T12:57:41.035255Z",
     "start_time": "2020-05-13T12:57:40.940308Z"
    }
   },
   "outputs": [
    {
     "data": {
      "text/html": [
       "<div>\n",
       "<style scoped>\n",
       "    .dataframe tbody tr th:only-of-type {\n",
       "        vertical-align: middle;\n",
       "    }\n",
       "\n",
       "    .dataframe tbody tr th {\n",
       "        vertical-align: top;\n",
       "    }\n",
       "\n",
       "    .dataframe thead th {\n",
       "        text-align: right;\n",
       "    }\n",
       "</style>\n",
       "<table border=\"1\" class=\"dataframe\">\n",
       "  <thead>\n",
       "    <tr style=\"text-align: right;\">\n",
       "      <th></th>\n",
       "      <th>x0</th>\n",
       "      <th>x1</th>\n",
       "      <th>x2</th>\n",
       "      <th>x3</th>\n",
       "      <th>x4</th>\n",
       "      <th>x5</th>\n",
       "      <th>x6</th>\n",
       "      <th>x7</th>\n",
       "      <th>x8</th>\n",
       "      <th>x9</th>\n",
       "      <th>...</th>\n",
       "      <th>x11</th>\n",
       "      <th>x12</th>\n",
       "      <th>x13</th>\n",
       "      <th>x14</th>\n",
       "      <th>x15</th>\n",
       "      <th>x16</th>\n",
       "      <th>x17</th>\n",
       "      <th>x18</th>\n",
       "      <th>x19</th>\n",
       "      <th>target</th>\n",
       "    </tr>\n",
       "  </thead>\n",
       "  <tbody>\n",
       "    <tr>\n",
       "      <th>0</th>\n",
       "      <td>-0.640731</td>\n",
       "      <td>0.677929</td>\n",
       "      <td>-0.285153</td>\n",
       "      <td>0.469127</td>\n",
       "      <td>1.629361</td>\n",
       "      <td>-0.407575</td>\n",
       "      <td>0.677929</td>\n",
       "      <td>0.781634</td>\n",
       "      <td>-0.132065</td>\n",
       "      <td>-0.125852</td>\n",
       "      <td>...</td>\n",
       "      <td>0.469127</td>\n",
       "      <td>0.976612</td>\n",
       "      <td>-0.237673</td>\n",
       "      <td>0.270627</td>\n",
       "      <td>-0.146189</td>\n",
       "      <td>0.976612</td>\n",
       "      <td>2.370730</td>\n",
       "      <td>0.783461</td>\n",
       "      <td>0.783461</td>\n",
       "      <td>238.342700</td>\n",
       "    </tr>\n",
       "    <tr>\n",
       "      <th>1</th>\n",
       "      <td>-1.257229</td>\n",
       "      <td>0.199883</td>\n",
       "      <td>0.369755</td>\n",
       "      <td>0.905828</td>\n",
       "      <td>2.199284</td>\n",
       "      <td>0.407064</td>\n",
       "      <td>0.199883</td>\n",
       "      <td>-0.276165</td>\n",
       "      <td>0.136314</td>\n",
       "      <td>-0.835977</td>\n",
       "      <td>...</td>\n",
       "      <td>0.905828</td>\n",
       "      <td>1.523959</td>\n",
       "      <td>-0.376705</td>\n",
       "      <td>0.811498</td>\n",
       "      <td>0.053166</td>\n",
       "      <td>1.523959</td>\n",
       "      <td>1.807168</td>\n",
       "      <td>-0.095143</td>\n",
       "      <td>-0.095143</td>\n",
       "      <td>30.823609</td>\n",
       "    </tr>\n",
       "    <tr>\n",
       "      <th>2</th>\n",
       "      <td>-1.351330</td>\n",
       "      <td>-0.159821</td>\n",
       "      <td>-0.667650</td>\n",
       "      <td>-0.067187</td>\n",
       "      <td>1.309160</td>\n",
       "      <td>-0.702359</td>\n",
       "      <td>-0.159821</td>\n",
       "      <td>-0.133427</td>\n",
       "      <td>-0.683428</td>\n",
       "      <td>-1.016574</td>\n",
       "      <td>...</td>\n",
       "      <td>-0.067187</td>\n",
       "      <td>0.592357</td>\n",
       "      <td>-0.700500</td>\n",
       "      <td>-0.221701</td>\n",
       "      <td>-0.683485</td>\n",
       "      <td>0.592357</td>\n",
       "      <td>1.456616</td>\n",
       "      <td>-0.464433</td>\n",
       "      <td>-0.464433</td>\n",
       "      <td>-135.707090</td>\n",
       "    </tr>\n",
       "  </tbody>\n",
       "</table>\n",
       "<p>3 rows × 21 columns</p>\n",
       "</div>"
      ],
      "text/plain": [
       "         x0        x1        x2        x3        x4        x5        x6  \\\n",
       "0 -0.640731  0.677929 -0.285153  0.469127  1.629361 -0.407575  0.677929   \n",
       "1 -1.257229  0.199883  0.369755  0.905828  2.199284  0.407064  0.199883   \n",
       "2 -1.351330 -0.159821 -0.667650 -0.067187  1.309160 -0.702359 -0.159821   \n",
       "\n",
       "         x7        x8        x9  ...       x11       x12       x13       x14  \\\n",
       "0  0.781634 -0.132065 -0.125852  ...  0.469127  0.976612 -0.237673  0.270627   \n",
       "1 -0.276165  0.136314 -0.835977  ...  0.905828  1.523959 -0.376705  0.811498   \n",
       "2 -0.133427 -0.683428 -1.016574  ... -0.067187  0.592357 -0.700500 -0.221701   \n",
       "\n",
       "        x15       x16       x17       x18       x19      target  \n",
       "0 -0.146189  0.976612  2.370730  0.783461  0.783461  238.342700  \n",
       "1  0.053166  1.523959  1.807168 -0.095143 -0.095143   30.823609  \n",
       "2 -0.683485  0.592357  1.456616 -0.464433 -0.464433 -135.707090  \n",
       "\n",
       "[3 rows x 21 columns]"
      ]
     },
     "execution_count": 31,
     "metadata": {},
     "output_type": "execute_result"
    }
   ],
   "source": [
    "reg02 = pd.read_csv('data/reg02.csv')\n",
    "reg02.head(3)"
   ]
  },
  {
   "cell_type": "code",
   "execution_count": 52,
   "metadata": {
    "ExecuteTime": {
     "end_time": "2020-05-13T13:12:33.998212Z",
     "start_time": "2020-05-13T13:12:33.991218Z"
    }
   },
   "outputs": [],
   "source": [
    "X_reg02 = reg02.drop(['target'], axis=1)\n",
    "y_reg02 = reg02['target']"
   ]
  },
  {
   "cell_type": "code",
   "execution_count": 53,
   "metadata": {
    "ExecuteTime": {
     "end_time": "2020-05-13T13:12:34.574907Z",
     "start_time": "2020-05-13T13:12:34.568909Z"
    }
   },
   "outputs": [],
   "source": [
    "tree = DecisionTreeRegressor()"
   ]
  },
  {
   "cell_type": "code",
   "execution_count": 58,
   "metadata": {
    "ExecuteTime": {
     "end_time": "2020-05-13T13:13:04.258336Z",
     "start_time": "2020-05-13T13:13:03.830570Z"
    }
   },
   "outputs": [],
   "source": [
    "scores_reg02 = cross_validate(tree, X_reg02, y_reg02, cv=KFold(10), scoring='neg_mean_absolute_error', return_train_score=True)"
   ]
  },
  {
   "cell_type": "code",
   "execution_count": 61,
   "metadata": {
    "ExecuteTime": {
     "end_time": "2020-05-13T14:43:35.334551Z",
     "start_time": "2020-05-13T14:43:35.327557Z"
    }
   },
   "outputs": [
    {
     "name": "stdout",
     "output_type": "stream",
     "text": [
      "Mean Score train: -0.0\n",
      "Mean Score test: 43.556045570886965\n"
     ]
    }
   ],
   "source": [
    "print(f\"Mean Score train: {-scores_reg02['train_score'].mean()}\")\n",
    "print(f\"Mean Score test: {-scores_reg02['test_score'].mean()}\")"
   ]
  },
  {
   "cell_type": "markdown",
   "metadata": {},
   "source": [
    "## Questão 5 \n",
    "\n",
    "Assinale as alternativas com V ou F para Verdadeiro ou Falso respectivamente. Atente para o fato que uma questão errada anula uma certa. Em caso de dúvidas deixe em branco."
   ]
  },
  {
   "cell_type": "markdown",
   "metadata": {},
   "source": [
    "(**V**) Quando ajustamos um modelo linear, geralmente supomos que os erros tem distribuição normal e são independentes e identicamente distribuídos (i.i.d.)."
   ]
  },
  {
   "cell_type": "markdown",
   "metadata": {},
   "source": [
    "(**V**) Quando ajustamos um modelo de regressão, podemos utilizar os valores preditos e os resíduos do modelo para avaliar se o modelo se adequa bem aos dados."
   ]
  },
  {
   "cell_type": "markdown",
   "metadata": {},
   "source": [
    "(**V**) O coeficiente de determinação (𝑟2) indica, em termos percentuais, quanto da variabilidade da variável resposta é explicada pelas covariáveis do modelo."
   ]
  },
  {
   "cell_type": "markdown",
   "metadata": {},
   "source": [
    "(**F**) Os modelos de regressão não são afetados por observações atípicas (outliers) e valores faltantes."
   ]
  },
  {
   "cell_type": "markdown",
   "metadata": {},
   "source": [
    "(**V**) Considerando um modelo de regressão simples, temos que o coeficiente associado à covariável representa o grau de inclinação da reta."
   ]
  },
  {
   "cell_type": "markdown",
   "metadata": {},
   "source": [
    "(**F**) Para efetuarmos regressão com o algoritmo KNN, é aconselhado fazer uma votação simples dos valores dos 𝑘 vizinhos encontrados."
   ]
  },
  {
   "cell_type": "markdown",
   "metadata": {},
   "source": [
    "(**V**) Para melhor desempenho da árvore de regressão, pode-se utilizar regressões lineares em suas folhas para previsão do valor final."
   ]
  },
  {
   "cell_type": "markdown",
   "metadata": {},
   "source": [
    "(**F**) A F1 é uma medida adequada para avaliar algoritmos de regressão."
   ]
  },
  {
   "cell_type": "markdown",
   "metadata": {},
   "source": [
    "(**V**) Em todos os modelos de regressão, a métrica 𝑟2 é igual ao quadrado da correlação de pearson entre o valor predito e o observado."
   ]
  },
  {
   "cell_type": "markdown",
   "metadata": {},
   "source": [
    "(**V**) No algoritmo Random Forest, uma possibilidade simplista para obtenção do valor final é calcular a média dos valores encontrados em cada árvore."
   ]
  },
  {
   "cell_type": "markdown",
   "metadata": {},
   "source": [
    "-----"
   ]
  },
  {
   "cell_type": "markdown",
   "metadata": {},
   "source": [
    "# Prova 2."
   ]
  },
  {
   "cell_type": "markdown",
   "metadata": {},
   "source": [
    "## Questão 7\n",
    "\n",
    "Considerando os dados presentes no arquivo regressao_Q6.csv, obtenha um modelo de regressão linear com regularização L2 (RIDGE com parâmetro de regularização igual a 1.7) utilizando a metodologia Leave-One-out. Qual o valor médio do Root Mean Squared Error (RMSE) para a base de treino? Qual o valor médio do RMSE para a base de validação?"
   ]
  },
  {
   "cell_type": "code",
   "execution_count": 63,
   "metadata": {
    "ExecuteTime": {
     "end_time": "2020-05-13T21:47:18.506332Z",
     "start_time": "2020-05-13T21:47:18.446368Z"
    }
   },
   "outputs": [
    {
     "data": {
      "text/html": [
       "<div>\n",
       "<style scoped>\n",
       "    .dataframe tbody tr th:only-of-type {\n",
       "        vertical-align: middle;\n",
       "    }\n",
       "\n",
       "    .dataframe tbody tr th {\n",
       "        vertical-align: top;\n",
       "    }\n",
       "\n",
       "    .dataframe thead th {\n",
       "        text-align: right;\n",
       "    }\n",
       "</style>\n",
       "<table border=\"1\" class=\"dataframe\">\n",
       "  <thead>\n",
       "    <tr style=\"text-align: right;\">\n",
       "      <th></th>\n",
       "      <th>x0</th>\n",
       "      <th>x1</th>\n",
       "      <th>x2</th>\n",
       "      <th>x3</th>\n",
       "      <th>x4</th>\n",
       "      <th>x5</th>\n",
       "      <th>x6</th>\n",
       "      <th>x7</th>\n",
       "      <th>x8</th>\n",
       "      <th>x9</th>\n",
       "      <th>target</th>\n",
       "    </tr>\n",
       "  </thead>\n",
       "  <tbody>\n",
       "    <tr>\n",
       "      <th>0</th>\n",
       "      <td>-0.351837</td>\n",
       "      <td>0.719462</td>\n",
       "      <td>0.862522</td>\n",
       "      <td>-1.131049</td>\n",
       "      <td>0.744903</td>\n",
       "      <td>0.532177</td>\n",
       "      <td>1.595572</td>\n",
       "      <td>0.607174</td>\n",
       "      <td>1.306696</td>\n",
       "      <td>0.450022</td>\n",
       "      <td>170.471696</td>\n",
       "    </tr>\n",
       "    <tr>\n",
       "      <th>1</th>\n",
       "      <td>-0.309565</td>\n",
       "      <td>0.786033</td>\n",
       "      <td>1.175365</td>\n",
       "      <td>-1.149287</td>\n",
       "      <td>0.318301</td>\n",
       "      <td>0.620987</td>\n",
       "      <td>1.470917</td>\n",
       "      <td>0.568968</td>\n",
       "      <td>1.334661</td>\n",
       "      <td>-0.267235</td>\n",
       "      <td>151.023999</td>\n",
       "    </tr>\n",
       "    <tr>\n",
       "      <th>2</th>\n",
       "      <td>-1.808729</td>\n",
       "      <td>-0.581660</td>\n",
       "      <td>-0.052200</td>\n",
       "      <td>-2.411602</td>\n",
       "      <td>0.171517</td>\n",
       "      <td>-1.174627</td>\n",
       "      <td>0.010317</td>\n",
       "      <td>-0.677372</td>\n",
       "      <td>0.841643</td>\n",
       "      <td>-1.186626</td>\n",
       "      <td>-268.606299</td>\n",
       "    </tr>\n",
       "  </tbody>\n",
       "</table>\n",
       "</div>"
      ],
      "text/plain": [
       "         x0        x1        x2        x3        x4        x5        x6  \\\n",
       "0 -0.351837  0.719462  0.862522 -1.131049  0.744903  0.532177  1.595572   \n",
       "1 -0.309565  0.786033  1.175365 -1.149287  0.318301  0.620987  1.470917   \n",
       "2 -1.808729 -0.581660 -0.052200 -2.411602  0.171517 -1.174627  0.010317   \n",
       "\n",
       "         x7        x8        x9      target  \n",
       "0  0.607174  1.306696  0.450022  170.471696  \n",
       "1  0.568968  1.334661 -0.267235  151.023999  \n",
       "2 -0.677372  0.841643 -1.186626 -268.606299  "
      ]
     },
     "execution_count": 63,
     "metadata": {},
     "output_type": "execute_result"
    }
   ],
   "source": [
    "reg06 = pd.read_csv('data/regressao_Q6.csv')\n",
    "reg06.head(3)"
   ]
  },
  {
   "cell_type": "code",
   "execution_count": 66,
   "metadata": {
    "ExecuteTime": {
     "end_time": "2020-05-13T21:50:00.203488Z",
     "start_time": "2020-05-13T21:50:00.191496Z"
    }
   },
   "outputs": [],
   "source": [
    "from sklearn.linear_model import Ridge\n",
    "ridge = Ridge(alpha=1.7)\n",
    "X_reg06 = reg06.drop(['target'], axis=1)\n",
    "y_reg06 = reg06['target']"
   ]
  },
  {
   "cell_type": "code",
   "execution_count": 67,
   "metadata": {
    "ExecuteTime": {
     "end_time": "2020-05-13T21:50:48.006773Z",
     "start_time": "2020-05-13T21:50:36.668276Z"
    }
   },
   "outputs": [],
   "source": [
    "scores_reg06 = cross_validate(ridge, X_reg06, y_reg06, cv=LeaveOneOut(), scoring='neg_root_mean_squared_error', return_train_score=True)"
   ]
  },
  {
   "cell_type": "code",
   "execution_count": 68,
   "metadata": {
    "ExecuteTime": {
     "end_time": "2020-05-13T21:50:48.678951Z",
     "start_time": "2020-05-13T21:50:48.665958Z"
    }
   },
   "outputs": [
    {
     "name": "stdout",
     "output_type": "stream",
     "text": [
      "Mean Score train: 27.431741940951238\n",
      "Mean Score test: 22.058797611970466\n"
     ]
    }
   ],
   "source": [
    "print(f\"Mean Score train: {-scores_reg06['train_score'].mean()}\")\n",
    "print(f\"Mean Score test: {-scores_reg06['test_score'].mean()}\")"
   ]
  },
  {
   "cell_type": "markdown",
   "metadata": {},
   "source": [
    "## Questão 4\n",
    "\n",
    "Considerando os dados presentes no arquivo regressao_Q7.csv, treine uma árvore de regressão (sem realizar podas) com quebras baseadas no erro quadrático médio (do inglês MSE - Mean Squared Error) utilizando a metodologia de validação cruzada k-fold com 𝑘=10. Qual o valor do Mean Absolute Error (MAE) para a base de treino? Qual o valor médio do MAE para a base de validação?"
   ]
  },
  {
   "cell_type": "code",
   "execution_count": 70,
   "metadata": {
    "ExecuteTime": {
     "end_time": "2020-05-13T21:53:09.850225Z",
     "start_time": "2020-05-13T21:53:09.786262Z"
    }
   },
   "outputs": [],
   "source": [
    "reg07 = pd.read_csv('data/regressao_Q7.csv')\n",
    "X_reg07 = reg07.drop(['target'], axis=1)\n",
    "y_reg07 = reg07['target']"
   ]
  },
  {
   "cell_type": "code",
   "execution_count": 71,
   "metadata": {
    "ExecuteTime": {
     "end_time": "2020-05-13T21:55:08.063226Z",
     "start_time": "2020-05-13T21:55:07.257686Z"
    }
   },
   "outputs": [],
   "source": [
    "tree_reg07 = DecisionTreeRegressor()\n",
    "scores_reg07 = cross_validate(tree_reg07, X_reg07, y_reg07, cv=KFold(10), scoring='neg_mean_absolute_error', return_train_score=True)"
   ]
  },
  {
   "cell_type": "code",
   "execution_count": 72,
   "metadata": {
    "ExecuteTime": {
     "end_time": "2020-05-13T21:55:08.083213Z",
     "start_time": "2020-05-13T21:55:08.074221Z"
    }
   },
   "outputs": [
    {
     "name": "stdout",
     "output_type": "stream",
     "text": [
      "Mean Score train: 6.897663486269165e-08\n",
      "Mean Score test: 52.181360799797304\n"
     ]
    }
   ],
   "source": [
    "print(f\"Mean Score train: {-scores_reg07['train_score'].mean()}\")\n",
    "print(f\"Mean Score test: {-scores_reg07['test_score'].mean()}\")"
   ]
  },
  {
   "cell_type": "markdown",
   "metadata": {},
   "source": [
    "## Questão 5) \n",
    "\n",
    "Assinale as alternativas com V ou F para Verdadeiro ou Falso respectivamente. Atente para o fato que uma questão errada anula uma certa. Em caso de dúvidas deixe em branco."
   ]
  },
  {
   "cell_type": "markdown",
   "metadata": {},
   "source": [
    "(**V**) Quando ajustamos um modelo de regressão, os resíduos são estatísticas importantes para avaliar se o modelo se adequa bem aos dados."
   ]
  },
  {
   "cell_type": "markdown",
   "metadata": {},
   "source": [
    "(**V**) Os modelos tradicionais de regressão são afetados por observações atípicas (outliers) e valores faltantes, sendo necessário realizar um pré-processamento dos dados antes da modelagem."
   ]
  },
  {
   "cell_type": "markdown",
   "metadata": {},
   "source": [
    "(**F**) Em uma regressão logística, o coeficiente associado à uma variável numérica representa a variação do valor estimado quando a variável explicativa aumenta 1 unidade."
   ]
  },
  {
   "cell_type": "markdown",
   "metadata": {},
   "source": [
    "(**V**) O coeficiente de determinação (r^2) indica, em termos percentuais, quanto da variabilidade da variável resposta é explicada pelas variáveis utilizadas no modelo."
   ]
  },
  {
   "cell_type": "markdown",
   "metadata": {},
   "source": [
    "(**V**) As regularizações L1 e L2 são técnicas apropriadas para combater overfitting no treinamento de modelos de regressão."
   ]
  },
  {
   "cell_type": "markdown",
   "metadata": {},
   "source": [
    "(**V**) Para efetuarmos regressão com o algoritmo KNN, a estratégia mais simples é fazer uma média aritmética dos valores dos k vizinhos encontrados."
   ]
  },
  {
   "cell_type": "markdown",
   "metadata": {},
   "source": [
    "(**V**) Incorporar modelos de regressão linear nos nós-folha de uma árvore de regressão pode melhorar a capacidade preditiva."
   ]
  },
  {
   "cell_type": "markdown",
   "metadata": {},
   "source": [
    "(**F**) AUC (Area Under the Curve) é uma métrica para avaliar o desempenho de modelos de regressão."
   ]
  },
  {
   "cell_type": "markdown",
   "metadata": {},
   "source": [
    "(**V**) No algoritmo Random Forest, uma possibilidade simplista para obtenção do valor final é calcular a média dos valores encontrados em cada árvore."
   ]
  },
  {
   "cell_type": "markdown",
   "metadata": {},
   "source": [
    "(**F**) Utiliza-se validação out-of-time para modelos de regressão separando um conjunto de dados de forma aleatória, independentemente do tempo."
   ]
  }
 ],
 "metadata": {
  "hide_input": false,
  "kernelspec": {
   "display_name": "Python 3",
   "language": "python",
   "name": "python3"
  },
  "language_info": {
   "codemirror_mode": {
    "name": "ipython",
    "version": 3
   },
   "file_extension": ".py",
   "mimetype": "text/x-python",
   "name": "python",
   "nbconvert_exporter": "python",
   "pygments_lexer": "ipython3",
   "version": "3.7.1"
  },
  "toc": {
   "base_numbering": 1,
   "nav_menu": {},
   "number_sections": true,
   "sideBar": true,
   "skip_h1_title": false,
   "title_cell": "Table of Contents",
   "title_sidebar": "Contents",
   "toc_cell": false,
   "toc_position": {},
   "toc_section_display": true,
   "toc_window_display": false
  },
  "varInspector": {
   "cols": {
    "lenName": 16,
    "lenType": 16,
    "lenVar": 40
   },
   "kernels_config": {
    "python": {
     "delete_cmd_postfix": "",
     "delete_cmd_prefix": "del ",
     "library": "var_list.py",
     "varRefreshCmd": "print(var_dic_list())"
    },
    "r": {
     "delete_cmd_postfix": ") ",
     "delete_cmd_prefix": "rm(",
     "library": "var_list.r",
     "varRefreshCmd": "cat(var_dic_list()) "
    }
   },
   "types_to_exclude": [
    "module",
    "function",
    "builtin_function_or_method",
    "instance",
    "_Feature"
   ],
   "window_display": false
  }
 },
 "nbformat": 4,
 "nbformat_minor": 2
}
