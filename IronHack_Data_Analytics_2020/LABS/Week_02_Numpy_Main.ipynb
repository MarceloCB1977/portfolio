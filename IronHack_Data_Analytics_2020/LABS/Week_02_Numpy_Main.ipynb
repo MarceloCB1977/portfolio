{
 "cells": [
  {
   "cell_type": "markdown",
   "metadata": {},
   "source": [
    "# Intrduction to NumPy\n",
    "\n",
    "\n",
    "#### 1. Import NumPy under the name np."
   ]
  },
  {
   "cell_type": "code",
   "execution_count": 1,
   "metadata": {},
   "outputs": [],
   "source": [
    "# your code here\n",
    "import numpy as np"
   ]
  },
  {
   "cell_type": "markdown",
   "metadata": {},
   "source": [
    "#### 2. Print your NumPy version."
   ]
  },
  {
   "cell_type": "code",
   "execution_count": 7,
   "metadata": {},
   "outputs": [
    {
     "name": "stdout",
     "output_type": "stream",
     "text": [
      "1.18.1\n"
     ]
    }
   ],
   "source": [
    "# your code here\n",
    "print(np.__version__)"
   ]
  },
  {
   "cell_type": "markdown",
   "metadata": {},
   "source": [
    "#### 3. Generate a 2x3x5 3-dimensional array with random values. Assign the array to variable *a*.\n",
    "**Challenge**: there are at least three easy ways that use numpy to generate random arrays. How many ways can you find?"
   ]
  },
  {
   "cell_type": "code",
   "execution_count": 10,
   "metadata": {},
   "outputs": [
    {
     "data": {
      "text/plain": [
       "array([[[17,  5, 59, 21, 40],\n",
       "        [ 7, 81, 35, 14, 75],\n",
       "        [95, 34,  7, 50, 36]],\n",
       "\n",
       "       [[29, 44, 45, 23, 52],\n",
       "        [71,  3,  1, 75, 39],\n",
       "        [56, 89, 96, 30, 72]]])"
      ]
     },
     "execution_count": 10,
     "metadata": {},
     "output_type": "execute_result"
    }
   ],
   "source": [
    "# Method 1\n",
    "a = np.random.randint(0, 100, size=(2, 3, 5))\n",
    "a"
   ]
  },
  {
   "cell_type": "code",
   "execution_count": 28,
   "metadata": {},
   "outputs": [
    {
     "data": {
      "text/plain": [
       "array([[[0, 0, 0, 0, 0],\n",
       "        [0, 0, 0, 0, 0],\n",
       "        [0, 0, 0, 0, 0]],\n",
       "\n",
       "       [[0, 0, 0, 0, 0],\n",
       "        [0, 0, 0, 0, 0],\n",
       "        [0, 0, 0, 0, 0]]])"
      ]
     },
     "execution_count": 28,
     "metadata": {},
     "output_type": "execute_result"
    }
   ],
   "source": [
    "# Method 2\n",
    "a = np.ndarray(shape=(2, 3, 5), dtype=int)\n",
    "a\n"
   ]
  },
  {
   "cell_type": "code",
   "execution_count": 30,
   "metadata": {},
   "outputs": [
    {
     "data": {
      "text/plain": [
       "array([[[0.21887543, 0.7701651 , 0.18654864, 0.14422989, 0.09291855],\n",
       "        [0.71952096, 0.54049464, 0.44939516, 0.94462967, 0.54160248],\n",
       "        [0.28426457, 0.70699106, 0.45571484, 0.48959033, 0.8280206 ]],\n",
       "\n",
       "       [[0.61505613, 0.27982729, 0.57859592, 0.99427555, 0.36197232],\n",
       "        [0.40383042, 0.96567601, 0.81694262, 0.40655654, 0.99205401],\n",
       "        [0.83165106, 0.86293924, 0.44711928, 0.57421999, 0.01806137]]])"
      ]
     },
     "execution_count": 30,
     "metadata": {},
     "output_type": "execute_result"
    }
   ],
   "source": [
    "# Method 3\n",
    "a = np.random.rand(2, 3, 5)\n",
    "a"
   ]
  },
  {
   "cell_type": "code",
   "execution_count": 71,
   "metadata": {},
   "outputs": [
    {
     "data": {
      "text/plain": [
       "array([[[0.66442605, 0.9930319 , 0.97128672, 0.22003563, 0.73320576],\n",
       "        [0.1188299 , 0.43548653, 0.92453736, 0.69477803, 0.01522876],\n",
       "        [0.70756293, 0.43404884, 0.20871385, 0.15346023, 0.89338863]],\n",
       "\n",
       "       [[0.36325868, 0.16642481, 0.84336391, 0.04871565, 0.24286182],\n",
       "        [0.4576731 , 0.88110025, 0.97001187, 0.79113937, 0.48397   ],\n",
       "        [0.81674879, 0.49966791, 0.88208204, 0.82269474, 0.86277043]]])"
      ]
     },
     "execution_count": 71,
     "metadata": {},
     "output_type": "execute_result"
    }
   ],
   "source": [
    "np.random.random(size=(2, 3, 5))"
   ]
  },
  {
   "cell_type": "markdown",
   "metadata": {},
   "source": [
    "#### 4. Print *a*.\n"
   ]
  },
  {
   "cell_type": "code",
   "execution_count": 48,
   "metadata": {},
   "outputs": [
    {
     "name": "stdout",
     "output_type": "stream",
     "text": [
      "[[[0.21887543 0.7701651  0.18654864 0.14422989 0.09291855]\n",
      "  [0.71952096 0.54049464 0.44939516 0.94462967 0.54160248]\n",
      "  [0.28426457 0.70699106 0.45571484 0.48959033 0.8280206 ]]\n",
      "\n",
      " [[0.61505613 0.27982729 0.57859592 0.99427555 0.36197232]\n",
      "  [0.40383042 0.96567601 0.81694262 0.40655654 0.99205401]\n",
      "  [0.83165106 0.86293924 0.44711928 0.57421999 0.01806137]]]\n"
     ]
    }
   ],
   "source": [
    "# your code here\n",
    "print(a)"
   ]
  },
  {
   "cell_type": "markdown",
   "metadata": {},
   "source": [
    "#### 5. Create a 5x2x3 3-dimensional array with all values equaling 1. Assign the array to variable *b*."
   ]
  },
  {
   "cell_type": "code",
   "execution_count": 47,
   "metadata": {},
   "outputs": [
    {
     "data": {
      "text/plain": [
       "array([[[1., 1., 1.],\n",
       "        [1., 1., 1.]],\n",
       "\n",
       "       [[1., 1., 1.],\n",
       "        [1., 1., 1.]],\n",
       "\n",
       "       [[1., 1., 1.],\n",
       "        [1., 1., 1.]],\n",
       "\n",
       "       [[1., 1., 1.],\n",
       "        [1., 1., 1.]],\n",
       "\n",
       "       [[1., 1., 1.],\n",
       "        [1., 1., 1.]]])"
      ]
     },
     "execution_count": 47,
     "metadata": {},
     "output_type": "execute_result"
    }
   ],
   "source": [
    "# your code here\n",
    "b = np.ones(shape=(5, 2, 3))\n",
    "b"
   ]
  },
  {
   "cell_type": "markdown",
   "metadata": {},
   "source": [
    "#### 6. Print *b*.\n"
   ]
  },
  {
   "cell_type": "code",
   "execution_count": 49,
   "metadata": {},
   "outputs": [
    {
     "name": "stdout",
     "output_type": "stream",
     "text": [
      "[[[1. 1. 1.]\n",
      "  [1. 1. 1.]]\n",
      "\n",
      " [[1. 1. 1.]\n",
      "  [1. 1. 1.]]\n",
      "\n",
      " [[1. 1. 1.]\n",
      "  [1. 1. 1.]]\n",
      "\n",
      " [[1. 1. 1.]\n",
      "  [1. 1. 1.]]\n",
      "\n",
      " [[1. 1. 1.]\n",
      "  [1. 1. 1.]]]\n"
     ]
    }
   ],
   "source": [
    "# your code here\n",
    "print(b)"
   ]
  },
  {
   "cell_type": "markdown",
   "metadata": {},
   "source": [
    "#### 7. Do *a* and *b* have the same size? How do you prove that in Python code?"
   ]
  },
  {
   "cell_type": "code",
   "execution_count": 54,
   "metadata": {},
   "outputs": [
    {
     "name": "stdout",
     "output_type": "stream",
     "text": [
      "Size of a is: 30\n",
      "Size of b is: 30\n"
     ]
    }
   ],
   "source": [
    "# your code here\n",
    "print(f\"Size of a is: {a.size}\")\n",
    "print(f\"Size of b is: {b.size}\")"
   ]
  },
  {
   "cell_type": "markdown",
   "metadata": {},
   "source": [
    "#### 8. Are you able to add *a* and *b*? Why or why not?\n"
   ]
  },
  {
   "cell_type": "code",
   "execution_count": 57,
   "metadata": {},
   "outputs": [
    {
     "ename": "ValueError",
     "evalue": "operands could not be broadcast together with shapes (2,3,5) (5,2,3) ",
     "output_type": "error",
     "traceback": [
      "\u001b[1;31m---------------------------------------------------------------------------\u001b[0m",
      "\u001b[1;31mValueError\u001b[0m                                Traceback (most recent call last)",
      "\u001b[1;32m<ipython-input-57-374f33e2eb11>\u001b[0m in \u001b[0;36m<module>\u001b[1;34m\u001b[0m\n\u001b[0;32m      1\u001b[0m \u001b[1;31m# your answer here\u001b[0m\u001b[1;33m\u001b[0m\u001b[1;33m\u001b[0m\u001b[1;33m\u001b[0m\u001b[0m\n\u001b[1;32m----> 2\u001b[1;33m \u001b[0mc\u001b[0m \u001b[1;33m=\u001b[0m \u001b[0mnp\u001b[0m\u001b[1;33m.\u001b[0m\u001b[0madd\u001b[0m\u001b[1;33m(\u001b[0m\u001b[0ma\u001b[0m\u001b[1;33m,\u001b[0m \u001b[0mb\u001b[0m\u001b[1;33m)\u001b[0m\u001b[1;33m\u001b[0m\u001b[1;33m\u001b[0m\u001b[0m\n\u001b[0m\u001b[0;32m      3\u001b[0m \u001b[1;31m##can´t add for the arrays have different shapes\u001b[0m\u001b[1;33m\u001b[0m\u001b[1;33m\u001b[0m\u001b[1;33m\u001b[0m\u001b[0m\n",
      "\u001b[1;31mValueError\u001b[0m: operands could not be broadcast together with shapes (2,3,5) (5,2,3) "
     ]
    }
   ],
   "source": [
    "# your answer here\n",
    "c = np.add(a, b)\n",
    "##can´t add for the arrays have different shapes"
   ]
  },
  {
   "cell_type": "markdown",
   "metadata": {},
   "source": [
    "#### 9. Reshape *b* so that it has the same structure of *a* (i.e. become a 2x3x5 array). Assign the reshaped array to variable *c*."
   ]
  },
  {
   "cell_type": "code",
   "execution_count": 59,
   "metadata": {},
   "outputs": [
    {
     "data": {
      "text/plain": [
       "array([[[1., 1., 1., 1., 1.],\n",
       "        [1., 1., 1., 1., 1.],\n",
       "        [1., 1., 1., 1., 1.]],\n",
       "\n",
       "       [[1., 1., 1., 1., 1.],\n",
       "        [1., 1., 1., 1., 1.],\n",
       "        [1., 1., 1., 1., 1.]]])"
      ]
     },
     "execution_count": 59,
     "metadata": {},
     "output_type": "execute_result"
    }
   ],
   "source": [
    "# your code here\n",
    "c = b.reshape(2, 3, 5)\n",
    "c"
   ]
  },
  {
   "cell_type": "markdown",
   "metadata": {},
   "source": [
    "#### 10. Try to add *a* and *c*. Now it should work. Assign the sum to variable *d*. But why does it work now?"
   ]
  },
  {
   "cell_type": "code",
   "execution_count": 170,
   "metadata": {},
   "outputs": [
    {
     "data": {
      "text/plain": [
       "array([[[1.21887543, 1.7701651 , 1.18654864, 1.14422989, 1.09291855],\n",
       "        [1.71952096, 1.54049464, 1.44939516, 1.94462967, 1.54160248],\n",
       "        [1.28426457, 1.70699106, 1.45571484, 1.48959033, 1.8280206 ]],\n",
       "\n",
       "       [[1.61505613, 1.27982729, 1.57859592, 1.99427555, 1.36197232],\n",
       "        [1.40383042, 1.96567601, 1.81694262, 1.40655654, 1.99205401],\n",
       "        [1.83165106, 1.86293924, 1.44711928, 1.57421999, 1.01806137]]])"
      ]
     },
     "execution_count": 170,
     "metadata": {},
     "output_type": "execute_result"
    }
   ],
   "source": [
    "# your code/answer here\n",
    "d = np.add(a, c)\n",
    "d\n",
    "## Works for both arrays have the same shape"
   ]
  },
  {
   "cell_type": "markdown",
   "metadata": {},
   "source": [
    "#### 11. Print *a* and *d*. Notice the difference and relation of the two array in terms of the values? Explain."
   ]
  },
  {
   "cell_type": "code",
   "execution_count": 171,
   "metadata": {},
   "outputs": [
    {
     "name": "stdout",
     "output_type": "stream",
     "text": [
      "[[[0.21887543 0.7701651  0.18654864 0.14422989 0.09291855]\n",
      "  [0.71952096 0.54049464 0.44939516 0.94462967 0.54160248]\n",
      "  [0.28426457 0.70699106 0.45571484 0.48959033 0.8280206 ]]\n",
      "\n",
      " [[0.61505613 0.27982729 0.57859592 0.99427555 0.36197232]\n",
      "  [0.40383042 0.96567601 0.81694262 0.40655654 0.99205401]\n",
      "  [0.83165106 0.86293924 0.44711928 0.57421999 0.01806137]]]\n",
      "[[[1.21887543 1.7701651  1.18654864 1.14422989 1.09291855]\n",
      "  [1.71952096 1.54049464 1.44939516 1.94462967 1.54160248]\n",
      "  [1.28426457 1.70699106 1.45571484 1.48959033 1.8280206 ]]\n",
      "\n",
      " [[1.61505613 1.27982729 1.57859592 1.99427555 1.36197232]\n",
      "  [1.40383042 1.96567601 1.81694262 1.40655654 1.99205401]\n",
      "  [1.83165106 1.86293924 1.44711928 1.57421999 1.01806137]]]\n"
     ]
    }
   ],
   "source": [
    "# your code/answer here\n",
    "print(a)\n",
    "print(d)\n",
    "## Array d is Array a + 1. Since Array b was just ones"
   ]
  },
  {
   "cell_type": "markdown",
   "metadata": {},
   "source": [
    "#### 12. Multiply *a* and *c*. Assign the result to *e*."
   ]
  },
  {
   "cell_type": "code",
   "execution_count": 172,
   "metadata": {},
   "outputs": [
    {
     "data": {
      "text/plain": [
       "array([[[0.21887543, 0.7701651 , 0.18654864, 0.14422989, 0.09291855],\n",
       "        [0.71952096, 0.54049464, 0.44939516, 0.94462967, 0.54160248],\n",
       "        [0.28426457, 0.70699106, 0.45571484, 0.48959033, 0.8280206 ]],\n",
       "\n",
       "       [[0.61505613, 0.27982729, 0.57859592, 0.99427555, 0.36197232],\n",
       "        [0.40383042, 0.96567601, 0.81694262, 0.40655654, 0.99205401],\n",
       "        [0.83165106, 0.86293924, 0.44711928, 0.57421999, 0.01806137]]])"
      ]
     },
     "execution_count": 172,
     "metadata": {},
     "output_type": "execute_result"
    }
   ],
   "source": [
    "# your code here\n",
    "e = np.multiply(a, c)\n",
    "e"
   ]
  },
  {
   "cell_type": "markdown",
   "metadata": {},
   "source": [
    "#### 13. Does *e* equal to *a*? Why or why not?\n"
   ]
  },
  {
   "cell_type": "code",
   "execution_count": 173,
   "metadata": {},
   "outputs": [],
   "source": [
    "# your code/answer here\n",
    "## Yes for array c is only ones, so any number multyplied by one, remains the same"
   ]
  },
  {
   "cell_type": "markdown",
   "metadata": {},
   "source": [
    "#### 14. Identify the max, min, and mean values in *d*. Assign those values to variables *d_max*, *d_min* and *d_mean*."
   ]
  },
  {
   "cell_type": "code",
   "execution_count": 174,
   "metadata": {},
   "outputs": [
    {
     "name": "stdout",
     "output_type": "stream",
     "text": [
      "d_max is: 1.994275546609464. d_min is: 1.0180613690929796. d_mean is: 1.5507246554872727\n"
     ]
    }
   ],
   "source": [
    "# your code here\n",
    "d_max = np.max(d)\n",
    "d_min = np.min(d)\n",
    "d_mean = np.mean(d)\n",
    "print(f\"d_max is: {d_max}. d_min is: {d_min}. d_mean is: {d_mean}\")"
   ]
  },
  {
   "cell_type": "markdown",
   "metadata": {},
   "source": [
    "#### 15. Now we want to label the values in *d*. First create an empty array *f* with the same shape (i.e. 2x3x5) as *d* using `np.empty`.\n"
   ]
  },
  {
   "cell_type": "code",
   "execution_count": 175,
   "metadata": {},
   "outputs": [
    {
     "data": {
      "text/plain": [
       "array([[[0.21887543, 0.7701651 , 0.18654864, 0.14422989, 0.09291855],\n",
       "        [0.71952096, 0.54049464, 0.44939516, 0.94462967, 0.54160248],\n",
       "        [0.28426457, 0.70699106, 0.45571484, 0.48959033, 0.8280206 ]],\n",
       "\n",
       "       [[0.61505613, 0.27982729, 0.57859592, 0.99427555, 0.36197232],\n",
       "        [0.40383042, 0.96567601, 0.81694262, 0.40655654, 0.99205401],\n",
       "        [0.83165106, 0.86293924, 0.44711928, 0.57421999, 0.01806137]]])"
      ]
     },
     "execution_count": 175,
     "metadata": {},
     "output_type": "execute_result"
    }
   ],
   "source": [
    "# your code here\n",
    "f = np.empty((2, 3, 5))\n",
    "f"
   ]
  },
  {
   "cell_type": "markdown",
   "metadata": {},
   "source": [
    "#### 16. Populate the values in *f*. \n",
    "\n",
    "For each value in *d*, if it's larger than *d_min* but smaller than *d_mean*, assign 25 to the corresponding value in *f*. If a value in *d* is larger than *d_mean* but smaller than *d_max*, assign 75 to the corresponding value in *f*. If a value equals to *d_mean*, assign 50 to the corresponding value in *f*. Assign 0 to the corresponding value(s) in *f* for *d_min* in *d*. Assign 100 to the corresponding value(s) in *f* for *d_max* in *d*. In the end, f should have only the following values: 0, 25, 50, 75, and 100.\n",
    "\n",
    "**Note**: you don't have to use Numpy in this question."
   ]
  },
  {
   "cell_type": "code",
   "execution_count": 176,
   "metadata": {
    "scrolled": true
   },
   "outputs": [
    {
     "data": {
      "text/plain": [
       "array([[[0.21887543, 0.7701651 , 0.18654864, 0.14422989, 0.09291855],\n",
       "        [0.71952096, 0.54049464, 0.44939516, 0.94462967, 0.54160248],\n",
       "        [0.28426457, 0.70699106, 0.45571484, 0.48959033, 0.8280206 ]],\n",
       "\n",
       "       [[0.61505613, 0.27982729, 0.57859592, 0.99427555, 0.36197232],\n",
       "        [0.40383042, 0.96567601, 0.81694262, 0.40655654, 0.99205401],\n",
       "        [0.83165106, 0.86293924, 0.44711928, 0.57421999, 0.01806137]]])"
      ]
     },
     "execution_count": 176,
     "metadata": {},
     "output_type": "execute_result"
    }
   ],
   "source": [
    "# your code here\n",
    "f"
   ]
  },
  {
   "cell_type": "code",
   "execution_count": 182,
   "metadata": {},
   "outputs": [
    {
     "name": "stdout",
     "output_type": "stream",
     "text": [
      "[[[1.21887543 1.7701651  1.18654864 1.14422989 1.09291855]\n",
      "  [1.71952096 1.54049464 1.44939516 1.94462967 1.54160248]\n",
      "  [1.28426457 1.70699106 1.45571484 1.48959033 1.8280206 ]]\n",
      "\n",
      " [[1.61505613 1.27982729 1.57859592 1.99427555 1.36197232]\n",
      "  [1.40383042 1.96567601 1.81694262 1.40655654 1.99205401]\n",
      "  [1.83165106 1.86293924 1.44711928 1.57421999 1.01806137]]]\n"
     ]
    }
   ],
   "source": [
    "print(d)"
   ]
  },
  {
   "cell_type": "code",
   "execution_count": 179,
   "metadata": {},
   "outputs": [
    {
     "name": "stdout",
     "output_type": "stream",
     "text": [
      "[25, 75, 25, 25, 25, 75, 25, 25, 75, 25, 25, 75, 25, 25, 75, 75, 25, 75, 100, 25, 25, 75, 75, 25, 75, 75, 75, 25, 75, 0]\n"
     ]
    }
   ],
   "source": [
    "v=[]\n",
    "for x in np.nditer(d):\n",
    "    if x > d_min and x < d_mean:\n",
    "        x = 25\n",
    "    elif x > d_mean and x < d_max:\n",
    "        x = 75\n",
    "    elif x == d_mean:\n",
    "        x = 50\n",
    "    elif x == d_min:\n",
    "        x = 0\n",
    "    elif x == d_max:\n",
    "        x = 100\n",
    "    v.append(x)\n",
    "print(v)\n"
   ]
  },
  {
   "cell_type": "code",
   "execution_count": 180,
   "metadata": {},
   "outputs": [
    {
     "data": {
      "text/plain": [
       "array([[[ 25,  75,  25,  25,  25],\n",
       "        [ 75,  25,  25,  75,  25],\n",
       "        [ 25,  75,  25,  25,  75]],\n",
       "\n",
       "       [[ 75,  25,  75, 100,  25],\n",
       "        [ 25,  75,  75,  25,  75],\n",
       "        [ 75,  75,  25,  75,   0]]])"
      ]
     },
     "execution_count": 180,
     "metadata": {},
     "output_type": "execute_result"
    }
   ],
   "source": [
    "f = np.array(v).reshape(2, 3, 5)\n",
    "f"
   ]
  },
  {
   "cell_type": "markdown",
   "metadata": {},
   "source": [
    "#### 17. Print *d* and *f*. Do you have your expected *f*?\n",
    "For instance, if your *d* is:\n",
    "```python\n",
    "[[[1.85836099, 1.67064465, 1.62576044, 1.40243961, 1.88454931],\n",
    "[1.75354326, 1.69403643, 1.36729252, 1.61415071, 1.12104981],\n",
    "[1.72201435, 1.1862918 , 1.87078449, 1.7726778 , 1.88180042]],\n",
    "[[1.44747908, 1.31673383, 1.02000951, 1.52218947, 1.97066381],\n",
    "[1.79129243, 1.74983003, 1.96028037, 1.85166831, 1.65450881],\n",
    "[1.18068344, 1.9587381 , 1.00656599, 1.93402165, 1.73514584]]]\n",
    "```\n",
    "Your *f* should be:\n",
    "```python\n",
    "[[[ 75.,  75.,  75.,  25.,  75.],\n",
    "[ 75.,  75.,  25.,  25.,  25.],\n",
    "[ 75.,  25.,  75.,  75.,  75.]],\n",
    "[[ 25.,  25.,  25.,  25., 100.],\n",
    "[ 75.,  75.,  75.,  75.,  75.],\n",
    "[ 25.,  75.,   0.,  75.,  75.]]]\n",
    "```"
   ]
  },
  {
   "cell_type": "markdown",
   "metadata": {},
   "source": [
    "#### Same result without numpy"
   ]
  },
  {
   "cell_type": "code",
   "execution_count": null,
   "metadata": {},
   "outputs": [],
   "source": [
    "for i in range(2):\n",
    "    for j in range(3):\n",
    "        for k in range(5):\n",
    "            if d[i,j,k]>d_min and d[i,j,k]<d_mean:\n",
    "                f[i,j,k]=25\n",
    "            elif d[i,j,k]>d_mean and d[i,j,k]<d_max:\n",
    "                f[i,j,k]=75\n",
    "            elif d[i,j,k]==d_mean:\n",
    "                f[i,j,k]=50\n",
    "            elif d[i,j,k]==d_min:\n",
    "                f[i,j,k]=0\n",
    "            elif d[i,j,k]==d_max:\n",
    "                f[i,j,k]=100\n",
    "print(f)"
   ]
  },
  {
   "cell_type": "code",
   "execution_count": null,
   "metadata": {},
   "outputs": [],
   "source": [
    "# your code here"
   ]
  },
  {
   "cell_type": "markdown",
   "metadata": {},
   "source": [
    "#### 18. Bonus question: instead of using numbers (i.e. 0, 25, 50, 75, and 100), use string values  (\"A\", \"B\", \"C\", \"D\", and \"E\") to label the array elements. For the example above, the expected result is:\n",
    "\n",
    "```python\n",
    "[[[ 'D',  'D',  'D',  'B',  'D'],\n",
    "[ 'D',  'D',  'B',  'B',  'B'],\n",
    "[ 'D',  'B',  'D',  'D',  'D']],\n",
    "[[ 'B',  'B',  'B',  'B',  'E'],\n",
    "[ 'D',  'D',  'D',  'D',  'D'],\n",
    "[ 'B',  'D',   'A',  'D', 'D']]]\n",
    "```\n",
    "**Note**: you don't have to use Numpy in this question."
   ]
  },
  {
   "cell_type": "code",
   "execution_count": 185,
   "metadata": {},
   "outputs": [
    {
     "name": "stdout",
     "output_type": "stream",
     "text": [
      "[[['B' 'D' 'B' 'B' 'B']\n",
      "  ['D' 'B' 'B' 'D' 'B']\n",
      "  ['B' 'D' 'B' 'B' 'D']]\n",
      "\n",
      " [['D' 'B' 'D' 'E' 'B']\n",
      "  ['B' 'D' 'D' 'B' 'D']\n",
      "  ['D' 'D' 'B' 'D' 'A']]]\n"
     ]
    }
   ],
   "source": [
    "e = np.empty((2, 3, 5), str)\n",
    "\n",
    "# your code here\n",
    "for i in range(2):\n",
    "    for j in range(3):\n",
    "        for k in range(5):\n",
    "            if d[i, j, k] > d_min and d[i, j, k] < d_mean:\n",
    "                e[i, j, k] = \"B\"\n",
    "            elif d[i,j,k] > d_mean and d[i,j,k] < d_max:\n",
    "                e[i,j,k] = \"D\"\n",
    "            elif d[i,j,k] == d_mean:\n",
    "                e[i,j,k] = \"C\"\n",
    "            elif d[i,j,k] == d_min:\n",
    "                e[i,j,k] = \"A\"\n",
    "            elif d[i,j,k] == d_max:\n",
    "                e[i,j,k] = \"E\"\n",
    "print(e)"
   ]
  },
  {
   "cell_type": "code",
   "execution_count": null,
   "metadata": {},
   "outputs": [],
   "source": []
  }
 ],
 "metadata": {
  "kernelspec": {
   "display_name": "Python 3",
   "language": "python",
   "name": "python3"
  },
  "language_info": {
   "codemirror_mode": {
    "name": "ipython",
    "version": 3
   },
   "file_extension": ".py",
   "mimetype": "text/x-python",
   "name": "python",
   "nbconvert_exporter": "python",
   "pygments_lexer": "ipython3",
   "version": "3.8.1"
  },
  "toc": {
   "base_numbering": 1,
   "nav_menu": {},
   "number_sections": true,
   "sideBar": true,
   "skip_h1_title": false,
   "title_cell": "Table of Contents",
   "title_sidebar": "Contents",
   "toc_cell": false,
   "toc_position": {},
   "toc_section_display": true,
   "toc_window_display": false
  },
  "varInspector": {
   "cols": {
    "lenName": 16,
    "lenType": 16,
    "lenVar": 40
   },
   "kernels_config": {
    "python": {
     "delete_cmd_postfix": "",
     "delete_cmd_prefix": "del ",
     "library": "var_list.py",
     "varRefreshCmd": "print(var_dic_list())"
    },
    "r": {
     "delete_cmd_postfix": ") ",
     "delete_cmd_prefix": "rm(",
     "library": "var_list.r",
     "varRefreshCmd": "cat(var_dic_list()) "
    }
   },
   "types_to_exclude": [
    "module",
    "function",
    "builtin_function_or_method",
    "instance",
    "_Feature"
   ],
   "window_display": false
  }
 },
 "nbformat": 4,
 "nbformat_minor": 2
}
