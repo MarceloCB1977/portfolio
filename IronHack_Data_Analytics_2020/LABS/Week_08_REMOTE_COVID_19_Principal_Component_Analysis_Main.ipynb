{
 "cells": [
  {
   "cell_type": "markdown",
   "metadata": {},
   "source": [
    "import pandas as pd\n",
    "import numpy as np\n",
    "import matplotlib.pyplot as plt\n",
    "# ^^^ pyforest auto-imports - don't write above this line\n",
    "# Before your start:\n",
    "\n",
    "- Comment as much as you can and use the resources\n",
    "- Happy learning!"
   ]
  },
  {
   "cell_type": "markdown",
   "metadata": {},
   "source": [
    "# Challenge 1 - Reading and Standardizing the Data\n",
    "\n",
    "In this challenge we will work with image data and reduce the dimensions of the data to create a 2 dimensional plot. While we have not worked much with image data before, it can be represented as a numpy array where each pixel is assigned a numeric value. In this lesson, we will look at a dataset of cats and a dataset of dogs and see whether reducing them to two dimensions allows us to see if the data is separable. We will start by loading and processing the data. Run the cell below to load the two csv files and convert them into numpy arrays."
   ]
  },
  {
   "cell_type": "markdown",
   "metadata": {},
   "source": [
    "## Read the files into dataframes named `dogs` and `cats`"
   ]
  },
  {
   "cell_type": "code",
   "execution_count": 2,
   "metadata": {},
   "outputs": [],
   "source": [
    "import pandas as pd\n",
    "import numpy as np\n",
    "import matplotlib.pyplot as plt"
   ]
  },
  {
   "cell_type": "code",
   "execution_count": 3,
   "metadata": {},
   "outputs": [],
   "source": [
    "#your code here\n",
    "dogs = pd.read_csv('data/dogs.csv')\n",
    "cats = pd.read_csv('data/cats.csv')"
   ]
  },
  {
   "cell_type": "markdown",
   "metadata": {},
   "source": [
    "Next, we'll examine the shape of both the cats and the dogs arrays. Print out both shapes below."
   ]
  },
  {
   "cell_type": "code",
   "execution_count": 4,
   "metadata": {},
   "outputs": [
    {
     "data": {
      "text/plain": [
       "(80, 4096)"
      ]
     },
     "execution_count": 4,
     "metadata": {},
     "output_type": "execute_result"
    }
   ],
   "source": [
    "# Your code here:\n",
    "dogs.shape"
   ]
  },
  {
   "cell_type": "code",
   "execution_count": 5,
   "metadata": {},
   "outputs": [
    {
     "data": {
      "text/plain": [
       "(80, 4096)"
      ]
     },
     "execution_count": 5,
     "metadata": {},
     "output_type": "execute_result"
    }
   ],
   "source": [
    "cats.shape"
   ]
  },
  {
   "cell_type": "markdown",
   "metadata": {},
   "source": [
    "What this means is that both arrays contain 80 images each (the number of rows). Each image is comprised of 64x64 pixels (so a total of 4096 pixels per image). The images have been flattened such that all 4096 are in a single row.\n",
    "\n",
    "Print out row 0 of the cats dataframe to see what the pixels values look like."
   ]
  },
  {
   "cell_type": "code",
   "execution_count": 6,
   "metadata": {},
   "outputs": [
    {
     "data": {
      "text/html": [
       "<div>\n",
       "<style scoped>\n",
       "    .dataframe tbody tr th:only-of-type {\n",
       "        vertical-align: middle;\n",
       "    }\n",
       "\n",
       "    .dataframe tbody tr th {\n",
       "        vertical-align: top;\n",
       "    }\n",
       "\n",
       "    .dataframe thead th {\n",
       "        text-align: right;\n",
       "    }\n",
       "</style>\n",
       "<table border=\"1\" class=\"dataframe\">\n",
       "  <thead>\n",
       "    <tr style=\"text-align: right;\">\n",
       "      <th></th>\n",
       "      <th>0</th>\n",
       "      <th>1</th>\n",
       "      <th>2</th>\n",
       "      <th>3</th>\n",
       "      <th>4</th>\n",
       "      <th>5</th>\n",
       "      <th>6</th>\n",
       "      <th>7</th>\n",
       "      <th>8</th>\n",
       "      <th>9</th>\n",
       "      <th>...</th>\n",
       "      <th>4086</th>\n",
       "      <th>4087</th>\n",
       "      <th>4088</th>\n",
       "      <th>4089</th>\n",
       "      <th>4090</th>\n",
       "      <th>4091</th>\n",
       "      <th>4092</th>\n",
       "      <th>4093</th>\n",
       "      <th>4094</th>\n",
       "      <th>4095</th>\n",
       "    </tr>\n",
       "  </thead>\n",
       "  <tbody>\n",
       "    <tr>\n",
       "      <th>0</th>\n",
       "      <td>64</td>\n",
       "      <td>64</td>\n",
       "      <td>64</td>\n",
       "      <td>64</td>\n",
       "      <td>64</td>\n",
       "      <td>77</td>\n",
       "      <td>77</td>\n",
       "      <td>64</td>\n",
       "      <td>64</td>\n",
       "      <td>77</td>\n",
       "      <td>...</td>\n",
       "      <td>22</td>\n",
       "      <td>36</td>\n",
       "      <td>36</td>\n",
       "      <td>36</td>\n",
       "      <td>47</td>\n",
       "      <td>77</td>\n",
       "      <td>64</td>\n",
       "      <td>61</td>\n",
       "      <td>61</td>\n",
       "      <td>61</td>\n",
       "    </tr>\n",
       "  </tbody>\n",
       "</table>\n",
       "<p>1 rows × 4096 columns</p>\n",
       "</div>"
      ],
      "text/plain": [
       "    0   1   2   3   4   5   6   7   8   9  ...  4086  4087  4088  4089  4090  \\\n",
       "0  64  64  64  64  64  77  77  64  64  77  ...    22    36    36    36    47   \n",
       "\n",
       "   4091  4092  4093  4094  4095  \n",
       "0    77    64    61    61    61  \n",
       "\n",
       "[1 rows x 4096 columns]"
      ]
     },
     "execution_count": 6,
     "metadata": {},
     "output_type": "execute_result"
    }
   ],
   "source": [
    "# Your code here:\n",
    "cats.loc[[0]]"
   ]
  },
  {
   "cell_type": "code",
   "execution_count": 7,
   "metadata": {},
   "outputs": [
    {
     "data": {
      "text/html": [
       "<div>\n",
       "<style scoped>\n",
       "    .dataframe tbody tr th:only-of-type {\n",
       "        vertical-align: middle;\n",
       "    }\n",
       "\n",
       "    .dataframe tbody tr th {\n",
       "        vertical-align: top;\n",
       "    }\n",
       "\n",
       "    .dataframe thead th {\n",
       "        text-align: right;\n",
       "    }\n",
       "</style>\n",
       "<table border=\"1\" class=\"dataframe\">\n",
       "  <thead>\n",
       "    <tr style=\"text-align: right;\">\n",
       "      <th></th>\n",
       "      <th>0</th>\n",
       "      <th>1</th>\n",
       "      <th>2</th>\n",
       "      <th>3</th>\n",
       "      <th>4</th>\n",
       "      <th>5</th>\n",
       "      <th>6</th>\n",
       "      <th>7</th>\n",
       "      <th>8</th>\n",
       "      <th>9</th>\n",
       "      <th>...</th>\n",
       "      <th>4086</th>\n",
       "      <th>4087</th>\n",
       "      <th>4088</th>\n",
       "      <th>4089</th>\n",
       "      <th>4090</th>\n",
       "      <th>4091</th>\n",
       "      <th>4092</th>\n",
       "      <th>4093</th>\n",
       "      <th>4094</th>\n",
       "      <th>4095</th>\n",
       "    </tr>\n",
       "  </thead>\n",
       "  <tbody>\n",
       "    <tr>\n",
       "      <th>0</th>\n",
       "      <td>224</td>\n",
       "      <td>224</td>\n",
       "      <td>224</td>\n",
       "      <td>218</td>\n",
       "      <td>213</td>\n",
       "      <td>213</td>\n",
       "      <td>213</td>\n",
       "      <td>204</td>\n",
       "      <td>224</td>\n",
       "      <td>213</td>\n",
       "      <td>...</td>\n",
       "      <td>130</td>\n",
       "      <td>123</td>\n",
       "      <td>113</td>\n",
       "      <td>100</td>\n",
       "      <td>100</td>\n",
       "      <td>100</td>\n",
       "      <td>100</td>\n",
       "      <td>106</td>\n",
       "      <td>100</td>\n",
       "      <td>100</td>\n",
       "    </tr>\n",
       "  </tbody>\n",
       "</table>\n",
       "<p>1 rows × 4096 columns</p>\n",
       "</div>"
      ],
      "text/plain": [
       "     0    1    2    3    4    5    6    7    8    9  ...  4086  4087  4088  \\\n",
       "0  224  224  224  218  213  213  213  204  224  213  ...   130   123   113   \n",
       "\n",
       "   4089  4090  4091  4092  4093  4094  4095  \n",
       "0   100   100   100   100   106   100   100  \n",
       "\n",
       "[1 rows x 4096 columns]"
      ]
     },
     "execution_count": 7,
     "metadata": {},
     "output_type": "execute_result"
    }
   ],
   "source": [
    "dogs.loc[[0]]"
   ]
  },
  {
   "cell_type": "markdown",
   "metadata": {},
   "source": [
    "Using `matplotlib` we can plot a single cat or a single dog. We do this by reshaping the observation vector back to a squared image and then using the `imshow` function.\n",
    "\n",
    "Plot the image of the first cat and dog of your dataframes\n",
    "\n",
    "_Extra: you can play with `imshow`'s argument `cmap` to see which colors are suitable for visualization_"
   ]
  },
  {
   "cell_type": "code",
   "execution_count": 8,
   "metadata": {},
   "outputs": [],
   "source": [
    "# your code here\n",
    "dog_0 = dogs.loc[0].values.reshape(64, 64)"
   ]
  },
  {
   "cell_type": "code",
   "execution_count": 9,
   "metadata": {},
   "outputs": [
    {
     "data": {
      "text/plain": [
       "<matplotlib.image.AxesImage at 0x1ca2b1cfcf8>"
      ]
     },
     "execution_count": 9,
     "metadata": {},
     "output_type": "execute_result"
    },
    {
     "data": {
      "image/png": "[encoded data removed]",
      "text/plain": [
       "<Figure size 432x288 with 1 Axes>"
      ]
     },
     "metadata": {
      "needs_background": "light"
     },
     "output_type": "display_data"
    }
   ],
   "source": [
    "plt.imshow(dog_0, cmap='cividis')"
   ]
  },
  {
   "cell_type": "code",
   "execution_count": 10,
   "metadata": {},
   "outputs": [
    {
     "data": {
      "text/plain": [
       "<matplotlib.image.AxesImage at 0x1ca2b279ba8>"
      ]
     },
     "execution_count": 10,
     "metadata": {},
     "output_type": "execute_result"
    },
    {
     "data": {
      "image/png": "[encoded data removed]",
      "text/plain": [
       "<Figure size 432x288 with 1 Axes>"
      ]
     },
     "metadata": {
      "needs_background": "light"
     },
     "output_type": "display_data"
    }
   ],
   "source": [
    "cat_0 = cats.loc[0].values.reshape(64, 64)\n",
    "plt.imshow(cat_0, cmap='cividis')"
   ]
  },
  {
   "cell_type": "markdown",
   "metadata": {},
   "source": [
    "Now concatenate the cats and dogs dataframes. Make sure to put dogs first. This should result in a dataframe containing 160 observations and 4096 dimensions."
   ]
  },
  {
   "cell_type": "code",
   "execution_count": 11,
   "metadata": {},
   "outputs": [
    {
     "data": {
      "text/plain": [
       "(160, 4096)"
      ]
     },
     "execution_count": 11,
     "metadata": {},
     "output_type": "execute_result"
    }
   ],
   "source": [
    "# your code here\n",
    "cats_dogs = pd.concat([dogs, cats])\n",
    "cats_dogs.shape"
   ]
  },
  {
   "cell_type": "markdown",
   "metadata": {},
   "source": [
    "Next, we would like to standardize our data. \n",
    "\n",
    "In order to do that, we will need to use the `StandardScaler` class from `sklearn.preprocessing` module.\n",
    "\n",
    "Remember, we need to standardize the information for each pixel (which are the dimensions of our dataset) so that they can be compared in the PCA algorithm. Otherwise, the result would be dominated by the variable with the highest scale. \n"
   ]
  },
  {
   "cell_type": "code",
   "execution_count": 12,
   "metadata": {},
   "outputs": [],
   "source": [
    "# your code here\n",
    "from sklearn.preprocessing import StandardScaler"
   ]
  },
  {
   "cell_type": "code",
   "execution_count": 13,
   "metadata": {},
   "outputs": [],
   "source": [
    "scaler = StandardScaler()"
   ]
  },
  {
   "cell_type": "code",
   "execution_count": 14,
   "metadata": {},
   "outputs": [
    {
     "name": "stderr",
     "output_type": "stream",
     "text": [
      "C:\\Users\\LIBRE\\Anaconda3\\lib\\site-packages\\sklearn\\preprocessing\\data.py:625: DataConversionWarning: Data with input dtype int64 were all converted to float64 by StandardScaler.\n",
      "  return self.partial_fit(X, y)\n",
      "C:\\Users\\LIBRE\\Anaconda3\\lib\\site-packages\\sklearn\\base.py:462: DataConversionWarning: Data with input dtype int64 were all converted to float64 by StandardScaler.\n",
      "  return self.fit(X, **fit_params).transform(X)\n"
     ]
    }
   ],
   "source": [
    "dc_std = pd.DataFrame(scaler.fit_transform(cats_dogs))"
   ]
  },
  {
   "cell_type": "code",
   "execution_count": 15,
   "metadata": {},
   "outputs": [
    {
     "data": {
      "text/html": [
       "<div>\n",
       "<style scoped>\n",
       "    .dataframe tbody tr th:only-of-type {\n",
       "        vertical-align: middle;\n",
       "    }\n",
       "\n",
       "    .dataframe tbody tr th {\n",
       "        vertical-align: top;\n",
       "    }\n",
       "\n",
       "    .dataframe thead th {\n",
       "        text-align: right;\n",
       "    }\n",
       "</style>\n",
       "<table border=\"1\" class=\"dataframe\">\n",
       "  <thead>\n",
       "    <tr style=\"text-align: right;\">\n",
       "      <th></th>\n",
       "      <th>0</th>\n",
       "      <th>1</th>\n",
       "      <th>2</th>\n",
       "      <th>3</th>\n",
       "      <th>4</th>\n",
       "      <th>5</th>\n",
       "      <th>6</th>\n",
       "      <th>7</th>\n",
       "      <th>8</th>\n",
       "      <th>9</th>\n",
       "      <th>...</th>\n",
       "      <th>4086</th>\n",
       "      <th>4087</th>\n",
       "      <th>4088</th>\n",
       "      <th>4089</th>\n",
       "      <th>4090</th>\n",
       "      <th>4091</th>\n",
       "      <th>4092</th>\n",
       "      <th>4093</th>\n",
       "      <th>4094</th>\n",
       "      <th>4095</th>\n",
       "    </tr>\n",
       "  </thead>\n",
       "  <tbody>\n",
       "    <tr>\n",
       "      <th>0</th>\n",
       "      <td>1.627294</td>\n",
       "      <td>1.717349</td>\n",
       "      <td>1.693672</td>\n",
       "      <td>1.581479</td>\n",
       "      <td>1.525127</td>\n",
       "      <td>1.492131</td>\n",
       "      <td>1.466751</td>\n",
       "      <td>1.339474</td>\n",
       "      <td>1.617227</td>\n",
       "      <td>1.498703</td>\n",
       "      <td>...</td>\n",
       "      <td>0.082968</td>\n",
       "      <td>-0.050294</td>\n",
       "      <td>-0.144216</td>\n",
       "      <td>-0.323803</td>\n",
       "      <td>-0.299883</td>\n",
       "      <td>-0.283294</td>\n",
       "      <td>-0.242607</td>\n",
       "      <td>-0.076592</td>\n",
       "      <td>-0.129373</td>\n",
       "      <td>-0.126023</td>\n",
       "    </tr>\n",
       "    <tr>\n",
       "      <th>1</th>\n",
       "      <td>0.381583</td>\n",
       "      <td>0.325797</td>\n",
       "      <td>0.412700</td>\n",
       "      <td>0.430752</td>\n",
       "      <td>0.974881</td>\n",
       "      <td>1.885086</td>\n",
       "      <td>1.854365</td>\n",
       "      <td>1.366387</td>\n",
       "      <td>-0.116847</td>\n",
       "      <td>-0.112676</td>\n",
       "      <td>...</td>\n",
       "      <td>-0.312389</td>\n",
       "      <td>-0.468118</td>\n",
       "      <td>-0.520687</td>\n",
       "      <td>-0.386715</td>\n",
       "      <td>-0.143694</td>\n",
       "      <td>0.092085</td>\n",
       "      <td>-0.542414</td>\n",
       "      <td>-0.881191</td>\n",
       "      <td>-0.070019</td>\n",
       "      <td>0.222128</td>\n",
       "    </tr>\n",
       "    <tr>\n",
       "      <th>2</th>\n",
       "      <td>0.328004</td>\n",
       "      <td>0.492783</td>\n",
       "      <td>0.481570</td>\n",
       "      <td>0.458150</td>\n",
       "      <td>0.465904</td>\n",
       "      <td>0.326814</td>\n",
       "      <td>0.437569</td>\n",
       "      <td>0.303352</td>\n",
       "      <td>0.140555</td>\n",
       "      <td>-0.002496</td>\n",
       "      <td>...</td>\n",
       "      <td>0.174204</td>\n",
       "      <td>0.274681</td>\n",
       "      <td>0.608727</td>\n",
       "      <td>0.635613</td>\n",
       "      <td>0.387349</td>\n",
       "      <td>0.279775</td>\n",
       "      <td>-0.005917</td>\n",
       "      <td>-0.107538</td>\n",
       "      <td>-0.292596</td>\n",
       "      <td>-0.067998</td>\n",
       "    </tr>\n",
       "    <tr>\n",
       "      <th>3</th>\n",
       "      <td>0.314609</td>\n",
       "      <td>0.339713</td>\n",
       "      <td>0.330057</td>\n",
       "      <td>0.060876</td>\n",
       "      <td>-0.111855</td>\n",
       "      <td>-0.120343</td>\n",
       "      <td>0.049955</td>\n",
       "      <td>-0.140701</td>\n",
       "      <td>-0.157489</td>\n",
       "      <td>-0.140221</td>\n",
       "      <td>...</td>\n",
       "      <td>0.006938</td>\n",
       "      <td>-0.003869</td>\n",
       "      <td>0.216569</td>\n",
       "      <td>0.242410</td>\n",
       "      <td>-0.190551</td>\n",
       "      <td>-0.377139</td>\n",
       "      <td>-0.353062</td>\n",
       "      <td>-0.277742</td>\n",
       "      <td>-0.233242</td>\n",
       "      <td>-0.227568</td>\n",
       "    </tr>\n",
       "    <tr>\n",
       "      <th>4</th>\n",
       "      <td>0.448557</td>\n",
       "      <td>0.297966</td>\n",
       "      <td>0.288735</td>\n",
       "      <td>0.334858</td>\n",
       "      <td>0.273318</td>\n",
       "      <td>0.150661</td>\n",
       "      <td>0.250445</td>\n",
       "      <td>0.128422</td>\n",
       "      <td>0.127007</td>\n",
       "      <td>0.135228</td>\n",
       "      <td>...</td>\n",
       "      <td>-0.464449</td>\n",
       "      <td>0.011606</td>\n",
       "      <td>0.389119</td>\n",
       "      <td>0.824350</td>\n",
       "      <td>0.668489</td>\n",
       "      <td>0.451824</td>\n",
       "      <td>0.499021</td>\n",
       "      <td>0.387600</td>\n",
       "      <td>0.078366</td>\n",
       "      <td>-0.009973</td>\n",
       "    </tr>\n",
       "    <tr>\n",
       "      <th>...</th>\n",
       "      <td>...</td>\n",
       "      <td>...</td>\n",
       "      <td>...</td>\n",
       "      <td>...</td>\n",
       "      <td>...</td>\n",
       "      <td>...</td>\n",
       "      <td>...</td>\n",
       "      <td>...</td>\n",
       "      <td>...</td>\n",
       "      <td>...</td>\n",
       "      <td>...</td>\n",
       "      <td>...</td>\n",
       "      <td>...</td>\n",
       "      <td>...</td>\n",
       "      <td>...</td>\n",
       "      <td>...</td>\n",
       "      <td>...</td>\n",
       "      <td>...</td>\n",
       "      <td>...</td>\n",
       "      <td>...</td>\n",
       "      <td>...</td>\n",
       "    </tr>\n",
       "    <tr>\n",
       "      <th>155</th>\n",
       "      <td>-0.448891</td>\n",
       "      <td>-0.439556</td>\n",
       "      <td>-0.427507</td>\n",
       "      <td>-0.432293</td>\n",
       "      <td>-0.428246</td>\n",
       "      <td>-0.404897</td>\n",
       "      <td>-0.364390</td>\n",
       "      <td>-0.355999</td>\n",
       "      <td>-0.238774</td>\n",
       "      <td>-0.195311</td>\n",
       "      <td>...</td>\n",
       "      <td>-0.008268</td>\n",
       "      <td>-0.297893</td>\n",
       "      <td>-0.285393</td>\n",
       "      <td>-0.182250</td>\n",
       "      <td>0.012495</td>\n",
       "      <td>-0.126886</td>\n",
       "      <td>-0.731766</td>\n",
       "      <td>-0.881191</td>\n",
       "      <td>-0.737749</td>\n",
       "      <td>-0.619238</td>\n",
       "    </tr>\n",
       "    <tr>\n",
       "      <th>156</th>\n",
       "      <td>-0.998076</td>\n",
       "      <td>-1.037924</td>\n",
       "      <td>-0.964689</td>\n",
       "      <td>-1.007657</td>\n",
       "      <td>-1.033517</td>\n",
       "      <td>-1.028206</td>\n",
       "      <td>-0.939128</td>\n",
       "      <td>-0.974981</td>\n",
       "      <td>-1.051621</td>\n",
       "      <td>-1.118066</td>\n",
       "      <td>...</td>\n",
       "      <td>-0.281977</td>\n",
       "      <td>-0.251468</td>\n",
       "      <td>-0.034412</td>\n",
       "      <td>0.053672</td>\n",
       "      <td>0.106209</td>\n",
       "      <td>0.154648</td>\n",
       "      <td>0.199214</td>\n",
       "      <td>0.387600</td>\n",
       "      <td>0.449327</td>\n",
       "      <td>0.512254</td>\n",
       "    </tr>\n",
       "    <tr>\n",
       "      <th>157</th>\n",
       "      <td>-0.569444</td>\n",
       "      <td>-0.745698</td>\n",
       "      <td>-0.730533</td>\n",
       "      <td>-0.445992</td>\n",
       "      <td>-0.428246</td>\n",
       "      <td>-0.581049</td>\n",
       "      <td>-0.711906</td>\n",
       "      <td>-0.584753</td>\n",
       "      <td>-0.563913</td>\n",
       "      <td>-0.567168</td>\n",
       "      <td>...</td>\n",
       "      <td>0.554355</td>\n",
       "      <td>0.522280</td>\n",
       "      <td>0.420491</td>\n",
       "      <td>0.163769</td>\n",
       "      <td>0.137446</td>\n",
       "      <td>0.264134</td>\n",
       "      <td>-0.021697</td>\n",
       "      <td>-0.509837</td>\n",
       "      <td>-0.366788</td>\n",
       "      <td>-0.067998</td>\n",
       "    </tr>\n",
       "    <tr>\n",
       "      <th>158</th>\n",
       "      <td>1.613900</td>\n",
       "      <td>1.703433</td>\n",
       "      <td>1.666124</td>\n",
       "      <td>1.677373</td>\n",
       "      <td>1.717713</td>\n",
       "      <td>1.722484</td>\n",
       "      <td>1.787535</td>\n",
       "      <td>1.702790</td>\n",
       "      <td>1.603680</td>\n",
       "      <td>1.732835</td>\n",
       "      <td>...</td>\n",
       "      <td>0.691209</td>\n",
       "      <td>0.692504</td>\n",
       "      <td>0.859708</td>\n",
       "      <td>0.918719</td>\n",
       "      <td>0.949629</td>\n",
       "      <td>0.983611</td>\n",
       "      <td>1.019739</td>\n",
       "      <td>1.068415</td>\n",
       "      <td>1.028026</td>\n",
       "      <td>0.990961</td>\n",
       "    </tr>\n",
       "    <tr>\n",
       "      <th>159</th>\n",
       "      <td>-0.020260</td>\n",
       "      <td>0.019656</td>\n",
       "      <td>0.068353</td>\n",
       "      <td>0.101973</td>\n",
       "      <td>0.149512</td>\n",
       "      <td>0.137111</td>\n",
       "      <td>0.130151</td>\n",
       "      <td>0.088054</td>\n",
       "      <td>0.072818</td>\n",
       "      <td>0.066366</td>\n",
       "      <td>...</td>\n",
       "      <td>-0.221153</td>\n",
       "      <td>-0.344318</td>\n",
       "      <td>-0.018726</td>\n",
       "      <td>-0.402443</td>\n",
       "      <td>-0.799688</td>\n",
       "      <td>-0.658674</td>\n",
       "      <td>-0.116373</td>\n",
       "      <td>0.279289</td>\n",
       "      <td>0.167396</td>\n",
       "      <td>0.062558</td>\n",
       "    </tr>\n",
       "  </tbody>\n",
       "</table>\n",
       "<p>160 rows × 4096 columns</p>\n",
       "</div>"
      ],
      "text/plain": [
       "         0         1         2         3         4         5         6     \\\n",
       "0    1.627294  1.717349  1.693672  1.581479  1.525127  1.492131  1.466751   \n",
       "1    0.381583  0.325797  0.412700  0.430752  0.974881  1.885086  1.854365   \n",
       "2    0.328004  0.492783  0.481570  0.458150  0.465904  0.326814  0.437569   \n",
       "3    0.314609  0.339713  0.330057  0.060876 -0.111855 -0.120343  0.049955   \n",
       "4    0.448557  0.297966  0.288735  0.334858  0.273318  0.150661  0.250445   \n",
       "..        ...       ...       ...       ...       ...       ...       ...   \n",
       "155 -0.448891 -0.439556 -0.427507 -0.432293 -0.428246 -0.404897 -0.364390   \n",
       "156 -0.998076 -1.037924 -0.964689 -1.007657 -1.033517 -1.028206 -0.939128   \n",
       "157 -0.569444 -0.745698 -0.730533 -0.445992 -0.428246 -0.581049 -0.711906   \n",
       "158  1.613900  1.703433  1.666124  1.677373  1.717713  1.722484  1.787535   \n",
       "159 -0.020260  0.019656  0.068353  0.101973  0.149512  0.137111  0.130151   \n",
       "\n",
       "         7         8         9     ...      4086      4087      4088  \\\n",
       "0    1.339474  1.617227  1.498703  ...  0.082968 -0.050294 -0.144216   \n",
       "1    1.366387 -0.116847 -0.112676  ... -0.312389 -0.468118 -0.520687   \n",
       "2    0.303352  0.140555 -0.002496  ...  0.174204  0.274681  0.608727   \n",
       "3   -0.140701 -0.157489 -0.140221  ...  0.006938 -0.003869  0.216569   \n",
       "4    0.128422  0.127007  0.135228  ... -0.464449  0.011606  0.389119   \n",
       "..        ...       ...       ...  ...       ...       ...       ...   \n",
       "155 -0.355999 -0.238774 -0.195311  ... -0.008268 -0.297893 -0.285393   \n",
       "156 -0.974981 -1.051621 -1.118066  ... -0.281977 -0.251468 -0.034412   \n",
       "157 -0.584753 -0.563913 -0.567168  ...  0.554355  0.522280  0.420491   \n",
       "158  1.702790  1.603680  1.732835  ...  0.691209  0.692504  0.859708   \n",
       "159  0.088054  0.072818  0.066366  ... -0.221153 -0.344318 -0.018726   \n",
       "\n",
       "         4089      4090      4091      4092      4093      4094      4095  \n",
       "0   -0.323803 -0.299883 -0.283294 -0.242607 -0.076592 -0.129373 -0.126023  \n",
       "1   -0.386715 -0.143694  0.092085 -0.542414 -0.881191 -0.070019  0.222128  \n",
       "2    0.635613  0.387349  0.279775 -0.005917 -0.107538 -0.292596 -0.067998  \n",
       "3    0.242410 -0.190551 -0.377139 -0.353062 -0.277742 -0.233242 -0.227568  \n",
       "4    0.824350  0.668489  0.451824  0.499021  0.387600  0.078366 -0.009973  \n",
       "..        ...       ...       ...       ...       ...       ...       ...  \n",
       "155 -0.182250  0.012495 -0.126886 -0.731766 -0.881191 -0.737749 -0.619238  \n",
       "156  0.053672  0.106209  0.154648  0.199214  0.387600  0.449327  0.512254  \n",
       "157  0.163769  0.137446  0.264134 -0.021697 -0.509837 -0.366788 -0.067998  \n",
       "158  0.918719  0.949629  0.983611  1.019739  1.068415  1.028026  0.990961  \n",
       "159 -0.402443 -0.799688 -0.658674 -0.116373  0.279289  0.167396  0.062558  \n",
       "\n",
       "[160 rows x 4096 columns]"
      ]
     },
     "execution_count": 15,
     "metadata": {},
     "output_type": "execute_result"
    }
   ],
   "source": [
    "dc_std"
   ]
  },
  {
   "cell_type": "markdown",
   "metadata": {},
   "source": [
    "## Bonus\n",
    "\n",
    "After standardizing your data, try visualizing your image again. Does the standardization changes your original image?"
   ]
  },
  {
   "cell_type": "code",
   "execution_count": 16,
   "metadata": {},
   "outputs": [
    {
     "data": {
      "text/plain": [
       "<matplotlib.image.AxesImage at 0x1ca2ed7c5f8>"
      ]
     },
     "execution_count": 16,
     "metadata": {},
     "output_type": "execute_result"
    },
    {
     "data": {
      "image/png": "[encoded data removed]",
      "text/plain": [
       "<Figure size 432x288 with 1 Axes>"
      ]
     },
     "metadata": {
      "needs_background": "light"
     },
     "output_type": "display_data"
    }
   ],
   "source": [
    "# your code here\n",
    "dc_0 = dc_std.loc[[0]].values.reshape(64, 64)\n",
    "plt.imshow(dc_0, cmap='cividis')"
   ]
  },
  {
   "cell_type": "code",
   "execution_count": 17,
   "metadata": {},
   "outputs": [
    {
     "data": {
      "text/plain": [
       "<matplotlib.image.AxesImage at 0x1ca2ede1940>"
      ]
     },
     "execution_count": 17,
     "metadata": {},
     "output_type": "execute_result"
    },
    {
     "data": {
      "image/png": "[encoded data removed]",
      "text/plain": [
       "<Figure size 432x288 with 1 Axes>"
      ]
     },
     "metadata": {
      "needs_background": "light"
     },
     "output_type": "display_data"
    }
   ],
   "source": [
    "dc_80 = dc_std.loc[[80]].values.reshape(64, 64)\n",
    "plt.imshow(dc_80, cmap='cividis')"
   ]
  },
  {
   "cell_type": "markdown",
   "metadata": {},
   "source": [
    "# Challenge 2 - Using PCA\n",
    "\n",
    "Now that we have created a standardized matrix of cats and dogs, we'll find the two most important components in the data. \n",
    "\n",
    "Load the PCA from sklearn (https://scikit-learn.org/stable/modules/generated/sklearn.decomposition.PCA.html) and apply the function to our standarized data. Create a PCA model with two components."
   ]
  },
  {
   "cell_type": "code",
   "execution_count": 18,
   "metadata": {},
   "outputs": [
    {
     "data": {
      "text/plain": [
       "array([[ 4.55449814e+01, -2.52389395e+01],\n",
       "       [-2.48328587e+01, -4.15716866e+01],\n",
       "       [ 2.74692450e+01,  1.19581866e+01],\n",
       "       [-2.25998546e+01, -9.83936143e+00],\n",
       "       [ 1.93603564e+01, -1.88120256e+01],\n",
       "       [-4.74468664e+00,  5.84374960e+00],\n",
       "       [-2.06260501e+01, -2.06659205e+01],\n",
       "       [-1.29788491e+01, -2.02951052e+01],\n",
       "       [ 1.50642297e+01, -9.17913003e+00],\n",
       "       [ 2.00937359e+01, -3.18338070e+01],\n",
       "       [-4.07943696e-01, -2.65321358e+00],\n",
       "       [ 3.20386915e+01, -4.98633248e+00],\n",
       "       [-3.36053890e+01, -1.17071943e+01],\n",
       "       [ 4.22857896e+01,  7.38833506e+00],\n",
       "       [ 5.59330676e+00, -2.05419469e+01],\n",
       "       [ 1.20688731e+01, -1.10092744e+01],\n",
       "       [ 1.77230667e+01, -1.11085929e+01],\n",
       "       [ 1.47700211e+00, -3.37994262e+01],\n",
       "       [ 2.00562708e+01, -8.98499958e+00],\n",
       "       [ 2.60924376e+01, -1.48999555e+01],\n",
       "       [ 2.09878872e+01,  4.65157520e+00],\n",
       "       [-9.44574138e+00, -7.50716967e+00],\n",
       "       [ 4.20501316e+01, -6.94592914e-01],\n",
       "       [-4.51769749e+01, -2.52214592e+01],\n",
       "       [-2.58030776e+01, -3.47407886e+01],\n",
       "       [-4.17589606e+01, -1.18016318e+01],\n",
       "       [ 4.16831369e+01,  8.45781152e+00],\n",
       "       [ 8.09341823e+00, -2.78420026e-02],\n",
       "       [ 1.18571978e+01, -1.96098682e+01],\n",
       "       [-2.38766123e+01, -1.45359640e+01],\n",
       "       [-6.80805729e+00, -7.77316813e+00],\n",
       "       [-3.26630246e+01, -1.32496288e+01],\n",
       "       [ 2.41970204e+00, -3.04898419e+01],\n",
       "       [-5.57199837e+01, -2.70190765e+01],\n",
       "       [-3.88382036e+01, -2.26125201e+00],\n",
       "       [-1.88022890e+01, -1.83870888e+01],\n",
       "       [ 1.94022697e+01,  1.05983117e+01],\n",
       "       [-4.07353489e+01, -1.11855777e+01],\n",
       "       [-5.34214805e+01, -6.18164705e+00],\n",
       "       [-2.02565644e+01, -3.38638941e+01],\n",
       "       [-1.47710894e+01, -2.03887425e+01],\n",
       "       [ 2.15738737e+01,  1.48479765e+00],\n",
       "       [-6.16642615e+01, -6.92920689e+00],\n",
       "       [-3.46099485e+01, -2.04911837e+01],\n",
       "       [-1.69707147e+01,  3.61589053e+00],\n",
       "       [-8.49060180e+00, -1.94840037e+01],\n",
       "       [-5.40501871e+00, -3.00119284e+01],\n",
       "       [-3.43065826e+01, -1.06191534e+01],\n",
       "       [ 1.08835958e+01, -1.11539368e+01],\n",
       "       [-4.79221794e+01,  2.38753614e+00],\n",
       "       [ 7.16522712e+00, -2.32554649e+01],\n",
       "       [ 6.80187482e+01, -1.39848808e+01],\n",
       "       [ 6.59248277e+01,  9.36353923e+00],\n",
       "       [ 3.71766661e+00,  1.68701790e+01],\n",
       "       [-7.39124230e+00,  1.39425054e+01],\n",
       "       [ 1.98091877e+01,  2.05814121e+01],\n",
       "       [ 1.64148200e+01, -1.72494922e+01],\n",
       "       [ 3.90420737e+00, -8.23684046e+00],\n",
       "       [-7.91964851e+00,  1.04854148e+01],\n",
       "       [ 6.87527463e+00, -1.27949476e+00],\n",
       "       [-1.29811046e+01, -1.12601247e+01],\n",
       "       [ 1.16714780e+01, -1.69463927e+01],\n",
       "       [-2.71142880e+00, -2.83606288e+01],\n",
       "       [ 3.41719358e+01,  2.12993150e+01],\n",
       "       [-6.06165087e+01,  1.38066857e-02],\n",
       "       [-1.12311472e+01, -2.50461768e+01],\n",
       "       [ 3.85956398e+01,  2.62671042e+00],\n",
       "       [-5.53081938e+00,  3.43986391e+01],\n",
       "       [-1.85537095e+01,  1.11758123e+00],\n",
       "       [ 4.53223364e-01, -2.37046260e+01],\n",
       "       [-3.47121723e+01,  2.78683393e+00],\n",
       "       [-3.18957089e+01, -6.30267303e+00],\n",
       "       [ 2.69830461e+00, -2.92934181e+01],\n",
       "       [-4.78385678e+01,  3.66654215e+00],\n",
       "       [ 2.28983086e+01, -7.18764521e-01],\n",
       "       [ 1.54539973e+00, -2.75389310e+01],\n",
       "       [ 1.43333820e+01, -2.79821607e+01],\n",
       "       [-2.47792406e+00,  4.50789261e+00],\n",
       "       [-3.16194286e+01, -5.73763969e+00],\n",
       "       [ 3.31035023e+01, -3.16377846e+01],\n",
       "       [ 6.52548943e+01,  2.97016477e+01],\n",
       "       [-8.34652772e-01,  3.87785832e+01],\n",
       "       [ 6.56103083e+01, -5.27871290e+01],\n",
       "       [ 4.88917964e+01, -1.71002986e+01],\n",
       "       [ 5.05344878e+01,  3.82485639e+01],\n",
       "       [-9.10950497e-01,  2.53107489e+01],\n",
       "       [ 2.67613445e+01,  3.87952109e+01],\n",
       "       [ 2.17168454e+01,  9.86117060e+00],\n",
       "       [-1.36696542e+01,  4.13242760e+01],\n",
       "       [-1.93446365e+01,  2.41138797e+01],\n",
       "       [-1.02984546e+01, -8.49835758e-01],\n",
       "       [-4.35232289e+01, -1.15878406e+01],\n",
       "       [-3.07031753e+01,  4.64827443e+01],\n",
       "       [ 3.23262813e+01,  3.31604485e+01],\n",
       "       [ 7.98537190e+00, -1.88340350e+01],\n",
       "       [ 3.34022667e+00,  1.94269279e+01],\n",
       "       [ 9.89283375e+00, -1.78926026e+01],\n",
       "       [ 2.76965026e+01,  3.27709879e+01],\n",
       "       [ 4.14195791e+01, -2.44113494e+01],\n",
       "       [-4.38032467e+01,  3.32806851e+01],\n",
       "       [ 7.02188041e+01,  6.98871427e+00],\n",
       "       [-2.28977933e+01,  3.56357006e+01],\n",
       "       [-4.24639053e+01,  2.08220798e+01],\n",
       "       [-5.92480015e+01,  1.24809181e+01],\n",
       "       [ 7.03243028e+01, -3.87340015e+01],\n",
       "       [-7.96192394e+00,  8.17403499e-01],\n",
       "       [ 3.10898764e+01,  3.28090174e+01],\n",
       "       [-6.20723420e+01,  1.68565281e+01],\n",
       "       [ 1.78105347e+00, -1.38221518e+01],\n",
       "       [ 6.67199635e+00,  1.69211327e+01],\n",
       "       [ 3.03690255e+01,  9.05563211e+00],\n",
       "       [ 6.44798520e+01,  3.73654979e+00],\n",
       "       [ 2.86422936e+01,  2.66857866e+01],\n",
       "       [ 8.43104802e+01, -5.05263176e+01],\n",
       "       [-7.87747891e+00,  3.24784682e+01],\n",
       "       [-5.89322299e+01, -7.39974499e+00],\n",
       "       [ 3.65943232e+01, -4.06109131e+01],\n",
       "       [-2.69192775e+01,  3.13985743e+01],\n",
       "       [-2.61188932e+01,  8.34119694e+00],\n",
       "       [ 6.93550966e+01,  2.48364610e+01],\n",
       "       [-1.17720450e+01,  5.24285840e+00],\n",
       "       [ 5.17879633e+01,  4.76857787e+01],\n",
       "       [-3.70889565e+01,  3.96302645e+01],\n",
       "       [-5.54627820e+01,  1.00027492e+01],\n",
       "       [-7.15593930e+01,  4.28777926e+01],\n",
       "       [-5.48242360e+01, -2.37532668e+01],\n",
       "       [-5.83219104e+01, -2.57482936e+01],\n",
       "       [-2.20906495e+01, -3.25172707e+01],\n",
       "       [-1.57682697e+01,  4.80486918e+01],\n",
       "       [ 2.06420992e+01,  5.80581154e+00],\n",
       "       [ 5.13505932e+01,  3.71342388e+01],\n",
       "       [ 8.47441410e+00,  1.00488277e+01],\n",
       "       [ 3.56303289e+00,  4.15353751e+01],\n",
       "       [-2.15207497e+01,  3.40154194e+01],\n",
       "       [-2.47071506e+01, -1.19415451e+01],\n",
       "       [ 1.86179321e+00,  2.81638106e+01],\n",
       "       [ 1.75859885e+01,  5.56905137e+01],\n",
       "       [-7.90413951e+00,  1.14483344e+01],\n",
       "       [ 1.34979992e+01, -1.75573132e+01],\n",
       "       [-4.20364641e+01,  5.33339045e+00],\n",
       "       [-1.03074053e+01, -2.35444885e+00],\n",
       "       [ 2.81309757e+01,  1.85459771e+01],\n",
       "       [ 2.75842859e+01,  3.98654660e+01],\n",
       "       [-2.79618689e+01,  2.83687741e+01],\n",
       "       [-1.09978083e+01, -2.37699960e+01],\n",
       "       [ 2.22051833e+00,  8.39831222e+00],\n",
       "       [ 3.17988981e+01, -4.11899279e+01],\n",
       "       [ 3.23313987e+01,  1.09174408e+01],\n",
       "       [-4.05853847e+00, -9.76186511e+00],\n",
       "       [-2.30645416e+01, -3.10497919e+01],\n",
       "       [ 6.47071678e+00, -8.20261280e+00],\n",
       "       [-5.83244513e+00,  2.63484577e+01],\n",
       "       [ 2.15021386e+01,  1.20313713e+01],\n",
       "       [ 1.04234612e+01, -1.90159296e-01],\n",
       "       [ 1.57983992e+01, -5.51454064e+00],\n",
       "       [-5.40205335e-01,  1.52939306e+01],\n",
       "       [-1.67015977e+01,  2.08983954e+01],\n",
       "       [-1.87184273e+01,  2.08673854e+01],\n",
       "       [-1.43264083e+01, -1.43343840e+01],\n",
       "       [ 1.04550095e+01,  8.36671691e+00]])"
      ]
     },
     "execution_count": 18,
     "metadata": {},
     "output_type": "execute_result"
    }
   ],
   "source": [
    "# Your code here:\n",
    "from sklearn.decomposition import PCA\n",
    "pca = PCA(n_components=2)\n",
    "pca.fit_transform(dc_std)"
   ]
  },
  {
   "cell_type": "markdown",
   "metadata": {},
   "source": [
    "After instantiating the `PCA class` and applying it to the standardized data, the results of your principal component analysis will be stored on the PCA object you've created (from the PCA class). "
   ]
  },
  {
   "cell_type": "markdown",
   "metadata": {},
   "source": [
    "# Challenge 3 - Plotting the Data\n",
    "\n",
    "Now that we have reduced our cats and dogs arrays, we can plot the data in a way that the human eye can understand in 2-D. We can look at this plot to see whether there are differences between the cat and dog images. \n",
    "\n",
    "In the cell below, create a pandas dataframe containing the columns `pc1`, and `pc2` with the results of the first and second components of your results, respectively."
   ]
  },
  {
   "cell_type": "code",
   "execution_count": 19,
   "metadata": {},
   "outputs": [
    {
     "data": {
      "text/html": [
       "<div>\n",
       "<style scoped>\n",
       "    .dataframe tbody tr th:only-of-type {\n",
       "        vertical-align: middle;\n",
       "    }\n",
       "\n",
       "    .dataframe tbody tr th {\n",
       "        vertical-align: top;\n",
       "    }\n",
       "\n",
       "    .dataframe thead th {\n",
       "        text-align: right;\n",
       "    }\n",
       "</style>\n",
       "<table border=\"1\" class=\"dataframe\">\n",
       "  <thead>\n",
       "    <tr style=\"text-align: right;\">\n",
       "      <th></th>\n",
       "      <th>pc1</th>\n",
       "      <th>pc2</th>\n",
       "    </tr>\n",
       "  </thead>\n",
       "  <tbody>\n",
       "    <tr>\n",
       "      <th>0</th>\n",
       "      <td>45.544981</td>\n",
       "      <td>-25.238940</td>\n",
       "    </tr>\n",
       "    <tr>\n",
       "      <th>1</th>\n",
       "      <td>-24.832859</td>\n",
       "      <td>-41.571687</td>\n",
       "    </tr>\n",
       "    <tr>\n",
       "      <th>2</th>\n",
       "      <td>27.469245</td>\n",
       "      <td>11.958187</td>\n",
       "    </tr>\n",
       "    <tr>\n",
       "      <th>3</th>\n",
       "      <td>-22.599855</td>\n",
       "      <td>-9.839361</td>\n",
       "    </tr>\n",
       "    <tr>\n",
       "      <th>4</th>\n",
       "      <td>19.360356</td>\n",
       "      <td>-18.812026</td>\n",
       "    </tr>\n",
       "  </tbody>\n",
       "</table>\n",
       "</div>"
      ],
      "text/plain": [
       "         pc1        pc2\n",
       "0  45.544981 -25.238940\n",
       "1 -24.832859 -41.571687\n",
       "2  27.469245  11.958187\n",
       "3 -22.599855  -9.839361\n",
       "4  19.360356 -18.812026"
      ]
     },
     "execution_count": 19,
     "metadata": {},
     "output_type": "execute_result"
    }
   ],
   "source": [
    "# Your code here:\n",
    "pc1 = pca.transform(dc_std)[:, 0]\n",
    "pc2 = pca.transform(dc_std)[:, 1]\n",
    "df = pd.DataFrame({'pc1': pc1, 'pc2':pc2})\n",
    "df.head()"
   ]
  },
  {
   "cell_type": "markdown",
   "metadata": {},
   "source": [
    "Create a labels list. This list will be of size 160. The first 80 elements in the list will be the word `blue`, and the last 80 elements will be `red`. This will ensure that all dog observations will be colored in blue and all cats will be colored in red. Name this list `colors`."
   ]
  },
  {
   "cell_type": "code",
   "execution_count": 20,
   "metadata": {},
   "outputs": [
    {
     "data": {
      "text/plain": [
       "['blue',\n",
       " 'blue',\n",
       " 'blue',\n",
       " 'blue',\n",
       " 'blue',\n",
       " 'blue',\n",
       " 'blue',\n",
       " 'blue',\n",
       " 'blue',\n",
       " 'blue',\n",
       " 'blue',\n",
       " 'blue',\n",
       " 'blue',\n",
       " 'blue',\n",
       " 'blue',\n",
       " 'blue',\n",
       " 'blue',\n",
       " 'blue',\n",
       " 'blue',\n",
       " 'blue',\n",
       " 'blue',\n",
       " 'blue',\n",
       " 'blue',\n",
       " 'blue',\n",
       " 'blue',\n",
       " 'blue',\n",
       " 'blue',\n",
       " 'blue',\n",
       " 'blue',\n",
       " 'blue',\n",
       " 'blue',\n",
       " 'blue',\n",
       " 'blue',\n",
       " 'blue',\n",
       " 'blue',\n",
       " 'blue',\n",
       " 'blue',\n",
       " 'blue',\n",
       " 'blue',\n",
       " 'blue',\n",
       " 'blue',\n",
       " 'blue',\n",
       " 'blue',\n",
       " 'blue',\n",
       " 'blue',\n",
       " 'blue',\n",
       " 'blue',\n",
       " 'blue',\n",
       " 'blue',\n",
       " 'blue',\n",
       " 'blue',\n",
       " 'blue',\n",
       " 'blue',\n",
       " 'blue',\n",
       " 'blue',\n",
       " 'blue',\n",
       " 'blue',\n",
       " 'blue',\n",
       " 'blue',\n",
       " 'blue',\n",
       " 'blue',\n",
       " 'blue',\n",
       " 'blue',\n",
       " 'blue',\n",
       " 'blue',\n",
       " 'blue',\n",
       " 'blue',\n",
       " 'blue',\n",
       " 'blue',\n",
       " 'blue',\n",
       " 'blue',\n",
       " 'blue',\n",
       " 'blue',\n",
       " 'blue',\n",
       " 'blue',\n",
       " 'blue',\n",
       " 'blue',\n",
       " 'blue',\n",
       " 'blue',\n",
       " 'blue',\n",
       " 'blue',\n",
       " 'red',\n",
       " 'red',\n",
       " 'red',\n",
       " 'red',\n",
       " 'red',\n",
       " 'red',\n",
       " 'red',\n",
       " 'red',\n",
       " 'red',\n",
       " 'red',\n",
       " 'red',\n",
       " 'red',\n",
       " 'red',\n",
       " 'red',\n",
       " 'red',\n",
       " 'red',\n",
       " 'red',\n",
       " 'red',\n",
       " 'red',\n",
       " 'red',\n",
       " 'red',\n",
       " 'red',\n",
       " 'red',\n",
       " 'red',\n",
       " 'red',\n",
       " 'red',\n",
       " 'red',\n",
       " 'red',\n",
       " 'red',\n",
       " 'red',\n",
       " 'red',\n",
       " 'red',\n",
       " 'red',\n",
       " 'red',\n",
       " 'red',\n",
       " 'red',\n",
       " 'red',\n",
       " 'red',\n",
       " 'red',\n",
       " 'red',\n",
       " 'red',\n",
       " 'red',\n",
       " 'red',\n",
       " 'red',\n",
       " 'red',\n",
       " 'red',\n",
       " 'red',\n",
       " 'red',\n",
       " 'red',\n",
       " 'red',\n",
       " 'red',\n",
       " 'red',\n",
       " 'red',\n",
       " 'red',\n",
       " 'red',\n",
       " 'red',\n",
       " 'red',\n",
       " 'red',\n",
       " 'red',\n",
       " 'red',\n",
       " 'red',\n",
       " 'red',\n",
       " 'red',\n",
       " 'red',\n",
       " 'red',\n",
       " 'red',\n",
       " 'red',\n",
       " 'red',\n",
       " 'red',\n",
       " 'red',\n",
       " 'red',\n",
       " 'red',\n",
       " 'red',\n",
       " 'red',\n",
       " 'red',\n",
       " 'red',\n",
       " 'red',\n",
       " 'red',\n",
       " 'red']"
      ]
     },
     "execution_count": 20,
     "metadata": {},
     "output_type": "execute_result"
    }
   ],
   "source": [
    "# Your code here:\n",
    "colors = ['blue' if x<=80 else 'red' for x in range(160) ]\n",
    "colors"
   ]
  },
  {
   "cell_type": "markdown",
   "metadata": {},
   "source": [
    "Create a scatter plot of `pc1` and `pc2` below. Use the `colors` list above to color the observations by setting `c=colors`."
   ]
  },
  {
   "cell_type": "code",
   "execution_count": 21,
   "metadata": {},
   "outputs": [
    {
     "data": {
      "image/png": "[encoded data removed]",
      "text/plain": [
       "<Figure size 432x288 with 1 Axes>"
      ]
     },
     "metadata": {
      "needs_background": "light"
     },
     "output_type": "display_data"
    }
   ],
   "source": [
    "# Your code here:\n",
    "plt.scatter(df['pc1'], df['pc2'], c=colors)\n",
    "plt.show()"
   ]
  },
  {
   "cell_type": "markdown",
   "metadata": {},
   "source": [
    "Do you see a clear separation between cats and dogs? Write your answer below."
   ]
  },
  {
   "cell_type": "code",
   "execution_count": 22,
   "metadata": {},
   "outputs": [
    {
     "data": {
      "text/plain": [
       "'\\nNo we can´t see a clear separation between cats and dogs\\n\\n'"
      ]
     },
     "execution_count": 22,
     "metadata": {},
     "output_type": "execute_result"
    }
   ],
   "source": [
    "# Your conclusions here:\n",
    "\"\"\"\n",
    "No we can´t see a clear separation between cats and dogs\n",
    "\n",
    "\"\"\""
   ]
  },
  {
   "cell_type": "code",
   "execution_count": null,
   "metadata": {},
   "outputs": [],
   "source": []
  },
  {
   "cell_type": "markdown",
   "metadata": {},
   "source": [
    "# Evaluate the results"
   ]
  },
  {
   "cell_type": "markdown",
   "metadata": {},
   "source": [
    "Calculate how much explained variance do the results of your PCA has lead to.  "
   ]
  },
  {
   "cell_type": "code",
   "execution_count": 23,
   "metadata": {},
   "outputs": [
    {
     "data": {
      "text/plain": [
       "array([0.25550287, 0.13038508])"
      ]
     },
     "execution_count": 23,
     "metadata": {},
     "output_type": "execute_result"
    }
   ],
   "source": [
    "# Your code here:\n",
    "pca.explained_variance_ratio_"
   ]
  },
  {
   "cell_type": "markdown",
   "metadata": {},
   "source": [
    "Explain with your own words what those values represent."
   ]
  },
  {
   "cell_type": "code",
   "execution_count": 24,
   "metadata": {},
   "outputs": [
    {
     "data": {
      "text/plain": [
       "'\\nWe have only 25% of accuracy\\n'"
      ]
     },
     "execution_count": 24,
     "metadata": {},
     "output_type": "execute_result"
    }
   ],
   "source": [
    "# your answer here:\n",
    "\"\"\"\n",
    "We have around only 38% of accuracy\n",
    "\"\"\""
   ]
  },
  {
   "cell_type": "markdown",
   "metadata": {},
   "source": [
    "# Bonus Challenge\n",
    "\n",
    "\n",
    "Recreate your PCA using 20 components. You'll not be able to visualize the results this time, but the idea here is to plot a cumulative sum of your explained variance results. Follow the steps as before (i.e, create a dataframe containing the 20 components and so on)\n",
    "\n",
    "\n",
    "What do you observe? How much of the information is retained after going from 4096 to 20 dimensions?"
   ]
  },
  {
   "cell_type": "code",
   "execution_count": 28,
   "metadata": {},
   "outputs": [
    {
     "data": {
      "text/html": [
       "<div>\n",
       "<style scoped>\n",
       "    .dataframe tbody tr th:only-of-type {\n",
       "        vertical-align: middle;\n",
       "    }\n",
       "\n",
       "    .dataframe tbody tr th {\n",
       "        vertical-align: top;\n",
       "    }\n",
       "\n",
       "    .dataframe thead th {\n",
       "        text-align: right;\n",
       "    }\n",
       "</style>\n",
       "<table border=\"1\" class=\"dataframe\">\n",
       "  <thead>\n",
       "    <tr style=\"text-align: right;\">\n",
       "      <th></th>\n",
       "      <th>pc1</th>\n",
       "      <th>pc2</th>\n",
       "    </tr>\n",
       "  </thead>\n",
       "  <tbody>\n",
       "    <tr>\n",
       "      <th>0</th>\n",
       "      <td>45.544981</td>\n",
       "      <td>-25.238940</td>\n",
       "    </tr>\n",
       "    <tr>\n",
       "      <th>1</th>\n",
       "      <td>-24.832859</td>\n",
       "      <td>-41.571687</td>\n",
       "    </tr>\n",
       "    <tr>\n",
       "      <th>2</th>\n",
       "      <td>27.469245</td>\n",
       "      <td>11.958187</td>\n",
       "    </tr>\n",
       "    <tr>\n",
       "      <th>3</th>\n",
       "      <td>-22.599855</td>\n",
       "      <td>-9.839361</td>\n",
       "    </tr>\n",
       "    <tr>\n",
       "      <th>4</th>\n",
       "      <td>19.360356</td>\n",
       "      <td>-18.812026</td>\n",
       "    </tr>\n",
       "  </tbody>\n",
       "</table>\n",
       "</div>"
      ],
      "text/plain": [
       "         pc1        pc2\n",
       "0  45.544981 -25.238940\n",
       "1 -24.832859 -41.571687\n",
       "2  27.469245  11.958187\n",
       "3 -22.599855  -9.839361\n",
       "4  19.360356 -18.812026"
      ]
     },
     "execution_count": 28,
     "metadata": {},
     "output_type": "execute_result"
    }
   ],
   "source": [
    "pca20 = PCA(n_components=20)\n",
    "pca20.fit_transform(dc_std)\n",
    "df20 = pd.DataFrame({'pc1': pc1, 'pc2':pc2})\n",
    "df20.head()"
   ]
  },
  {
   "cell_type": "code",
   "execution_count": 34,
   "metadata": {},
   "outputs": [
    {
     "data": {
      "text/plain": [
       "['green',\n",
       " 'green',\n",
       " 'green',\n",
       " 'green',\n",
       " 'green',\n",
       " 'green',\n",
       " 'green',\n",
       " 'green',\n",
       " 'green',\n",
       " 'green',\n",
       " 'green',\n",
       " 'green',\n",
       " 'green',\n",
       " 'green',\n",
       " 'green',\n",
       " 'green',\n",
       " 'green',\n",
       " 'green',\n",
       " 'green',\n",
       " 'green',\n",
       " 'green',\n",
       " 'green',\n",
       " 'green',\n",
       " 'green',\n",
       " 'green',\n",
       " 'green',\n",
       " 'green',\n",
       " 'green',\n",
       " 'green',\n",
       " 'green',\n",
       " 'green',\n",
       " 'green',\n",
       " 'green',\n",
       " 'green',\n",
       " 'green',\n",
       " 'green',\n",
       " 'green',\n",
       " 'green',\n",
       " 'green',\n",
       " 'green',\n",
       " 'green',\n",
       " 'green',\n",
       " 'green',\n",
       " 'green',\n",
       " 'green',\n",
       " 'green',\n",
       " 'green',\n",
       " 'green',\n",
       " 'green',\n",
       " 'green',\n",
       " 'green',\n",
       " 'green',\n",
       " 'green',\n",
       " 'green',\n",
       " 'green',\n",
       " 'green',\n",
       " 'green',\n",
       " 'green',\n",
       " 'green',\n",
       " 'green',\n",
       " 'green',\n",
       " 'green',\n",
       " 'green',\n",
       " 'green',\n",
       " 'green',\n",
       " 'green',\n",
       " 'green',\n",
       " 'green',\n",
       " 'green',\n",
       " 'green',\n",
       " 'green',\n",
       " 'green',\n",
       " 'green',\n",
       " 'green',\n",
       " 'green',\n",
       " 'green',\n",
       " 'green',\n",
       " 'green',\n",
       " 'green',\n",
       " 'green',\n",
       " 'green',\n",
       " 'yellow',\n",
       " 'yellow',\n",
       " 'yellow',\n",
       " 'yellow',\n",
       " 'yellow',\n",
       " 'yellow',\n",
       " 'yellow',\n",
       " 'yellow',\n",
       " 'yellow',\n",
       " 'yellow',\n",
       " 'yellow',\n",
       " 'yellow',\n",
       " 'yellow',\n",
       " 'yellow',\n",
       " 'yellow',\n",
       " 'yellow',\n",
       " 'yellow',\n",
       " 'yellow',\n",
       " 'yellow',\n",
       " 'yellow',\n",
       " 'yellow',\n",
       " 'yellow',\n",
       " 'yellow',\n",
       " 'yellow',\n",
       " 'yellow',\n",
       " 'yellow',\n",
       " 'yellow',\n",
       " 'yellow',\n",
       " 'yellow',\n",
       " 'yellow',\n",
       " 'yellow',\n",
       " 'yellow',\n",
       " 'yellow',\n",
       " 'yellow',\n",
       " 'yellow',\n",
       " 'yellow',\n",
       " 'yellow',\n",
       " 'yellow',\n",
       " 'yellow',\n",
       " 'yellow',\n",
       " 'yellow',\n",
       " 'yellow',\n",
       " 'yellow',\n",
       " 'yellow',\n",
       " 'yellow',\n",
       " 'yellow',\n",
       " 'yellow',\n",
       " 'yellow',\n",
       " 'yellow',\n",
       " 'yellow',\n",
       " 'yellow',\n",
       " 'yellow',\n",
       " 'yellow',\n",
       " 'yellow',\n",
       " 'yellow',\n",
       " 'yellow',\n",
       " 'yellow',\n",
       " 'yellow',\n",
       " 'yellow',\n",
       " 'yellow',\n",
       " 'yellow',\n",
       " 'yellow',\n",
       " 'yellow',\n",
       " 'yellow',\n",
       " 'yellow',\n",
       " 'yellow',\n",
       " 'yellow',\n",
       " 'yellow',\n",
       " 'yellow',\n",
       " 'yellow',\n",
       " 'yellow',\n",
       " 'yellow',\n",
       " 'yellow',\n",
       " 'yellow',\n",
       " 'yellow',\n",
       " 'yellow',\n",
       " 'yellow',\n",
       " 'yellow',\n",
       " 'yellow']"
      ]
     },
     "execution_count": 34,
     "metadata": {},
     "output_type": "execute_result"
    }
   ],
   "source": [
    "colors20 = ['green' if x<=80 else 'yellow' for x in range(160) ]\n",
    "colors20"
   ]
  },
  {
   "cell_type": "code",
   "execution_count": 35,
   "metadata": {},
   "outputs": [
    {
     "data": {
      "image/png": "[encoded data removed]",
      "text/plain": [
       "<Figure size 432x288 with 1 Axes>"
      ]
     },
     "metadata": {
      "needs_background": "light"
     },
     "output_type": "display_data"
    }
   ],
   "source": [
    "plt.scatter(df20['pc1'], df['pc2'], c=colors20)\n",
    "plt.show()"
   ]
  },
  {
   "cell_type": "markdown",
   "metadata": {},
   "source": [
    "# Bonus Challenge 2"
   ]
  },
  {
   "cell_type": "markdown",
   "metadata": {},
   "source": [
    "Use the `.inverse_transform()` method to the dataframe with the 20 components and store your results. The inverse transform takes the results of the PCA (the reduced dimension space) and take it back to the original space (with 4096 dimensions). This will be helpful for you to visualize how the PCA affected the original data."
   ]
  },
  {
   "cell_type": "code",
   "execution_count": 48,
   "metadata": {},
   "outputs": [
    {
     "data": {
      "text/plain": [
       "array([[ 1.59314556,  1.67841215,  1.66480769, ...,  0.28674673,\n",
       "         0.35976812,  0.50093872],\n",
       "       [ 0.7659547 ,  0.83498483,  0.92378902, ...,  0.0433954 ,\n",
       "         0.33812932,  0.46340439],\n",
       "       [-0.22996013, -0.2021718 , -0.17631123, ...,  0.08522688,\n",
       "         0.03870716,  0.02657759],\n",
       "       ...,\n",
       "       [-0.78080468, -0.79323438, -0.75969746, ...,  0.22020842,\n",
       "         0.13264296,  0.0870939 ],\n",
       "       [ 1.77211874,  1.72343803,  1.69642421, ...,  1.33622848,\n",
       "         1.20224952,  1.12822778],\n",
       "       [ 0.23837503,  0.21976967,  0.20368424, ..., -0.32410889,\n",
       "        -0.38802296, -0.36677432]])"
      ]
     },
     "execution_count": 48,
     "metadata": {},
     "output_type": "execute_result"
    }
   ],
   "source": [
    "# your code\n",
    "pca20.n_components_\n",
    "components = pca20.transform(dc_std)\n",
    "filtered = pca20.inverse_transform(components)\n",
    "filtered"
   ]
  },
  {
   "cell_type": "markdown",
   "metadata": {},
   "source": [
    "Use the `imshow` to plot the first row of the `inverse_transform` of the results. Compare the results with the original image."
   ]
  },
  {
   "cell_type": "code",
   "execution_count": 116,
   "metadata": {},
   "outputs": [],
   "source": [
    "# your code"
   ]
  },
  {
   "cell_type": "markdown",
   "metadata": {},
   "source": [
    "Change the value of the components above to have a feeling of the information retained (try 100 components)."
   ]
  },
  {
   "cell_type": "code",
   "execution_count": null,
   "metadata": {},
   "outputs": [],
   "source": []
  },
  {
   "cell_type": "markdown",
   "metadata": {},
   "source": [
    "The results above demonstrate the power of the PCA analysis. It takes the best combination of your columns in such a way that it preserves the most of its information. So, although you lose some of the information, you effectively reduce the number of dimensions on your dataset. This can be important both for visualization purposes as well as for understanding the importance of each feature."
   ]
  }
 ],
 "metadata": {
  "hide_input": false,
  "kernelspec": {
   "display_name": "Python 3",
   "language": "python",
   "name": "python3"
  },
  "language_info": {
   "codemirror_mode": {
    "name": "ipython",
    "version": 3
   },
   "file_extension": ".py",
   "mimetype": "text/x-python",
   "name": "python",
   "nbconvert_exporter": "python",
   "pygments_lexer": "ipython3",
   "version": "3.7.1"
  },
  "toc": {
   "base_numbering": 1,
   "nav_menu": {},
   "number_sections": true,
   "sideBar": true,
   "skip_h1_title": false,
   "title_cell": "Table of Contents",
   "title_sidebar": "Contents",
   "toc_cell": false,
   "toc_position": {},
   "toc_section_display": true,
   "toc_window_display": false
  },
  "varInspector": {
   "cols": {
    "lenName": 16,
    "lenType": 16,
    "lenVar": 40
   },
   "kernels_config": {
    "python": {
     "delete_cmd_postfix": "",
     "delete_cmd_prefix": "del ",
     "library": "var_list.py",
     "varRefreshCmd": "print(var_dic_list())"
    },
    "r": {
     "delete_cmd_postfix": ") ",
     "delete_cmd_prefix": "rm(",
     "library": "var_list.r",
     "varRefreshCmd": "cat(var_dic_list()) "
    }
   },
   "types_to_exclude": [
    "module",
    "function",
    "builtin_function_or_method",
    "instance",
    "_Feature"
   ],
   "window_display": false
  }
 },
 "nbformat": 4,
 "nbformat_minor": 2
}
