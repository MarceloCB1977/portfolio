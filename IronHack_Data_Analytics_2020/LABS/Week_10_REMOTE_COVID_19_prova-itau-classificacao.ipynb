{
 "cells": [
  {
   "cell_type": "code",
   "execution_count": 1,
   "metadata": {
    "ExecuteTime": {
     "end_time": "2020-05-07T09:53:17.901595Z",
     "start_time": "2020-05-07T09:53:13.219141Z"
    }
   },
   "outputs": [],
   "source": [
    "import pandas as pd\n",
    "import numpy as np\n",
    "from sklearn.metrics import roc_curve, roc_auc_score\n",
    "from sklearn.neighbors import KNeighborsClassifier"
   ]
  },
  {
   "cell_type": "markdown",
   "metadata": {},
   "source": [
    "# Prova Itaú - Classificação"
   ]
  },
  {
   "cell_type": "markdown",
   "metadata": {},
   "source": [
    "# Prova 1."
   ]
  },
  {
   "cell_type": "markdown",
   "metadata": {},
   "source": [
    "## Questão 3) \n",
    "\n",
    "Considerando os dados presentes no arquivo class01.csv, treine o algoritmo Naive Bayes Gaussiano utilizando a metodologia de validação cruzada holdout (utilize para treino as 350 primeiras linhas e para validação as demais). Qual o valor da acurácia para a base de treino? Qual o valor da acurácia para a base de validação? Faça o mesmo treinamento com a metodologia Leave-One-Out. Qual o valor da acurácia média para a base de treino? Qual o valor da acurácia média para a base de validação?"
   ]
  },
  {
   "cell_type": "code",
   "execution_count": 2,
   "metadata": {
    "ExecuteTime": {
     "end_time": "2020-05-07T09:53:19.446625Z",
     "start_time": "2020-05-07T09:53:19.318376Z"
    }
   },
   "outputs": [
    {
     "data": {
      "text/html": [
       "<div>\n",
       "<style scoped>\n",
       "    .dataframe tbody tr th:only-of-type {\n",
       "        vertical-align: middle;\n",
       "    }\n",
       "\n",
       "    .dataframe tbody tr th {\n",
       "        vertical-align: top;\n",
       "    }\n",
       "\n",
       "    .dataframe thead th {\n",
       "        text-align: right;\n",
       "    }\n",
       "</style>\n",
       "<table border=\"1\" class=\"dataframe\">\n",
       "  <thead>\n",
       "    <tr style=\"text-align: right;\">\n",
       "      <th></th>\n",
       "      <th>x0</th>\n",
       "      <th>x1</th>\n",
       "      <th>x2</th>\n",
       "      <th>x3</th>\n",
       "      <th>x4</th>\n",
       "      <th>x5</th>\n",
       "      <th>x6</th>\n",
       "      <th>x7</th>\n",
       "      <th>x8</th>\n",
       "      <th>x9</th>\n",
       "      <th>...</th>\n",
       "      <th>x91</th>\n",
       "      <th>x92</th>\n",
       "      <th>x93</th>\n",
       "      <th>x94</th>\n",
       "      <th>x95</th>\n",
       "      <th>x96</th>\n",
       "      <th>x97</th>\n",
       "      <th>x98</th>\n",
       "      <th>x99</th>\n",
       "      <th>target</th>\n",
       "    </tr>\n",
       "  </thead>\n",
       "  <tbody>\n",
       "    <tr>\n",
       "      <th>0</th>\n",
       "      <td>1.162990</td>\n",
       "      <td>-0.831971</td>\n",
       "      <td>-0.185266</td>\n",
       "      <td>0.441240</td>\n",
       "      <td>0.033957</td>\n",
       "      <td>1.432988</td>\n",
       "      <td>-1.171483</td>\n",
       "      <td>0.203248</td>\n",
       "      <td>1.900889</td>\n",
       "      <td>1.119174</td>\n",
       "      <td>...</td>\n",
       "      <td>-1.139286</td>\n",
       "      <td>-0.608239</td>\n",
       "      <td>-0.107224</td>\n",
       "      <td>1.700972</td>\n",
       "      <td>-0.698151</td>\n",
       "      <td>0.520004</td>\n",
       "      <td>-0.450784</td>\n",
       "      <td>-0.187694</td>\n",
       "      <td>-0.538329</td>\n",
       "      <td>1.0</td>\n",
       "    </tr>\n",
       "    <tr>\n",
       "      <th>1</th>\n",
       "      <td>-1.750976</td>\n",
       "      <td>-0.516614</td>\n",
       "      <td>-0.761588</td>\n",
       "      <td>1.692347</td>\n",
       "      <td>-1.579436</td>\n",
       "      <td>0.581782</td>\n",
       "      <td>-0.950953</td>\n",
       "      <td>0.381426</td>\n",
       "      <td>-1.370027</td>\n",
       "      <td>0.943387</td>\n",
       "      <td>...</td>\n",
       "      <td>-0.280502</td>\n",
       "      <td>-0.306014</td>\n",
       "      <td>0.554926</td>\n",
       "      <td>-1.402866</td>\n",
       "      <td>-0.776478</td>\n",
       "      <td>1.181890</td>\n",
       "      <td>-0.066449</td>\n",
       "      <td>-0.802430</td>\n",
       "      <td>1.587229</td>\n",
       "      <td>0.0</td>\n",
       "    </tr>\n",
       "    <tr>\n",
       "      <th>2</th>\n",
       "      <td>0.304635</td>\n",
       "      <td>0.972369</td>\n",
       "      <td>0.202908</td>\n",
       "      <td>-0.607761</td>\n",
       "      <td>0.487088</td>\n",
       "      <td>0.205173</td>\n",
       "      <td>0.815216</td>\n",
       "      <td>0.491880</td>\n",
       "      <td>0.904705</td>\n",
       "      <td>1.167017</td>\n",
       "      <td>...</td>\n",
       "      <td>-0.134901</td>\n",
       "      <td>0.291496</td>\n",
       "      <td>-1.038477</td>\n",
       "      <td>1.297057</td>\n",
       "      <td>-1.296614</td>\n",
       "      <td>-1.109806</td>\n",
       "      <td>-0.003495</td>\n",
       "      <td>-0.149940</td>\n",
       "      <td>0.539892</td>\n",
       "      <td>8.0</td>\n",
       "    </tr>\n",
       "  </tbody>\n",
       "</table>\n",
       "<p>3 rows × 101 columns</p>\n",
       "</div>"
      ],
      "text/plain": [
       "         x0        x1        x2        x3        x4        x5        x6  \\\n",
       "0  1.162990 -0.831971 -0.185266  0.441240  0.033957  1.432988 -1.171483   \n",
       "1 -1.750976 -0.516614 -0.761588  1.692347 -1.579436  0.581782 -0.950953   \n",
       "2  0.304635  0.972369  0.202908 -0.607761  0.487088  0.205173  0.815216   \n",
       "\n",
       "         x7        x8        x9  ...       x91       x92       x93       x94  \\\n",
       "0  0.203248  1.900889  1.119174  ... -1.139286 -0.608239 -0.107224  1.700972   \n",
       "1  0.381426 -1.370027  0.943387  ... -0.280502 -0.306014  0.554926 -1.402866   \n",
       "2  0.491880  0.904705  1.167017  ... -0.134901  0.291496 -1.038477  1.297057   \n",
       "\n",
       "        x95       x96       x97       x98       x99  target  \n",
       "0 -0.698151  0.520004 -0.450784 -0.187694 -0.538329     1.0  \n",
       "1 -0.776478  1.181890 -0.066449 -0.802430  1.587229     0.0  \n",
       "2 -1.296614 -1.109806 -0.003495 -0.149940  0.539892     8.0  \n",
       "\n",
       "[3 rows x 101 columns]"
      ]
     },
     "execution_count": 2,
     "metadata": {},
     "output_type": "execute_result"
    }
   ],
   "source": [
    "q3 = pd.read_csv('data/asset-v1_IRONHACK+DAFT+202002_SAO+type@asset+block@class01.csv')\n",
    "q3.head(3)"
   ]
  },
  {
   "cell_type": "code",
   "execution_count": 3,
   "metadata": {
    "ExecuteTime": {
     "end_time": "2020-05-07T09:53:20.290742Z",
     "start_time": "2020-05-07T09:53:20.278727Z"
    }
   },
   "outputs": [
    {
     "data": {
      "text/plain": [
       "(1000, 101)"
      ]
     },
     "execution_count": 3,
     "metadata": {},
     "output_type": "execute_result"
    }
   ],
   "source": [
    "q3.shape"
   ]
  },
  {
   "cell_type": "markdown",
   "metadata": {},
   "source": [
    "## Hold Out"
   ]
  },
  {
   "cell_type": "code",
   "execution_count": 4,
   "metadata": {
    "ExecuteTime": {
     "end_time": "2020-05-07T09:53:21.264763Z",
     "start_time": "2020-05-07T09:53:21.252757Z"
    }
   },
   "outputs": [],
   "source": [
    "q3_train = q3.iloc[:350]\n",
    "q3_test = q3.iloc[350:]"
   ]
  },
  {
   "cell_type": "code",
   "execution_count": 5,
   "metadata": {
    "ExecuteTime": {
     "end_time": "2020-05-07T09:53:21.610754Z",
     "start_time": "2020-05-07T09:53:21.598758Z"
    }
   },
   "outputs": [],
   "source": [
    "q3_X_train = q3_train.drop(['target'], axis=1)\n",
    "q3_y_train = q3_train['target']\n",
    "q3_X_test = q3_test.drop(['target'], axis=1)\n",
    "q3_y_test = q3_test['target']"
   ]
  },
  {
   "cell_type": "code",
   "execution_count": 6,
   "metadata": {
    "ExecuteTime": {
     "end_time": "2020-05-07T09:53:22.254610Z",
     "start_time": "2020-05-07T09:53:22.230599Z"
    }
   },
   "outputs": [
    {
     "data": {
      "text/plain": [
       "GaussianNB(priors=None, var_smoothing=1e-09)"
      ]
     },
     "execution_count": 6,
     "metadata": {},
     "output_type": "execute_result"
    }
   ],
   "source": [
    "from sklearn.naive_bayes import GaussianNB\n",
    "clf = GaussianNB()\n",
    "clf.fit(q3_X_train, q3_y_train)"
   ]
  },
  {
   "cell_type": "code",
   "execution_count": 7,
   "metadata": {
    "ExecuteTime": {
     "end_time": "2020-05-07T09:53:23.491863Z",
     "start_time": "2020-05-07T09:53:23.463871Z"
    }
   },
   "outputs": [
    {
     "name": "stdout",
     "output_type": "stream",
     "text": [
      "Train score: 0.76\n",
      "Test score: 0.6276923076923077\n"
     ]
    }
   ],
   "source": [
    "print(f\"Train score: {clf.score(q3_X_train, q3_y_train)}\")\n",
    "print(f\"Test score: {clf.score(q3_X_test, q3_y_test)}\")"
   ]
  },
  {
   "cell_type": "markdown",
   "metadata": {
    "ExecuteTime": {
     "end_time": "2020-05-06T18:13:04.958427Z",
     "start_time": "2020-05-06T18:13:04.907457Z"
    }
   },
   "source": [
    "## Leave One Out"
   ]
  },
  {
   "cell_type": "code",
   "execution_count": 8,
   "metadata": {
    "ExecuteTime": {
     "end_time": "2020-05-07T09:53:32.079312Z",
     "start_time": "2020-05-07T09:53:32.063395Z"
    }
   },
   "outputs": [],
   "source": [
    "from sklearn.model_selection import LeaveOneOut"
   ]
  },
  {
   "cell_type": "code",
   "execution_count": 9,
   "metadata": {
    "ExecuteTime": {
     "end_time": "2020-05-07T09:53:32.318345Z",
     "start_time": "2020-05-07T09:53:32.306353Z"
    }
   },
   "outputs": [],
   "source": [
    "X_q3 = q3.drop(['target'], axis=1)\n",
    "y_q3 = q3['target']"
   ]
  },
  {
   "cell_type": "code",
   "execution_count": 10,
   "metadata": {
    "ExecuteTime": {
     "end_time": "2020-05-07T09:53:32.585550Z",
     "start_time": "2020-05-07T09:53:32.573551Z"
    }
   },
   "outputs": [
    {
     "data": {
      "text/plain": [
       "1000"
      ]
     },
     "execution_count": 10,
     "metadata": {},
     "output_type": "execute_result"
    }
   ],
   "source": [
    "loo = LeaveOneOut()\n",
    "loo.get_n_splits(X_q3)"
   ]
  },
  {
   "cell_type": "code",
   "execution_count": 13,
   "metadata": {
    "ExecuteTime": {
     "end_time": "2020-05-07T09:54:52.950785Z",
     "start_time": "2020-05-07T09:54:31.952303Z"
    }
   },
   "outputs": [
    {
     "name": "stdout",
     "output_type": "stream",
     "text": [
      "Train: 0.6892802802802803\n",
      "Test: 0.642\n"
     ]
    }
   ],
   "source": [
    "train_score = []\n",
    "test_score = []\n",
    "\n",
    "for train_index, test_index in loo.split(X_q3):\n",
    "    X_q3_train, X_q3_test = X_q3.iloc[train_index], X_q3.iloc[test_index]\n",
    "    y_q3_train, y_q3_test = y_q3.iloc[train_index], y_q3.iloc[test_index]\n",
    "\n",
    "    model = GaussianNB()\n",
    "    model.fit(X_q3_train, y_q3_train)\n",
    "    train_res = model.score(X_q3_train, y_q3_train)\n",
    "    test_res = model.score(X_q3_test, y_q3_test)\n",
    "    train_score.append(train_res)\n",
    "    test_score.append(test_res)\n",
    "\n",
    "print(f\"Train: {np.mean(train_score)}\")\n",
    "print(f\"Test: {np.mean(test_score)}\")"
   ]
  },
  {
   "cell_type": "code",
   "execution_count": 14,
   "metadata": {
    "ExecuteTime": {
     "end_time": "2020-05-07T09:54:55.815907Z",
     "start_time": "2020-05-07T09:54:55.807913Z"
    }
   },
   "outputs": [],
   "source": [
    "from sklearn.model_selection import cross_val_score, KFold, cross_validate"
   ]
  },
  {
   "cell_type": "code",
   "execution_count": 15,
   "metadata": {
    "ExecuteTime": {
     "end_time": "2020-05-07T09:55:06.331551Z",
     "start_time": "2020-05-07T09:54:56.468951Z"
    }
   },
   "outputs": [],
   "source": [
    "model = GaussianNB()\n",
    "\n",
    "scores = cross_val_score(model, X_q3, y_q3, cv=KFold(n_splits=X_q3.shape[0]))"
   ]
  },
  {
   "cell_type": "code",
   "execution_count": 16,
   "metadata": {
    "ExecuteTime": {
     "end_time": "2020-05-07T09:55:08.616544Z",
     "start_time": "2020-05-07T09:55:08.608546Z"
    }
   },
   "outputs": [
    {
     "name": "stdout",
     "output_type": "stream",
     "text": [
      "Mean Score with KFold: 0.642\n"
     ]
    }
   ],
   "source": [
    "print(f\"Mean Score with KFold: {scores.mean()}\")"
   ]
  },
  {
   "cell_type": "code",
   "execution_count": 17,
   "metadata": {
    "ExecuteTime": {
     "end_time": "2020-05-07T09:55:32.692638Z",
     "start_time": "2020-05-07T09:55:09.007218Z"
    }
   },
   "outputs": [],
   "source": [
    "scores2 = cross_validate(model, X_q3, y_q3, cv=KFold(n_splits=X_q3.shape[0]), return_train_score=True)"
   ]
  },
  {
   "cell_type": "code",
   "execution_count": 18,
   "metadata": {
    "ExecuteTime": {
     "end_time": "2020-05-07T09:55:33.046610Z",
     "start_time": "2020-05-07T09:55:33.034615Z"
    }
   },
   "outputs": [
    {
     "name": "stdout",
     "output_type": "stream",
     "text": [
      "Mean Score with KFold: 0.6892802802802803\n",
      "Mean Score with KFold: 0.642\n"
     ]
    }
   ],
   "source": [
    "print(f\"Mean Score with KFold: {scores2['train_score'].mean()}\")\n",
    "print(f\"Mean Score with KFold: {scores2['test_score'].mean()}\")"
   ]
  },
  {
   "cell_type": "code",
   "execution_count": null,
   "metadata": {},
   "outputs": [],
   "source": []
  },
  {
   "cell_type": "markdown",
   "metadata": {},
   "source": [
    "## Questão 4) \n",
    "\n",
    "Considerando os dados presentes no arquivo class02.csv, treine o algoritmo 10-Nearest Neighbors (KNN com 𝑘=10 e distância Euclidiana), utilizando a metodologia de validação cruzada k-fold com 10 folds não estratificados. Considere que a primeira pasta de validação seja formada pelas primeiras 10% linhas do arquivo, que a segunda pasta de validação seja formada pelas 10% linhas seguintes, e assim por diante, até atingir a última pasta, formada pelas 10% linhas finais da base. Qual o valor médio da acurácia para a base de validação?"
   ]
  },
  {
   "cell_type": "code",
   "execution_count": 69,
   "metadata": {
    "ExecuteTime": {
     "end_time": "2020-05-07T14:17:13.215212Z",
     "start_time": "2020-05-07T14:17:12.992338Z"
    }
   },
   "outputs": [
    {
     "data": {
      "text/html": [
       "<div>\n",
       "<style scoped>\n",
       "    .dataframe tbody tr th:only-of-type {\n",
       "        vertical-align: middle;\n",
       "    }\n",
       "\n",
       "    .dataframe tbody tr th {\n",
       "        vertical-align: top;\n",
       "    }\n",
       "\n",
       "    .dataframe thead th {\n",
       "        text-align: right;\n",
       "    }\n",
       "</style>\n",
       "<table border=\"1\" class=\"dataframe\">\n",
       "  <thead>\n",
       "    <tr style=\"text-align: right;\">\n",
       "      <th></th>\n",
       "      <th>x0</th>\n",
       "      <th>x1</th>\n",
       "      <th>x2</th>\n",
       "      <th>x3</th>\n",
       "      <th>x4</th>\n",
       "      <th>x5</th>\n",
       "      <th>x6</th>\n",
       "      <th>x7</th>\n",
       "      <th>x8</th>\n",
       "      <th>x9</th>\n",
       "      <th>...</th>\n",
       "      <th>x91</th>\n",
       "      <th>x92</th>\n",
       "      <th>x93</th>\n",
       "      <th>x94</th>\n",
       "      <th>x95</th>\n",
       "      <th>x96</th>\n",
       "      <th>x97</th>\n",
       "      <th>x98</th>\n",
       "      <th>x99</th>\n",
       "      <th>target</th>\n",
       "    </tr>\n",
       "  </thead>\n",
       "  <tbody>\n",
       "    <tr>\n",
       "      <th>0</th>\n",
       "      <td>1.753916</td>\n",
       "      <td>-1.283809</td>\n",
       "      <td>-0.474435</td>\n",
       "      <td>-0.328502</td>\n",
       "      <td>1.162749</td>\n",
       "      <td>1.110096</td>\n",
       "      <td>-0.532774</td>\n",
       "      <td>1.041946</td>\n",
       "      <td>0.393644</td>\n",
       "      <td>1.508894</td>\n",
       "      <td>...</td>\n",
       "      <td>-0.102623</td>\n",
       "      <td>0.233644</td>\n",
       "      <td>-1.711628</td>\n",
       "      <td>0.816312</td>\n",
       "      <td>2.700492</td>\n",
       "      <td>2.813359</td>\n",
       "      <td>0.343391</td>\n",
       "      <td>0.348734</td>\n",
       "      <td>-0.269752</td>\n",
       "      <td>5.0</td>\n",
       "    </tr>\n",
       "    <tr>\n",
       "      <th>1</th>\n",
       "      <td>0.579139</td>\n",
       "      <td>0.499696</td>\n",
       "      <td>1.848421</td>\n",
       "      <td>-2.037663</td>\n",
       "      <td>-0.490755</td>\n",
       "      <td>-0.874975</td>\n",
       "      <td>0.988246</td>\n",
       "      <td>0.117195</td>\n",
       "      <td>0.641343</td>\n",
       "      <td>1.041325</td>\n",
       "      <td>...</td>\n",
       "      <td>-0.113718</td>\n",
       "      <td>0.918633</td>\n",
       "      <td>1.212413</td>\n",
       "      <td>2.534996</td>\n",
       "      <td>-1.694515</td>\n",
       "      <td>-2.519081</td>\n",
       "      <td>0.531062</td>\n",
       "      <td>-0.429925</td>\n",
       "      <td>-1.033625</td>\n",
       "      <td>2.0</td>\n",
       "    </tr>\n",
       "    <tr>\n",
       "      <th>2</th>\n",
       "      <td>3.455631</td>\n",
       "      <td>-0.843593</td>\n",
       "      <td>-1.180263</td>\n",
       "      <td>-1.388971</td>\n",
       "      <td>-0.763881</td>\n",
       "      <td>-0.809791</td>\n",
       "      <td>-0.225052</td>\n",
       "      <td>0.818787</td>\n",
       "      <td>1.021153</td>\n",
       "      <td>-0.486736</td>\n",
       "      <td>...</td>\n",
       "      <td>-0.812184</td>\n",
       "      <td>-0.677958</td>\n",
       "      <td>2.545184</td>\n",
       "      <td>2.228583</td>\n",
       "      <td>-1.911287</td>\n",
       "      <td>-3.965635</td>\n",
       "      <td>1.293003</td>\n",
       "      <td>0.196379</td>\n",
       "      <td>-0.739823</td>\n",
       "      <td>3.0</td>\n",
       "    </tr>\n",
       "  </tbody>\n",
       "</table>\n",
       "<p>3 rows × 101 columns</p>\n",
       "</div>"
      ],
      "text/plain": [
       "         x0        x1        x2        x3        x4        x5        x6  \\\n",
       "0  1.753916 -1.283809 -0.474435 -0.328502  1.162749  1.110096 -0.532774   \n",
       "1  0.579139  0.499696  1.848421 -2.037663 -0.490755 -0.874975  0.988246   \n",
       "2  3.455631 -0.843593 -1.180263 -1.388971 -0.763881 -0.809791 -0.225052   \n",
       "\n",
       "         x7        x8        x9  ...       x91       x92       x93       x94  \\\n",
       "0  1.041946  0.393644  1.508894  ... -0.102623  0.233644 -1.711628  0.816312   \n",
       "1  0.117195  0.641343  1.041325  ... -0.113718  0.918633  1.212413  2.534996   \n",
       "2  0.818787  1.021153 -0.486736  ... -0.812184 -0.677958  2.545184  2.228583   \n",
       "\n",
       "        x95       x96       x97       x98       x99  target  \n",
       "0  2.700492  2.813359  0.343391  0.348734 -0.269752     5.0  \n",
       "1 -1.694515 -2.519081  0.531062 -0.429925 -1.033625     2.0  \n",
       "2 -1.911287 -3.965635  1.293003  0.196379 -0.739823     3.0  \n",
       "\n",
       "[3 rows x 101 columns]"
      ]
     },
     "execution_count": 69,
     "metadata": {},
     "output_type": "execute_result"
    }
   ],
   "source": [
    "q4 = pd.read_csv('data/asset-v1_IRONHACK+DAFT+202002_SAO+type@asset+block@class02.csv')\n",
    "q4.head(3)"
   ]
  },
  {
   "cell_type": "code",
   "execution_count": 70,
   "metadata": {
    "ExecuteTime": {
     "end_time": "2020-05-07T14:17:14.693632Z",
     "start_time": "2020-05-07T14:17:14.680639Z"
    }
   },
   "outputs": [],
   "source": [
    "q4.shape\n",
    "X_q4 = q4.drop(['target'], axis=1)\n",
    "y_q4 = q4['target']"
   ]
  },
  {
   "cell_type": "code",
   "execution_count": 71,
   "metadata": {
    "ExecuteTime": {
     "end_time": "2020-05-07T14:17:17.937907Z",
     "start_time": "2020-05-07T14:17:16.311309Z"
    }
   },
   "outputs": [],
   "source": [
    "## precisa standarizar o X para KNN\n",
    "from sklearn.preprocessing import StandardScaler\n",
    "knn = KNeighborsClassifier(n_neighbors=10, p=2, metric='minkowski')\n",
    "result = cross_val_score(knn, StandardScaler().fit_transform(X_q4), y_q4, cv=KFold(10))"
   ]
  },
  {
   "cell_type": "code",
   "execution_count": 72,
   "metadata": {
    "ExecuteTime": {
     "end_time": "2020-05-07T14:17:19.148997Z",
     "start_time": "2020-05-07T14:17:19.133544Z"
    }
   },
   "outputs": [
    {
     "name": "stdout",
     "output_type": "stream",
     "text": [
      "Mean score: 0.758\n"
     ]
    }
   ],
   "source": [
    "print(f\"Mean score: {np.mean(result)}\")"
   ]
  },
  {
   "cell_type": "code",
   "execution_count": 73,
   "metadata": {
    "ExecuteTime": {
     "end_time": "2020-05-07T14:17:34.992024Z",
     "start_time": "2020-05-07T14:17:21.619774Z"
    }
   },
   "outputs": [],
   "source": [
    "knn2 = KNeighborsClassifier(n_neighbors=10, p=2, metric='minkowski')\n",
    "result2 = cross_validate(knn2, StandardScaler().fit_transform(X_q4), y_q4, cv=KFold(10), return_train_score=True)"
   ]
  },
  {
   "cell_type": "code",
   "execution_count": 74,
   "metadata": {
    "ExecuteTime": {
     "end_time": "2020-05-07T14:17:46.140291Z",
     "start_time": "2020-05-07T14:17:46.131297Z"
    }
   },
   "outputs": [
    {
     "name": "stdout",
     "output_type": "stream",
     "text": [
      "Mean Score with KFold: 0.8204444444444444\n",
      "Mean Score with KFold: 0.758\n"
     ]
    }
   ],
   "source": [
    "print(f\"Mean Score with KFold: {result2['train_score'].mean()}\")\n",
    "print(f\"Mean Score with KFold: {result2['test_score'].mean()}\")"
   ]
  },
  {
   "cell_type": "markdown",
   "metadata": {},
   "source": [
    "## Questão 5 \n",
    "\n",
    "Assinale as alternativas com V ou F para Verdadeiro ou Falso respectivamente. Atente para o fato que uma questão errada anula uma certa. Em caso de dúvidas deixe em branco."
   ]
  },
  {
   "cell_type": "markdown",
   "metadata": {},
   "source": [
    "(**F**) No método KNN, o melhor valor de 𝑘 é igual a 𝑛 (𝑛 = número de exemplos), porém dado o custo computacional, valores pequenos de 𝑘 são preferidos."
   ]
  },
  {
   "cell_type": "markdown",
   "metadata": {},
   "source": [
    "(**F**) As folhas de uma Árvore de Decisão são obtidas objetivando-se minimizar a pureza entre classes."
   ]
  },
  {
   "cell_type": "markdown",
   "metadata": {},
   "source": [
    "(**V**) Uma Árvore de Decisão completa (profundidade máxima possível) tem maior chance de fazer overfitting nos dados do que uma árvore com profundidade limitada."
   ]
  },
  {
   "cell_type": "markdown",
   "metadata": {},
   "source": [
    "( ) Para utilizar uma rede neural em um problema multiclasse é necessário o uso de estratégias como One-Vs-One e One-Vs-Rest."
   ]
  },
  {
   "cell_type": "markdown",
   "metadata": {},
   "source": [
    "(**F**) Root Mean Squared Error (RMSE) é uma medida adequada para avaliar classificadores."
   ]
  },
  {
   "cell_type": "markdown",
   "metadata": {},
   "source": [
    "(**V**) Todo algoritmo de classificação possui um viés que dita a forma como cada método explora o espaço de busca pela hipótese que melhor se ajusta aos dados."
   ]
  },
  {
   "cell_type": "markdown",
   "metadata": {},
   "source": [
    "(**F**) O grau do polinômio do algoritmo Support Vector Machine (SVM) deve ser definido para todos os kernels."
   ]
  },
  {
   "cell_type": "markdown",
   "metadata": {},
   "source": [
    "() Uma vantagem dos algoritmos baseados em árvores é que, em sua maioria, a presença de valores faltantes (missing) não inviabiliza sua execução.\n",
    "\n",
    "<u>Resposta meio dúbia, pode ser tanto Verdadeira quanto Falsa</u>"
   ]
  },
  {
   "cell_type": "markdown",
   "metadata": {},
   "source": [
    "(**F**) Utiliza-se validação out-of-time separando um conjunto de dados de forma aleatória independentemente do tempo."
   ]
  },
  {
   "cell_type": "markdown",
   "metadata": {},
   "source": [
    "(**V**) O Algoritmo MLP (Multi-Layer Perceptron) é conceitualmente baseado em uma visão abstrata e simplificada de um neurônio biológico"
   ]
  },
  {
   "cell_type": "markdown",
   "metadata": {},
   "source": [
    "-----"
   ]
  },
  {
   "cell_type": "markdown",
   "metadata": {},
   "source": [
    "# Prova 2."
   ]
  },
  {
   "cell_type": "markdown",
   "metadata": {},
   "source": [
    "## Questão 3\n",
    "\n",
    "Considerando os dados presentes no arquivo classificacao_Q3.csv, treine o algoritmo Naive Bayes utilizando a metodologia de validação cruzada holdout (utilize para treino as 500 primeiras linhas e para validação as demais) Qual o valor da acurácia a base de treino? Qual o valor da acurácia média para as bases de validação?"
   ]
  },
  {
   "cell_type": "code",
   "execution_count": 23,
   "metadata": {
    "ExecuteTime": {
     "end_time": "2020-05-07T09:56:03.104482Z",
     "start_time": "2020-05-07T09:56:03.076475Z"
    }
   },
   "outputs": [
    {
     "data": {
      "text/html": [
       "<div>\n",
       "<style scoped>\n",
       "    .dataframe tbody tr th:only-of-type {\n",
       "        vertical-align: middle;\n",
       "    }\n",
       "\n",
       "    .dataframe tbody tr th {\n",
       "        vertical-align: top;\n",
       "    }\n",
       "\n",
       "    .dataframe thead th {\n",
       "        text-align: right;\n",
       "    }\n",
       "</style>\n",
       "<table border=\"1\" class=\"dataframe\">\n",
       "  <thead>\n",
       "    <tr style=\"text-align: right;\">\n",
       "      <th></th>\n",
       "      <th>Genero</th>\n",
       "      <th>Idade</th>\n",
       "      <th>Escolaridade</th>\n",
       "      <th>Profissao</th>\n",
       "      <th>Target</th>\n",
       "    </tr>\n",
       "  </thead>\n",
       "  <tbody>\n",
       "    <tr>\n",
       "      <th>0</th>\n",
       "      <td>F</td>\n",
       "      <td>a - Ate 25 anos</td>\n",
       "      <td>Fundamental</td>\n",
       "      <td>b</td>\n",
       "      <td>0</td>\n",
       "    </tr>\n",
       "    <tr>\n",
       "      <th>1</th>\n",
       "      <td>M</td>\n",
       "      <td>a - Ate 25 anos</td>\n",
       "      <td>Medio</td>\n",
       "      <td>d</td>\n",
       "      <td>1</td>\n",
       "    </tr>\n",
       "    <tr>\n",
       "      <th>2</th>\n",
       "      <td>F</td>\n",
       "      <td>c - 36 a 45 anos</td>\n",
       "      <td>Fundamental</td>\n",
       "      <td>a</td>\n",
       "      <td>1</td>\n",
       "    </tr>\n",
       "  </tbody>\n",
       "</table>\n",
       "</div>"
      ],
      "text/plain": [
       "  Genero             Idade Escolaridade Profissao  Target\n",
       "0      F  a - Ate 25 anos   Fundamental         b       0\n",
       "1      M  a - Ate 25 anos         Medio         d       1\n",
       "2      F  c - 36 a 45 anos  Fundamental         a       1"
      ]
     },
     "execution_count": 23,
     "metadata": {},
     "output_type": "execute_result"
    }
   ],
   "source": [
    "q5 = pd.read_csv('data/asset-v1_IRONHACK+DAFT+202002_SAO+type@asset+block@classificacao_Q3.csv')\n",
    "q5.head(3)"
   ]
  },
  {
   "cell_type": "code",
   "execution_count": 24,
   "metadata": {
    "ExecuteTime": {
     "end_time": "2020-05-07T09:56:04.974358Z",
     "start_time": "2020-05-07T09:56:04.962360Z"
    }
   },
   "outputs": [
    {
     "data": {
      "text/plain": [
       "Genero          object\n",
       "Idade           object\n",
       "Escolaridade    object\n",
       "Profissao       object\n",
       "Target           int64\n",
       "dtype: object"
      ]
     },
     "execution_count": 24,
     "metadata": {},
     "output_type": "execute_result"
    }
   ],
   "source": [
    "q5.dtypes"
   ]
  },
  {
   "cell_type": "code",
   "execution_count": 25,
   "metadata": {
    "ExecuteTime": {
     "end_time": "2020-05-07T09:56:05.924366Z",
     "start_time": "2020-05-07T09:56:05.916351Z"
    }
   },
   "outputs": [
    {
     "data": {
      "text/plain": [
       "(1000, 5)"
      ]
     },
     "execution_count": 25,
     "metadata": {},
     "output_type": "execute_result"
    }
   ],
   "source": [
    "q5.shape"
   ]
  },
  {
   "cell_type": "code",
   "execution_count": 26,
   "metadata": {
    "ExecuteTime": {
     "end_time": "2020-05-07T09:56:09.841014Z",
     "start_time": "2020-05-07T09:56:09.833019Z"
    }
   },
   "outputs": [],
   "source": [
    "X_q5 = q5.drop(['Target'], axis=1)\n",
    "y_q5 = q5['Target']"
   ]
  },
  {
   "cell_type": "code",
   "execution_count": 27,
   "metadata": {
    "ExecuteTime": {
     "end_time": "2020-05-07T09:56:11.444381Z",
     "start_time": "2020-05-07T09:56:11.432406Z"
    }
   },
   "outputs": [],
   "source": [
    "X_q5_train = X_q5[:500]\n",
    "y_q5_train = y_q5[:500]\n",
    "X_q5_test = X_q5[500:]\n",
    "y_q5_test = y_q5[500:]"
   ]
  },
  {
   "cell_type": "code",
   "execution_count": 28,
   "metadata": {
    "ExecuteTime": {
     "end_time": "2020-05-07T09:56:13.027354Z",
     "start_time": "2020-05-07T09:56:13.019357Z"
    }
   },
   "outputs": [],
   "source": [
    "from sklearn.naive_bayes import ComplementNB, MultinomialNB, CategoricalNB, BernoulliNB"
   ]
  },
  {
   "cell_type": "code",
   "execution_count": 38,
   "metadata": {
    "ExecuteTime": {
     "end_time": "2020-05-07T10:02:24.653128Z",
     "start_time": "2020-05-07T10:02:24.641135Z"
    }
   },
   "outputs": [],
   "source": [
    "from sklearn.preprocessing import OrdinalEncoder\n",
    "enc = OrdinalEncoder()\n",
    "X_q5_train_std = enc.fit_transform(X_q5_train)\n",
    "X_q5_test_std = enc.fit_transform(X_q5_test)"
   ]
  },
  {
   "cell_type": "code",
   "execution_count": 39,
   "metadata": {
    "ExecuteTime": {
     "end_time": "2020-05-07T10:02:28.188106Z",
     "start_time": "2020-05-07T10:02:28.176110Z"
    }
   },
   "outputs": [
    {
     "data": {
      "text/plain": [
       "array([[0., 0., 0., 1.],\n",
       "       [1., 0., 1., 3.],\n",
       "       [0., 2., 0., 0.],\n",
       "       ...,\n",
       "       [1., 1., 0., 0.],\n",
       "       [1., 2., 1., 1.],\n",
       "       [0., 3., 1., 1.]])"
      ]
     },
     "execution_count": 39,
     "metadata": {},
     "output_type": "execute_result"
    }
   ],
   "source": [
    "X_q5_std"
   ]
  },
  {
   "cell_type": "code",
   "execution_count": 40,
   "metadata": {
    "ExecuteTime": {
     "end_time": "2020-05-07T10:02:29.073920Z",
     "start_time": "2020-05-07T10:02:29.057945Z"
    }
   },
   "outputs": [
    {
     "data": {
      "text/plain": [
       "CategoricalNB(alpha=1.0, class_prior=None, fit_prior=True)"
      ]
     },
     "execution_count": 40,
     "metadata": {},
     "output_type": "execute_result"
    }
   ],
   "source": [
    "cnb = CategoricalNB()\n",
    "cnb.fit(X_q5_std, y_q5_train)"
   ]
  },
  {
   "cell_type": "code",
   "execution_count": 42,
   "metadata": {
    "ExecuteTime": {
     "end_time": "2020-05-07T10:02:55.942521Z",
     "start_time": "2020-05-07T10:02:55.926523Z"
    }
   },
   "outputs": [
    {
     "name": "stdout",
     "output_type": "stream",
     "text": [
      "Train score: 0.792\n",
      "Test score: 0.784\n"
     ]
    }
   ],
   "source": [
    "print(f\"Train score: {cnb.score(X_q5_train_std, y_q5_train)}\")\n",
    "print(f\"Test score: {cnb.score(X_q5_test_std, y_q5_test)}\")"
   ]
  },
  {
   "cell_type": "markdown",
   "metadata": {},
   "source": [
    "## Questão 4\n",
    "\n",
    "Considerando os dados presentes no arquivo classificacao_Q4.csv, treine o algoritmo k-Nearest Neighbors (KNN com k=15 e distância Euclidiana) utilizando a metodologia de validação cruzada k-fold com 10 folds não estratificados. Considere que a primeira pasta de validação seja formada pelas primeiras 10% linhas do arquivo, que a segunda pasta de validação seja formada pelas 10% linhas seguintes, e assim por diante, até atingir a última pasta, formada pelas 10% linhas finais da base. Qual o valor médio da acurácia para as bases de validação?"
   ]
  },
  {
   "cell_type": "code",
   "execution_count": 52,
   "metadata": {
    "ExecuteTime": {
     "end_time": "2020-05-07T14:10:03.678233Z",
     "start_time": "2020-05-07T14:10:03.445827Z"
    }
   },
   "outputs": [
    {
     "data": {
      "text/html": [
       "<div>\n",
       "<style scoped>\n",
       "    .dataframe tbody tr th:only-of-type {\n",
       "        vertical-align: middle;\n",
       "    }\n",
       "\n",
       "    .dataframe tbody tr th {\n",
       "        vertical-align: top;\n",
       "    }\n",
       "\n",
       "    .dataframe thead th {\n",
       "        text-align: right;\n",
       "    }\n",
       "</style>\n",
       "<table border=\"1\" class=\"dataframe\">\n",
       "  <thead>\n",
       "    <tr style=\"text-align: right;\">\n",
       "      <th></th>\n",
       "      <th>x0</th>\n",
       "      <th>x1</th>\n",
       "      <th>x2</th>\n",
       "      <th>x3</th>\n",
       "      <th>x4</th>\n",
       "      <th>x5</th>\n",
       "      <th>x6</th>\n",
       "      <th>x7</th>\n",
       "      <th>x8</th>\n",
       "      <th>x9</th>\n",
       "      <th>...</th>\n",
       "      <th>x91</th>\n",
       "      <th>x92</th>\n",
       "      <th>x93</th>\n",
       "      <th>x94</th>\n",
       "      <th>x95</th>\n",
       "      <th>x96</th>\n",
       "      <th>x97</th>\n",
       "      <th>x98</th>\n",
       "      <th>x99</th>\n",
       "      <th>target</th>\n",
       "    </tr>\n",
       "  </thead>\n",
       "  <tbody>\n",
       "    <tr>\n",
       "      <th>0</th>\n",
       "      <td>1.696199</td>\n",
       "      <td>-0.792598</td>\n",
       "      <td>-0.349427</td>\n",
       "      <td>-0.464560</td>\n",
       "      <td>3.187014</td>\n",
       "      <td>0.035976</td>\n",
       "      <td>1.033274</td>\n",
       "      <td>-1.504968</td>\n",
       "      <td>0.204693</td>\n",
       "      <td>1.691204</td>\n",
       "      <td>...</td>\n",
       "      <td>1.488142</td>\n",
       "      <td>-0.686337</td>\n",
       "      <td>2.084970</td>\n",
       "      <td>-0.685140</td>\n",
       "      <td>-2.049451</td>\n",
       "      <td>2.015426</td>\n",
       "      <td>1.158477</td>\n",
       "      <td>-0.309441</td>\n",
       "      <td>-1.549833</td>\n",
       "      <td>4.0</td>\n",
       "    </tr>\n",
       "    <tr>\n",
       "      <th>1</th>\n",
       "      <td>-0.236696</td>\n",
       "      <td>-2.202342</td>\n",
       "      <td>0.024023</td>\n",
       "      <td>1.497700</td>\n",
       "      <td>-0.069758</td>\n",
       "      <td>-2.467088</td>\n",
       "      <td>1.126529</td>\n",
       "      <td>-0.570557</td>\n",
       "      <td>2.079251</td>\n",
       "      <td>-1.882632</td>\n",
       "      <td>...</td>\n",
       "      <td>0.405567</td>\n",
       "      <td>0.509564</td>\n",
       "      <td>1.374071</td>\n",
       "      <td>-0.016943</td>\n",
       "      <td>-0.429280</td>\n",
       "      <td>-0.895016</td>\n",
       "      <td>1.259566</td>\n",
       "      <td>-0.354139</td>\n",
       "      <td>0.806797</td>\n",
       "      <td>5.0</td>\n",
       "    </tr>\n",
       "    <tr>\n",
       "      <th>2</th>\n",
       "      <td>-0.436683</td>\n",
       "      <td>1.563816</td>\n",
       "      <td>-0.895999</td>\n",
       "      <td>-0.580425</td>\n",
       "      <td>0.311060</td>\n",
       "      <td>-0.187369</td>\n",
       "      <td>0.805249</td>\n",
       "      <td>-2.399522</td>\n",
       "      <td>-0.578818</td>\n",
       "      <td>1.586981</td>\n",
       "      <td>...</td>\n",
       "      <td>0.933578</td>\n",
       "      <td>-1.285978</td>\n",
       "      <td>0.503162</td>\n",
       "      <td>0.204829</td>\n",
       "      <td>-0.753835</td>\n",
       "      <td>0.290033</td>\n",
       "      <td>1.721487</td>\n",
       "      <td>1.304518</td>\n",
       "      <td>0.478903</td>\n",
       "      <td>3.0</td>\n",
       "    </tr>\n",
       "  </tbody>\n",
       "</table>\n",
       "<p>3 rows × 101 columns</p>\n",
       "</div>"
      ],
      "text/plain": [
       "         x0        x1        x2        x3        x4        x5        x6  \\\n",
       "0  1.696199 -0.792598 -0.349427 -0.464560  3.187014  0.035976  1.033274   \n",
       "1 -0.236696 -2.202342  0.024023  1.497700 -0.069758 -2.467088  1.126529   \n",
       "2 -0.436683  1.563816 -0.895999 -0.580425  0.311060 -0.187369  0.805249   \n",
       "\n",
       "         x7        x8        x9  ...       x91       x92       x93       x94  \\\n",
       "0 -1.504968  0.204693  1.691204  ...  1.488142 -0.686337  2.084970 -0.685140   \n",
       "1 -0.570557  2.079251 -1.882632  ...  0.405567  0.509564  1.374071 -0.016943   \n",
       "2 -2.399522 -0.578818  1.586981  ...  0.933578 -1.285978  0.503162  0.204829   \n",
       "\n",
       "        x95       x96       x97       x98       x99  target  \n",
       "0 -2.049451  2.015426  1.158477 -0.309441 -1.549833     4.0  \n",
       "1 -0.429280 -0.895016  1.259566 -0.354139  0.806797     5.0  \n",
       "2 -0.753835  0.290033  1.721487  1.304518  0.478903     3.0  \n",
       "\n",
       "[3 rows x 101 columns]"
      ]
     },
     "execution_count": 52,
     "metadata": {},
     "output_type": "execute_result"
    }
   ],
   "source": [
    "q6 = pd.read_csv('data/asset-v1_IRONHACK+DAFT+202002_SAO+type@asset+block@classificacao_Q4.csv')\n",
    "q6.head(3)"
   ]
  },
  {
   "cell_type": "code",
   "execution_count": 53,
   "metadata": {
    "ExecuteTime": {
     "end_time": "2020-05-07T14:10:05.026275Z",
     "start_time": "2020-05-07T14:10:04.998292Z"
    }
   },
   "outputs": [],
   "source": [
    "X_q6 = q6.drop(['target'], axis=1)\n",
    "y_q6 = q6['target']"
   ]
  },
  {
   "cell_type": "code",
   "execution_count": 67,
   "metadata": {
    "ExecuteTime": {
     "end_time": "2020-05-07T14:16:37.157562Z",
     "start_time": "2020-05-07T14:16:26.306691Z"
    }
   },
   "outputs": [],
   "source": [
    "## precisa standarizar o X para KNN\n",
    "X_q6_std = StandardScaler().fit_transform(X_q6)\n",
    "knn_q6 = KNeighborsClassifier(n_neighbors=15, p=2, metric='minkowski')\n",
    "result_q6 = cross_validate(knn_q6, X_q6_std, y_q6, cv=KFold(10), return_train_score=True)"
   ]
  },
  {
   "cell_type": "code",
   "execution_count": 68,
   "metadata": {
    "ExecuteTime": {
     "end_time": "2020-05-07T14:16:38.519230Z",
     "start_time": "2020-05-07T14:16:38.507237Z"
    }
   },
   "outputs": [
    {
     "name": "stdout",
     "output_type": "stream",
     "text": [
      "Mean Score with KFold: 0.6597777777777778\n",
      "Mean Score with KFold: 0.536\n"
     ]
    }
   ],
   "source": [
    "print(f\"Mean Score with KFold: {result_q6['train_score'].mean()}\")\n",
    "print(f\"Mean Score with KFold: {result_q6['test_score'].mean()}\")"
   ]
  },
  {
   "cell_type": "markdown",
   "metadata": {},
   "source": [
    "## Questão 5) \n",
    "\n",
    "Assinale as alternativas com V ou F para Verdadeiro ou Falso respectivamente. Atente para o fato que uma questão errada anula uma certa. Em caso de dúvidas deixe em branco."
   ]
  },
  {
   "cell_type": "markdown",
   "metadata": {},
   "source": [
    "(**V**) Árvores de decisão podem ser utilizadas para categorizar variáveis e, também, para descobrir regras que mostram interações entre variáveis."
   ]
  },
  {
   "cell_type": "markdown",
   "metadata": {},
   "source": [
    "(**F**) As folhas de uma árvore de classificação buscam minimizar a pureza entre classes."
   ]
  },
  {
   "cell_type": "markdown",
   "metadata": {},
   "source": [
    "(**V**) Uma árvore de decisão completa (profundidade máxima possível) tem maior chance de fazer overfitting nos dados do que uma árvore com profundidade limitada."
   ]
  },
  {
   "cell_type": "markdown",
   "metadata": {},
   "source": [
    "(**V**) O método KNN usualmente não é apropriado para base com muitos atributos (variáveis)."
   ]
  },
  {
   "cell_type": "markdown",
   "metadata": {},
   "source": [
    "( ) Uma rede neural com uma camada intermediária com n neurônios, em que n é o número de atributos ou colunas, é um aproximador universal."
   ]
  },
  {
   "cell_type": "markdown",
   "metadata": {},
   "source": [
    "(**F**) O grau do polinômio do algoritmo Support Vector Machine (SVM) deve ser definido para todos os kernels."
   ]
  },
  {
   "cell_type": "markdown",
   "metadata": {},
   "source": [
    "(**V**) Algoritmos baseados em Boosting sequencialmente induzem modelos de tal forma que cada modelo gerado procura corrigir os erros cometidos pelos modelos anteriores."
   ]
  },
  {
   "cell_type": "markdown",
   "metadata": {},
   "source": [
    "(**F**) O Root Mean Squared Error (RMSE) é uma medida adequada para avaliar o desempenho final de um classificador."
   ]
  },
  {
   "cell_type": "markdown",
   "metadata": {},
   "source": [
    "(**V**) Recall e F1-score são métricas apropriadas para avaliar problemas de classificação em que se observa um desbalanceamento entre as classes."
   ]
  },
  {
   "cell_type": "markdown",
   "metadata": {},
   "source": [
    "(**V**) A metodologia de validação Leave-One-Out pode ser utilizada para obter melhor desempenho do modelo pois treina o modelo com a maior quantidade de dados possível."
   ]
  },
  {
   "cell_type": "code",
   "execution_count": null,
   "metadata": {},
   "outputs": [],
   "source": []
  }
 ],
 "metadata": {
  "hide_input": false,
  "kernelspec": {
   "display_name": "Python 3",
   "language": "python",
   "name": "python3"
  },
  "language_info": {
   "codemirror_mode": {
    "name": "ipython",
    "version": 3
   },
   "file_extension": ".py",
   "mimetype": "text/x-python",
   "name": "python",
   "nbconvert_exporter": "python",
   "pygments_lexer": "ipython3",
   "version": "3.7.1"
  },
  "toc": {
   "base_numbering": 1,
   "nav_menu": {},
   "number_sections": true,
   "sideBar": true,
   "skip_h1_title": false,
   "title_cell": "Table of Contents",
   "title_sidebar": "Contents",
   "toc_cell": false,
   "toc_position": {},
   "toc_section_display": true,
   "toc_window_display": false
  },
  "varInspector": {
   "cols": {
    "lenName": 16,
    "lenType": 16,
    "lenVar": 40
   },
   "kernels_config": {
    "python": {
     "delete_cmd_postfix": "",
     "delete_cmd_prefix": "del ",
     "library": "var_list.py",
     "varRefreshCmd": "print(var_dic_list())"
    },
    "r": {
     "delete_cmd_postfix": ") ",
     "delete_cmd_prefix": "rm(",
     "library": "var_list.r",
     "varRefreshCmd": "cat(var_dic_list()) "
    }
   },
   "types_to_exclude": [
    "module",
    "function",
    "builtin_function_or_method",
    "instance",
    "_Feature"
   ],
   "window_display": false
  }
 },
 "nbformat": 4,
 "nbformat_minor": 2
}
