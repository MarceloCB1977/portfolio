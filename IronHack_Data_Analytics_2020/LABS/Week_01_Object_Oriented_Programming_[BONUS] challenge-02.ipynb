{
 "cells": [
  {
   "cell_type": "markdown",
   "metadata": {},
   "source": [
    "# Lab - Object Oriented Programming"
   ]
  },
  {
   "cell_type": "code",
   "execution_count": 1,
   "metadata": {},
   "outputs": [],
   "source": [
    "import pandas as pd\n",
    "import numpy as np"
   ]
  },
  {
   "cell_type": "markdown",
   "metadata": {},
   "source": [
    "# Challenge 2"
   ]
  },
  {
   "cell_type": "markdown",
   "metadata": {},
   "source": [
    "In order to understand the benefits of simple object-oriented programming, we have to build up our classes from the beginning. "
   ]
  },
  {
   "cell_type": "markdown",
   "metadata": {},
   "source": [
    "You'll use the following dataframe generator to test some things. Try to understand what the following function does."
   ]
  },
  {
   "cell_type": "code",
   "execution_count": 2,
   "metadata": {},
   "outputs": [],
   "source": [
    "chars = ['a', 'b', 'c','d', 'e', 'f', ' ', 'á','é','ó']\n",
    "\n",
    "def create_weird_dataframe(size=10):\n",
    "    def create_weird_colnames(size=size):\n",
    "        probs = [.2,.2,.15,.1,.1,.1,.05,.05,.025,.025]\n",
    "\n",
    "        return [''.join(\n",
    "            [(char.upper() if np.random.random() < 0.2 else char) \n",
    "                     for char in np.random.choice(chars,size=12, p=probs)]) for i in range(size)]\n",
    "    \n",
    "    data = np.random.random(size=(size,size))\n",
    "    colnames = create_weird_colnames(size)\n",
    "    return pd.DataFrame(data=data, columns=colnames)"
   ]
  },
  {
   "cell_type": "markdown",
   "metadata": {},
   "source": [
    "Test the results of running that function below. Run it several times"
   ]
  },
  {
   "cell_type": "code",
   "execution_count": 3,
   "metadata": {},
   "outputs": [
    {
     "data": {
      "text/html": [
       "<div>\n",
       "<style scoped>\n",
       "    .dataframe tbody tr th:only-of-type {\n",
       "        vertical-align: middle;\n",
       "    }\n",
       "\n",
       "    .dataframe tbody tr th {\n",
       "        vertical-align: top;\n",
       "    }\n",
       "\n",
       "    .dataframe thead th {\n",
       "        text-align: right;\n",
       "    }\n",
       "</style>\n",
       "<table border=\"1\" class=\"dataframe\">\n",
       "  <thead>\n",
       "    <tr style=\"text-align: right;\">\n",
       "      <th></th>\n",
       "      <th>ddbcbb Óbdec</th>\n",
       "      <th>bcdcbe BaaaA</th>\n",
       "      <th>abaaafeaaa</th>\n",
       "      <th>dáéAafácabaa</th>\n",
       "      <th>cCeaóaebaDbé</th>\n",
       "      <th>aadac ddfbcb</th>\n",
       "      <th>dcfAaeaFec d</th>\n",
       "      <th>dceáéfaabaéf</th>\n",
       "      <th>áÁcbea aedá</th>\n",
       "      <th>c béCádbaabc</th>\n",
       "    </tr>\n",
       "  </thead>\n",
       "  <tbody>\n",
       "    <tr>\n",
       "      <th>0</th>\n",
       "      <td>0.016226</td>\n",
       "      <td>0.105391</td>\n",
       "      <td>0.116765</td>\n",
       "      <td>0.667572</td>\n",
       "      <td>0.577595</td>\n",
       "      <td>0.904384</td>\n",
       "      <td>0.822368</td>\n",
       "      <td>0.806613</td>\n",
       "      <td>0.337573</td>\n",
       "      <td>0.442554</td>\n",
       "    </tr>\n",
       "    <tr>\n",
       "      <th>1</th>\n",
       "      <td>0.449491</td>\n",
       "      <td>0.237465</td>\n",
       "      <td>0.563181</td>\n",
       "      <td>0.506778</td>\n",
       "      <td>0.421964</td>\n",
       "      <td>0.931779</td>\n",
       "      <td>0.551095</td>\n",
       "      <td>0.349666</td>\n",
       "      <td>0.157103</td>\n",
       "      <td>0.403551</td>\n",
       "    </tr>\n",
       "    <tr>\n",
       "      <th>2</th>\n",
       "      <td>0.128462</td>\n",
       "      <td>0.200170</td>\n",
       "      <td>0.128086</td>\n",
       "      <td>0.725989</td>\n",
       "      <td>0.042616</td>\n",
       "      <td>0.457246</td>\n",
       "      <td>0.688638</td>\n",
       "      <td>0.894189</td>\n",
       "      <td>0.601321</td>\n",
       "      <td>0.099328</td>\n",
       "    </tr>\n",
       "    <tr>\n",
       "      <th>3</th>\n",
       "      <td>0.159506</td>\n",
       "      <td>0.349599</td>\n",
       "      <td>0.605560</td>\n",
       "      <td>0.930295</td>\n",
       "      <td>0.118903</td>\n",
       "      <td>0.700307</td>\n",
       "      <td>0.652210</td>\n",
       "      <td>0.560123</td>\n",
       "      <td>0.311208</td>\n",
       "      <td>0.922066</td>\n",
       "    </tr>\n",
       "    <tr>\n",
       "      <th>4</th>\n",
       "      <td>0.821243</td>\n",
       "      <td>0.901651</td>\n",
       "      <td>0.596592</td>\n",
       "      <td>0.889394</td>\n",
       "      <td>0.563118</td>\n",
       "      <td>0.524178</td>\n",
       "      <td>0.856793</td>\n",
       "      <td>0.062430</td>\n",
       "      <td>0.368661</td>\n",
       "      <td>0.433195</td>\n",
       "    </tr>\n",
       "  </tbody>\n",
       "</table>\n",
       "</div>"
      ],
      "text/plain": [
       "   ddbcbb Óbdec  bcdcbe BaaaA    abaaafeaaa  dáéAafácabaa  cCeaóaebaDbé  \\\n",
       "0      0.016226      0.105391      0.116765      0.667572      0.577595   \n",
       "1      0.449491      0.237465      0.563181      0.506778      0.421964   \n",
       "2      0.128462      0.200170      0.128086      0.725989      0.042616   \n",
       "3      0.159506      0.349599      0.605560      0.930295      0.118903   \n",
       "4      0.821243      0.901651      0.596592      0.889394      0.563118   \n",
       "\n",
       "   aadac ddfbcb  dcfAaeaFec d  dceáéfaabaéf  áÁcbea aedá   c béCádbaabc  \n",
       "0      0.904384      0.822368      0.806613      0.337573      0.442554  \n",
       "1      0.931779      0.551095      0.349666      0.157103      0.403551  \n",
       "2      0.457246      0.688638      0.894189      0.601321      0.099328  \n",
       "3      0.700307      0.652210      0.560123      0.311208      0.922066  \n",
       "4      0.524178      0.856793      0.062430      0.368661      0.433195  "
      ]
     },
     "execution_count": 3,
     "metadata": {},
     "output_type": "execute_result"
    }
   ],
   "source": [
    "df = create_weird_dataframe()\n",
    "df.head()"
   ]
  },
  {
   "cell_type": "markdown",
   "metadata": {},
   "source": [
    "## Correcting the column names\n",
    "\n",
    "We'll create a function that rename the weird column names. The idea is to, later, extend that idea to our own brand new dataframe class."
   ]
  },
  {
   "cell_type": "markdown",
   "metadata": {},
   "source": [
    "### let's start simple: get the column names of the dataframe.\n",
    "\n",
    "Store it in a variable called `col_names`\n"
   ]
  },
  {
   "cell_type": "code",
   "execution_count": 4,
   "metadata": {},
   "outputs": [
    {
     "data": {
      "text/plain": [
       "Index(['ddbcbb Óbdec', 'bcdcbe BaaaA', '  abaaafeaaa', 'dáéAafácabaa',\n",
       "       'cCeaóaebaDbé', 'aadac ddfbcb', 'dcfAaeaFec d', 'dceáéfaabaéf',\n",
       "       'áÁcbea aedá ', 'c béCádbaabc'],\n",
       "      dtype='object')"
      ]
     },
     "execution_count": 4,
     "metadata": {},
     "output_type": "execute_result"
    }
   ],
   "source": [
    "col_names = df.columns\n",
    "col_names"
   ]
  },
  {
   "cell_type": "markdown",
   "metadata": {},
   "source": [
    "### Let's iterate through this columns and transform them into lower-case column names\n",
    "\n",
    "Create a list comprehension to do that if possible. Store it in a variable called `lower_colnames`"
   ]
  },
  {
   "cell_type": "code",
   "execution_count": 5,
   "metadata": {},
   "outputs": [
    {
     "data": {
      "text/plain": [
       "['ddbcbb óbdec',\n",
       " 'bcdcbe baaaa',\n",
       " '  abaaafeaaa',\n",
       " 'dáéaafácabaa',\n",
       " 'cceaóaebadbé',\n",
       " 'aadac ddfbcb',\n",
       " 'dcfaaeafec d',\n",
       " 'dceáéfaabaéf',\n",
       " 'áácbea aedá ',\n",
       " 'c bécádbaabc']"
      ]
     },
     "execution_count": 5,
     "metadata": {},
     "output_type": "execute_result"
    }
   ],
   "source": [
    "lower_colnames = [x.lower() for x in col_names] \n",
    "lower_colnames"
   ]
  },
  {
   "cell_type": "markdown",
   "metadata": {},
   "source": [
    "### Let's remove the spaces of these column names!\n",
    "\n",
    "Replace each column name space ` ` for an underline `_`. Again, try to use a list comprehension to do that. \n",
    "For this first task use `.replace(' ','')` method to do that."
   ]
  },
  {
   "cell_type": "code",
   "execution_count": 6,
   "metadata": {},
   "outputs": [
    {
     "data": {
      "text/plain": [
       "['ddbcbb_óbdec',\n",
       " 'bcdcbe_baaaa',\n",
       " '__abaaafeaaa',\n",
       " 'dáéaafácabaa',\n",
       " 'cceaóaebadbé',\n",
       " 'aadac_ddfbcb',\n",
       " 'dcfaaeafec_d',\n",
       " 'dceáéfaabaéf',\n",
       " 'áácbea_aedá_',\n",
       " 'c_bécádbaabc']"
      ]
     },
     "execution_count": 6,
     "metadata": {},
     "output_type": "execute_result"
    }
   ],
   "source": [
    "[y.replace(\" \", \"_\") for y in lower_colnames]"
   ]
  },
  {
   "cell_type": "markdown",
   "metadata": {},
   "source": [
    "### Create a function that groups the results obtained above and return the lower case underlined names as a list\n",
    "\n",
    "Name the function `normalize_cols`. This function should receive a dataframe, get the column names of a it and return the treated list of column names."
   ]
  },
  {
   "cell_type": "code",
   "execution_count": 7,
   "metadata": {},
   "outputs": [],
   "source": [
    "def normalize_cols(df):\n",
    "    df = create_weird_dataframe()\n",
    "    col_names = df.columns\n",
    "    lower_colnames = [x.lower() for x in col_names]\n",
    "    no_spaces = [y.replace(\" \", \"_\") for y in lower_colnames]\n",
    "    return no_spaces"
   ]
  },
  {
   "cell_type": "markdown",
   "metadata": {},
   "source": [
    "### Test your results\n",
    "\n",
    "Use the following line of code to test your results. Run it several times to see some behaviors."
   ]
  },
  {
   "cell_type": "code",
   "execution_count": 8,
   "metadata": {},
   "outputs": [
    {
     "data": {
      "text/plain": [
       "['aaófcfbóbccd',\n",
       " 'bbádaaaedecb',\n",
       " 'cfcffbbbeafe',\n",
       " 'dbdaccedác_e',\n",
       " 'feaad_babfc_',\n",
       " 'cdbcaaaáfáaé',\n",
       " 'faebeaafbbbc',\n",
       " 'cbeaóaafeaaa',\n",
       " 'cbabááfbb_b_',\n",
       " 'cdadeécbffáó']"
      ]
     },
     "execution_count": 8,
     "metadata": {},
     "output_type": "execute_result"
    }
   ],
   "source": [
    "normalize_cols(create_weird_dataframe())"
   ]
  },
  {
   "cell_type": "markdown",
   "metadata": {},
   "source": [
    "### hmmm, we've made a mistake!\n",
    "\n",
    "We've commited several mistakes by doing this. Have observed any bugs associated with our results?"
   ]
  },
  {
   "cell_type": "markdown",
   "metadata": {},
   "source": [
    "In order for us to see some problems in our results, we have to look for edge cases. \n",
    "\n",
    "For example: \n",
    "\n",
    "**Problem #1:** what if there are 2 or more following spaces? We want it to replace the spaces by several underlines or condense them into one?\n",
    "\n",
    "**Problem #2:** what if there are spaces at the beginning? Should we substitute them by underline or drop them?"
   ]
  },
  {
   "cell_type": "markdown",
   "metadata": {},
   "source": [
    "Let's correct each problem. Starting by problem 2."
   ]
  },
  {
   "cell_type": "markdown",
   "metadata": {},
   "source": [
    "## Correcting our function\n",
    "\n",
    "Instead of substituting the spaces at first place, let's remove the trailing and leading spaces!\n",
    "\n",
    "Recreate the `normalize_cols` with the solution to `Problem 2`.\n",
    "\n",
    "*Hint: Copy and paste the last `normalize_cols` function to change it.*"
   ]
  },
  {
   "cell_type": "code",
   "execution_count": 9,
   "metadata": {},
   "outputs": [],
   "source": [
    "def normalize_cols(df):\n",
    "    df = create_weird_dataframe()\n",
    "    col_names = df.columns\n",
    "    lower_colnames = [x.lower() for x in col_names]\n",
    "    lead_trail = [k.strip() for k in lower_colnames]\n",
    "    no_spaces = [y.replace(\" \", \"_\") for y in lead_trail]\n",
    "    return no_spaces"
   ]
  },
  {
   "cell_type": "markdown",
   "metadata": {},
   "source": [
    "### Test your results again.\n",
    "\n",
    "At least, for now, you should not have any trailing nor leading underlines."
   ]
  },
  {
   "cell_type": "code",
   "execution_count": 10,
   "metadata": {},
   "outputs": [
    {
     "data": {
      "text/plain": [
       "['dccéáebcébdd',\n",
       " 'bdddbaacbbed',\n",
       " 'cóbcabfaccé',\n",
       " 'aaadaafcaóaf',\n",
       " 'daébebfbbdfc',\n",
       " 'ebfadcfóbadc',\n",
       " 'abdffbcf_cbá',\n",
       " 'cefcf_cbaéba',\n",
       " 'aaeábfcdaeef',\n",
       " 'bf__dacbáfóa']"
      ]
     },
     "execution_count": 10,
     "metadata": {},
     "output_type": "execute_result"
    }
   ],
   "source": [
    "normalize_cols(create_weird_dataframe())"
   ]
  },
  {
   "cell_type": "markdown",
   "metadata": {},
   "source": [
    "### Correcting problem 1"
   ]
  },
  {
   "cell_type": "markdown",
   "metadata": {},
   "source": [
    "To correct problem 1, instead of using `.replace()` string method, we want to use a regular expression. Use the module `re` to substitute the pattern of `1 or more spaces` by 1 underline `_`.\n",
    "\n",
    "Test your solution on the variable below:"
   ]
  },
  {
   "cell_type": "code",
   "execution_count": 11,
   "metadata": {},
   "outputs": [
    {
     "data": {
      "text/plain": [
       "'these_spaces_should_all_be_one_underline'"
      ]
     },
     "execution_count": 11,
     "metadata": {},
     "output_type": "execute_result"
    }
   ],
   "source": [
    "import re \n",
    "\n",
    "\n",
    "text = 'these spaces      should all be one underline'\n",
    "re.sub(\" +\", \"_\", text)"
   ]
  },
  {
   "cell_type": "code",
   "execution_count": null,
   "metadata": {},
   "outputs": [],
   "source": []
  },
  {
   "cell_type": "markdown",
   "metadata": {},
   "source": [
    "### Now correct your `normalize_cols` function\n",
    "\n",
    "*Hint: Copy and paste the last `normalize_cols` function to change it.*"
   ]
  },
  {
   "cell_type": "code",
   "execution_count": 12,
   "metadata": {},
   "outputs": [],
   "source": [
    "def normalize_cols(df):\n",
    "    no_spaces = []\n",
    "    df = create_weird_dataframe()\n",
    "    col_names = df.columns\n",
    "    lower_colnames = [x.lower() for x in col_names]\n",
    "    lead_trail = [k.strip() for k in lower_colnames]\n",
    "    for y in lower_colnames:\n",
    "        c = re.sub(\" +\", \"_\", y)\n",
    "        no_spaces.append(c)\n",
    "    return no_spaces"
   ]
  },
  {
   "cell_type": "markdown",
   "metadata": {},
   "source": [
    "### Again, test your results.\n",
    "\n",
    "Now, sometimes some column names should have smaller sizes (because you are removing consecutive spaces)"
   ]
  },
  {
   "cell_type": "code",
   "execution_count": 13,
   "metadata": {},
   "outputs": [
    {
     "data": {
      "text/plain": [
       "['óedeededfefc',\n",
       " 'cbf_édbebdad',\n",
       " 'abbéfbcbabfa',\n",
       " 'ead_ddcefcac',\n",
       " 'fdefaóbddafb',\n",
       " 'acb_cbéaáeba',\n",
       " '_eaacebcbácb',\n",
       " 'áacbfábaaébf',\n",
       " 'cfaabbacébba',\n",
       " 'dcbcaacfbdcc']"
      ]
     },
     "execution_count": 13,
     "metadata": {},
     "output_type": "execute_result"
    }
   ],
   "source": [
    "normalize_cols(create_weird_dataframe())"
   ]
  },
  {
   "cell_type": "markdown",
   "metadata": {},
   "source": [
    "## Last step: remove accents"
   ]
  },
  {
   "cell_type": "markdown",
   "metadata": {},
   "source": [
    "The last step consists in removing accents from the strings.\n",
    "\n",
    "Import the package `unidecode` to use its module also called `unidecode` to remove accents. Test on the word below."
   ]
  },
  {
   "cell_type": "code",
   "execution_count": 14,
   "metadata": {},
   "outputs": [],
   "source": [
    "import unidecode\n",
    "text = 'aéóúaorowó'"
   ]
  },
  {
   "cell_type": "code",
   "execution_count": 15,
   "metadata": {},
   "outputs": [
    {
     "data": {
      "text/plain": [
       "'aeouaorowo'"
      ]
     },
     "execution_count": 15,
     "metadata": {},
     "output_type": "execute_result"
    }
   ],
   "source": [
    "unaccented_string = unidecode.unidecode(text)\n",
    "unaccented_string"
   ]
  },
  {
   "cell_type": "markdown",
   "metadata": {},
   "source": [
    "### Now remove the accents for each column name in your `normalized_cols` function.\n",
    "\n",
    "*Hint: Copy and paste the last `normalize_cols` function to change it.*"
   ]
  },
  {
   "cell_type": "code",
   "execution_count": 16,
   "metadata": {},
   "outputs": [],
   "source": [
    "def normalize_cols(df):\n",
    "    no_spaces = []\n",
    "    df = create_weird_dataframe()\n",
    "    col_names = df.columns\n",
    "    lower_colnames = [x.lower() for x in col_names]\n",
    "    lead_trail = [k.strip() for k in lower_colnames]\n",
    "    for y in lower_colnames:\n",
    "        u = unidecode.unidecode(y)\n",
    "        c = re.sub(\" +\", \"_\", u)\n",
    "        no_spaces.append(c)\n",
    "    return no_spaces"
   ]
  },
  {
   "cell_type": "markdown",
   "metadata": {},
   "source": [
    "### Test your results"
   ]
  },
  {
   "cell_type": "code",
   "execution_count": 17,
   "metadata": {},
   "outputs": [
    {
     "data": {
      "text/plain": [
       "['da_acaofdcaa',\n",
       " 'ac_baeeabbec',\n",
       " 'aeeabaeebeeb',\n",
       " '_dcfac_beaae',\n",
       " 'baaaaca_aade',\n",
       " 'adafcceccdaa',\n",
       " 'aaaceafdaaeb',\n",
       " 'b_acbcdbbebc',\n",
       " 'eaadaaebbfee',\n",
       " 'cfaaobaaffaa']"
      ]
     },
     "execution_count": 17,
     "metadata": {},
     "output_type": "execute_result"
    }
   ],
   "source": [
    "normalize_cols(create_weird_dataframe())"
   ]
  },
  {
   "cell_type": "markdown",
   "metadata": {},
   "source": [
    "## Good job. \n",
    "\n",
    "Right now you have a function that receives a dataframe and returns its columns names with a good formatting."
   ]
  },
  {
   "cell_type": "markdown",
   "metadata": {},
   "source": [
    "# Creating our own dataframe."
   ]
  },
  {
   "cell_type": "code",
   "execution_count": 18,
   "metadata": {},
   "outputs": [],
   "source": [
    "from pandas import DataFrame"
   ]
  },
  {
   "cell_type": "markdown",
   "metadata": {},
   "source": [
    "A dataframe is just a simple class. It contains its own attributes and methods. \n",
    "\n",
    "When you create a pd.DataFrame() you are just instantiating the DataFrame class as an object that you can store in a variable. From this point onwards, you have access to all DataFrame class attributes (`.columns` for example) and methods (`.isna()` for example). We've been using those since always! "
   ]
  },
  {
   "cell_type": "markdown",
   "metadata": {},
   "source": [
    "If we wish, we could create our own class inheriting everything from a DataFrame class."
   ]
  },
  {
   "cell_type": "code",
   "execution_count": 19,
   "metadata": {},
   "outputs": [],
   "source": [
    "class myDataFrame(DataFrame):\n",
    "    pass"
   ]
  },
  {
   "cell_type": "markdown",
   "metadata": {},
   "source": [
    "Instead of just creating myDataFrame, put your function inside your new inherited class, that is, transform `normalize_cols` into a method of your own DataFrame.\n",
    "\n",
    "Remember you'll have to give self as the first argument of the `normalize_cols`. So you could replace everything you once called `dataframe` inside your `normalize_cols` by `self`. \n",
    "\n",
    "At the end, return the list of the correct names."
   ]
  },
  {
   "cell_type": "code",
   "execution_count": 20,
   "metadata": {},
   "outputs": [],
   "source": [
    "class myDataFrame(DataFrame):\n",
    "    \n",
    "    def normalize_cols(DataFrame):\n",
    "        no_spaces = []\n",
    "        df = create_weird_dataframe()\n",
    "        col_names = df.columns\n",
    "        lower_colnames = [x.lower() for x in col_names]\n",
    "        lead_trail = [k.strip() for k in lower_colnames]\n",
    "        for y in lower_colnames:\n",
    "            u = unidecode.unidecode(y)\n",
    "            c = re.sub(\" +\", \"_\", u)\n",
    "            no_spaces.append(c)\n",
    "        return no_spaces"
   ]
  },
  {
   "cell_type": "markdown",
   "metadata": {},
   "source": [
    "Test your results."
   ]
  },
  {
   "cell_type": "code",
   "execution_count": 21,
   "metadata": {},
   "outputs": [
    {
     "data": {
      "text/plain": [
       "['ddooddefacba',\n",
       " 'ababccaddccf',\n",
       " 'fcfboff_ebfe',\n",
       " 'afaceafacfaa',\n",
       " 'bafcadeaaadc',\n",
       " 'ceaafeaaacee',\n",
       " 'aabeaa_fdbec',\n",
       " 'aec_ddacbdd_',\n",
       " 'edcacaeccedb',\n",
       " '_acobcbdabab']"
      ]
     },
     "execution_count": 21,
     "metadata": {},
     "output_type": "execute_result"
    }
   ],
   "source": [
    "df = myDataFrame(create_weird_dataframe())\n",
    "df.normalize_cols()"
   ]
  },
  {
   "cell_type": "markdown",
   "metadata": {},
   "source": [
    "## Understanding even more the `self` argument"
   ]
  },
  {
   "cell_type": "markdown",
   "metadata": {},
   "source": [
    "Instead of returning a list containing the correct columns, you should now assign the correct columns to the `self.columns` - this will effectively replace the values of your object by the correct columns.\n",
    "\n",
    "\n",
    "Now change your method to return the dataframe itself. That is, return the `self` argument this time and see the results! \n",
    "\n",
    "```python\n",
    "class myDataFrame(DataFrame):\n",
    "    def normalize_cos(self):\n",
    "        ...\n",
    "        return self\n",
    "```"
   ]
  },
  {
   "cell_type": "code",
   "execution_count": 57,
   "metadata": {},
   "outputs": [],
   "source": [
    "class myDataFrame(DataFrame):\n",
    "        \n",
    "    def normalize_cols(self):\n",
    "        no_spaces = []\n",
    "        df = create_weird_dataframe()\n",
    "        col_names = df.columns\n",
    "        lower_colnames = [x.lower() for x in col_names]\n",
    "        lead_trail = [k.strip() for k in lower_colnames]\n",
    "        for y in lower_colnames:\n",
    "            u = unidecode.unidecode(y)\n",
    "            c = re.sub(\" +\", \"_\", u)\n",
    "            no_spaces.append(c)\n",
    "        col_names = [x for x in no_spaces]\n",
    "        df.columns = col_names\n",
    "        return df\n",
    "    "
   ]
  },
  {
   "cell_type": "code",
   "execution_count": 58,
   "metadata": {},
   "outputs": [
    {
     "data": {
      "text/html": [
       "<div>\n",
       "<style scoped>\n",
       "    .dataframe tbody tr th:only-of-type {\n",
       "        vertical-align: middle;\n",
       "    }\n",
       "\n",
       "    .dataframe tbody tr th {\n",
       "        vertical-align: top;\n",
       "    }\n",
       "\n",
       "    .dataframe thead th {\n",
       "        text-align: right;\n",
       "    }\n",
       "</style>\n",
       "<table border=\"1\" class=\"dataframe\">\n",
       "  <thead>\n",
       "    <tr style=\"text-align: right;\">\n",
       "      <th></th>\n",
       "      <th>be_eceebafaa</th>\n",
       "      <th>a_babeacbeaf</th>\n",
       "      <th>eadedeeaaafa</th>\n",
       "      <th>fafaadacdaaa</th>\n",
       "      <th>badobedcoeae</th>\n",
       "      <th>fffaaaacec_a</th>\n",
       "      <th>ba_oaeebaacc</th>\n",
       "      <th>effaofdaadac</th>\n",
       "      <th>b_bbabcccaca</th>\n",
       "      <th>aacbdaeea_ce</th>\n",
       "    </tr>\n",
       "  </thead>\n",
       "  <tbody>\n",
       "    <tr>\n",
       "      <th>0</th>\n",
       "      <td>0.827770</td>\n",
       "      <td>0.110819</td>\n",
       "      <td>0.826710</td>\n",
       "      <td>0.006433</td>\n",
       "      <td>0.591657</td>\n",
       "      <td>0.863813</td>\n",
       "      <td>0.219001</td>\n",
       "      <td>0.083723</td>\n",
       "      <td>0.560232</td>\n",
       "      <td>0.928782</td>\n",
       "    </tr>\n",
       "    <tr>\n",
       "      <th>1</th>\n",
       "      <td>0.455884</td>\n",
       "      <td>0.323964</td>\n",
       "      <td>0.282224</td>\n",
       "      <td>0.985413</td>\n",
       "      <td>0.267172</td>\n",
       "      <td>0.666007</td>\n",
       "      <td>0.020701</td>\n",
       "      <td>0.157035</td>\n",
       "      <td>0.388611</td>\n",
       "      <td>0.295958</td>\n",
       "    </tr>\n",
       "    <tr>\n",
       "      <th>2</th>\n",
       "      <td>0.401238</td>\n",
       "      <td>0.038388</td>\n",
       "      <td>0.942277</td>\n",
       "      <td>0.151542</td>\n",
       "      <td>0.670713</td>\n",
       "      <td>0.673015</td>\n",
       "      <td>0.363183</td>\n",
       "      <td>0.375101</td>\n",
       "      <td>0.248377</td>\n",
       "      <td>0.284920</td>\n",
       "    </tr>\n",
       "    <tr>\n",
       "      <th>3</th>\n",
       "      <td>0.128311</td>\n",
       "      <td>0.575432</td>\n",
       "      <td>0.543415</td>\n",
       "      <td>0.926718</td>\n",
       "      <td>0.413166</td>\n",
       "      <td>0.885301</td>\n",
       "      <td>0.340005</td>\n",
       "      <td>0.001445</td>\n",
       "      <td>0.654852</td>\n",
       "      <td>0.499442</td>\n",
       "    </tr>\n",
       "    <tr>\n",
       "      <th>4</th>\n",
       "      <td>0.966379</td>\n",
       "      <td>0.682920</td>\n",
       "      <td>0.193075</td>\n",
       "      <td>0.350574</td>\n",
       "      <td>0.528797</td>\n",
       "      <td>0.081795</td>\n",
       "      <td>0.909741</td>\n",
       "      <td>0.389013</td>\n",
       "      <td>0.505196</td>\n",
       "      <td>0.996507</td>\n",
       "    </tr>\n",
       "    <tr>\n",
       "      <th>5</th>\n",
       "      <td>0.183901</td>\n",
       "      <td>0.955627</td>\n",
       "      <td>0.914884</td>\n",
       "      <td>0.710046</td>\n",
       "      <td>0.608778</td>\n",
       "      <td>0.426318</td>\n",
       "      <td>0.851444</td>\n",
       "      <td>0.408447</td>\n",
       "      <td>0.549823</td>\n",
       "      <td>0.975516</td>\n",
       "    </tr>\n",
       "    <tr>\n",
       "      <th>6</th>\n",
       "      <td>0.612468</td>\n",
       "      <td>0.963309</td>\n",
       "      <td>0.080879</td>\n",
       "      <td>0.246810</td>\n",
       "      <td>0.922057</td>\n",
       "      <td>0.211607</td>\n",
       "      <td>0.980954</td>\n",
       "      <td>0.455313</td>\n",
       "      <td>0.802151</td>\n",
       "      <td>0.865350</td>\n",
       "    </tr>\n",
       "    <tr>\n",
       "      <th>7</th>\n",
       "      <td>0.275960</td>\n",
       "      <td>0.427017</td>\n",
       "      <td>0.902355</td>\n",
       "      <td>0.108855</td>\n",
       "      <td>0.567312</td>\n",
       "      <td>0.187116</td>\n",
       "      <td>0.693541</td>\n",
       "      <td>0.228582</td>\n",
       "      <td>0.189356</td>\n",
       "      <td>0.392590</td>\n",
       "    </tr>\n",
       "    <tr>\n",
       "      <th>8</th>\n",
       "      <td>0.882931</td>\n",
       "      <td>0.636678</td>\n",
       "      <td>0.630999</td>\n",
       "      <td>0.478697</td>\n",
       "      <td>0.280483</td>\n",
       "      <td>0.797274</td>\n",
       "      <td>0.055765</td>\n",
       "      <td>0.092009</td>\n",
       "      <td>0.599489</td>\n",
       "      <td>0.656945</td>\n",
       "    </tr>\n",
       "    <tr>\n",
       "      <th>9</th>\n",
       "      <td>0.913830</td>\n",
       "      <td>0.524330</td>\n",
       "      <td>0.319580</td>\n",
       "      <td>0.000611</td>\n",
       "      <td>0.749023</td>\n",
       "      <td>0.601040</td>\n",
       "      <td>0.658026</td>\n",
       "      <td>0.571410</td>\n",
       "      <td>0.960975</td>\n",
       "      <td>0.023884</td>\n",
       "    </tr>\n",
       "  </tbody>\n",
       "</table>\n",
       "</div>"
      ],
      "text/plain": [
       "   be_eceebafaa  a_babeacbeaf  eadedeeaaafa  fafaadacdaaa  badobedcoeae  \\\n",
       "0      0.827770      0.110819      0.826710      0.006433      0.591657   \n",
       "1      0.455884      0.323964      0.282224      0.985413      0.267172   \n",
       "2      0.401238      0.038388      0.942277      0.151542      0.670713   \n",
       "3      0.128311      0.575432      0.543415      0.926718      0.413166   \n",
       "4      0.966379      0.682920      0.193075      0.350574      0.528797   \n",
       "5      0.183901      0.955627      0.914884      0.710046      0.608778   \n",
       "6      0.612468      0.963309      0.080879      0.246810      0.922057   \n",
       "7      0.275960      0.427017      0.902355      0.108855      0.567312   \n",
       "8      0.882931      0.636678      0.630999      0.478697      0.280483   \n",
       "9      0.913830      0.524330      0.319580      0.000611      0.749023   \n",
       "\n",
       "   fffaaaacec_a  ba_oaeebaacc  effaofdaadac  b_bbabcccaca  aacbdaeea_ce  \n",
       "0      0.863813      0.219001      0.083723      0.560232      0.928782  \n",
       "1      0.666007      0.020701      0.157035      0.388611      0.295958  \n",
       "2      0.673015      0.363183      0.375101      0.248377      0.284920  \n",
       "3      0.885301      0.340005      0.001445      0.654852      0.499442  \n",
       "4      0.081795      0.909741      0.389013      0.505196      0.996507  \n",
       "5      0.426318      0.851444      0.408447      0.549823      0.975516  \n",
       "6      0.211607      0.980954      0.455313      0.802151      0.865350  \n",
       "7      0.187116      0.693541      0.228582      0.189356      0.392590  \n",
       "8      0.797274      0.055765      0.092009      0.599489      0.656945  \n",
       "9      0.601040      0.658026      0.571410      0.960975      0.023884  "
      ]
     },
     "execution_count": 58,
     "metadata": {},
     "output_type": "execute_result"
    }
   ],
   "source": [
    "df = myDataFrame(create_weird_dataframe())\n",
    "df.normalize_cols()"
   ]
  },
  {
   "cell_type": "markdown",
   "metadata": {},
   "source": [
    "# Challenge 1"
   ]
  },
  {
   "cell_type": "markdown",
   "metadata": {},
   "source": [
    "## Creating a class"
   ]
  },
  {
   "cell_type": "markdown",
   "metadata": {},
   "source": [
    "First of all, let's create a simple class. Name this class `Car`. ([PEP8](https://www.python.org/dev/peps/pep-0008/#class-names) suggests using CamelCase for class names, i.e., using the first letter of each name as upper-case.)\n",
    "\n",
    "That should be as simple as possible. Use the class syntax to create it and its content should be only the \n",
    "```python \n",
    "pass\n",
    "```\n",
    "statement.\n",
    "\n",
    "\n",
    "The `pass` statement is used just as a placeholder. This will be a class that doesn't do anything (yet)."
   ]
  },
  {
   "cell_type": "code",
   "execution_count": 24,
   "metadata": {},
   "outputs": [],
   "source": [
    "# your code here"
   ]
  },
  {
   "cell_type": "code",
   "execution_count": null,
   "metadata": {},
   "outputs": [],
   "source": [
    "class Car:\n",
    "    pass"
   ]
  },
  {
   "cell_type": "code",
   "execution_count": null,
   "metadata": {},
   "outputs": [],
   "source": [
    "my_car = Car()"
   ]
  },
  {
   "cell_type": "markdown",
   "metadata": {},
   "source": [
    "## Let's think of which attributes should a car have\n",
    "\n",
    "Think of attributes that are intrinsic of a car. Think of 5 attributes that all cars have and their possible values. Write down these 5 attributes for later use."
   ]
  },
  {
   "cell_type": "code",
   "execution_count": null,
   "metadata": {},
   "outputs": [],
   "source": [
    "# write the attributes name you've chosen as a comment here."
   ]
  },
  {
   "cell_type": "markdown",
   "metadata": {},
   "source": [
    "\n",
    "We will create the `__init(self,)__` special method. This is the first thing that is run when you instantiate a new object (by calling `Car()` for example).\n",
    "\n",
    "So each object that you are creating will instantly do whatever operation you perfom inside `__init(self,)__`. If you create new attributes over there, it will be accessible as soon as you create it. If you, instead, run some internal methods, it will perform as soon as the variable is created.\n",
    "\n",
    "Let's check that."
   ]
  },
  {
   "cell_type": "markdown",
   "metadata": {},
   "source": [
    "### Create a `__init__(self)` special method inside your `Car` class and then perform a `for loop`  inside of it. \n"
   ]
  },
  {
   "cell_type": "markdown",
   "metadata": {},
   "source": [
    "To see the what happens when you initialize your class when a `__init__(self)` method exists, define this function and plug the following piece of code inside of it.\n",
    "\n",
    "```python\n",
    "from tqdm.auto import tqdm\n",
    "import time\n",
    "\n",
    "for i in tqdm(range(10), desc='__init__ is running, yay'):\n",
    "    time.sleep(.1)\n",
    "```"
   ]
  },
  {
   "cell_type": "code",
   "execution_count": null,
   "metadata": {},
   "outputs": [],
   "source": [
    "# your code here"
   ]
  },
  {
   "cell_type": "code",
   "execution_count": null,
   "metadata": {},
   "outputs": [],
   "source": [
    "class Car:\n",
    "    def __init__(self):\n",
    "        from tqdm.auto import tqdm\n",
    "        import time\n",
    "        \n",
    "        for i in tqdm(range(10), desc='__init__ is running, yay'):\n",
    "            time.sleep(.1)"
   ]
  },
  {
   "cell_type": "markdown",
   "metadata": {},
   "source": [
    "### Afterwards, instantiate your `Car` class and see this beauty."
   ]
  },
  {
   "cell_type": "code",
   "execution_count": null,
   "metadata": {},
   "outputs": [],
   "source": [
    "my_car = Car()"
   ]
  },
  {
   "cell_type": "markdown",
   "metadata": {},
   "source": [
    "## Understanding the self argument"
   ]
  },
  {
   "cell_type": "markdown",
   "metadata": {},
   "source": [
    "Now, below the `for loop` you've created, let's create the attributes of the `Car` class. Remember the attributes you wrote down earlier? Let's put them as arguments of the `__init__(self,)` function.\n",
    "\n",
    "Remember, the first argument of the `__init__(self,)` function should always be the `self` keyword. \n",
    "\n",
    "The `self` argument represents the object itself. That is a way for you to have access to the objects own attribute. \n"
   ]
  },
  {
   "cell_type": "markdown",
   "metadata": {},
   "source": [
    "### First, let's start creating one single attribute of this car."
   ]
  },
  {
   "cell_type": "markdown",
   "metadata": {},
   "source": [
    "Let's say you have chosen `name` as a car attribute (what? can't a car have a name?). \n",
    "\n",
    "If you want your class to receive a specific car name as an argument, you have to put this variable as the argument of the `__init__` function. So, to add `name`, the results of your special function definition would be:\n",
    "\n",
    "```python\n",
    "def __init__(self, name):\n",
    "    pass\n",
    "```\n",
    "\n",
    "Now, when you instantiate your Car class, the syntax would be similar to calling a function (which, by now, you should now that it is what you are effectively doing - you are calling the __init__ method), so what the syntax would be:\n",
    "\n",
    "*Hint: If you don't specify an argument, the python interpreter will complain that your class requires one argument (try that - if you don't try it now, it is not a problem, you'll try in future, even when you don't want to).*\n"
   ]
  },
  {
   "cell_type": "code",
   "execution_count": null,
   "metadata": {},
   "outputs": [],
   "source": [
    "# your code here"
   ]
  },
  {
   "cell_type": "markdown",
   "metadata": {},
   "source": [
    "### Now let's store that new argument\n",
    "\n",
    "By now, you are only receiving the name of the car as an argument, but you are not doing anything specifically with that variable called `name`.\n",
    "\n",
    "Let's store that in the object. That's the first use of the `self` keyword.\n",
    "\n",
    "To store the variable in a way that the user can access via a `car.SOMETHING`, you have to specify that the object itself is receiving the attribute `name` (for example)\n",
    "\n",
    "Then, **create a variable called `name` that receives the argument `name`** (keep in mind that the name of the variable need not necessarily be the same, you could assing the argument `name` to an attribute called `chimpanze` for example).\n",
    "\n",
    "Also **create the other 5 attributes that you previously had in mind**\n"
   ]
  },
  {
   "cell_type": "code",
   "execution_count": null,
   "metadata": {},
   "outputs": [],
   "source": [
    "# your code here"
   ]
  },
  {
   "cell_type": "markdown",
   "metadata": {},
   "source": [
    "### Access the attribute\n",
    "\n",
    "You should now be able to access the object's attribute once you instantiate it as `my_car.name`\n",
    "\n",
    "You can try to write `my_car.<TAB>` to check what attributes or methods your object contains."
   ]
  },
  {
   "cell_type": "code",
   "execution_count": null,
   "metadata": {},
   "outputs": [],
   "source": []
  },
  {
   "cell_type": "markdown",
   "metadata": {},
   "source": [
    "## Understanding special methods"
   ]
  },
  {
   "cell_type": "markdown",
   "metadata": {},
   "source": [
    "Special methods are the ones that start with double underlines (usually called `dunder`), for example the `__init__` method, the `__doc__` method or `__repr__` method (called as `dunder init`, `dunder doc`, `dunder repr`)."
   ]
  },
  {
   "cell_type": "markdown",
   "metadata": {},
   "source": [
    "The `__repr__` method is responsible to show how your class will be displayed on screen when you display it.\n",
    "Let's create a `__repr__(self)` function on our `Car` class that returns the following string below (copy the string below):\n",
    "\n",
    "```python\n",
    "    car = f'''\n",
    "                  ______--------___\n",
    "                 /|             / |\n",
    "      o___________|_\\__________/__|\n",
    "     ]|___     |  |=   ||  =|___  |\"\n",
    "     //   \\\\    |  |____||_///   \\\\|\"\n",
    "    |  X  |\\--------------/|  X  |\\\"\n",
    "     \\___/                  \\___/\n",
    "    '''\n",
    "```\n",
    "\n",
    "Your class should now have two special methods, `__init__` and `__repr__`"
   ]
  },
  {
   "cell_type": "code",
   "execution_count": null,
   "metadata": {},
   "outputs": [],
   "source": [
    "class Car:\n",
    "    \n",
    "    def __init__(self, car_name):\n",
    "        self.car_name = car_name\n",
    "    \n",
    "    def __repr__(self):\n",
    "        \n",
    "        car = f'''\n",
    "                      ______--------___\n",
    "                     /|             / |\n",
    "          o___________|_\\__________/__|\n",
    "         ]|___     |  |=   ||  =|___  |\"\n",
    "         //   \\\\    |  |____||_///   \\\\|\"\n",
    "        |  X  |\\--------------/|  X  |\\\"\n",
    "         \\___/                  \\___/\n",
    "        '''\n",
    "        \n",
    "        return car"
   ]
  },
  {
   "cell_type": "markdown",
   "metadata": {},
   "source": [
    "### Now instantiate your Car class again"
   ]
  },
  {
   "cell_type": "code",
   "execution_count": null,
   "metadata": {},
   "outputs": [],
   "source": [
    "my_car = Car('Jeguinho')"
   ]
  },
  {
   "cell_type": "markdown",
   "metadata": {},
   "source": [
    "### And check what happens when you print your object on screen"
   ]
  },
  {
   "cell_type": "code",
   "execution_count": null,
   "metadata": {},
   "outputs": [],
   "source": [
    "print(my_car)"
   ]
  },
  {
   "cell_type": "markdown",
   "metadata": {},
   "source": [
    "### Now create a simple method to receive and return the `self` variable\n",
    "\n",
    "Create a simple method inside your `class Car` and return `self` the self argument. Name this method `get_itself`."
   ]
  },
  {
   "cell_type": "code",
   "execution_count": null,
   "metadata": {},
   "outputs": [],
   "source": [
    "class Car:\n",
    "    \n",
    "    def __init__(self, car_name):\n",
    "        self.car_name = car_name\n",
    "    \n",
    "    def __repr__(self):\n",
    "        \n",
    "        car = f'''\n",
    "                      ______--------___\n",
    "                     /|             / |\n",
    "          o___________|_\\__________/__|\n",
    "         ]|___     |  |=   ||  =|___  |\"\n",
    "         //   \\\\    |  |____||_///   \\\\|\"\n",
    "        |  X  |\\--------------/|  X  |\\\"\n",
    "         \\___/                  \\___/\n",
    "        '''\n",
    "        \n",
    "        return car\n",
    "    \n",
    "    def get_itself(self):\n",
    "        return self"
   ]
  },
  {
   "cell_type": "markdown",
   "metadata": {},
   "source": [
    "#### Now instantiate the Car class and call `get_itself()`"
   ]
  },
  {
   "cell_type": "code",
   "execution_count": null,
   "metadata": {},
   "outputs": [],
   "source": [
    "my_car = Car('andre')"
   ]
  },
  {
   "cell_type": "code",
   "execution_count": null,
   "metadata": {},
   "outputs": [],
   "source": [
    "my_car.get_itself()"
   ]
  },
  {
   "cell_type": "markdown",
   "metadata": {},
   "source": [
    "This happens because you are print this specific object. "
   ]
  },
  {
   "cell_type": "markdown",
   "metadata": {},
   "source": [
    "# Bonus 1"
   ]
  },
  {
   "cell_type": "markdown",
   "metadata": {},
   "source": [
    "### Now let's parametrize this drawing."
   ]
  },
  {
   "cell_type": "markdown",
   "metadata": {},
   "source": [
    "Change your class to receive the drawing you want to output as a parameter. Modify your __repr__ method to use that parameter instead of the fixed drawing we used upwards."
   ]
  },
  {
   "cell_type": "code",
   "execution_count": null,
   "metadata": {},
   "outputs": [],
   "source": [
    "class Car:\n",
    "    \n",
    "    def __init__(self, car_name, car):\n",
    "        self.car_name = car_name\n",
    "        self.car = car\n",
    "        \n",
    "    def __repr__(self):\n",
    "        \n",
    "        car = self.car\n",
    "        \n",
    "        return car\n",
    "    \n",
    "    def get_itself(self):\n",
    "        return self"
   ]
  },
  {
   "cell_type": "code",
   "execution_count": null,
   "metadata": {},
   "outputs": [],
   "source": [
    "car = f'''\n",
    "              ______--------___\n",
    "             /|             / |\n",
    "  o___________|_\\__________/__|\n",
    " ]|___     |  |=   ||  =|___  |\"\n",
    " //   \\\\    |  |____||_///   \\\\|\"\n",
    "|  X  |\\--------------/|  X  |\\\"\n",
    " \\___/                  \\___/\n",
    "'''\n",
    "\n",
    "my_car = Car(car_name = 'A', car=car)\n",
    "my_car"
   ]
  },
  {
   "cell_type": "code",
   "execution_count": null,
   "metadata": {},
   "outputs": [],
   "source": [
    "car = '''\n",
    "                   _\n",
    " _________________| \\_\n",
    "|   ___    |  ,|   ___`-.\n",
    "|  /   \\   |___/  /   \\  `-.\n",
    "|_| (O) |________| (O) |____|\n",
    "   \\___/          \\___/\n",
    "'''\n",
    "\n",
    "my_car = Car(car_name = 'B', car=car)\n",
    "my_car"
   ]
  },
  {
   "cell_type": "code",
   "execution_count": null,
   "metadata": {},
   "outputs": [],
   "source": []
  },
  {
   "cell_type": "markdown",
   "metadata": {},
   "source": [
    "# Bonus 2"
   ]
  },
  {
   "cell_type": "markdown",
   "metadata": {},
   "source": [
    "## Create a specialized version of a car - an Uber"
   ]
  },
  {
   "cell_type": "markdown",
   "metadata": {},
   "source": [
    "You'll now create a specific version of a car. It contains the same attributes and functions of the class of cars, but it is specifically a Uber."
   ]
  },
  {
   "cell_type": "markdown",
   "metadata": {},
   "source": [
    "### Create a class called `Uber` that inherits from a `Car`"
   ]
  },
  {
   "cell_type": "code",
   "execution_count": null,
   "metadata": {},
   "outputs": [],
   "source": [
    "# your code here"
   ]
  },
  {
   "cell_type": "markdown",
   "metadata": {},
   "source": [
    "### Extending the `Car` class. \n",
    "\n",
    "When you create a new class based on another and create new attributes and methods for it, you are extending it. \n",
    "\n",
    "#### Let's create 2 new attributes that only `Uber cars` have. \n",
    "\n",
    "Create the `category` of the Uber (`Black`, `Platinun`, etc) and one more attribute of your choice."
   ]
  },
  {
   "cell_type": "markdown",
   "metadata": {},
   "source": [
    "#### Let's create a method for this new `Uber` class that calculates the price of the run given the distance in km and time spent (in minutes) in the run. \n",
    "\n",
    "Suppose each km costs `R$ 1,00` and 1 minute costs `R$ 0,50` for `Uber` Black and `R$ 1,20` and 1 minute costs `R$ 0,60` for `Uber`  Platinum.  The final price is the max between the two.\n",
    "\n",
    "```python\n",
    "def get_price(km, time):\n",
    "    ...\n",
    "    return final_price\n",
    "```\n",
    "\n",
    "Then calculate the price of your `Uber` from:\n",
    "\n",
    "1. A `Uber Black` going from Ironhack to Guarulhos Airport (`1h:20min, 30.5km`)\n",
    "1. A `Uber Platinum` going from Ironhack to Guarulhos Airport (`1h:20min, 30.5km`)"
   ]
  },
  {
   "cell_type": "code",
   "execution_count": null,
   "metadata": {},
   "outputs": [],
   "source": [
    "black = Uber(..., category='Black')\n",
    "black.get_price()"
   ]
  },
  {
   "cell_type": "code",
   "execution_count": null,
   "metadata": {
    "scrolled": true
   },
   "outputs": [],
   "source": [
    "platinum = Uber(..., category='Platinum')\n",
    "platinum.get_price()"
   ]
  }
 ],
 "metadata": {
  "kernelspec": {
   "display_name": "Python 3",
   "language": "python",
   "name": "python3"
  },
  "language_info": {
   "codemirror_mode": {
    "name": "ipython",
    "version": 3
   },
   "file_extension": ".py",
   "mimetype": "text/x-python",
   "name": "python",
   "nbconvert_exporter": "python",
   "pygments_lexer": "ipython3",
   "version": "3.8.1"
  },
  "toc": {
   "base_numbering": 1,
   "nav_menu": {},
   "number_sections": true,
   "sideBar": true,
   "skip_h1_title": false,
   "title_cell": "Table of Contents",
   "title_sidebar": "Contents",
   "toc_cell": false,
   "toc_position": {},
   "toc_section_display": true,
   "toc_window_display": false
  }
 },
 "nbformat": 4,
 "nbformat_minor": 2
}
