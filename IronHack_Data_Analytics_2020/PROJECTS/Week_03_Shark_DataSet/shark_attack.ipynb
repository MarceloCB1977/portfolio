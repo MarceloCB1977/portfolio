{
 "cells": [
  {
   "cell_type": "markdown",
   "metadata": {},
   "source": [
    "# Global Shark Attack Incidents Data Analysis\n",
    "\n",
    "Using the data set in <https://www.kaggle.com/teajay/global-shark-attacks/> (Version 7)\n",
    "\n",
    "After cleaning and analyzing the data, we want to answer the following questions:\n",
    "\n",
    "* Attacks per year 1900+ (Total, Fatal, Non Fatal) ?\n",
    "\n",
    "\n",
    "* Relation of provoked and unprovoked attacks/ fatal or non fatal (1900+)\n",
    "\n",
    "\n",
    "* Relation of Man or Woman in Total attacks (1900+) \n"
   ]
  },
  {
   "cell_type": "markdown",
   "metadata": {},
   "source": [
    "## Import and cleaning data set"
   ]
  },
  {
   "cell_type": "markdown",
   "metadata": {},
   "source": [
    "### Import libraries and data set's"
   ]
  },
  {
   "cell_type": "code",
   "execution_count": null,
   "metadata": {},
   "outputs": [],
   "source": [
    "import pandas as pd\n",
    "import numpy as np\n",
    "import requests"
   ]
  },
  {
   "cell_type": "code",
   "execution_count": null,
   "metadata": {},
   "outputs": [],
   "source": [
    "#read dataframe and create a backup\n",
    "df = pd.read_csv('attacks.csv', sep = ',', encoding='latin-1')\n",
    "df_backup = df.copy()"
   ]
  },
  {
   "cell_type": "markdown",
   "metadata": {},
   "source": [
    "### Clean data frame"
   ]
  },
  {
   "cell_type": "markdown",
   "metadata": {},
   "source": [
    "#### work with column names"
   ]
  },
  {
   "cell_type": "code",
   "execution_count": null,
   "metadata": {},
   "outputs": [],
   "source": [
    "columns_name = df.columns\n",
    "# make remove spaces before and after and put all in lower case\n",
    "columns_name = [item.strip().lower() for item in columns_name]\n",
    "# replace spaces for underline\n",
    "columns_name = [item.replace(' ', '_') for item in columns_name]\n",
    "df.columns = columns_name"
   ]
  },
  {
   "cell_type": "code",
   "execution_count": null,
   "metadata": {},
   "outputs": [],
   "source": [
    "df.columns"
   ]
  },
  {
   "cell_type": "markdown",
   "metadata": {},
   "source": [
    "#### Work with duplicate row's /columns with missing values"
   ]
  },
  {
   "cell_type": "code",
   "execution_count": null,
   "metadata": {},
   "outputs": [],
   "source": [
    "#drop duplicate rows\n",
    "df.drop_duplicates(subset =df.columns, inplace = True)\n",
    "df.shape"
   ]
  },
  {
   "cell_type": "code",
   "execution_count": null,
   "metadata": {},
   "outputs": [],
   "source": [
    "#count NaN in each row\n",
    "df['count_missing'] = df.isnull().sum(axis=1)\n",
    "#using a mask to eliminate rows with 20 missing values or more\n",
    "mask = df['count_missing'] < 20\n",
    "df = df.loc[mask,:]\n",
    "#drop column use before\n",
    "df.drop(labels='count_missing', axis=1, inplace=True)\n",
    "df.shape"
   ]
  },
  {
   "cell_type": "code",
   "execution_count": null,
   "metadata": {},
   "outputs": [],
   "source": [
    "#Count missing values in Columns\n",
    "df.isnull().sum()"
   ]
  },
  {
   "cell_type": "code",
   "execution_count": null,
   "metadata": {
    "code_folding": []
   },
   "outputs": [],
   "source": [
    "#look for row's not in column's Unnamed: 22\n",
    "df.loc[~df['unnamed:_22'].isnull(), :]"
   ]
  },
  {
   "cell_type": "code",
   "execution_count": null,
   "metadata": {},
   "outputs": [],
   "source": [
    "#look for row's not in column's Unnamed: 23\n",
    "df.loc[~df['unnamed:_23'].isnull(), :]"
   ]
  },
  {
   "cell_type": "code",
   "execution_count": null,
   "metadata": {
    "scrolled": true
   },
   "outputs": [],
   "source": [
    "#drop columns Unnamed\n",
    "df.drop(labels=['unnamed:_22','unnamed:_23'], axis=1, inplace=True)"
   ]
  },
  {
   "cell_type": "markdown",
   "metadata": {},
   "source": [
    "#### Work with the columns href and href_formula"
   ]
  },
  {
   "cell_type": "code",
   "execution_count": null,
   "metadata": {},
   "outputs": [],
   "source": [
    "#look for equals values\n",
    "(df['href'] == df['href_formula']).value_counts()"
   ]
  },
  {
   "cell_type": "code",
   "execution_count": null,
   "metadata": {},
   "outputs": [],
   "source": [
    "#show the values where href is different than href_formula\n",
    "df.loc[~(df['href'] == df['href_formula']), ['href', 'href_formula']]"
   ]
  },
  {
   "cell_type": "code",
   "execution_count": null,
   "metadata": {
    "code_folding": [],
    "scrolled": false
   },
   "outputs": [],
   "source": [
    "# in the most of cases one column have a link, with a funcion try to see if one column have a good link\n",
    "\n",
    "def clean_href(lst):\n",
    "    \"\"\"\n",
    "    This funcion check if two values of list are equals, if not check if one of the values have a link if response is ok\n",
    "    * In http a status code OK for get request is 200\n",
    "    \"\"\"\n",
    "    x = lst[0]\n",
    "    y = lst[1]\n",
    "    try: \n",
    "        if x == y:\n",
    "            return x\n",
    "        else:\n",
    "            x_code = requests.get(x, verify=True).status_code\n",
    "            if x_code == 200:\n",
    "                return x\n",
    "            else:\n",
    "                y_code = requests.get(y, verify=True).status_code\n",
    "                if y_code == 200:\n",
    "                    return y\n",
    "                else:\n",
    "                    return False\n",
    "    except:\n",
    "        return False\n",
    "# make new column with a list of values from the column href and href_formula\n",
    "df['href_new'] = list(zip(df['href'], df['href_formula']))\n",
    "# apply the function clean_href to the new column\n",
    "df['href_new'] = df['href_new'].apply(clean_href)\n",
    "df['href_new']"
   ]
  },
  {
   "cell_type": "code",
   "execution_count": null,
   "metadata": {},
   "outputs": [],
   "source": [
    "#drop the columns href and href_formula from the df\n",
    "df = df.drop(['href','href_formula'], axis=1)\n",
    "df.head()"
   ]
  },
  {
   "cell_type": "markdown",
   "metadata": {},
   "source": [
    "#### Work with 'Fatal (Y/N)' column"
   ]
  },
  {
   "cell_type": "code",
   "execution_count": null,
   "metadata": {},
   "outputs": [],
   "source": [
    "df['fatal_(y/n)'].unique()"
   ]
  },
  {
   "cell_type": "code",
   "execution_count": null,
   "metadata": {},
   "outputs": [],
   "source": [
    "#remove spaces before and after\n",
    "df['fatal_(y/n)'] = df['fatal_(y/n)'].str.strip()\n",
    "#lower all strings\n",
    "df['fatal_(y/n)'] = df['fatal_(y/n)'].str.lower()\n",
    "df['fatal_(y/n)'].unique()"
   ]
  },
  {
   "cell_type": "code",
   "execution_count": null,
   "metadata": {},
   "outputs": [],
   "source": [
    "#group other responses in missing value\n",
    "df['fatal_(y/n)'] = df['fatal_(y/n)'].apply(lambda x: np.nan if x not in ['y','n'] else x)\n",
    "df['fatal_(y/n)'].unique()"
   ]
  },
  {
   "cell_type": "markdown",
   "metadata": {},
   "source": [
    "#### Work with type column"
   ]
  },
  {
   "cell_type": "code",
   "execution_count": null,
   "metadata": {},
   "outputs": [],
   "source": [
    "df['type'].unique()"
   ]
  },
  {
   "cell_type": "code",
   "execution_count": null,
   "metadata": {},
   "outputs": [],
   "source": [
    "# put all data in lower case\n",
    "df[\"type\"] = df[\"type\"].str.lower()\n",
    "# remove spaces before and after\n",
    "df[\"type\"] = df[\"type\"].str.strip()\n",
    "# classify as unprovoked any boating related\n",
    "df[\"type\"] = df[\"type\"].apply(lambda x: \"unprovoked\" if x in [\"boating\", \"sea disaster\", \"boat\", \"boatomg\"] else x)\n",
    "# set as NaN other types if not provoked or unprovoked\n",
    "df[\"type\"] = df[\"type\"].apply(lambda x: np.nan if x not in [\"provoked\", \"unprovoked\"] else x)\n",
    "\n",
    "df[\"type\"].value_counts(dropna=False)"
   ]
  },
  {
   "cell_type": "markdown",
   "metadata": {},
   "source": [
    "#### Work with 'Sex' column"
   ]
  },
  {
   "cell_type": "code",
   "execution_count": null,
   "metadata": {},
   "outputs": [],
   "source": [
    "df['sex'].unique()"
   ]
  },
  {
   "cell_type": "code",
   "execution_count": null,
   "metadata": {},
   "outputs": [],
   "source": [
    "#remove spaces before and after\n",
    "df['sex'] = df['sex'].str.strip()\n",
    "#lower all strings\n",
    "df['sex'] = df['sex'].str.lower()\n",
    "df['sex'].unique()"
   ]
  },
  {
   "cell_type": "code",
   "execution_count": null,
   "metadata": {},
   "outputs": [],
   "source": [
    "#group other responses in missing value\n",
    "df['sex'] = df['sex'].apply(lambda x: np.nan if x not in ['f','m'] else x)\n",
    "df['sex'].unique()"
   ]
  },
  {
   "cell_type": "markdown",
   "metadata": {},
   "source": [
    "## Answer the questions"
   ]
  },
  {
   "cell_type": "markdown",
   "metadata": {},
   "source": [
    "### Attacks per year 1900+ (Total, Fatal, Non Fatal) ?"
   ]
  },
  {
   "cell_type": "markdown",
   "metadata": {},
   "source": [
    "#### Create a data frame with the values to answer the question"
   ]
  },
  {
   "cell_type": "code",
   "execution_count": null,
   "metadata": {},
   "outputs": [],
   "source": [
    "# create data frame only with columns we want, drop the other columns we don't need to this analysis\n",
    "df_answer_1 = df[['year', 'fatal_(y/n)']]\n",
    "# drop the lines with na\n",
    "df_answer_1 = df_answer_1.dropna()\n",
    "#filter year to 1900 +\n",
    "df_answer_1 = df_answer_1.loc[df_answer_1['year'] >= 1900, :]\n",
    "# create two columns fatals e non_fatals to sum after\n",
    "df_answer_1['fatals'] = np.where(df_answer_1['fatal_(y/n)'] == 'y', True, False)\n",
    "df_answer_1['non_fatals'] = np.where(df_answer_1['fatal_(y/n)'] == 'n', True, False)\n",
    "#drop the original column\n",
    "df_answer_1.drop(labels='fatal_(y/n)', axis=1, inplace = True)\n",
    "#group by year and sum year\n",
    "df_answer_1 = df_answer_1.groupby(by='year', as_index = False).sum()\n",
    "#creating column total, sum of fatals and non_fatals\n",
    "df_answer_1['Total'] = df_answer_1['fatals'] + df_answer_1['non_fatals'] \n",
    "#convert column year to int\n",
    "df_answer_1['year'] =df_answer_1.astype(int)"
   ]
  },
  {
   "cell_type": "markdown",
   "metadata": {},
   "source": [
    "#### Table of result's"
   ]
  },
  {
   "cell_type": "code",
   "execution_count": null,
   "metadata": {},
   "outputs": [],
   "source": [
    "pd.set_option('display.max_rows', 119)\n",
    "df_answer_1"
   ]
  },
  {
   "cell_type": "markdown",
   "metadata": {},
   "source": [
    "#### Plot result's"
   ]
  },
  {
   "cell_type": "code",
   "execution_count": null,
   "metadata": {},
   "outputs": [],
   "source": [
    "df_answer_1.plot(x ='year', y=['fatals','non_fatals'])"
   ]
  },
  {
   "cell_type": "markdown",
   "metadata": {},
   "source": [
    "### Relation of provoked and unprovoked attacks/ fatal or non fatal (1900+)"
   ]
  },
  {
   "cell_type": "markdown",
   "metadata": {},
   "source": [
    "#### Create a data frame with we need to answer the question"
   ]
  },
  {
   "cell_type": "code",
   "execution_count": null,
   "metadata": {},
   "outputs": [],
   "source": [
    "# create data frame only with columns we want, with drop the other columns we don't need to this analyse\n",
    "df_answer_2 = df[['year', 'fatal_(y/n)', 'type']]\n",
    "# drop the lines with na\n",
    "df_answer_2 = df_answer_2.dropna()\n",
    "#filter year to 1900 +\n",
    "df_answer_2 = df_answer_2.loc[df_answer_2['year'] >= 1900, :]\n",
    "# create four columns (fatals_provoked), (fatals_unprovoked), (non_fatals_provoked) and (non_fatals_unprovoked) to sum after\n",
    "df_answer_2['fatals_provoked'] = np.where((df_answer_2['fatal_(y/n)'] == 'y') & (df_answer_2['type'] == 'provoked'), True, False)\n",
    "df_answer_2['fatals_unprovoked'] = np.where((df_answer_2['fatal_(y/n)'] == 'y') & (df_answer_2['type'] == 'unprovoked'), True, False)\n",
    "df_answer_2['non_fatals_provoked'] = np.where((df_answer_2['fatal_(y/n)'] == 'n') & (df_answer_2['type'] == 'provoked'), True, False)\n",
    "df_answer_2['non_fatals_unprovoked'] = np.where((df_answer_2['fatal_(y/n)'] == 'n') & (df_answer_2['type'] == 'unprovoked'), True, False)\n",
    "#drop the column original\n",
    "df_answer_2.drop(labels=['fatal_(y/n)','year','type'] , axis=1, inplace = True)"
   ]
  },
  {
   "cell_type": "markdown",
   "metadata": {},
   "source": [
    "#### Answer with the values "
   ]
  },
  {
   "cell_type": "code",
   "execution_count": null,
   "metadata": {},
   "outputs": [],
   "source": [
    "#the answer with the sum per category\n",
    "total = total.sort_values()\n",
    "total"
   ]
  },
  {
   "cell_type": "code",
   "execution_count": null,
   "metadata": {},
   "outputs": [],
   "source": [
    "#normalize the answer \n",
    "total_perc = total.apply(lambda x: 100*x/total.sum())\n",
    "total_perc = total_perc.sort_values()\n",
    "total_perc"
   ]
  },
  {
   "cell_type": "markdown",
   "metadata": {},
   "source": [
    "#### Plot the answer"
   ]
  },
  {
   "cell_type": "code",
   "execution_count": null,
   "metadata": {
    "scrolled": true
   },
   "outputs": [],
   "source": [
    "total.plot(kind='bar')"
   ]
  },
  {
   "cell_type": "markdown",
   "metadata": {},
   "source": [
    "### Relation of Man or Woman in Total attacks (1900+)"
   ]
  },
  {
   "cell_type": "markdown",
   "metadata": {},
   "source": [
    "#### Create a data frame with we need to answer the question"
   ]
  },
  {
   "cell_type": "code",
   "execution_count": null,
   "metadata": {},
   "outputs": [],
   "source": [
    "# create data frame only with columns we want, with drop the other columns we don't need to this analyse\n",
    "df_answer_3 = df[['year', 'sex']]\n",
    "# drop the lines with na\n",
    "df_answer_3 = df_answer_3.dropna()\n",
    "#filter year to 1900 +\n",
    "df_answer_3 = df_answer_3.loc[df_answer_3['year'] >= 1900, :]\n",
    "#drop the column we don't need\n",
    "df_answer_3.drop(labels='year', axis=1, inplace = True)"
   ]
  },
  {
   "cell_type": "markdown",
   "metadata": {},
   "source": [
    "#### Answer with the values "
   ]
  },
  {
   "cell_type": "code",
   "execution_count": null,
   "metadata": {},
   "outputs": [],
   "source": [
    "total = df_answer_3['sex'].value_counts()\n",
    "total"
   ]
  },
  {
   "cell_type": "code",
   "execution_count": null,
   "metadata": {},
   "outputs": [],
   "source": [
    "#normalize the answer \n",
    "total_perc = total.apply(lambda x: 100*x/total.sum())\n",
    "total_perc = total_perc.sort_values()\n",
    "total_perc"
   ]
  },
  {
   "cell_type": "markdown",
   "metadata": {},
   "source": [
    "#### Plot the answer"
   ]
  },
  {
   "cell_type": "code",
   "execution_count": null,
   "metadata": {},
   "outputs": [],
   "source": [
    "total.plot(kind='bar')"
   ]
  },
  {
   "cell_type": "code",
   "execution_count": null,
   "metadata": {},
   "outputs": [],
   "source": []
  }
 ],
 "metadata": {
  "hide_input": false,
  "kernelspec": {
   "display_name": "Python 3",
   "language": "python",
   "name": "python3"
  },
  "language_info": {
   "codemirror_mode": {
    "name": "ipython",
    "version": 3
   },
   "file_extension": ".py",
   "mimetype": "text/x-python",
   "name": "python",
   "nbconvert_exporter": "python",
   "pygments_lexer": "ipython3",
   "version": "3.8.1"
  },
  "toc": {
   "base_numbering": 1,
   "nav_menu": {},
   "number_sections": true,
   "sideBar": true,
   "skip_h1_title": false,
   "title_cell": "Table of Contents",
   "title_sidebar": "Contents",
   "toc_cell": false,
   "toc_position": {},
   "toc_section_display": true,
   "toc_window_display": false
  },
  "varInspector": {
   "cols": {
    "lenName": 16,
    "lenType": 16,
    "lenVar": 40
   },
   "kernels_config": {
    "python": {
     "delete_cmd_postfix": "",
     "delete_cmd_prefix": "del ",
     "library": "var_list.py",
     "varRefreshCmd": "print(var_dic_list())"
    },
    "r": {
     "delete_cmd_postfix": ") ",
     "delete_cmd_prefix": "rm(",
     "library": "var_list.r",
     "varRefreshCmd": "cat(var_dic_list()) "
    }
   },
   "types_to_exclude": [
    "module",
    "function",
    "builtin_function_or_method",
    "instance",
    "_Feature"
   ],
   "window_display": false
  }
 },
 "nbformat": 4,
 "nbformat_minor": 2
}
