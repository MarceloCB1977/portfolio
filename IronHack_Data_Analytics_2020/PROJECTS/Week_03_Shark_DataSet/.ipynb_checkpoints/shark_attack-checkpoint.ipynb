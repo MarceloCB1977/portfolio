{
 "cells": [
  {
   "cell_type": "markdown",
   "metadata": {},
   "source": [
    "# Global Shark Attack Incidents Data Analysis\n",
    "\n",
    "Using the data set in <https://www.kaggle.com/teajay/global-shark-attacks/> (Version 7)\n",
    "\n",
    "After cleaning and analyzing the data, we want to answer the following questions:\n",
    "\n",
    "* Attacks per year 1900+ (Total, Fatal, Non Fatal) ?\n",
    "\n",
    "\n",
    "* Relation of ocean temperature and shark attack?\n"
   ]
  },
  {
   "cell_type": "markdown",
   "metadata": {},
   "source": [
    "## Import and cleaning data set"
   ]
  },
  {
   "cell_type": "markdown",
   "metadata": {},
   "source": [
    "### Import libraries and data set's"
   ]
  },
  {
   "cell_type": "code",
   "execution_count": 1,
   "metadata": {},
   "outputs": [],
   "source": [
    "import pandas as pd\n",
    "import numpy as np"
   ]
  },
  {
   "cell_type": "code",
   "execution_count": 2,
   "metadata": {},
   "outputs": [],
   "source": [
    "#read dataframe and create a backup\n",
    "df = pd.read_csv('attacks.csv', sep = ',', encoding='latin-1')\n",
    "df_backup = df.copy()"
   ]
  },
  {
   "cell_type": "markdown",
   "metadata": {},
   "source": [
    "### Clean data frame"
   ]
  },
  {
   "cell_type": "markdown",
   "metadata": {},
   "source": [
    "#### work with column names"
   ]
  },
  {
   "cell_type": "code",
   "execution_count": 3,
   "metadata": {},
   "outputs": [],
   "source": [
    "columns_name = df.columns\n",
    "# make remove spaces before and after and put all in lower case\n",
    "columns_name = [item.strip().lower() for item in columns_name]\n",
    "# replace spaces for underline\n",
    "columns_name = [item.replace(' ', '_') for item in columns_name]\n",
    "df.columns = columns_name"
   ]
  },
  {
   "cell_type": "markdown",
   "metadata": {},
   "source": [
    "#### Work with duplicate row's /columns with missing values"
   ]
  },
  {
   "cell_type": "code",
   "execution_count": 4,
   "metadata": {},
   "outputs": [
    {
     "data": {
      "text/html": [
       "<div>\n",
       "<style scoped>\n",
       "    .dataframe tbody tr th:only-of-type {\n",
       "        vertical-align: middle;\n",
       "    }\n",
       "\n",
       "    .dataframe tbody tr th {\n",
       "        vertical-align: top;\n",
       "    }\n",
       "\n",
       "    .dataframe thead th {\n",
       "        text-align: right;\n",
       "    }\n",
       "</style>\n",
       "<table border=\"1\" class=\"dataframe\">\n",
       "  <thead>\n",
       "    <tr style=\"text-align: right;\">\n",
       "      <th></th>\n",
       "      <th>case_number</th>\n",
       "      <th>date</th>\n",
       "      <th>year</th>\n",
       "      <th>type</th>\n",
       "      <th>country</th>\n",
       "      <th>area</th>\n",
       "      <th>location</th>\n",
       "      <th>activity</th>\n",
       "      <th>name</th>\n",
       "      <th>sex</th>\n",
       "      <th>...</th>\n",
       "      <th>species</th>\n",
       "      <th>investigator_or_source</th>\n",
       "      <th>pdf</th>\n",
       "      <th>href_formula</th>\n",
       "      <th>href</th>\n",
       "      <th>case_number.1</th>\n",
       "      <th>case_number.2</th>\n",
       "      <th>original_order</th>\n",
       "      <th>unnamed:_22</th>\n",
       "      <th>unnamed:_23</th>\n",
       "    </tr>\n",
       "  </thead>\n",
       "  <tbody>\n",
       "    <tr>\n",
       "      <th>0</th>\n",
       "      <td>2018.06.25</td>\n",
       "      <td>25-Jun-2018</td>\n",
       "      <td>2018.0</td>\n",
       "      <td>Boating</td>\n",
       "      <td>USA</td>\n",
       "      <td>California</td>\n",
       "      <td>Oceanside, San Diego County</td>\n",
       "      <td>Paddling</td>\n",
       "      <td>Julie Wolfe</td>\n",
       "      <td>F</td>\n",
       "      <td>...</td>\n",
       "      <td>White shark</td>\n",
       "      <td>R. Collier, GSAF</td>\n",
       "      <td>2018.06.25-Wolfe.pdf</td>\n",
       "      <td>http://sharkattackfile.net/spreadsheets/pdf_di...</td>\n",
       "      <td>http://sharkattackfile.net/spreadsheets/pdf_di...</td>\n",
       "      <td>2018.06.25</td>\n",
       "      <td>2018.06.25</td>\n",
       "      <td>6303.0</td>\n",
       "      <td>NaN</td>\n",
       "      <td>NaN</td>\n",
       "    </tr>\n",
       "    <tr>\n",
       "      <th>1</th>\n",
       "      <td>2018.06.18</td>\n",
       "      <td>18-Jun-2018</td>\n",
       "      <td>2018.0</td>\n",
       "      <td>Unprovoked</td>\n",
       "      <td>USA</td>\n",
       "      <td>Georgia</td>\n",
       "      <td>St. Simon Island, Glynn County</td>\n",
       "      <td>Standing</td>\n",
       "      <td>Adyson McNeely</td>\n",
       "      <td>F</td>\n",
       "      <td>...</td>\n",
       "      <td>NaN</td>\n",
       "      <td>K.McMurray, TrackingSharks.com</td>\n",
       "      <td>2018.06.18-McNeely.pdf</td>\n",
       "      <td>http://sharkattackfile.net/spreadsheets/pdf_di...</td>\n",
       "      <td>http://sharkattackfile.net/spreadsheets/pdf_di...</td>\n",
       "      <td>2018.06.18</td>\n",
       "      <td>2018.06.18</td>\n",
       "      <td>6302.0</td>\n",
       "      <td>NaN</td>\n",
       "      <td>NaN</td>\n",
       "    </tr>\n",
       "    <tr>\n",
       "      <th>2</th>\n",
       "      <td>2018.06.09</td>\n",
       "      <td>09-Jun-2018</td>\n",
       "      <td>2018.0</td>\n",
       "      <td>Invalid</td>\n",
       "      <td>USA</td>\n",
       "      <td>Hawaii</td>\n",
       "      <td>Habush, Oahu</td>\n",
       "      <td>Surfing</td>\n",
       "      <td>John Denges</td>\n",
       "      <td>M</td>\n",
       "      <td>...</td>\n",
       "      <td>NaN</td>\n",
       "      <td>K.McMurray, TrackingSharks.com</td>\n",
       "      <td>2018.06.09-Denges.pdf</td>\n",
       "      <td>http://sharkattackfile.net/spreadsheets/pdf_di...</td>\n",
       "      <td>http://sharkattackfile.net/spreadsheets/pdf_di...</td>\n",
       "      <td>2018.06.09</td>\n",
       "      <td>2018.06.09</td>\n",
       "      <td>6301.0</td>\n",
       "      <td>NaN</td>\n",
       "      <td>NaN</td>\n",
       "    </tr>\n",
       "    <tr>\n",
       "      <th>3</th>\n",
       "      <td>2018.06.08</td>\n",
       "      <td>08-Jun-2018</td>\n",
       "      <td>2018.0</td>\n",
       "      <td>Unprovoked</td>\n",
       "      <td>AUSTRALIA</td>\n",
       "      <td>New South Wales</td>\n",
       "      <td>Arrawarra Headland</td>\n",
       "      <td>Surfing</td>\n",
       "      <td>male</td>\n",
       "      <td>M</td>\n",
       "      <td>...</td>\n",
       "      <td>2 m shark</td>\n",
       "      <td>B. Myatt, GSAF</td>\n",
       "      <td>2018.06.08-Arrawarra.pdf</td>\n",
       "      <td>http://sharkattackfile.net/spreadsheets/pdf_di...</td>\n",
       "      <td>http://sharkattackfile.net/spreadsheets/pdf_di...</td>\n",
       "      <td>2018.06.08</td>\n",
       "      <td>2018.06.08</td>\n",
       "      <td>6300.0</td>\n",
       "      <td>NaN</td>\n",
       "      <td>NaN</td>\n",
       "    </tr>\n",
       "    <tr>\n",
       "      <th>4</th>\n",
       "      <td>2018.06.04</td>\n",
       "      <td>04-Jun-2018</td>\n",
       "      <td>2018.0</td>\n",
       "      <td>Provoked</td>\n",
       "      <td>MEXICO</td>\n",
       "      <td>Colima</td>\n",
       "      <td>La Ticla</td>\n",
       "      <td>Free diving</td>\n",
       "      <td>Gustavo Ramos</td>\n",
       "      <td>M</td>\n",
       "      <td>...</td>\n",
       "      <td>Tiger shark, 3m</td>\n",
       "      <td>A .Kipper</td>\n",
       "      <td>2018.06.04-Ramos.pdf</td>\n",
       "      <td>http://sharkattackfile.net/spreadsheets/pdf_di...</td>\n",
       "      <td>http://sharkattackfile.net/spreadsheets/pdf_di...</td>\n",
       "      <td>2018.06.04</td>\n",
       "      <td>2018.06.04</td>\n",
       "      <td>6299.0</td>\n",
       "      <td>NaN</td>\n",
       "      <td>NaN</td>\n",
       "    </tr>\n",
       "  </tbody>\n",
       "</table>\n",
       "<p>5 rows × 24 columns</p>\n",
       "</div>"
      ],
      "text/plain": [
       "  case_number         date    year        type    country             area  \\\n",
       "0  2018.06.25  25-Jun-2018  2018.0     Boating        USA       California   \n",
       "1  2018.06.18  18-Jun-2018  2018.0  Unprovoked        USA          Georgia   \n",
       "2  2018.06.09  09-Jun-2018  2018.0     Invalid        USA           Hawaii   \n",
       "3  2018.06.08  08-Jun-2018  2018.0  Unprovoked  AUSTRALIA  New South Wales   \n",
       "4  2018.06.04  04-Jun-2018  2018.0    Provoked     MEXICO           Colima   \n",
       "\n",
       "                         location     activity             name sex  ...  \\\n",
       "0     Oceanside, San Diego County     Paddling      Julie Wolfe   F  ...   \n",
       "1  St. Simon Island, Glynn County     Standing  Adyson McNeely    F  ...   \n",
       "2                    Habush, Oahu      Surfing      John Denges   M  ...   \n",
       "3              Arrawarra Headland      Surfing             male   M  ...   \n",
       "4                        La Ticla  Free diving   Gustavo Ramos    M  ...   \n",
       "\n",
       "           species          investigator_or_source                       pdf  \\\n",
       "0      White shark                R. Collier, GSAF      2018.06.25-Wolfe.pdf   \n",
       "1              NaN  K.McMurray, TrackingSharks.com    2018.06.18-McNeely.pdf   \n",
       "2              NaN  K.McMurray, TrackingSharks.com     2018.06.09-Denges.pdf   \n",
       "3        2 m shark                  B. Myatt, GSAF  2018.06.08-Arrawarra.pdf   \n",
       "4  Tiger shark, 3m                       A .Kipper      2018.06.04-Ramos.pdf   \n",
       "\n",
       "                                        href_formula  \\\n",
       "0  http://sharkattackfile.net/spreadsheets/pdf_di...   \n",
       "1  http://sharkattackfile.net/spreadsheets/pdf_di...   \n",
       "2  http://sharkattackfile.net/spreadsheets/pdf_di...   \n",
       "3  http://sharkattackfile.net/spreadsheets/pdf_di...   \n",
       "4  http://sharkattackfile.net/spreadsheets/pdf_di...   \n",
       "\n",
       "                                                href case_number.1  \\\n",
       "0  http://sharkattackfile.net/spreadsheets/pdf_di...    2018.06.25   \n",
       "1  http://sharkattackfile.net/spreadsheets/pdf_di...    2018.06.18   \n",
       "2  http://sharkattackfile.net/spreadsheets/pdf_di...    2018.06.09   \n",
       "3  http://sharkattackfile.net/spreadsheets/pdf_di...    2018.06.08   \n",
       "4  http://sharkattackfile.net/spreadsheets/pdf_di...    2018.06.04   \n",
       "\n",
       "  case_number.2 original_order unnamed:_22 unnamed:_23  \n",
       "0    2018.06.25         6303.0         NaN         NaN  \n",
       "1    2018.06.18         6302.0         NaN         NaN  \n",
       "2    2018.06.09         6301.0         NaN         NaN  \n",
       "3    2018.06.08         6300.0         NaN         NaN  \n",
       "4    2018.06.04         6299.0         NaN         NaN  \n",
       "\n",
       "[5 rows x 24 columns]"
      ]
     },
     "execution_count": 4,
     "metadata": {},
     "output_type": "execute_result"
    }
   ],
   "source": [
    "df.head()"
   ]
  },
  {
   "cell_type": "code",
   "execution_count": 5,
   "metadata": {},
   "outputs": [
    {
     "data": {
      "text/plain": [
       "(6312, 24)"
      ]
     },
     "execution_count": 5,
     "metadata": {},
     "output_type": "execute_result"
    }
   ],
   "source": [
    "#drop duplicate rows\n",
    "df.drop_duplicates(subset =df.columns, inplace = True)\n",
    "df.shape"
   ]
  },
  {
   "cell_type": "code",
   "execution_count": 6,
   "metadata": {},
   "outputs": [
    {
     "data": {
      "text/plain": [
       "(6302, 24)"
      ]
     },
     "execution_count": 6,
     "metadata": {},
     "output_type": "execute_result"
    }
   ],
   "source": [
    "#count NaN in each row\n",
    "df['count_missing'] = df.isnull().sum(axis=1)\n",
    "#using a mask to eliminate rows with 20 missing values or more\n",
    "mask = df['count_missing'] < 20\n",
    "df = df.loc[mask,:]\n",
    "#drop column use before\n",
    "df.drop(labels='count_missing', axis=1, inplace=True)\n",
    "df.shape"
   ]
  },
  {
   "cell_type": "code",
   "execution_count": 7,
   "metadata": {},
   "outputs": [
    {
     "data": {
      "text/plain": [
       "case_number                  1\n",
       "date                         0\n",
       "year                         2\n",
       "type                         4\n",
       "country                     50\n",
       "area                       455\n",
       "location                   540\n",
       "activity                   544\n",
       "name                       210\n",
       "sex                        565\n",
       "age                       2831\n",
       "injury                      28\n",
       "fatal_(y/n)                539\n",
       "time                      3354\n",
       "species                   2838\n",
       "investigator_or_source      17\n",
       "pdf                          0\n",
       "href_formula                 1\n",
       "href                         0\n",
       "case_number.1                0\n",
       "case_number.2                0\n",
       "original_order               0\n",
       "unnamed:_22               6301\n",
       "unnamed:_23               6300\n",
       "dtype: int64"
      ]
     },
     "execution_count": 7,
     "metadata": {},
     "output_type": "execute_result"
    }
   ],
   "source": [
    "#Count missing values in Columns\n",
    "df.isnull().sum()"
   ]
  },
  {
   "cell_type": "code",
   "execution_count": 9,
   "metadata": {
    "code_folding": []
   },
   "outputs": [
    {
     "data": {
      "text/html": [
       "<div>\n",
       "<style scoped>\n",
       "    .dataframe tbody tr th:only-of-type {\n",
       "        vertical-align: middle;\n",
       "    }\n",
       "\n",
       "    .dataframe tbody tr th {\n",
       "        vertical-align: top;\n",
       "    }\n",
       "\n",
       "    .dataframe thead th {\n",
       "        text-align: right;\n",
       "    }\n",
       "</style>\n",
       "<table border=\"1\" class=\"dataframe\">\n",
       "  <thead>\n",
       "    <tr style=\"text-align: right;\">\n",
       "      <th></th>\n",
       "      <th>case_number</th>\n",
       "      <th>date</th>\n",
       "      <th>year</th>\n",
       "      <th>type</th>\n",
       "      <th>country</th>\n",
       "      <th>area</th>\n",
       "      <th>location</th>\n",
       "      <th>activity</th>\n",
       "      <th>name</th>\n",
       "      <th>sex</th>\n",
       "      <th>...</th>\n",
       "      <th>species</th>\n",
       "      <th>investigator_or_source</th>\n",
       "      <th>pdf</th>\n",
       "      <th>href_formula</th>\n",
       "      <th>href</th>\n",
       "      <th>case_number.1</th>\n",
       "      <th>case_number.2</th>\n",
       "      <th>original_order</th>\n",
       "      <th>unnamed:_22</th>\n",
       "      <th>unnamed:_23</th>\n",
       "    </tr>\n",
       "  </thead>\n",
       "  <tbody>\n",
       "    <tr>\n",
       "      <th>1478</th>\n",
       "      <td>2006.05.27</td>\n",
       "      <td>27-May-2006</td>\n",
       "      <td>2006.0</td>\n",
       "      <td>Unprovoked</td>\n",
       "      <td>USA</td>\n",
       "      <td>Hawaii</td>\n",
       "      <td>North Shore, O'ahu</td>\n",
       "      <td>Surfing</td>\n",
       "      <td>Bret Desmond</td>\n",
       "      <td>M</td>\n",
       "      <td>...</td>\n",
       "      <td>NaN</td>\n",
       "      <td>R. Collier</td>\n",
       "      <td>2006.05.27-Desmond.pdf</td>\n",
       "      <td>http://sharkattackfile.net/spreadsheets/pdf_di...</td>\n",
       "      <td>http://sharkattackfile.net/spreadsheets/pdf_di...</td>\n",
       "      <td>2006.05.27</td>\n",
       "      <td>2006.05.27</td>\n",
       "      <td>4825.0</td>\n",
       "      <td>stopped here</td>\n",
       "      <td>NaN</td>\n",
       "    </tr>\n",
       "  </tbody>\n",
       "</table>\n",
       "<p>1 rows × 24 columns</p>\n",
       "</div>"
      ],
      "text/plain": [
       "     case_number         date    year        type country    area  \\\n",
       "1478  2006.05.27  27-May-2006  2006.0  Unprovoked     USA  Hawaii   \n",
       "\n",
       "                location activity          name sex  ... species  \\\n",
       "1478  North Shore, O'ahu  Surfing  Bret Desmond   M  ...     NaN   \n",
       "\n",
       "     investigator_or_source                     pdf  \\\n",
       "1478             R. Collier  2006.05.27-Desmond.pdf   \n",
       "\n",
       "                                           href_formula  \\\n",
       "1478  http://sharkattackfile.net/spreadsheets/pdf_di...   \n",
       "\n",
       "                                                   href case_number.1  \\\n",
       "1478  http://sharkattackfile.net/spreadsheets/pdf_di...    2006.05.27   \n",
       "\n",
       "     case_number.2 original_order   unnamed:_22 unnamed:_23  \n",
       "1478    2006.05.27         4825.0  stopped here         NaN  \n",
       "\n",
       "[1 rows x 24 columns]"
      ]
     },
     "execution_count": 9,
     "metadata": {},
     "output_type": "execute_result"
    }
   ],
   "source": [
    "#look for row's not in column's Unnamed: 22\n",
    "df.loc[~df['unnamed:_22'].isnull(), :]"
   ]
  },
  {
   "cell_type": "code",
   "execution_count": 10,
   "metadata": {},
   "outputs": [
    {
     "data": {
      "text/html": [
       "<div>\n",
       "<style scoped>\n",
       "    .dataframe tbody tr th:only-of-type {\n",
       "        vertical-align: middle;\n",
       "    }\n",
       "\n",
       "    .dataframe tbody tr th {\n",
       "        vertical-align: top;\n",
       "    }\n",
       "\n",
       "    .dataframe thead th {\n",
       "        text-align: right;\n",
       "    }\n",
       "</style>\n",
       "<table border=\"1\" class=\"dataframe\">\n",
       "  <thead>\n",
       "    <tr style=\"text-align: right;\">\n",
       "      <th></th>\n",
       "      <th>case_number</th>\n",
       "      <th>date</th>\n",
       "      <th>year</th>\n",
       "      <th>type</th>\n",
       "      <th>country</th>\n",
       "      <th>area</th>\n",
       "      <th>location</th>\n",
       "      <th>activity</th>\n",
       "      <th>name</th>\n",
       "      <th>sex</th>\n",
       "      <th>...</th>\n",
       "      <th>species</th>\n",
       "      <th>investigator_or_source</th>\n",
       "      <th>pdf</th>\n",
       "      <th>href_formula</th>\n",
       "      <th>href</th>\n",
       "      <th>case_number.1</th>\n",
       "      <th>case_number.2</th>\n",
       "      <th>original_order</th>\n",
       "      <th>unnamed:_22</th>\n",
       "      <th>unnamed:_23</th>\n",
       "    </tr>\n",
       "  </thead>\n",
       "  <tbody>\n",
       "    <tr>\n",
       "      <th>4415</th>\n",
       "      <td>1952.03.30</td>\n",
       "      <td>30-Mar-1952</td>\n",
       "      <td>1952.0</td>\n",
       "      <td>Unprovoked</td>\n",
       "      <td>NETHERLANDS ANTILLES</td>\n",
       "      <td>Curacao</td>\n",
       "      <td>NaN</td>\n",
       "      <td>Went to aid of child being menaced by the shark</td>\n",
       "      <td>A.J. Eggink</td>\n",
       "      <td>M</td>\n",
       "      <td>...</td>\n",
       "      <td>Bull shark, 2.7 m [9'] was captured &amp; dragged ...</td>\n",
       "      <td>J. Randall, p.352 in Sharks &amp; Survival; H.D. B...</td>\n",
       "      <td>1952.03.30-Eggink.pdf</td>\n",
       "      <td>http://sharkattackfile.net/spreadsheets/pdf_di...</td>\n",
       "      <td>http://sharkattackfile.net/spreadsheets/pdf_di...</td>\n",
       "      <td>1952.03.30</td>\n",
       "      <td>1952.03.30</td>\n",
       "      <td>1888.0</td>\n",
       "      <td>NaN</td>\n",
       "      <td>Teramo</td>\n",
       "    </tr>\n",
       "    <tr>\n",
       "      <th>5840</th>\n",
       "      <td>1878.09.14.R</td>\n",
       "      <td>Reported 14-Sep-1878</td>\n",
       "      <td>1878.0</td>\n",
       "      <td>Provoked</td>\n",
       "      <td>USA</td>\n",
       "      <td>Connecticut</td>\n",
       "      <td>Branford, New Haven County</td>\n",
       "      <td>Fishing</td>\n",
       "      <td>Captain Pattison</td>\n",
       "      <td>M</td>\n",
       "      <td>...</td>\n",
       "      <td>NaN</td>\n",
       "      <td>St. Joseph Herald, 9/14/1878</td>\n",
       "      <td>1878.09.14.R-Pattison.pdf</td>\n",
       "      <td>http://sharkattackfile.net/spreadsheets/pdf_di...</td>\n",
       "      <td>http://sharkattackfile.net/spreadsheets/pdf_di...</td>\n",
       "      <td>1878.09.14.R</td>\n",
       "      <td>1878.09.14.R</td>\n",
       "      <td>463.0</td>\n",
       "      <td>NaN</td>\n",
       "      <td>change filename</td>\n",
       "    </tr>\n",
       "  </tbody>\n",
       "</table>\n",
       "<p>2 rows × 24 columns</p>\n",
       "</div>"
      ],
      "text/plain": [
       "       case_number                  date    year        type  \\\n",
       "4415    1952.03.30           30-Mar-1952  1952.0  Unprovoked   \n",
       "5840  1878.09.14.R  Reported 14-Sep-1878  1878.0    Provoked   \n",
       "\n",
       "                   country         area                    location  \\\n",
       "4415  NETHERLANDS ANTILLES      Curacao                         NaN   \n",
       "5840                   USA  Connecticut  Branford, New Haven County   \n",
       "\n",
       "                                             activity              name sex  \\\n",
       "4415  Went to aid of child being menaced by the shark       A.J. Eggink   M   \n",
       "5840                                          Fishing  Captain Pattison   M   \n",
       "\n",
       "      ...                                            species  \\\n",
       "4415  ...  Bull shark, 2.7 m [9'] was captured & dragged ...   \n",
       "5840  ...                                                NaN   \n",
       "\n",
       "                                 investigator_or_source  \\\n",
       "4415  J. Randall, p.352 in Sharks & Survival; H.D. B...   \n",
       "5840                       St. Joseph Herald, 9/14/1878   \n",
       "\n",
       "                            pdf  \\\n",
       "4415      1952.03.30-Eggink.pdf   \n",
       "5840  1878.09.14.R-Pattison.pdf   \n",
       "\n",
       "                                           href_formula  \\\n",
       "4415  http://sharkattackfile.net/spreadsheets/pdf_di...   \n",
       "5840  http://sharkattackfile.net/spreadsheets/pdf_di...   \n",
       "\n",
       "                                                   href case_number.1  \\\n",
       "4415  http://sharkattackfile.net/spreadsheets/pdf_di...    1952.03.30   \n",
       "5840  http://sharkattackfile.net/spreadsheets/pdf_di...  1878.09.14.R   \n",
       "\n",
       "     case_number.2 original_order unnamed:_22      unnamed:_23  \n",
       "4415    1952.03.30         1888.0         NaN           Teramo  \n",
       "5840  1878.09.14.R          463.0         NaN  change filename  \n",
       "\n",
       "[2 rows x 24 columns]"
      ]
     },
     "execution_count": 10,
     "metadata": {},
     "output_type": "execute_result"
    }
   ],
   "source": [
    "#look for row's not in column's Unnamed: 23\n",
    "df.loc[~df['unnamed:_23'].isnull(), :]"
   ]
  },
  {
   "cell_type": "code",
   "execution_count": 11,
   "metadata": {
    "scrolled": true
   },
   "outputs": [],
   "source": [
    "#drop columns Unnamed\n",
    "df.drop(labels=['unnamed:_22','unnamed:_23'], axis=1, inplace=True)"
   ]
  },
  {
   "cell_type": "markdown",
   "metadata": {},
   "source": [
    "#### Work with 'Fatal (Y/N)' column"
   ]
  },
  {
   "cell_type": "code",
   "execution_count": 12,
   "metadata": {},
   "outputs": [
    {
     "data": {
      "text/plain": [
       "array(['N', 'Y', nan, 'M', 'UNKNOWN', '2017', ' N', 'N ', 'y'],\n",
       "      dtype=object)"
      ]
     },
     "execution_count": 12,
     "metadata": {},
     "output_type": "execute_result"
    }
   ],
   "source": [
    "df['fatal_(y/n)'].unique()"
   ]
  },
  {
   "cell_type": "code",
   "execution_count": 13,
   "metadata": {},
   "outputs": [
    {
     "data": {
      "text/plain": [
       "array(['n', 'y', nan, 'm', 'unknown', '2017'], dtype=object)"
      ]
     },
     "execution_count": 13,
     "metadata": {},
     "output_type": "execute_result"
    }
   ],
   "source": [
    "#remove spaces before and after\n",
    "df['fatal_(y/n)'] = df['fatal_(y/n)'].str.strip()\n",
    "#lower all strings\n",
    "df['fatal_(y/n)'] = df['fatal_(y/n)'].str.lower()\n",
    "df['fatal_(y/n)'].unique()"
   ]
  },
  {
   "cell_type": "code",
   "execution_count": 74,
   "metadata": {},
   "outputs": [
    {
     "data": {
      "text/plain": [
       "array(['n', 'y', nan], dtype=object)"
      ]
     },
     "execution_count": 74,
     "metadata": {},
     "output_type": "execute_result"
    }
   ],
   "source": [
    "#group other responses in missing value\n",
    "df['fatal_(y/n)'] = df['fatal_(y/n)'].apply(lambda x: np.nan if x not in ['y','n'] else x)\n",
    "df['fatal_(y/n)'].unique()"
   ]
  },
  {
   "cell_type": "markdown",
   "metadata": {},
   "source": [
    "#### Work with 'Sex' column"
   ]
  },
  {
   "cell_type": "code",
   "execution_count": 75,
   "metadata": {},
   "outputs": [
    {
     "data": {
      "text/plain": [
       "array(['F', 'M', nan, 'M ', 'lli', 'N', '.'], dtype=object)"
      ]
     },
     "execution_count": 75,
     "metadata": {},
     "output_type": "execute_result"
    }
   ],
   "source": [
    "df['sex'].unique()"
   ]
  },
  {
   "cell_type": "code",
   "execution_count": 76,
   "metadata": {},
   "outputs": [
    {
     "data": {
      "text/plain": [
       "array(['f', 'm', nan, 'lli', 'n', '.'], dtype=object)"
      ]
     },
     "execution_count": 76,
     "metadata": {},
     "output_type": "execute_result"
    }
   ],
   "source": [
    "#remove spaces before and after\n",
    "df['sex'] = df['sex'].str.strip()\n",
    "#lower all strings\n",
    "df['sex'] = df['sex'].str.lower()\n",
    "df['sex'].unique()"
   ]
  },
  {
   "cell_type": "code",
   "execution_count": 77,
   "metadata": {},
   "outputs": [
    {
     "data": {
      "text/plain": [
       "array(['f', 'm', nan], dtype=object)"
      ]
     },
     "execution_count": 77,
     "metadata": {},
     "output_type": "execute_result"
    }
   ],
   "source": [
    "#group other responses in missing value\n",
    "df['sex'] = df['sex'].apply(lambda x: np.nan if x not in ['f','m'] else x)\n",
    "df['sex'].unique()"
   ]
  },
  {
   "cell_type": "markdown",
   "metadata": {},
   "source": [
    "## Answer the questions"
   ]
  },
  {
   "cell_type": "code",
   "execution_count": 113,
   "metadata": {},
   "outputs": [
    {
     "data": {
      "text/html": [
       "<div>\n",
       "<style scoped>\n",
       "    .dataframe tbody tr th:only-of-type {\n",
       "        vertical-align: middle;\n",
       "    }\n",
       "\n",
       "    .dataframe tbody tr th {\n",
       "        vertical-align: top;\n",
       "    }\n",
       "\n",
       "    .dataframe thead th {\n",
       "        text-align: right;\n",
       "    }\n",
       "</style>\n",
       "<table border=\"1\" class=\"dataframe\">\n",
       "  <thead>\n",
       "    <tr style=\"text-align: right;\">\n",
       "      <th></th>\n",
       "      <th>year</th>\n",
       "      <th>fatals</th>\n",
       "      <th>non_fatals</th>\n",
       "      <th>Total</th>\n",
       "    </tr>\n",
       "  </thead>\n",
       "  <tbody>\n",
       "    <tr>\n",
       "      <th>0</th>\n",
       "      <td>1900</td>\n",
       "      <td>3.0</td>\n",
       "      <td>7.0</td>\n",
       "      <td>10.0</td>\n",
       "    </tr>\n",
       "    <tr>\n",
       "      <th>1</th>\n",
       "      <td>1901</td>\n",
       "      <td>3.0</td>\n",
       "      <td>4.0</td>\n",
       "      <td>7.0</td>\n",
       "    </tr>\n",
       "    <tr>\n",
       "      <th>2</th>\n",
       "      <td>1902</td>\n",
       "      <td>5.0</td>\n",
       "      <td>8.0</td>\n",
       "      <td>13.0</td>\n",
       "    </tr>\n",
       "    <tr>\n",
       "      <th>3</th>\n",
       "      <td>1903</td>\n",
       "      <td>8.0</td>\n",
       "      <td>2.0</td>\n",
       "      <td>10.0</td>\n",
       "    </tr>\n",
       "    <tr>\n",
       "      <th>4</th>\n",
       "      <td>1904</td>\n",
       "      <td>10.0</td>\n",
       "      <td>3.0</td>\n",
       "      <td>13.0</td>\n",
       "    </tr>\n",
       "    <tr>\n",
       "      <th>...</th>\n",
       "      <td>...</td>\n",
       "      <td>...</td>\n",
       "      <td>...</td>\n",
       "      <td>...</td>\n",
       "    </tr>\n",
       "    <tr>\n",
       "      <th>114</th>\n",
       "      <td>2014</td>\n",
       "      <td>7.0</td>\n",
       "      <td>111.0</td>\n",
       "      <td>118.0</td>\n",
       "    </tr>\n",
       "    <tr>\n",
       "      <th>115</th>\n",
       "      <td>2015</td>\n",
       "      <td>9.0</td>\n",
       "      <td>121.0</td>\n",
       "      <td>130.0</td>\n",
       "    </tr>\n",
       "    <tr>\n",
       "      <th>116</th>\n",
       "      <td>2016</td>\n",
       "      <td>5.0</td>\n",
       "      <td>113.0</td>\n",
       "      <td>118.0</td>\n",
       "    </tr>\n",
       "    <tr>\n",
       "      <th>117</th>\n",
       "      <td>2017</td>\n",
       "      <td>8.0</td>\n",
       "      <td>115.0</td>\n",
       "      <td>123.0</td>\n",
       "    </tr>\n",
       "    <tr>\n",
       "      <th>118</th>\n",
       "      <td>2018</td>\n",
       "      <td>1.0</td>\n",
       "      <td>51.0</td>\n",
       "      <td>52.0</td>\n",
       "    </tr>\n",
       "  </tbody>\n",
       "</table>\n",
       "<p>119 rows × 4 columns</p>\n",
       "</div>"
      ],
      "text/plain": [
       "     year  fatals  non_fatals  Total\n",
       "0    1900     3.0         7.0   10.0\n",
       "1    1901     3.0         4.0    7.0\n",
       "2    1902     5.0         8.0   13.0\n",
       "3    1903     8.0         2.0   10.0\n",
       "4    1904    10.0         3.0   13.0\n",
       "..    ...     ...         ...    ...\n",
       "114  2014     7.0       111.0  118.0\n",
       "115  2015     9.0       121.0  130.0\n",
       "116  2016     5.0       113.0  118.0\n",
       "117  2017     8.0       115.0  123.0\n",
       "118  2018     1.0        51.0   52.0\n",
       "\n",
       "[119 rows x 4 columns]"
      ]
     },
     "execution_count": 113,
     "metadata": {},
     "output_type": "execute_result"
    }
   ],
   "source": [
    "# create data frame only with columns we want, with drop the other columns we don't need to this analyse\n",
    "df_answer_1 = df.drop(['date','case_number','type', 'country', 'area', 'location',\n",
    "       'activity', 'name', 'sex', 'age', 'injury','time',\n",
    "       'species', 'investigator_or_source', 'pdf', 'href_formula', 'href',\n",
    "       'case_number.1', 'case_number.2', 'original_order'], axis =1)\n",
    "# drop the lines with na\n",
    "df_answer_1.dropna(inplace=True)\n",
    "#filter year to 1900 +\n",
    "df_answer_1 = df_answer_1.loc[df_answer_1['year'] >= 1900, :]\n",
    "# create two columns fatals e non_fatals to sum after\n",
    "df_answer_1['fatals'] = np.where(df_answer_1['fatal_(y/n)'] == 'y', True, False)\n",
    "df_answer_1['non_fatals'] = np.where(df_answer_1['fatal_(y/n)'] == 'n', True, False)\n",
    "#drop the column original\n",
    "df_answer_1.drop(labels='fatal_(y/n)', axis=1, inplace = True)\n",
    "#group by year and sum year\n",
    "df_answer_1 = df_answer_1.groupby(by='year', as_index = False).sum()\n",
    "#creating column total, sum of fatals and non_fatals\n",
    "df_answer_1['Total'] = df_answer_1['fatals'] + df_answer_1['non_fatals'] \n",
    "#convert column year to int\n",
    "df_answer_1['year'] =df_answer_1.astype(int)\n",
    "df_answer_1"
   ]
  }
 ],
 "metadata": {
  "hide_input": false,
  "kernelspec": {
   "display_name": "Python 3",
   "language": "python",
   "name": "python3"
  },
  "language_info": {
   "codemirror_mode": {
    "name": "ipython",
    "version": 3
   },
   "file_extension": ".py",
   "mimetype": "text/x-python",
   "name": "python",
   "nbconvert_exporter": "python",
   "pygments_lexer": "ipython3",
   "version": "3.8.1"
  },
  "toc": {
   "base_numbering": 1,
   "nav_menu": {},
   "number_sections": true,
   "sideBar": true,
   "skip_h1_title": false,
   "title_cell": "Table of Contents",
   "title_sidebar": "Contents",
   "toc_cell": false,
   "toc_position": {},
   "toc_section_display": true,
   "toc_window_display": false
  },
  "varInspector": {
   "cols": {
    "lenName": 16,
    "lenType": 16,
    "lenVar": 40
   },
   "kernels_config": {
    "python": {
     "delete_cmd_postfix": "",
     "delete_cmd_prefix": "del ",
     "library": "var_list.py",
     "varRefreshCmd": "print(var_dic_list())"
    },
    "r": {
     "delete_cmd_postfix": ") ",
     "delete_cmd_prefix": "rm(",
     "library": "var_list.r",
     "varRefreshCmd": "cat(var_dic_list()) "
    }
   },
   "types_to_exclude": [
    "module",
    "function",
    "builtin_function_or_method",
    "instance",
    "_Feature"
   ],
   "window_display": false
  }
 },
 "nbformat": 4,
 "nbformat_minor": 2
}
