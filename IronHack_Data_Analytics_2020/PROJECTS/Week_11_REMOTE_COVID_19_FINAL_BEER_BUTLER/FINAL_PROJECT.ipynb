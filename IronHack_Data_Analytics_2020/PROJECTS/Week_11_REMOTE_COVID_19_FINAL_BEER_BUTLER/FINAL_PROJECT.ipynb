{
 "cells": [
  {
   "cell_type": "code",
   "execution_count": 1,
   "metadata": {
    "ExecuteTime": {
     "end_time": "2020-05-20T17:01:39.228860Z",
     "start_time": "2020-05-20T17:01:37.945574Z"
    }
   },
   "outputs": [],
   "source": [
    "import pandas as pd\n",
    "import numpy as np\n",
    "from bs4 import BeautifulSoup\n",
    "import requests"
   ]
  },
  {
   "cell_type": "markdown",
   "metadata": {},
   "source": [
    "## - Creating the DataSet"
   ]
  },
  {
   "cell_type": "markdown",
   "metadata": {
    "ExecuteTime": {
     "end_time": "2020-05-15T16:24:01.692518Z",
     "start_time": "2020-05-15T16:24:01.686523Z"
    }
   },
   "source": [
    "#### Typing the informatio from PDF file 'Beer Periodic Table'"
   ]
  },
  {
   "cell_type": "code",
   "execution_count": 2,
   "metadata": {
    "ExecuteTime": {
     "end_time": "2020-05-20T17:01:40.691440Z",
     "start_time": "2020-05-20T17:01:40.555520Z"
    }
   },
   "outputs": [],
   "source": [
    "beers = {'style_name':'Berliner weisse', 'style_key':'I', 'style_number':1, 'ABV_min':2.5, 'ABV_max':3.6, 'IBU_min':3, 'IBU_max':12, 'SRM_min':2, 'SRM_max':4,\n",
    "         'style_name':'Belgian white', 'style_key':'I', 'style_number':4, 'ABV_min':4.5, 'ABV_max':5.5, 'IBU_min':15, 'IBU_max':28, 'SRM_min':2, 'SRM_max':4,\n",
    "         'style_name':'American wheat', 'style_key':'I', 'style_number':7, 'ABV_min':3.5, 'ABV_max':5.0, 'IBU_min':5, 'IBU_max':20, 'SRM_min':2, 'SRM_max':8,\n",
    "         'style_name':'Weizenbier', 'style_key':'I', 'style_number':14, 'ABV_min':4.3, 'ABV_max':5.6, 'IBU_min':8, 'IBU_max':15, 'SRM_min':3, 'SRM_max':9,\n",
    "         'style_name':'Dunkelweizen', 'style_key':'I', 'style_number':27, 'ABV_min':4.5, 'ABV_max':6.0, 'IBU_min':10, 'IBU_max':15, 'SRM_min':17, 'SRM_max':23,\n",
    "         'style_name':'Weizenbock', 'style_key':'I', 'style_number':41, 'ABV_min':6.5, 'ABV_max':9.6, 'IBU_min':12, 'IBU_max':25, 'SRM_min':10, 'SRM_max':30,\n",
    "         'style_name':'Lambic', 'style_key':'II', 'style_number':2, 'ABV_min':4.7, 'ABV_max':6.4, 'IBU_min':5, 'IBU_max':15, 'SRM_min':4, 'SRM_max':15,\n",
    "         'style_name':'Gueuze', 'style_key':'II', 'style_number':5, 'ABV_min':4.7, 'ABV_max':6.4, 'IBU_min':5, 'IBU_max':15, 'SRM_min':4, 'SRM_max':15,\n",
    "         'style_name':'Faro', 'style_key':'II', 'style_number':8, 'ABV_min':4.5, 'ABV_max':5.5, 'IBU_min':5, 'IBU_max':15, 'SRM_min':4, 'SRM_max':15,\n",
    "         'style_name':'Fruit beer', 'style_key':'II', 'style_number':15, 'ABV_min':4.7, 'ABV_max':7.0, 'IBU_min':15, 'IBU_max':21, 'SRM_min':-1, 'SRM_max':-1,\n",
    "         'style_name':'Flanders red', 'style_key':'II', 'style_number':28, 'ABV_min':4.0, 'ABV_max':5.8, 'IBU_min':14, 'IBU_max':25, 'SRM_min':10, 'SRM_max':16,\n",
    "         'style_name':'Oud bruin', 'style_key':'II', 'style_number':42, 'ABV_min':4.0, 'ABV_max':6.5, 'IBU_min':14, 'IBU_max':30, 'SRM_min':12, 'SRM_max':20,\n",
    "         'style_name':'Belgian gold ale', 'style_key':'III', 'style_number':3, 'ABV_min':7.0, 'ABV_max':9.0, 'IBU_min':25, 'IBU_max':35, 'SRM_min':4, 'SRM_max':6,\n",
    "         'style_name':'Tripel', 'style_key':'III', 'style_number':6, 'ABV_min':7.0, 'ABV_max':10.0, 'IBU_min':20, 'IBU_max':30, 'SRM_min':4, 'SRM_max':7,\n",
    "         'style_name':'Saison', 'style_key':'III', 'style_number':9, 'ABV_min':4.5, 'ABV_max':8.1, 'IBU_min':25, 'IBU_max':40, 'SRM_min':4, 'SRM_max':10,\n",
    "         'style_name':'Belgian pale ale', 'style_key':'III', 'style_number':16, 'ABV_min':3.9, 'ABV_max':5.6, 'IBU_min':20, 'IBU_max':35, 'SRM_min':4, 'SRM_max':14,\n",
    "         'style_name':'Belgian dark ale', 'style_key':'III', 'style_number':29, 'ABV_min':7.0, 'ABV_max':12.0, 'IBU_min':25, 'IBU_max':40, 'SRM_min':7, 'SRM_max':20,\n",
    "         'style_name':'Dubbel', 'style_key':'III', 'style_number':43, 'ABV_min':3.2, 'ABV_max':8.0, 'IBU_min':20, 'IBU_max':25, 'SRM_min':10, 'SRM_max':20,\n",
    "         'style_name':'Pale ale', 'style_key':'IV', 'style_number':10, 'ABV_min':4.5, 'ABV_max':5.5, 'IBU_min':20, 'IBU_max':40, 'SRM_min':4, 'SRM_max':11,\n",
    "         'style_name':'American pale ale', 'style_key':'IV', 'style_number':17, 'ABV_min':4.5, 'ABV_max':5.7, 'IBU_min':20, 'IBU_max':40, 'SRM_min':4, 'SRM_max':11,\n",
    "         'style_name':'India pale ale', 'style_key':'IV', 'style_number':30, 'ABV_min':5.1, 'ABV_max':7.6, 'IBU_min':40, 'IBU_max':60, 'SRM_min':8, 'SRM_max':14,\n",
    "         'style_name':'American amber ale', 'style_key':'IV', 'style_number':44, 'ABV_min':4.5, 'ABV_max':5.7, 'IBU_min':20, 'IBU_max':40, 'SRM_min':11, 'SRM_max':18,\n",
    "         'style_name':'Ordinary bitter', 'style_key':'V', 'style_number':18, 'ABV_min':3.0, 'ABV_max':3.8, 'IBU_min':20, 'IBU_max':35, 'SRM_min':6, 'SRM_max':12,\n",
    "         'style_name':'Special bitter', 'style_key':'V', 'style_number':31, 'ABV_min':3.7, 'ABV_max':4.8, 'IBU_min':25, 'IBU_max':40, 'SRM_min':12, 'SRM_max':14,\n",
    "         'style_name':'Extra special bitter', 'style_key':'V', 'style_number':45, 'ABV_min':3.7, 'ABV_max':4.8, 'IBU_min':30, 'IBU_max':45, 'SRM_min':12, 'SRM_max':14,\n",
    "         'style_name':'Scottish light 60/-', 'style_key':'VI', 'style_number':19, 'ABV_min':2.8, 'ABV_max':4.0, 'IBU_min':9, 'IBU_max':20, 'SRM_min':8, 'SRM_max':17,\n",
    "         'style_name':'Scottish heavy 70/-', 'style_key':'VI', 'style_number':32, 'ABV_min':3.5, 'ABV_max':4.1, 'IBU_min':12, 'IBU_max':25, 'SRM_min':10, 'SRM_max':19,\n",
    "         'style_name':'Scottish Export 80/-', 'style_key':'VI', 'style_number':46, 'ABV_min':4.0, 'ABV_max':4.9, 'IBU_min':15, 'IBU_max':36, 'SRM_min':10, 'SRM_max':19,\n",
    "         'style_name':'English mild', 'style_key':'VII', 'style_number':20, 'ABV_min':2.5, 'ABV_max':4.1, 'IBU_min':10, 'IBU_max':24, 'SRM_min':10, 'SRM_max':25,\n",
    "         'style_name':'American brown', 'style_key':'VII', 'style_number':33, 'ABV_min':4.2, 'ABV_max':6.0, 'IBU_min':25, 'IBU_max':60, 'SRM_min':15, 'SRM_max':22,\n",
    "         'style_name':'English brown', 'style_key':'VII', 'style_number':47, 'ABV_min':3.5, 'ABV_max':6.0, 'IBU_min':15, 'IBU_max':25, 'SRM_min':15, 'SRM_max':30,\n",
    "         'style_name':'Brown porter', 'style_key':'VIII', 'style_number':34, 'ABV_min':3.8, 'ABV_max':5.2, 'IBU_min':20, 'IBU_max':30, 'SRM_min':20, 'SRM_max':35,\n",
    "         'style_name':'Robust porter', 'style_key':'VIII', 'style_number':48, 'ABV_min':4.8, 'ABV_max':6.0, 'IBU_min':25, 'IBU_max':45, 'SRM_min':30, 'SRM_max':40,\n",
    "         'style_name':'Dry stout', 'style_key':'IX', 'style_number':21, 'ABV_min':3.2, 'ABV_max':5.5, 'IBU_min':30, 'IBU_max':50, 'SRM_min':40, 'SRM_max':100,\n",
    "         'style_name':'Sweet stout', 'style_key':'IX', 'style_number':35, 'ABV_min':3.2, 'ABV_max':6.4, 'IBU_min':20, 'IBU_max':40, 'SRM_min':40, 'SRM_max':100,\n",
    "         'style_name':'Oatmeal stout', 'style_key':'IX', 'style_number':49, 'ABV_min':3.3, 'ABV_max':6.1, 'IBU_min':20, 'IBU_max':50, 'SRM_min':40, 'SRM_max':100,\n",
    "         'style_name':'Foreign extra stout', 'style_key':'IX', 'style_number':22, 'ABV_min':5.0, 'ABV_max':7.5, 'IBU_min':35, 'IBU_max':70, 'SRM_min':40, 'SRM_max':100,\n",
    "         'style_name':'Imperial stout', 'style_key':'IX', 'style_number':36, 'ABV_min':7.8, 'ABV_max':9.0, 'IBU_min':50, 'IBU_max':80, 'SRM_min':40, 'SRM_max':100,\n",
    "         'style_name':'Russian imperial stout', 'style_key':'IX', 'style_number':50, 'ABV_min':8.0, 'ABV_max':12.0, 'IBU_min':50, 'IBU_max':90, 'SRM_min':40, 'SRM_max':100,\n",
    "         'style_name':'German pilsner', 'style_key':'X', 'style_number':23, 'ABV_min':4.6, 'ABV_max':5.4, 'IBU_min':25, 'IBU_max':45, 'SRM_min':2, 'SRM_max':4,\n",
    "         'style_name':'Bohemian pilsner', 'style_key':'X', 'style_number':37, 'ABV_min':4.1, 'ABV_max':5.1, 'IBU_min':35, 'IBU_max':45, 'SRM_min':3, 'SRM_max':5,\n",
    "         'style_name':'American pilsner', 'style_key':'X', 'style_number':51, 'ABV_min':5.0, 'ABV_max':6.0, 'IBU_min':20, 'IBU_max':40, 'SRM_min':3, 'SRM_max':6,\n",
    "         'style_name':'American lite', 'style_key':'XI', 'style_number':11, 'ABV_min':2.9, 'ABV_max':4.5, 'IBU_min':8, 'IBU_max':15, 'SRM_min':2, 'SRM_max':4,\n",
    "         'style_name':'American standard', 'style_key':'XI', 'style_number':24, 'ABV_min':4.1, 'ABV_max':4.8, 'IBU_min':5, 'IBU_max':17, 'SRM_min':2, 'SRM_max':6,\n",
    "         'style_name':'American premium', 'style_key':'XI', 'style_number':38, 'ABV_min':4.6, 'ABV_max':5.1, 'IBU_min':13, 'IBU_max':23, 'SRM_min':2, 'SRM_max':8,\n",
    "         'style_name':'American dark', 'style_key':'XI', 'style_number':52, 'ABV_min':4.1, 'ABV_max':5.6, 'IBU_min':14, 'IBU_max':20, 'SRM_min':10, 'SRM_max':20,\n",
    "         'style_name':'Munich helles', 'style_key':'XII', 'style_number':12, 'ABV_min':4.5, 'ABV_max':5.6, 'IBU_min':18, 'IBU_max':25, 'SRM_min':3, 'SRM_max':5,\n",
    "         'style_name':'Dortmunder', 'style_key':'XII', 'style_number':25, 'ABV_min':5.1, 'ABV_max':6.1, 'IBU_min':23, 'IBU_max':29, 'SRM_min':4, 'SRM_max':6,\n",
    "         'style_name':'Munich dunkel', 'style_key':'XII', 'style_number':39, 'ABV_min':4.8, 'ABV_max':5.4, 'IBU_min':16, 'IBU_max':25, 'SRM_min':17, 'SRM_max':23,\n",
    "         'style_name':'Schwarzbier', 'style_key':'XII', 'style_number':53, 'ABV_min':3.8, 'ABV_max':5.0, 'IBU_min':22, 'IBU_max':30, 'SRM_min':25, 'SRM_max':40,\n",
    "         'style_name':'Heller bock', 'style_key':'XIII', 'style_number':13, 'ABV_min':6.0, 'ABV_max':7.5, 'IBU_min':20, 'IBU_max':35, 'SRM_min':4, 'SRM_max':10,\n",
    "         'style_name':'Doppelbock', 'style_key':'XIII', 'style_number':26, 'ABV_min':6.6, 'ABV_max':7.9, 'IBU_min':20, 'IBU_max':30, 'SRM_min':12, 'SRM_max':30,\n",
    "         'style_name':'Traditional bock', 'style_key':'XIII', 'style_number':40, 'ABV_min':6.4, 'ABV_max':7.6, 'IBU_min':20, 'IBU_max':30, 'SRM_min':15, 'SRM_max':30,\n",
    "         'style_name':'Eisbock', 'style_key':'XIII', 'style_number':54, 'ABV_min':8.7, 'ABV_max':14.4, 'IBU_min':25, 'IBU_max':50, 'SRM_min':18, 'SRM_max':40,\n",
    "         'style_name':'Kolsch', 'style_key':'XIV', 'style_number':55, 'ABV_min':4.8, 'ABV_max':5.2, 'IBU_min':20, 'IBU_max':30, 'SRM_min':4, 'SRM_max':5,\n",
    "         'style_name':'Altbier', 'style_key':'XIV', 'style_number':61, 'ABV_min':4.6, 'ABV_max':5.1, 'IBU_min':25, 'IBU_max':48, 'SRM_min':11, 'SRM_max':19,\n",
    "         'style_name':'Biere de garde', 'style_key':'XV', 'style_number':56, 'ABV_min':4.5, 'ABV_max':8.0, 'IBU_min':20, 'IBU_max':30, 'SRM_min':5, 'SRM_max':12,\n",
    "         'style_name':'Oktoberfest', 'style_key':'XVI', 'style_number':57, 'ABV_min':5.1, 'ABV_max':6.5, 'IBU_min':18, 'IBU_max':30, 'SRM_min':8, 'SRM_max':12,\n",
    "         'style_name':'Vienna', 'style_key':'XVI', 'style_number':62, 'ABV_min':4.6, 'ABV_max':5.5, 'IBU_min':20, 'IBU_max':28, 'SRM_min':8, 'SRM_max':14,\n",
    "         'style_name':'Cream ale', 'style_key':'XVII', 'style_number':58, 'ABV_min':4.5, 'ABV_max':6.0, 'IBU_min':10, 'IBU_max':35, 'SRM_min':8, 'SRM_max':14,\n",
    "         'style_name':'Steam beer', 'style_key':'XVII', 'style_number':63, 'ABV_min':3.6, 'ABV_max':5.0, 'IBU_min':35, 'IBU_max':45, 'SRM_min':8, 'SRM_max':17,\n",
    "         'style_name':'Smoked beer', 'style_key':'XVII', 'style_number':59, 'ABV_min':5.0, 'ABV_max':5.5, 'IBU_min':20, 'IBU_max':30, 'SRM_min':12, 'SRM_max':17,\n",
    "         'style_name':'Barleywine', 'style_key':'XIX', 'style_number':64, 'ABV_min':8.4, 'ABV_max':12.2, 'IBU_min':50, 'IBU_max':100, 'SRM_min':10, 'SRM_max':40,\n",
    "         'style_name':'English old (strong) ale', 'style_key':'XX', 'style_number':60, 'ABV_min':6.1, 'ABV_max':8.5, 'IBU_min':30, 'IBU_max':40, 'SRM_min':12, 'SRM_max':16,\n",
    "         'style_name':'Strong \"scotch\" ale', 'style_key':'XX', 'style_number':65, 'ABV_min':6.0, 'ABV_max':9.0, 'IBU_min':20, 'IBU_max':40, 'SRM_min':10, 'SRM_max':40}"
   ]
  },
  {
   "cell_type": "code",
   "execution_count": 3,
   "metadata": {
    "ExecuteTime": {
     "end_time": "2020-05-20T17:01:41.713677Z",
     "start_time": "2020-05-20T17:01:41.703682Z"
    }
   },
   "outputs": [],
   "source": [
    "## Creating List with the beer styles names\n",
    "style_name = ['Berliner weisse', 'Belgian white', 'American wheat', 'Weizenbier', 'Dunkelweizen', 'Weizenbock', 'Lambic',\n",
    "              'Gueuze', 'Faro', 'Fruit beer', 'Flanders red', 'Oud bruin', 'Belgian gold ale', 'Tripel', 'Saison', 'Belgian pale ale',\n",
    "              'Belgian dark ale', 'Dubbel', 'Pale ale', 'American pale ale', 'India pale ale', 'American amber ale',\n",
    "              'Ordinary bitter', 'Special bitter', 'Extra special bitter', 'Scottish light 60/-', 'Scottish heavy 70/-',\n",
    "              'Scottish Export 80/-', 'English mild', 'American brown', 'English brown', 'Brown porter', 'Robust porter',\n",
    "              'Dry stout', 'Sweet stout', 'Oatmeal stout', 'Foreign extra stout', 'Imperial stout', 'Russian imperial stout',\n",
    "              'German pilsner', 'Bohemian pilsner', 'American pilsner', 'American lite', 'American standard', 'American premium',\n",
    "              'American dark', 'Munich helles', 'Dortmunder', 'Munich dunkel', 'Schwarzbier', 'Heller bock', 'Doppelbock',\n",
    "              'Traditional bock', 'Eisbock', 'Kolsch', 'Altbier', 'Biere de garde', 'Oktoberfest', 'Vienna', 'Cream ale',\n",
    "              'Steam beer', 'Smoked beer', 'Barleywine', 'English old (strong) ale', 'Strong \"scotch\" ale']"
   ]
  },
  {
   "cell_type": "code",
   "execution_count": 4,
   "metadata": {
    "ExecuteTime": {
     "end_time": "2020-05-20T17:01:42.356740Z",
     "start_time": "2020-05-20T17:01:42.343747Z"
    }
   },
   "outputs": [],
   "source": [
    "## Creating List with Beer Style Family Key\n",
    "style_key = ['I', 'I', 'I', 'I', 'I', 'I', 'II', 'II', 'II', 'II', 'II', 'II', 'III', 'III', 'III', 'III', 'III', 'III',\n",
    "             'IV', 'IV', 'IV', 'IV', 'V', 'V', 'V', 'VI', 'VI', 'VI', 'VII', 'VII', 'VII', 'VIII', 'VIII', 'IX',\n",
    "             'IX', 'IX', 'IX', 'IX', 'IX', 'X', 'X', 'X', 'XI', 'XI', 'XI', 'XI', 'XII', 'XII', 'XII', 'XII', 'XIII',\n",
    "             'XIII', 'XIII', 'XIII', 'XIV', 'XIV', 'XV', 'XVI', 'XVI', 'XVII', 'XVII', 'XVII', 'XIX', 'XX', 'XX']"
   ]
  },
  {
   "cell_type": "code",
   "execution_count": 5,
   "metadata": {
    "ExecuteTime": {
     "end_time": "2020-05-20T17:01:42.819474Z",
     "start_time": "2020-05-20T17:01:42.808479Z"
    }
   },
   "outputs": [],
   "source": [
    "## Creating List with Beer Style Family Number\n",
    "style_number = [1, 4, 7, 14, 27, 41, 2, 5, 8, 15, 28, 42, 3, 6, 9, 16, 29, 43, 10, 17, 30, 44, 18, 31, 45, 19, 32,\n",
    "                46, 20, 33, 47, 34, 48, 21, 35, 49, 22, 36, 50, 23, 37, 51, 11, 24, 38, 52, 12, 25, 39, 53, 13, 26,\n",
    "                40, 54, 55, 61, 56, 57, 62, 58, 63, 59, 64, 60, 65]"
   ]
  },
  {
   "cell_type": "code",
   "execution_count": 6,
   "metadata": {
    "ExecuteTime": {
     "end_time": "2020-05-20T17:01:43.262220Z",
     "start_time": "2020-05-20T17:01:43.244230Z"
    }
   },
   "outputs": [],
   "source": [
    "## Creating List with ABV Min per Style\n",
    "ABV_min = [2.5, 4.5, 3.5, 4.3, 4.5, 6.5, 4.7, 4.7, 4.5, 4.7, 4.0, 4.0, 7.0, 7.0, 4.5, 3.9, 7.0, 3.2, 4.5, 4.5, 5.1, 4.5,\n",
    "           3.0, 3.7, 3.7, 2.8, 3.5, 4.0, 2.5, 4.2, 3.5, 3.8, 4.8, 3.2, 3.2, 3.3, 5.0, 7.8, 8.0, 4.6, 4.1, 5.0, 2.9, 4.1,\n",
    "           4.6, 4.1, 4.5, 5.1, 4.8, 3.8, 6.0, 6.6, 6.4, 8.7, 4.8, 4.6, 4.5, 5.1, 4.6, 4.5, 3.6, 5.0, 8.4, 6.1, 6.0]"
   ]
  },
  {
   "cell_type": "code",
   "execution_count": 7,
   "metadata": {
    "ExecuteTime": {
     "end_time": "2020-05-20T17:01:43.788918Z",
     "start_time": "2020-05-20T17:01:43.776927Z"
    }
   },
   "outputs": [],
   "source": [
    "## Creating List with ABV Max per Style\n",
    "ABV_max = [3.6, 5.5, 5.0, 5.6, 6.0, 9.6, 6.4, 6.4, 5.5, 7.0, 5.8, 6.5, 9.0, 10.0, 8.1, 5.6, 12.0, 8.0, 5.5, 5.7,\n",
    "           7.6, 5.7, 3.8, 4.8, 4.8, 4.0, 4.1, 4.9, 4.1, 6.0, 6.0, 5.2, 6.0, 5.5, 6.4, 6.1, 7.5, 9.0, 12.0, 5.4,\n",
    "           5.1, 6.0, 4.5, 4.8, 5.1, 5.6, 5.6, 6.1, 5.4, 5.0, 7.5, 7.9, 7.6, 14.4, 5.2, 5.1, 8.0, 6.5, 5.5, 6.0,\n",
    "           5.0, 5.5, 12.2, 8.5, 9.0]"
   ]
  },
  {
   "cell_type": "code",
   "execution_count": 8,
   "metadata": {
    "ExecuteTime": {
     "end_time": "2020-05-20T17:01:44.131725Z",
     "start_time": "2020-05-20T17:01:44.118728Z"
    }
   },
   "outputs": [],
   "source": [
    "## Creating List with IBU Min per Style\n",
    "IBU_min = [3, 15, 5, 8, 10, 12, 5, 5, 5, 15, 14, 14, 25, 20, 25, 20, 25, 20, 20, 20, 40, 20, 20, 25, 30, 9, 12, 15, 10,\n",
    "           25, 15, 20, 25, 30, 20, 20, 35, 50, 50, 25, 35, 20, 8, 5, 13, 14, 18, 23, 16, 22, 20, 20, 20, 25, 20, 25,\n",
    "           20, 18, 20, 10, 35, 20, 50, 30, 20]"
   ]
  },
  {
   "cell_type": "code",
   "execution_count": 9,
   "metadata": {
    "ExecuteTime": {
     "end_time": "2020-05-20T17:01:44.437546Z",
     "start_time": "2020-05-20T17:01:44.424573Z"
    }
   },
   "outputs": [],
   "source": [
    "## Creating List with ABV Max per Style\n",
    "IBU_max = [12, 28, 20, 15, 15, 25, 15, 15, 15, 21, 25, 30, 35, 30, 40, 35, 40, 25, 40, 40, 60, 40, 35, 40, 45, 20, 25,\n",
    "           36, 24, 60, 25, 30, 45, 50, 40, 50, 70, 80, 90, 45, 45, 40, 15, 17, 23, 20, 25, 29, 25, 30, 35, 30, 30, 50,\n",
    "           30, 48, 30, 30, 28, 35, 45, 30, 100, 40, 40]"
   ]
  },
  {
   "cell_type": "code",
   "execution_count": 10,
   "metadata": {
    "ExecuteTime": {
     "end_time": "2020-05-20T17:01:44.981393Z",
     "start_time": "2020-05-20T17:01:44.967402Z"
    }
   },
   "outputs": [],
   "source": [
    "## Creating List with SRM Min per Style\n",
    "SRM_min = [2, 2, 2, 3, 17, 10, 4, 4, 4, -1, 10, 12, 4, 4, 4, 4, 7, 10, 4, 4, 8, 11, 6, 12, 12, 8, 10, 10, 10, 15, 15,\n",
    "           20, 30, 40, 40, 40, 40, 40, 40, 2, 3, 3, 2, 2, 2, 10, 3, 4, 17, 25, 4, 12, 15, 18, 4, 11, 5, 8, 8, 8, 8,\n",
    "           12, 10, 12, 10]"
   ]
  },
  {
   "cell_type": "code",
   "execution_count": 11,
   "metadata": {
    "ExecuteTime": {
     "end_time": "2020-05-20T17:01:45.449423Z",
     "start_time": "2020-05-20T17:01:45.436432Z"
    }
   },
   "outputs": [],
   "source": [
    "## Creating List with SRM Max per Style\n",
    "SRM_max = [4, 4, 8, 9, 23, 30, 15, 15, 15, -1, 16, 20, 6, 7, 10, 14, 20, 20, 11, 11, 14, 18, 12, 14, 14, 17, 19, 19, 25,\n",
    "           22, 30, 35, 40, 100, 100, 100, 100, 100, 100, 4, 5, 6, 4, 6, 8, 20, 5, 6, 23, 40, 10, 30, 30, 40, 5, 19, 12,\n",
    "           12, 14, 14, 17, 17, 40, 16, 40]"
   ]
  },
  {
   "cell_type": "code",
   "execution_count": 12,
   "metadata": {
    "ExecuteTime": {
     "end_time": "2020-05-20T17:01:46.330493Z",
     "start_time": "2020-05-20T17:01:46.317500Z"
    }
   },
   "outputs": [
    {
     "name": "stdout",
     "output_type": "stream",
     "text": [
      "65\n",
      "65\n",
      "65\n",
      "65\n",
      "65\n",
      "65\n",
      "65\n",
      "65\n",
      "65\n"
     ]
    }
   ],
   "source": [
    "## Checking the length of all lists\n",
    "print(len(style_name))\n",
    "print(len(style_key))\n",
    "print(len(style_number))\n",
    "print(len(ABV_min))\n",
    "print(len(ABV_max))\n",
    "print(len(IBU_min))\n",
    "print(len(IBU_max))\n",
    "print(len(SRM_min))\n",
    "print(len(SRM_max))"
   ]
  },
  {
   "cell_type": "code",
   "execution_count": 13,
   "metadata": {
    "ExecuteTime": {
     "end_time": "2020-05-20T17:01:51.423831Z",
     "start_time": "2020-05-20T17:01:51.414840Z"
    }
   },
   "outputs": [],
   "source": [
    "## Creating python dictionary from all the lists\n",
    "beers = {'style_name':style_name, \n",
    "         'style_key':style_key, \n",
    "         'style_number':style_number, \n",
    "         'ABV_min':ABV_min, \n",
    "         'ABV_max':ABV_max,\n",
    "        'IBU_min':IBU_min,\n",
    "        'IBU_max':IBU_max,\n",
    "        'SRM_min':SRM_min,\n",
    "        'SRM_max':SRM_max}"
   ]
  },
  {
   "cell_type": "code",
   "execution_count": 14,
   "metadata": {
    "ExecuteTime": {
     "end_time": "2020-05-20T17:02:04.328712Z",
     "start_time": "2020-05-20T17:02:04.319718Z"
    }
   },
   "outputs": [],
   "source": [
    "## Creating DataSet from dictionary\n",
    "beer_styles = pd.DataFrame(beers)"
   ]
  },
  {
   "cell_type": "code",
   "execution_count": 15,
   "metadata": {
    "ExecuteTime": {
     "end_time": "2020-05-20T17:02:05.175593Z",
     "start_time": "2020-05-20T17:02:05.167598Z"
    }
   },
   "outputs": [],
   "source": [
    "## Creating dictionary of Beer Style Groups\n",
    "style_groups = {'I': 'ale', 'II': 'ale', 'III': 'ale', 'IV': 'ale', 'V': 'ale', 'VI': 'ale', 'VII': 'ale', 'VII': 'ale',\n",
    "                'IX': 'ale', 'X': 'lager', 'XI': 'lager', 'XII': 'lager', 'XIII': 'lager', 'XIV': 'mixed_styles',\n",
    "                'XV': 'mixed_styles', 'XVI': 'mixed_styles', 'XVII': 'mixed_styles', 'XVIII': 'mixed_styles',\n",
    "                'XIX': 'mixed_styles', 'XX': 'mixed_styles'}"
   ]
  },
  {
   "cell_type": "code",
   "execution_count": 16,
   "metadata": {
    "ExecuteTime": {
     "end_time": "2020-05-20T17:02:05.700583Z",
     "start_time": "2020-05-20T17:02:05.689592Z"
    }
   },
   "outputs": [],
   "source": [
    "## Applying Beer Style Groups dictionary condition by Family Key\n",
    "beer_styles['style_groups'] = beer_styles['style_key'].map(style_groups)"
   ]
  },
  {
   "cell_type": "code",
   "execution_count": 17,
   "metadata": {
    "ExecuteTime": {
     "end_time": "2020-05-20T17:02:09.513759Z",
     "start_time": "2020-05-20T17:02:09.503770Z"
    }
   },
   "outputs": [],
   "source": [
    "## Creating dictionary of Beer Style Family\n",
    "style_key_family = {'I':'wheat beer', 'II':'lambic and sour', 'III':'belgian ale', 'IV':'pale ale', 'V':'english bitter',\n",
    "                    'VI':'scottish ale', 'VII':'borwn ale', 'VIII':'porter', 'IX':'stout', 'X':'pilsner',\n",
    "                    'XI':'american lager', 'XII':'european lager', 'XIII':'bock', 'XIV':'alt', 'XV':'french ale',\n",
    "                    'XVI':'german amber ale', 'XVII':'american special', 'XVIII':'smoked beer', 'XIX':'barley wine',\n",
    "                    'XX':'strong ale'}"
   ]
  },
  {
   "cell_type": "code",
   "execution_count": 18,
   "metadata": {
    "ExecuteTime": {
     "end_time": "2020-05-20T17:02:10.777599Z",
     "start_time": "2020-05-20T17:02:10.768624Z"
    }
   },
   "outputs": [],
   "source": [
    "## Applying Beer Style Family dictionary condition by Family Key\n",
    "beer_styles['style_key_family'] = beer_styles['style_key'].map(style_key_family)"
   ]
  },
  {
   "cell_type": "code",
   "execution_count": 19,
   "metadata": {
    "ExecuteTime": {
     "end_time": "2020-05-20T17:02:12.092645Z",
     "start_time": "2020-05-20T17:02:12.039673Z"
    },
    "scrolled": true
   },
   "outputs": [
    {
     "data": {
      "text/html": [
       "<div>\n",
       "<style scoped>\n",
       "    .dataframe tbody tr th:only-of-type {\n",
       "        vertical-align: middle;\n",
       "    }\n",
       "\n",
       "    .dataframe tbody tr th {\n",
       "        vertical-align: top;\n",
       "    }\n",
       "\n",
       "    .dataframe thead th {\n",
       "        text-align: right;\n",
       "    }\n",
       "</style>\n",
       "<table border=\"1\" class=\"dataframe\">\n",
       "  <thead>\n",
       "    <tr style=\"text-align: right;\">\n",
       "      <th></th>\n",
       "      <th>style_name</th>\n",
       "      <th>style_key</th>\n",
       "      <th>style_number</th>\n",
       "      <th>ABV_min</th>\n",
       "      <th>ABV_max</th>\n",
       "      <th>IBU_min</th>\n",
       "      <th>IBU_max</th>\n",
       "      <th>SRM_min</th>\n",
       "      <th>SRM_max</th>\n",
       "      <th>style_groups</th>\n",
       "      <th>style_key_family</th>\n",
       "    </tr>\n",
       "  </thead>\n",
       "  <tbody>\n",
       "    <tr>\n",
       "      <th>20</th>\n",
       "      <td>India pale ale</td>\n",
       "      <td>IV</td>\n",
       "      <td>30</td>\n",
       "      <td>5.1</td>\n",
       "      <td>7.6</td>\n",
       "      <td>40</td>\n",
       "      <td>60</td>\n",
       "      <td>8</td>\n",
       "      <td>14</td>\n",
       "      <td>ale</td>\n",
       "      <td>pale ale</td>\n",
       "    </tr>\n",
       "    <tr>\n",
       "      <th>37</th>\n",
       "      <td>Imperial stout</td>\n",
       "      <td>IX</td>\n",
       "      <td>36</td>\n",
       "      <td>7.8</td>\n",
       "      <td>9.0</td>\n",
       "      <td>50</td>\n",
       "      <td>80</td>\n",
       "      <td>40</td>\n",
       "      <td>100</td>\n",
       "      <td>ale</td>\n",
       "      <td>stout</td>\n",
       "    </tr>\n",
       "    <tr>\n",
       "      <th>41</th>\n",
       "      <td>American pilsner</td>\n",
       "      <td>X</td>\n",
       "      <td>51</td>\n",
       "      <td>5.0</td>\n",
       "      <td>6.0</td>\n",
       "      <td>20</td>\n",
       "      <td>40</td>\n",
       "      <td>3</td>\n",
       "      <td>6</td>\n",
       "      <td>lager</td>\n",
       "      <td>pilsner</td>\n",
       "    </tr>\n",
       "    <tr>\n",
       "      <th>29</th>\n",
       "      <td>American brown</td>\n",
       "      <td>VII</td>\n",
       "      <td>33</td>\n",
       "      <td>4.2</td>\n",
       "      <td>6.0</td>\n",
       "      <td>25</td>\n",
       "      <td>60</td>\n",
       "      <td>15</td>\n",
       "      <td>22</td>\n",
       "      <td>ale</td>\n",
       "      <td>borwn ale</td>\n",
       "    </tr>\n",
       "    <tr>\n",
       "      <th>35</th>\n",
       "      <td>Oatmeal stout</td>\n",
       "      <td>IX</td>\n",
       "      <td>49</td>\n",
       "      <td>3.3</td>\n",
       "      <td>6.1</td>\n",
       "      <td>20</td>\n",
       "      <td>50</td>\n",
       "      <td>40</td>\n",
       "      <td>100</td>\n",
       "      <td>ale</td>\n",
       "      <td>stout</td>\n",
       "    </tr>\n",
       "  </tbody>\n",
       "</table>\n",
       "</div>"
      ],
      "text/plain": [
       "          style_name style_key  style_number  ABV_min  ABV_max  IBU_min  \\\n",
       "20    India pale ale        IV            30      5.1      7.6       40   \n",
       "37    Imperial stout        IX            36      7.8      9.0       50   \n",
       "41  American pilsner         X            51      5.0      6.0       20   \n",
       "29    American brown       VII            33      4.2      6.0       25   \n",
       "35     Oatmeal stout        IX            49      3.3      6.1       20   \n",
       "\n",
       "    IBU_max  SRM_min  SRM_max style_groups style_key_family  \n",
       "20       60        8       14          ale         pale ale  \n",
       "37       80       40      100          ale            stout  \n",
       "41       40        3        6        lager          pilsner  \n",
       "29       60       15       22          ale        borwn ale  \n",
       "35       50       40      100          ale            stout  "
      ]
     },
     "execution_count": 19,
     "metadata": {},
     "output_type": "execute_result"
    }
   ],
   "source": [
    "## Checking results\n",
    "beer_styles.sample(5)"
   ]
  },
  {
   "cell_type": "code",
   "execution_count": 21,
   "metadata": {
    "ExecuteTime": {
     "end_time": "2020-05-20T17:03:24.645180Z",
     "start_time": "2020-05-20T17:03:24.625191Z"
    }
   },
   "outputs": [],
   "source": [
    "beer_styles.to_csv('data/beer_styles.csv')"
   ]
  },
  {
   "cell_type": "code",
   "execution_count": 22,
   "metadata": {
    "ExecuteTime": {
     "end_time": "2020-05-20T17:03:28.655573Z",
     "start_time": "2020-05-20T17:03:28.633588Z"
    }
   },
   "outputs": [],
   "source": [
    "## Dropping two styles of beer that coudl not be found to purchase online in Brasil\n",
    "beer_styles.drop(beer_styles[beer_styles['style_name'] == 'English mild'].index, axis=0, inplace=True)\n",
    "beer_styles.drop(beer_styles[beer_styles['style_name'] == 'Heller bock'].index, axis=0, inplace=True)"
   ]
  },
  {
   "cell_type": "code",
   "execution_count": 23,
   "metadata": {
    "ExecuteTime": {
     "end_time": "2020-05-20T17:03:34.989604Z",
     "start_time": "2020-05-20T17:03:34.977611Z"
    }
   },
   "outputs": [],
   "source": [
    "## Creating List of Recommended Beers\n",
    "recommend = ['Dogma Sourmind', 'Blue Moon', 'Zephyr Octopus', 'Cevada Pura Weizenbier', 'Weihenstephaner Dunkel', 'Eisenbahn Weizenbock', \n",
    "            'Imigracao Belgian Lambic', 'Timmermans Oude Gueuze', 'Boon Faro', 'Dama Sour Fruit Tangerina e Gengibre',\n",
    "            'Pratinha Culotte de La Duchesse', 'Liefmans Goudenband 2019', 'Leuven Golden Ale King', 'Cevada Pura Belgian Tripel',\n",
    "            'Leuven Morfeus Saison', 'Abadia Glimworm', 'Bodebrown St Arnould 8', 'Leuven Dubbel The Warlock', 'Cevada Pura Tropical IPA', 'Leopoldina APA',\n",
    "            'Dadiva India Pale Ale', 'Dadiva American Amber Ale', 'Adnams Southwold Bitter', 'Old Bitter Man', 'Krug Extra Special Bitter Sarcasmo',\n",
    "            'Belhaven Scottish Ale', 'Bodebrown Scottish 70 Shilling', 'Cevada 27 Scottish Export', 'Roleta Russa American Brown Ale', \n",
    "            'Insecta Engish Brown Ale', 'Colorado Demoiselle', 'Schornstein Porter e Cafe', 'Dama Bier Stout', 'Tupiniquim Twisted Stout', 'Cevada Pura Oatmeal Stout', \n",
    "            'Guinness Special Export', 'Schornstein Imperial Stout', 'Cevada Pura Nanquim Nitro', 'Invicta HELLBEIRAO', 'Leopoldina Bohemian Pilsner',\n",
    "            'Cevada Pura Lemondrop', 'Schornstein Soul', 'Coronita Extra', 'Estrella Galicia', 'Blumenau Uru', 'HOFBRAU Original', \n",
    "            'Dab Dortmunder Export', 'Dadiva Munich Dunkel', 'Bamberg Schwarzbier', 'Blumenauer Samichlaus Doppelbock', 'La Trappe Bock',\n",
    "            'Freigeist Strawberry Eisbock Forever Vintage', 'Eisenbahn Kolsch', 'Eisenbahn Altbier', 'Von Borstel Nord', 'Erdinger Oktoberfest',\n",
    "            'Baden Baden Vienna Lager', 'Capa Preta American Cream Ale Tropical Blonde', 'Anchor Steam Beer', 'Dama Bier Smoked Porter', \n",
    "            'Dama Bier Reserva 9', 'Fullers 1845', 'Matarelo Strong Scotch Ale']"
   ]
  },
  {
   "cell_type": "code",
   "execution_count": 24,
   "metadata": {
    "ExecuteTime": {
     "end_time": "2020-05-20T17:03:35.748505Z",
     "start_time": "2020-05-20T17:03:35.735513Z"
    }
   },
   "outputs": [],
   "source": [
    "## Creating List of Images for Recommended Beers\n",
    "image = ['images/berliner_weisse.png', 'images/belgian_white.png', 'images/american_wheat.png', 'images/weizenbier.png',\n",
    "        'images/dunkelweizen.png', 'images/weizenbock.png', 'images/lambic.png', 'images/gueuze.png', 'images/faro.png', 'images/fruit_beer.png',\n",
    "        'images/flanders_red.png', 'images/oud_bruin.png', 'images/belgian_gold_ale.png', 'images/tripel.png', \n",
    "        'images/saison.png', 'images/belgian_pale_ale.png', 'images/belgian_dark_ale.png', 'images/dubbel.png', \n",
    "        'images/pale_ale.png', 'images/american_pale_ale.png', 'images/india_pale_ale.png', 'images/american_amber_ale.png', 'images/ordinary_bitter.png',\n",
    "        'images/special_bitter.png', 'images/extra_special_bitter.png', 'images/scottish_60.png', 'images/scottish_70.png',\n",
    "        'images/scottish_80.png', 'images/american_brown.png', 'images/english_brown.png', 'images/brown_porter.png', \n",
    "        'images/robust_porter.png', 'images/dry_stout.png', 'images/sweet_stout.png', 'oatmeal_stout.png', \n",
    "        'images/Foreign_extra_stout.png', 'images/imperial_stout.png', 'images/russian_imperial_stout.png', 'images/german_pilsner.png',\n",
    "        'images/bohemian_pilsner.png', 'images/american_pilsner.png', 'images/american_lite.png', 'images/american_standard.png',\n",
    "        'images/american_premium.png', 'images/american_dark.png', 'images/munich_helles.png', 'images/dortmunder.png', \n",
    "        'images/munich_dunkel.png', 'images/schwarzbier.png', 'images/doppelbock.png', 'images/bock.png', 'images/eisbock.png',\n",
    "        'images/kolsch.png', 'images/altbier.png', 'images/biere_de_garde.png', 'images/oktoberfest.png', 'images/vienna.png', \n",
    "        'images/cream_ale.png', 'images/steam_beer.png', 'images/smoked_beer.png', 'images/barleywine.png', 'images/english_strong_ale.png',\n",
    "        'images/strong_scotch_ale.png']"
   ]
  },
  {
   "cell_type": "code",
   "execution_count": 26,
   "metadata": {
    "ExecuteTime": {
     "end_time": "2020-05-20T17:03:45.683525Z",
     "start_time": "2020-05-20T17:03:45.664538Z"
    }
   },
   "outputs": [
    {
     "data": {
      "text/plain": [
       "[('Berliner weisse', 'Dogma Sourmind', 'images/berliner_weisse.png'),\n",
       " ('Belgian white', 'Blue Moon', 'images/belgian_white.png'),\n",
       " ('American wheat', 'Zephyr Octopus', 'images/american_wheat.png'),\n",
       " ('Weizenbier', 'Cevada Pura Weizenbier', 'images/weizenbier.png'),\n",
       " ('Dunkelweizen', 'Weihenstephaner Dunkel', 'images/dunkelweizen.png'),\n",
       " ('Weizenbock', 'Eisenbahn Weizenbock', 'images/weizenbock.png'),\n",
       " ('Lambic', 'Imigracao Belgian Lambic', 'images/lambic.png'),\n",
       " ('Gueuze', 'Timmermans Oude Gueuze', 'images/gueuze.png'),\n",
       " ('Faro', 'Boon Faro', 'images/faro.png'),\n",
       " ('Fruit beer',\n",
       "  'Dama Sour Fruit Tangerina e Gengibre',\n",
       "  'images/fruit_beer.png'),\n",
       " ('Flanders red',\n",
       "  'Pratinha Culotte de La Duchesse',\n",
       "  'images/flanders_red.png'),\n",
       " ('Oud bruin', 'Liefmans Goudenband 2019', 'images/oud_bruin.png'),\n",
       " ('Belgian gold ale', 'Leuven Golden Ale King', 'images/belgian_gold_ale.png'),\n",
       " ('Tripel', 'Cevada Pura Belgian Tripel', 'images/tripel.png'),\n",
       " ('Saison', 'Leuven Morfeus Saison', 'images/saison.png'),\n",
       " ('Belgian pale ale', 'Abadia Glimworm', 'images/belgian_pale_ale.png'),\n",
       " ('Belgian dark ale', 'Bodebrown St Arnould 8', 'images/belgian_dark_ale.png'),\n",
       " ('Dubbel', 'Leuven Dubbel The Warlock', 'images/dubbel.png'),\n",
       " ('Pale ale', 'Cevada Pura Tropical IPA', 'images/pale_ale.png'),\n",
       " ('American pale ale', 'Leopoldina APA', 'images/american_pale_ale.png'),\n",
       " ('India pale ale', 'Dadiva India Pale Ale', 'images/india_pale_ale.png'),\n",
       " ('American amber ale',\n",
       "  'Dadiva American Amber Ale',\n",
       "  'images/american_amber_ale.png'),\n",
       " ('Ordinary bitter', 'Adnams Southwold Bitter', 'images/ordinary_bitter.png'),\n",
       " ('Special bitter', 'Old Bitter Man', 'images/special_bitter.png'),\n",
       " ('Extra special bitter',\n",
       "  'Krug Extra Special Bitter Sarcasmo',\n",
       "  'images/extra_special_bitter.png'),\n",
       " ('Scottish light 60/-', 'Belhaven Scottish Ale', 'images/scottish_60.png'),\n",
       " ('Scottish heavy 70/-',\n",
       "  'Bodebrown Scottish 70 Shilling',\n",
       "  'images/scottish_70.png'),\n",
       " ('Scottish Export 80/-',\n",
       "  'Cevada 27 Scottish Export',\n",
       "  'images/scottish_80.png'),\n",
       " ('American brown',\n",
       "  'Roleta Russa American Brown Ale',\n",
       "  'images/american_brown.png'),\n",
       " ('English brown', 'Insecta Engish Brown Ale', 'images/english_brown.png'),\n",
       " ('Brown porter', 'Colorado Demoiselle', 'images/brown_porter.png'),\n",
       " ('Robust porter', 'Schornstein Porter e Cafe', 'images/robust_porter.png'),\n",
       " ('Dry stout', 'Dama Bier Stout', 'images/dry_stout.png'),\n",
       " ('Sweet stout', 'Tupiniquim Twisted Stout', 'images/sweet_stout.png'),\n",
       " ('Oatmeal stout', 'Cevada Pura Oatmeal Stout', 'oatmeal_stout.png'),\n",
       " ('Foreign extra stout',\n",
       "  'Guinness Special Export',\n",
       "  'images/Foreign_extra_stout.png'),\n",
       " ('Imperial stout', 'Schornstein Imperial Stout', 'images/imperial_stout.png'),\n",
       " ('Russian imperial stout',\n",
       "  'Cevada Pura Nanquim Nitro',\n",
       "  'images/russian_imperial_stout.png'),\n",
       " ('German pilsner', 'Invicta HELLBEIRAO', 'images/german_pilsner.png'),\n",
       " ('Bohemian pilsner',\n",
       "  'Leopoldina Bohemian Pilsner',\n",
       "  'images/bohemian_pilsner.png'),\n",
       " ('American pilsner', 'Cevada Pura Lemondrop', 'images/american_pilsner.png'),\n",
       " ('American lite', 'Schornstein Soul', 'images/american_lite.png'),\n",
       " ('American standard', 'Coronita Extra', 'images/american_standard.png'),\n",
       " ('American premium', 'Estrella Galicia', 'images/american_premium.png'),\n",
       " ('American dark', 'Blumenau Uru', 'images/american_dark.png'),\n",
       " ('Munich helles', 'HOFBRAU Original', 'images/munich_helles.png'),\n",
       " ('Dortmunder', 'Dab Dortmunder Export', 'images/dortmunder.png'),\n",
       " ('Munich dunkel', 'Dadiva Munich Dunkel', 'images/munich_dunkel.png'),\n",
       " ('Schwarzbier', 'Bamberg Schwarzbier', 'images/schwarzbier.png'),\n",
       " ('Doppelbock', 'Blumenauer Samichlaus Doppelbock', 'images/doppelbock.png'),\n",
       " ('Traditional bock', 'La Trappe Bock', 'images/bock.png'),\n",
       " ('Eisbock',\n",
       "  'Freigeist Strawberry Eisbock Forever Vintage',\n",
       "  'images/eisbock.png'),\n",
       " ('Kolsch', 'Eisenbahn Kolsch', 'images/kolsch.png'),\n",
       " ('Altbier', 'Eisenbahn Altbier', 'images/altbier.png'),\n",
       " ('Biere de garde', 'Von Borstel Nord', 'images/biere_de_garde.png'),\n",
       " ('Oktoberfest', 'Erdinger Oktoberfest', 'images/oktoberfest.png'),\n",
       " ('Vienna', 'Baden Baden Vienna Lager', 'images/vienna.png'),\n",
       " ('Cream ale',\n",
       "  'Capa Preta American Cream Ale Tropical Blonde',\n",
       "  'images/cream_ale.png'),\n",
       " ('Steam beer', 'Anchor Steam Beer', 'images/steam_beer.png'),\n",
       " ('Smoked beer', 'Dama Bier Smoked Porter', 'images/smoked_beer.png'),\n",
       " ('Barleywine', 'Dama Bier Reserva 9', 'images/barleywine.png'),\n",
       " ('English old (strong) ale', 'Fullers 1845', 'images/english_strong_ale.png'),\n",
       " ('Strong \"scotch\" ale',\n",
       "  'Matarelo Strong Scotch Ale',\n",
       "  'images/strong_scotch_ale.png')]"
      ]
     },
     "execution_count": 26,
     "metadata": {},
     "output_type": "execute_result"
    }
   ],
   "source": [
    "## Checking content\n",
    "list(zip(beer_styles['style_name'],recommend, image))"
   ]
  },
  {
   "cell_type": "code",
   "execution_count": 27,
   "metadata": {
    "ExecuteTime": {
     "end_time": "2020-05-20T17:04:31.689844Z",
     "start_time": "2020-05-20T17:04:31.680848Z"
    }
   },
   "outputs": [],
   "source": [
    "beer_styles['recommend'] = recommend"
   ]
  },
  {
   "cell_type": "code",
   "execution_count": 28,
   "metadata": {
    "ExecuteTime": {
     "end_time": "2020-05-20T17:04:49.693269Z",
     "start_time": "2020-05-20T17:04:49.683278Z"
    }
   },
   "outputs": [],
   "source": [
    "beer_styles['images'] = image"
   ]
  },
  {
   "cell_type": "code",
   "execution_count": 29,
   "metadata": {
    "ExecuteTime": {
     "end_time": "2020-05-20T17:05:00.235132Z",
     "start_time": "2020-05-20T17:05:00.183163Z"
    }
   },
   "outputs": [
    {
     "data": {
      "text/html": [
       "<div>\n",
       "<style scoped>\n",
       "    .dataframe tbody tr th:only-of-type {\n",
       "        vertical-align: middle;\n",
       "    }\n",
       "\n",
       "    .dataframe tbody tr th {\n",
       "        vertical-align: top;\n",
       "    }\n",
       "\n",
       "    .dataframe thead th {\n",
       "        text-align: right;\n",
       "    }\n",
       "</style>\n",
       "<table border=\"1\" class=\"dataframe\">\n",
       "  <thead>\n",
       "    <tr style=\"text-align: right;\">\n",
       "      <th></th>\n",
       "      <th>style_name</th>\n",
       "      <th>style_key</th>\n",
       "      <th>style_number</th>\n",
       "      <th>ABV_min</th>\n",
       "      <th>ABV_max</th>\n",
       "      <th>IBU_min</th>\n",
       "      <th>IBU_max</th>\n",
       "      <th>SRM_min</th>\n",
       "      <th>SRM_max</th>\n",
       "      <th>style_groups</th>\n",
       "      <th>style_key_family</th>\n",
       "      <th>recommend</th>\n",
       "      <th>images</th>\n",
       "    </tr>\n",
       "  </thead>\n",
       "  <tbody>\n",
       "    <tr>\n",
       "      <th>3</th>\n",
       "      <td>Weizenbier</td>\n",
       "      <td>I</td>\n",
       "      <td>14</td>\n",
       "      <td>4.3</td>\n",
       "      <td>5.6</td>\n",
       "      <td>8</td>\n",
       "      <td>15</td>\n",
       "      <td>3</td>\n",
       "      <td>9</td>\n",
       "      <td>ale</td>\n",
       "      <td>wheat beer</td>\n",
       "      <td>Cevada Pura Weizenbier</td>\n",
       "      <td>images/weizenbier.png</td>\n",
       "    </tr>\n",
       "    <tr>\n",
       "      <th>9</th>\n",
       "      <td>Fruit beer</td>\n",
       "      <td>II</td>\n",
       "      <td>15</td>\n",
       "      <td>4.7</td>\n",
       "      <td>7.0</td>\n",
       "      <td>15</td>\n",
       "      <td>21</td>\n",
       "      <td>-1</td>\n",
       "      <td>-1</td>\n",
       "      <td>ale</td>\n",
       "      <td>lambic and sour</td>\n",
       "      <td>Dama Sour Fruit Tangerina e Gengibre</td>\n",
       "      <td>images/fruit_beer.png</td>\n",
       "    </tr>\n",
       "    <tr>\n",
       "      <th>0</th>\n",
       "      <td>Berliner weisse</td>\n",
       "      <td>I</td>\n",
       "      <td>1</td>\n",
       "      <td>2.5</td>\n",
       "      <td>3.6</td>\n",
       "      <td>3</td>\n",
       "      <td>12</td>\n",
       "      <td>2</td>\n",
       "      <td>4</td>\n",
       "      <td>ale</td>\n",
       "      <td>wheat beer</td>\n",
       "      <td>Dogma Sourmind</td>\n",
       "      <td>images/berliner_weisse.png</td>\n",
       "    </tr>\n",
       "    <tr>\n",
       "      <th>60</th>\n",
       "      <td>Steam beer</td>\n",
       "      <td>XVII</td>\n",
       "      <td>63</td>\n",
       "      <td>3.6</td>\n",
       "      <td>5.0</td>\n",
       "      <td>35</td>\n",
       "      <td>45</td>\n",
       "      <td>8</td>\n",
       "      <td>17</td>\n",
       "      <td>mixed_styles</td>\n",
       "      <td>american special</td>\n",
       "      <td>Anchor Steam Beer</td>\n",
       "      <td>images/steam_beer.png</td>\n",
       "    </tr>\n",
       "    <tr>\n",
       "      <th>26</th>\n",
       "      <td>Scottish heavy 70/-</td>\n",
       "      <td>VI</td>\n",
       "      <td>32</td>\n",
       "      <td>3.5</td>\n",
       "      <td>4.1</td>\n",
       "      <td>12</td>\n",
       "      <td>25</td>\n",
       "      <td>10</td>\n",
       "      <td>19</td>\n",
       "      <td>ale</td>\n",
       "      <td>scottish ale</td>\n",
       "      <td>Bodebrown Scottish 70 Shilling</td>\n",
       "      <td>images/scottish_70.png</td>\n",
       "    </tr>\n",
       "  </tbody>\n",
       "</table>\n",
       "</div>"
      ],
      "text/plain": [
       "             style_name style_key  style_number  ABV_min  ABV_max  IBU_min  \\\n",
       "3            Weizenbier         I            14      4.3      5.6        8   \n",
       "9            Fruit beer        II            15      4.7      7.0       15   \n",
       "0       Berliner weisse         I             1      2.5      3.6        3   \n",
       "60           Steam beer      XVII            63      3.6      5.0       35   \n",
       "26  Scottish heavy 70/-        VI            32      3.5      4.1       12   \n",
       "\n",
       "    IBU_max  SRM_min  SRM_max  style_groups  style_key_family  \\\n",
       "3        15        3        9           ale        wheat beer   \n",
       "9        21       -1       -1           ale   lambic and sour   \n",
       "0        12        2        4           ale        wheat beer   \n",
       "60       45        8       17  mixed_styles  american special   \n",
       "26       25       10       19           ale      scottish ale   \n",
       "\n",
       "                               recommend                      images  \n",
       "3                 Cevada Pura Weizenbier       images/weizenbier.png  \n",
       "9   Dama Sour Fruit Tangerina e Gengibre       images/fruit_beer.png  \n",
       "0                         Dogma Sourmind  images/berliner_weisse.png  \n",
       "60                     Anchor Steam Beer       images/steam_beer.png  \n",
       "26        Bodebrown Scottish 70 Shilling      images/scottish_70.png  "
      ]
     },
     "execution_count": 29,
     "metadata": {},
     "output_type": "execute_result"
    }
   ],
   "source": [
    "## Checking content\n",
    "beer_styles.sample(5)"
   ]
  },
  {
   "cell_type": "code",
   "execution_count": 30,
   "metadata": {
    "ExecuteTime": {
     "end_time": "2020-05-20T17:06:57.040328Z",
     "start_time": "2020-05-20T17:06:57.031334Z"
    }
   },
   "outputs": [],
   "source": [
    "## Checking for missing 'images' folder, and adding if necessary\n",
    "beer_styles.images = beer_styles.images.apply(lambda x: 'images/' + x if 'images/' not in x else x)"
   ]
  },
  {
   "cell_type": "code",
   "execution_count": 31,
   "metadata": {
    "ExecuteTime": {
     "end_time": "2020-05-20T17:08:20.730204Z",
     "start_time": "2020-05-20T17:08:20.720209Z"
    }
   },
   "outputs": [],
   "source": [
    "## Changing the extension of the path list from PNG to JPG\n",
    "beer_styles['images'] = beer_styles['images'].str.replace('\\\\.png', '.jpg')"
   ]
  },
  {
   "cell_type": "code",
   "execution_count": 32,
   "metadata": {
    "ExecuteTime": {
     "end_time": "2020-05-20T17:08:37.385159Z",
     "start_time": "2020-05-20T17:08:37.351182Z"
    }
   },
   "outputs": [
    {
     "data": {
      "text/html": [
       "<div>\n",
       "<style scoped>\n",
       "    .dataframe tbody tr th:only-of-type {\n",
       "        vertical-align: middle;\n",
       "    }\n",
       "\n",
       "    .dataframe tbody tr th {\n",
       "        vertical-align: top;\n",
       "    }\n",
       "\n",
       "    .dataframe thead th {\n",
       "        text-align: right;\n",
       "    }\n",
       "</style>\n",
       "<table border=\"1\" class=\"dataframe\">\n",
       "  <thead>\n",
       "    <tr style=\"text-align: right;\">\n",
       "      <th></th>\n",
       "      <th>style_name</th>\n",
       "      <th>style_key</th>\n",
       "      <th>style_number</th>\n",
       "      <th>ABV_min</th>\n",
       "      <th>ABV_max</th>\n",
       "      <th>IBU_min</th>\n",
       "      <th>IBU_max</th>\n",
       "      <th>SRM_min</th>\n",
       "      <th>SRM_max</th>\n",
       "      <th>style_groups</th>\n",
       "      <th>style_key_family</th>\n",
       "      <th>recommend</th>\n",
       "      <th>images</th>\n",
       "    </tr>\n",
       "  </thead>\n",
       "  <tbody>\n",
       "    <tr>\n",
       "      <th>25</th>\n",
       "      <td>Scottish light 60/-</td>\n",
       "      <td>VI</td>\n",
       "      <td>19</td>\n",
       "      <td>2.8</td>\n",
       "      <td>4.0</td>\n",
       "      <td>9</td>\n",
       "      <td>20</td>\n",
       "      <td>8</td>\n",
       "      <td>17</td>\n",
       "      <td>ale</td>\n",
       "      <td>scottish ale</td>\n",
       "      <td>Belhaven Scottish Ale</td>\n",
       "      <td>images/scottish_60.jpg</td>\n",
       "    </tr>\n",
       "    <tr>\n",
       "      <th>3</th>\n",
       "      <td>Weizenbier</td>\n",
       "      <td>I</td>\n",
       "      <td>14</td>\n",
       "      <td>4.3</td>\n",
       "      <td>5.6</td>\n",
       "      <td>8</td>\n",
       "      <td>15</td>\n",
       "      <td>3</td>\n",
       "      <td>9</td>\n",
       "      <td>ale</td>\n",
       "      <td>wheat beer</td>\n",
       "      <td>Cevada Pura Weizenbier</td>\n",
       "      <td>images/weizenbier.jpg</td>\n",
       "    </tr>\n",
       "    <tr>\n",
       "      <th>39</th>\n",
       "      <td>German pilsner</td>\n",
       "      <td>X</td>\n",
       "      <td>23</td>\n",
       "      <td>4.6</td>\n",
       "      <td>5.4</td>\n",
       "      <td>25</td>\n",
       "      <td>45</td>\n",
       "      <td>2</td>\n",
       "      <td>4</td>\n",
       "      <td>lager</td>\n",
       "      <td>pilsner</td>\n",
       "      <td>Invicta HELLBEIRAO</td>\n",
       "      <td>images/german_pilsner.jpg</td>\n",
       "    </tr>\n",
       "    <tr>\n",
       "      <th>52</th>\n",
       "      <td>Traditional bock</td>\n",
       "      <td>XIII</td>\n",
       "      <td>40</td>\n",
       "      <td>6.4</td>\n",
       "      <td>7.6</td>\n",
       "      <td>20</td>\n",
       "      <td>30</td>\n",
       "      <td>15</td>\n",
       "      <td>30</td>\n",
       "      <td>lager</td>\n",
       "      <td>bock</td>\n",
       "      <td>La Trappe Bock</td>\n",
       "      <td>images/bock.jpg</td>\n",
       "    </tr>\n",
       "    <tr>\n",
       "      <th>8</th>\n",
       "      <td>Faro</td>\n",
       "      <td>II</td>\n",
       "      <td>8</td>\n",
       "      <td>4.5</td>\n",
       "      <td>5.5</td>\n",
       "      <td>5</td>\n",
       "      <td>15</td>\n",
       "      <td>4</td>\n",
       "      <td>15</td>\n",
       "      <td>ale</td>\n",
       "      <td>lambic and sour</td>\n",
       "      <td>Boon Faro</td>\n",
       "      <td>images/faro.jpg</td>\n",
       "    </tr>\n",
       "  </tbody>\n",
       "</table>\n",
       "</div>"
      ],
      "text/plain": [
       "             style_name style_key  style_number  ABV_min  ABV_max  IBU_min  \\\n",
       "25  Scottish light 60/-        VI            19      2.8      4.0        9   \n",
       "3            Weizenbier         I            14      4.3      5.6        8   \n",
       "39       German pilsner         X            23      4.6      5.4       25   \n",
       "52     Traditional bock      XIII            40      6.4      7.6       20   \n",
       "8                  Faro        II             8      4.5      5.5        5   \n",
       "\n",
       "    IBU_max  SRM_min  SRM_max style_groups style_key_family  \\\n",
       "25       20        8       17          ale     scottish ale   \n",
       "3        15        3        9          ale       wheat beer   \n",
       "39       45        2        4        lager          pilsner   \n",
       "52       30       15       30        lager             bock   \n",
       "8        15        4       15          ale  lambic and sour   \n",
       "\n",
       "                 recommend                     images  \n",
       "25   Belhaven Scottish Ale     images/scottish_60.jpg  \n",
       "3   Cevada Pura Weizenbier      images/weizenbier.jpg  \n",
       "39      Invicta HELLBEIRAO  images/german_pilsner.jpg  \n",
       "52          La Trappe Bock            images/bock.jpg  \n",
       "8                Boon Faro            images/faro.jpg  "
      ]
     },
     "execution_count": 32,
     "metadata": {},
     "output_type": "execute_result"
    }
   ],
   "source": [
    "## Checking results\n",
    "beer_styles.sample(5)"
   ]
  },
  {
   "cell_type": "code",
   "execution_count": 33,
   "metadata": {
    "ExecuteTime": {
     "end_time": "2020-05-20T17:09:03.664190Z",
     "start_time": "2020-05-20T17:09:03.648180Z"
    }
   },
   "outputs": [],
   "source": [
    "## Saving the DataFrame into a CSV file\n",
    "beer_styles.to_csv('data/beer_final.csv')"
   ]
  },
  {
   "cell_type": "code",
   "execution_count": null,
   "metadata": {},
   "outputs": [],
   "source": []
  }
 ],
 "metadata": {
  "hide_input": false,
  "kernelspec": {
   "display_name": "Python 3",
   "language": "python",
   "name": "python3"
  },
  "language_info": {
   "codemirror_mode": {
    "name": "ipython",
    "version": 3
   },
   "file_extension": ".py",
   "mimetype": "text/x-python",
   "name": "python",
   "nbconvert_exporter": "python",
   "pygments_lexer": "ipython3",
   "version": "3.7.1"
  },
  "toc": {
   "base_numbering": 1,
   "nav_menu": {},
   "number_sections": true,
   "sideBar": true,
   "skip_h1_title": false,
   "title_cell": "Table of Contents",
   "title_sidebar": "Contents",
   "toc_cell": false,
   "toc_position": {},
   "toc_section_display": true,
   "toc_window_display": false
  },
  "varInspector": {
   "cols": {
    "lenName": 16,
    "lenType": 16,
    "lenVar": 40
   },
   "kernels_config": {
    "python": {
     "delete_cmd_postfix": "",
     "delete_cmd_prefix": "del ",
     "library": "var_list.py",
     "varRefreshCmd": "print(var_dic_list())"
    },
    "r": {
     "delete_cmd_postfix": ") ",
     "delete_cmd_prefix": "rm(",
     "library": "var_list.r",
     "varRefreshCmd": "cat(var_dic_list()) "
    }
   },
   "types_to_exclude": [
    "module",
    "function",
    "builtin_function_or_method",
    "instance",
    "_Feature"
   ],
   "window_display": false
  }
 },
 "nbformat": 4,
 "nbformat_minor": 4
}
