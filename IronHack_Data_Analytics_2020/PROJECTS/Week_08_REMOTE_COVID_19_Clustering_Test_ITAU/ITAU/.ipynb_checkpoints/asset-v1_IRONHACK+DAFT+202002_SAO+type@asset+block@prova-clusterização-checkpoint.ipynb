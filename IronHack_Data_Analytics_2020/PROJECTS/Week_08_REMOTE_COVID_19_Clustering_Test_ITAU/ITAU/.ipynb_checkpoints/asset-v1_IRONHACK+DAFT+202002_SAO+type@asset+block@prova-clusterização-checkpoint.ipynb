{
 "cells": [
  {
   "cell_type": "markdown",
   "metadata": {},
   "source": [
    "# Prova Itaú\n",
    "\n",
    "## Clustering"
   ]
  },
  {
   "cell_type": "markdown",
   "metadata": {},
   "source": [
    "<b>Questão 1) </b> Considerando os dados presentes no arquivo clus01.csv, execute o algoritmo K-Means com o posicionamento inicial dos centroides sendo: [1, 1, 1, 1], [-1, -1, -1, -1] e [1, -1, 1, -1]. Qual é o posicionamento final de cada centroide após 10 iterações?"
   ]
  },
  {
   "cell_type": "code",
   "execution_count": 11,
   "metadata": {},
   "outputs": [],
   "source": [
    "import pandas as pd\n",
    "import numpy as np\n",
    "df = pd.read_csv('asset-v1_IRONHACK+DAFT+202002_SAO+type@asset+block@clus01.csv')"
   ]
  },
  {
   "cell_type": "code",
   "execution_count": 2,
   "metadata": {},
   "outputs": [
    {
     "data": {
      "text/html": [
       "<div>\n",
       "<style scoped>\n",
       "    .dataframe tbody tr th:only-of-type {\n",
       "        vertical-align: middle;\n",
       "    }\n",
       "\n",
       "    .dataframe tbody tr th {\n",
       "        vertical-align: top;\n",
       "    }\n",
       "\n",
       "    .dataframe thead th {\n",
       "        text-align: right;\n",
       "    }\n",
       "</style>\n",
       "<table border=\"1\" class=\"dataframe\">\n",
       "  <thead>\n",
       "    <tr style=\"text-align: right;\">\n",
       "      <th></th>\n",
       "      <th>x0</th>\n",
       "      <th>x1</th>\n",
       "      <th>x2</th>\n",
       "      <th>x3</th>\n",
       "    </tr>\n",
       "  </thead>\n",
       "  <tbody>\n",
       "    <tr>\n",
       "      <th>0</th>\n",
       "      <td>-0.450370</td>\n",
       "      <td>-2.244377</td>\n",
       "      <td>-0.499678</td>\n",
       "      <td>-1.163607</td>\n",
       "    </tr>\n",
       "    <tr>\n",
       "      <th>1</th>\n",
       "      <td>1.866159</td>\n",
       "      <td>-1.180407</td>\n",
       "      <td>1.898348</td>\n",
       "      <td>-1.072512</td>\n",
       "    </tr>\n",
       "    <tr>\n",
       "      <th>2</th>\n",
       "      <td>-1.731385</td>\n",
       "      <td>0.248746</td>\n",
       "      <td>0.177045</td>\n",
       "      <td>-1.618708</td>\n",
       "    </tr>\n",
       "  </tbody>\n",
       "</table>\n",
       "</div>"
      ],
      "text/plain": [
       "         x0        x1        x2        x3\n",
       "0 -0.450370 -2.244377 -0.499678 -1.163607\n",
       "1  1.866159 -1.180407  1.898348 -1.072512\n",
       "2 -1.731385  0.248746  0.177045 -1.618708"
      ]
     },
     "execution_count": 2,
     "metadata": {},
     "output_type": "execute_result"
    }
   ],
   "source": [
    "df.head(3)"
   ]
  },
  {
   "cell_type": "code",
   "execution_count": 13,
   "metadata": {},
   "outputs": [],
   "source": [
    "centroides = np.array([[1, 1, 1, 1],\n",
    "              [-1, -1, -1, -1],\n",
    "              [1, -1, 1, -1]])"
   ]
  },
  {
   "cell_type": "code",
   "execution_count": 6,
   "metadata": {},
   "outputs": [],
   "source": [
    "from sklearn.cluster import KMeans"
   ]
  },
  {
   "cell_type": "code",
   "execution_count": 59,
   "metadata": {},
   "outputs": [
    {
     "data": {
      "text/plain": [
       "KMeans(algorithm='auto', copy_x=True,\n",
       "    init=array([[ 1,  1,  1,  1],\n",
       "       [-1, -1, -1, -1],\n",
       "       [ 1, -1,  1, -1]]),\n",
       "    max_iter=10, n_clusters=3, n_init=1, n_jobs=None,\n",
       "    precompute_distances='auto', random_state=None, tol=1e-15, verbose=0)"
      ]
     },
     "execution_count": 59,
     "metadata": {},
     "output_type": "execute_result"
    }
   ],
   "source": [
    "# 1e-15 é dez à menos 15, zero absoluto em maquina 0,0000000000000001\n",
    "kmeans = KMeans(n_clusters=3, init=centroides, n_init=1, max_iter=10, tol=1e-15)\n",
    "kmeans.fit(df)"
   ]
  },
  {
   "cell_type": "code",
   "execution_count": 60,
   "metadata": {},
   "outputs": [
    {
     "data": {
      "text/plain": [
       "array([[ 1.01857475,  1.02553514,  0.99664363,  1.02959381],\n",
       "       [-1.00267381, -1.04904824, -1.03936684, -1.01122186],\n",
       "       [ 1.01263451, -1.00925279,  0.97363445, -0.99575976]])"
      ]
     },
     "execution_count": 60,
     "metadata": {},
     "output_type": "execute_result"
    }
   ],
   "source": [
    "kmeans.cluster_centers_"
   ]
  },
  {
   "cell_type": "code",
   "execution_count": 61,
   "metadata": {},
   "outputs": [
    {
     "data": {
      "text/plain": [
       "4"
      ]
     },
     "execution_count": 61,
     "metadata": {},
     "output_type": "execute_result"
    }
   ],
   "source": [
    "kmeans.n_iter_"
   ]
  },
  {
   "cell_type": "code",
   "execution_count": null,
   "metadata": {},
   "outputs": [],
   "source": []
  },
  {
   "cell_type": "markdown",
   "metadata": {},
   "source": [
    "<b>Questão 2)</b> Assinale as alternativas com V ou F para Verdadeiro ou Falso respectivamente. Atente para o fato que uma questão errada anula uma certa. Em caso de dúvidas deixe em branco.\n",
    "\n",
    "(**F**) O número mínimo de grupos no algoritmo K-Means é igual à raiz quadrada do número de elementos da base.\n",
    "\n",
    "Número mínimo de cluster é k=1"
   ]
  },
  {
   "cell_type": "markdown",
   "metadata": {},
   "source": [
    "(**F**) Devido à inicialização aleatória, o resultado final do K-Means sempre será o mesmo independentemente do critério de convergência.\n",
    "\n",
    "O algoritmo pode convergir para um ponto ótimo que não é global, mas sim local"
   ]
  },
  {
   "cell_type": "markdown",
   "metadata": {},
   "source": [
    "(**F**) O algoritmo K-Median é mais sensível a outliers do que os algoritmos K-Means, K-Mode e K-Medoid."
   ]
  },
  {
   "cell_type": "markdown",
   "metadata": {},
   "source": [
    "(**V**) O algoritmos Single-Linkage, Complete-Linkage e Average-Linkage são exemplos de algoritmos hierárquicos."
   ]
  },
  {
   "cell_type": "markdown",
   "metadata": {},
   "source": [
    "(**F**) Não é possível identificar outliers com algoritmos hierárquicos e, por este motivo, tais algoritmos requerem que os outliers sejam removidos numa etapa necessária de pré-processamento."
   ]
  },
  {
   "cell_type": "markdown",
   "metadata": {},
   "source": [
    "(**F**) Para conjuntos de dados com milhões de linhas é aconselhada a utilização de algoritmos hierárquicos em vez de algoritmos particionais pois aqueles calculam somente uma única matriz de distância."
   ]
  },
  {
   "cell_type": "markdown",
   "metadata": {},
   "source": [
    "(**V**) O Rand Index pode ser utilizado para mensurar a aderência entre o agrupamento obtido e um agrupamento de referência (por exemplo, dado por um especialista do domínio)."
   ]
  },
  {
   "cell_type": "markdown",
   "metadata": {},
   "source": [
    "(**V**) O DBScan é um exemplo de algoritmo de agrupamento baseado em densidade.\n",
    "\n",
    "**D**ensity **B**ased **Scan**ner"
   ]
  },
  {
   "cell_type": "markdown",
   "metadata": {},
   "source": [
    "(**F**) Para acelerar o tempo de processamento dos algoritmos de agrupamento baseados em densidade, pode-se calcular a distância de cada elemento para o centroide de cada um dos grupos.\n",
    "\n",
    "Não existe centróide em algoritmo de densidade. E sim o epsilon."
   ]
  },
  {
   "cell_type": "markdown",
   "metadata": {},
   "source": [
    "(**V**) O número mínimo de variáveis necessárias para realizar um agrupamento é 1."
   ]
  },
  {
   "cell_type": "markdown",
   "metadata": {},
   "source": [
    "## Prova 2"
   ]
  },
  {
   "cell_type": "markdown",
   "metadata": {},
   "source": [
    "<b>Questão 1)</b> Considerando os dados do arquivo agrupamento_Q1.csv, execute o algoritmo K-means com 10 iterações tendo como posiçãoo inicial dos centroides de cada cluster as K primeiras linhas do arquivo agrup_centroides_Q1.csv. Por exemplo, para executar o algoritmo com 3 clusters considere os centroides determinados pelas 3 primeiras linhas do arquivo.\n",
    "\n",
    "Qual a quantidade ideal de clusters? Qual o posicionamento final dos centroides do caso ideal?"
   ]
  },
  {
   "cell_type": "code",
   "execution_count": 81,
   "metadata": {},
   "outputs": [
    {
     "data": {
      "text/html": [
       "<div>\n",
       "<style scoped>\n",
       "    .dataframe tbody tr th:only-of-type {\n",
       "        vertical-align: middle;\n",
       "    }\n",
       "\n",
       "    .dataframe tbody tr th {\n",
       "        vertical-align: top;\n",
       "    }\n",
       "\n",
       "    .dataframe thead th {\n",
       "        text-align: right;\n",
       "    }\n",
       "</style>\n",
       "<table border=\"1\" class=\"dataframe\">\n",
       "  <thead>\n",
       "    <tr style=\"text-align: right;\">\n",
       "      <th></th>\n",
       "      <th>X1</th>\n",
       "      <th>X2</th>\n",
       "      <th>X3</th>\n",
       "      <th>X4</th>\n",
       "    </tr>\n",
       "  </thead>\n",
       "  <tbody>\n",
       "    <tr>\n",
       "      <th>0</th>\n",
       "      <td>-0.075701</td>\n",
       "      <td>0.470857</td>\n",
       "      <td>0.133139</td>\n",
       "      <td>-0.152900</td>\n",
       "    </tr>\n",
       "    <tr>\n",
       "      <th>1</th>\n",
       "      <td>-0.328561</td>\n",
       "      <td>0.427323</td>\n",
       "      <td>-0.181237</td>\n",
       "      <td>-0.173041</td>\n",
       "    </tr>\n",
       "    <tr>\n",
       "      <th>2</th>\n",
       "      <td>-0.470727</td>\n",
       "      <td>-0.150515</td>\n",
       "      <td>0.000954</td>\n",
       "      <td>0.070937</td>\n",
       "    </tr>\n",
       "  </tbody>\n",
       "</table>\n",
       "</div>"
      ],
      "text/plain": [
       "         X1        X2        X3        X4\n",
       "0 -0.075701  0.470857  0.133139 -0.152900\n",
       "1 -0.328561  0.427323 -0.181237 -0.173041\n",
       "2 -0.470727 -0.150515  0.000954  0.070937"
      ]
     },
     "execution_count": 81,
     "metadata": {},
     "output_type": "execute_result"
    }
   ],
   "source": [
    "agrup = pd.read_csv('asset-v1_IRONHACK+DAFT+202002_SAO+type@asset+block@agrupamento_Q1.csv')\n",
    "agrup.head(3)"
   ]
  },
  {
   "cell_type": "code",
   "execution_count": 82,
   "metadata": {},
   "outputs": [],
   "source": [
    "from sklearn.metrics import silhouette_score"
   ]
  },
  {
   "cell_type": "code",
   "execution_count": 83,
   "metadata": {},
   "outputs": [
    {
     "data": {
      "text/html": [
       "<div>\n",
       "<style scoped>\n",
       "    .dataframe tbody tr th:only-of-type {\n",
       "        vertical-align: middle;\n",
       "    }\n",
       "\n",
       "    .dataframe tbody tr th {\n",
       "        vertical-align: top;\n",
       "    }\n",
       "\n",
       "    .dataframe thead th {\n",
       "        text-align: right;\n",
       "    }\n",
       "</style>\n",
       "<table border=\"1\" class=\"dataframe\">\n",
       "  <thead>\n",
       "    <tr style=\"text-align: right;\">\n",
       "      <th></th>\n",
       "      <th>X1</th>\n",
       "      <th>X2</th>\n",
       "      <th>X3</th>\n",
       "      <th>X4</th>\n",
       "    </tr>\n",
       "  </thead>\n",
       "  <tbody>\n",
       "    <tr>\n",
       "      <th>1</th>\n",
       "      <td>1.488531</td>\n",
       "      <td>-0.430586</td>\n",
       "      <td>0.208942</td>\n",
       "      <td>0.018485</td>\n",
       "    </tr>\n",
       "    <tr>\n",
       "      <th>2</th>\n",
       "      <td>0.149391</td>\n",
       "      <td>1.549535</td>\n",
       "      <td>0.219688</td>\n",
       "      <td>0.917854</td>\n",
       "    </tr>\n",
       "    <tr>\n",
       "      <th>3</th>\n",
       "      <td>1.276714</td>\n",
       "      <td>0.844500</td>\n",
       "      <td>1.211906</td>\n",
       "      <td>-0.494781</td>\n",
       "    </tr>\n",
       "  </tbody>\n",
       "</table>\n",
       "</div>"
      ],
      "text/plain": [
       "         X1        X2        X3        X4\n",
       "1  1.488531 -0.430586  0.208942  0.018485\n",
       "2  0.149391  1.549535  0.219688  0.917854\n",
       "3  1.276714  0.844500  1.211906 -0.494781"
      ]
     },
     "execution_count": 83,
     "metadata": {},
     "output_type": "execute_result"
    }
   ],
   "source": [
    "centers = pd.read_csv('asset-v1_IRONHACK+DAFT+202002_SAO+type@asset+block@agrup_centroides_Q1.csv', index_col=0)\n",
    "centers.head(3)"
   ]
  },
  {
   "cell_type": "code",
   "execution_count": 91,
   "metadata": {},
   "outputs": [
    {
     "name": "stdout",
     "output_type": "stream",
     "text": [
      "1\n",
      "2\n",
      "3\n",
      "4\n",
      "5\n",
      "6\n",
      "7\n",
      "8\n",
      "9\n",
      "10\n",
      "11\n",
      "12\n"
     ]
    }
   ],
   "source": [
    "distortions = []\n",
    "silhouettes = []\n",
    "\n",
    "for k in range(1, 13):\n",
    "    each_centroid = centers.iloc[0:k, :]\n",
    "    print(k)\n",
    "    kmeans = KMeans(n_clusters=k, init=each_centroid, n_init=1, max_iter=10)\n",
    "    kmeans.fit(agrup)\n",
    "    distortions.append(kmeans.inertia_)\n",
    "    if k > 1:\n",
    "        silhouettes.append(silhouette_score(agrup, kmeans.labels_))\n"
   ]
  },
  {
   "cell_type": "code",
   "execution_count": 92,
   "metadata": {},
   "outputs": [
    {
     "data": {
      "text/plain": [
       "[877.9936904330698,\n",
       " 530.9283567998069,\n",
       " 349.85171676421714,\n",
       " 255.72549496840668,\n",
       " 160.01290434837847,\n",
       " 154.06580485222804,\n",
       " 149.17577346787732,\n",
       " 142.65221196126484,\n",
       " 138.6192585735264,\n",
       " 136.2627570294469,\n",
       " 129.41056235124267,\n",
       " 127.73000149963991]"
      ]
     },
     "execution_count": 92,
     "metadata": {},
     "output_type": "execute_result"
    }
   ],
   "source": [
    "distortions"
   ]
  },
  {
   "cell_type": "code",
   "execution_count": 93,
   "metadata": {},
   "outputs": [
    {
     "data": {
      "text/plain": [
       "[0.37769968946322263,\n",
       " 0.4311863724028486,\n",
       " 0.4367436739809729,\n",
       " 0.48701214584287533,\n",
       " 0.41267403204713576,\n",
       " 0.4152122737912366,\n",
       " 0.3640595542115239,\n",
       " 0.3621266685160374,\n",
       " 0.36140207766995297,\n",
       " 0.29780261710296396,\n",
       " 0.28119357383441806]"
      ]
     },
     "execution_count": 93,
     "metadata": {},
     "output_type": "execute_result"
    }
   ],
   "source": [
    "silhouettes"
   ]
  },
  {
   "cell_type": "code",
   "execution_count": 89,
   "metadata": {},
   "outputs": [
    {
     "data": {
      "image/png": "[encoded data removed]",
      "text/plain": [
       "<Figure size 576x396 with 2 Axes>"
      ]
     },
     "metadata": {},
     "output_type": "display_data"
    },
    {
     "data": {
      "text/plain": [
       "<matplotlib.axes._subplots.AxesSubplot at 0x1a80da12898>"
      ]
     },
     "execution_count": 89,
     "metadata": {},
     "output_type": "execute_result"
    }
   ],
   "source": [
    "from yellowbrick.cluster import KElbowVisualizer\n",
    "model = KMeans(max_iter=10)\n",
    "visualizer = KElbowVisualizer(model, k=(1,12))\n",
    "\n",
    "visualizer.fit(agrup)        # Fit the data to the visualizer\n",
    "visualizer.show()        # Finalize and render the figure"
   ]
  },
  {
   "cell_type": "code",
   "execution_count": 95,
   "metadata": {},
   "outputs": [
    {
     "data": {
      "text/plain": [
       "array([[ 1.00809727e+00,  5.65625680e-03, -6.05882233e-03,\n",
       "         2.93292716e-02],\n",
       "       [ 9.95561737e-01,  6.26153151e-04, -7.80409753e-03,\n",
       "         1.00152120e+00],\n",
       "       [ 9.95952697e-01,  6.46273222e-03,  9.99718008e-01,\n",
       "         3.14721258e-03],\n",
       "       [-3.47147275e-02,  1.63162909e-02,  1.04264751e-02,\n",
       "        -1.62407503e-02],\n",
       "       [ 9.90740088e-01,  9.93047773e-01,  9.69936615e-01,\n",
       "        -4.06482259e-03]])"
      ]
     },
     "execution_count": 95,
     "metadata": {},
     "output_type": "execute_result"
    }
   ],
   "source": [
    "centroids = centers.iloc[0:5, :]\n",
    "kmeans = KMeans(n_clusters=5, init=centroids, n_init=1, max_iter=10)\n",
    "kmeans.fit(agrup)\n",
    "kmeans.cluster_centers_"
   ]
  },
  {
   "cell_type": "code",
   "execution_count": null,
   "metadata": {},
   "outputs": [],
   "source": [
    "\"\"\"\n",
    "Numero de cluster = 5\n",
    "\n",
    "Posicionamento final dos centroides\n",
    "[[ 1.00809727e+00,  5.65625680e-03, -6.05882233e-03,\n",
    "         2.93292716e-02],\n",
    "       [ 9.95561737e-01,  6.26153151e-04, -7.80409753e-03,\n",
    "         1.00152120e+00],\n",
    "       [ 9.95952697e-01,  6.46273222e-03,  9.99718008e-01,\n",
    "         3.14721258e-03],\n",
    "       [-3.47147275e-02,  1.63162909e-02,  1.04264751e-02,\n",
    "        -1.62407503e-02],\n",
    "       [ 9.90740088e-01,  9.93047773e-01,  9.69936615e-01,\n",
    "        -4.06482259e-03]]\n",
    "\"\"\""
   ]
  },
  {
   "cell_type": "markdown",
   "metadata": {},
   "source": [
    "<b>Questão 2)</b> Assinale as alternativas com V ou F para Verdadeiro ou Falso respectivamente. Atente para o fato que uma questão errada anula uma certa. Em caso de dúvidas deixe em branco."
   ]
  },
  {
   "cell_type": "markdown",
   "metadata": {},
   "source": [
    "(**F**) O algoritmo K-means se baseia num processo iterativo que minimiza a soma das distâncias entre os centroides e os pontos dentro de cada agrupamento.\n",
    "\n",
    "Soma das distancias ao quadrado(variancia). K-means tenta minimizar as variancias"
   ]
  },
  {
   "cell_type": "markdown",
   "metadata": {},
   "source": [
    "(**F**) O algoritmo K-means é pouco sensível a inicialização dos centroides e resulta sempre nos mesmos agrupamentos."
   ]
  },
  {
   "cell_type": "markdown",
   "metadata": {},
   "source": [
    "(**F**) Os centroides determinados pelo algoritmo K-means necessariamente pertencem ao conjunto de dados analisados"
   ]
  },
  {
   "cell_type": "markdown",
   "metadata": {},
   "source": [
    "(**F**) O algoritmo K-median é mais sensível a outliers do que o algoritmo K-means."
   ]
  },
  {
   "cell_type": "markdown",
   "metadata": {},
   "source": [
    "(**F**) O algoritmo GMM (Gaussian Mixture Models) presume que os dados a serem agrupados provém de uma distribuição unimodal."
   ]
  },
  {
   "cell_type": "markdown",
   "metadata": {},
   "source": [
    "(**F**) Não é possível identificar outliers com algoritmos hierárquicos e, por este motivo, tais algoritmos requerem que os outliers sejam tratados em uma etapa necessária de pré-processamento."
   ]
  },
  {
   "cell_type": "markdown",
   "metadata": {},
   "source": [
    "(**V**) Algoritmos particionais são tipicamente mais eficientes computacionalmente do que algoritmos hierárquicos."
   ]
  },
  {
   "cell_type": "markdown",
   "metadata": {},
   "source": [
    "(**V**) Diferentemente do K-means, o DBScan é um algoritmo capaz de identificar agrupamentos com fomato de anéis concêntricos."
   ]
  },
  {
   "cell_type": "markdown",
   "metadata": {},
   "source": [
    "( ) Uma maneira eficaz de mensurar a semelhança entre dois vetores unitários de alta dimensão é calcular o produto interno entre os dois."
   ]
  },
  {
   "cell_type": "code",
   "execution_count": null,
   "metadata": {},
   "outputs": [],
   "source": []
  }
 ],
 "metadata": {
  "hide_input": false,
  "kernelspec": {
   "display_name": "Python 3",
   "language": "python",
   "name": "python3"
  },
  "language_info": {
   "codemirror_mode": {
    "name": "ipython",
    "version": 3
   },
   "file_extension": ".py",
   "mimetype": "text/x-python",
   "name": "python",
   "nbconvert_exporter": "python",
   "pygments_lexer": "ipython3",
   "version": "3.7.1"
  },
  "toc": {
   "base_numbering": 1,
   "nav_menu": {},
   "number_sections": true,
   "sideBar": true,
   "skip_h1_title": false,
   "title_cell": "Table of Contents",
   "title_sidebar": "Contents",
   "toc_cell": false,
   "toc_position": {},
   "toc_section_display": true,
   "toc_window_display": false
  },
  "varInspector": {
   "cols": {
    "lenName": 16,
    "lenType": 16,
    "lenVar": 40
   },
   "kernels_config": {
    "python": {
     "delete_cmd_postfix": "",
     "delete_cmd_prefix": "del ",
     "library": "var_list.py",
     "varRefreshCmd": "print(var_dic_list())"
    },
    "r": {
     "delete_cmd_postfix": ") ",
     "delete_cmd_prefix": "rm(",
     "library": "var_list.r",
     "varRefreshCmd": "cat(var_dic_list()) "
    }
   },
   "types_to_exclude": [
    "module",
    "function",
    "builtin_function_or_method",
    "instance",
    "_Feature"
   ],
   "window_display": false
  }
 },
 "nbformat": 4,
 "nbformat_minor": 2
}
