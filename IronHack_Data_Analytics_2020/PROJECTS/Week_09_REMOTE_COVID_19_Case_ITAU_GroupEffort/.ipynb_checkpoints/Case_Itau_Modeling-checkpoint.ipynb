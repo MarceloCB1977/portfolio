{
 "cells": [
  {
   "cell_type": "markdown",
   "metadata": {},
   "source": [
    "# Manipulation part 1"
   ]
  },
  {
   "cell_type": "code",
   "execution_count": 1,
   "metadata": {},
   "outputs": [],
   "source": [
    "import pandas as pd"
   ]
  },
  {
   "cell_type": "code",
   "execution_count": 43,
   "metadata": {},
   "outputs": [],
   "source": [
    "data = pd.read_csv('rain_data_complete.csv')"
   ]
  },
  {
   "cell_type": "code",
   "execution_count": 44,
   "metadata": {},
   "outputs": [
    {
     "data": {
      "text/plain": [
       "Unnamed: 0           0.0000\n",
       "date                 0.0000\n",
       "location             0.0000\n",
       "mintemp              0.4480\n",
       "maxtemp              0.2265\n",
       "rainfall             0.9888\n",
       "evaporation         42.7890\n",
       "sunshine            47.6929\n",
       "humidity9am          1.2476\n",
       "humidity3pm          2.5388\n",
       "pressure9am          9.8556\n",
       "pressure3pm          9.8324\n",
       "cloud9am            37.7353\n",
       "cloud3pm            40.1525\n",
       "temp9am              0.6358\n",
       "temp3pm              1.9171\n",
       "raintoday            0.9888\n",
       "amountOfRain         0.0000\n",
       "raintomorrow         0.0000\n",
       "temp                 0.2265\n",
       "humidity             2.5388\n",
       "precipitation3pm     0.0000\n",
       "precipitation9am     0.0000\n",
       "modelo_vigente       0.0000\n",
       "windgustdir          6.5615\n",
       "windgustspeed        6.5193\n",
       "winddir9am           7.0418\n",
       "winddir3pm           2.6570\n",
       "windspeed9am         0.9480\n",
       "windspeed3pm         1.8496\n",
       "dtype: float64"
      ]
     },
     "execution_count": 44,
     "metadata": {},
     "output_type": "execute_result"
    }
   ],
   "source": [
    "round((data.isna().sum())*100/data.shape[0],4)"
   ]
  },
  {
   "cell_type": "code",
   "execution_count": 273,
   "metadata": {},
   "outputs": [],
   "source": [
    "prep = data[['raintoday','raintomorrow']]"
   ]
  },
  {
   "cell_type": "code",
   "execution_count": null,
   "metadata": {},
   "outputs": [],
   "source": [
    "prep"
   ]
  },
  {
   "cell_type": "code",
   "execution_count": null,
   "metadata": {},
   "outputs": [],
   "source": []
  },
  {
   "cell_type": "code",
   "execution_count": null,
   "metadata": {},
   "outputs": [],
   "source": []
  },
  {
   "cell_type": "code",
   "execution_count": 326,
   "metadata": {},
   "outputs": [
    {
     "data": {
      "text/plain": [
       "Index(['Canberra', 'Sydney', 'Perth', 'Darwin', 'Hobart', 'Brisbane',\n",
       "       'Adelaide', 'Bendigo', 'Townsville', 'AliceSprings', 'MountGambier',\n",
       "       'Ballarat', 'Launceston', 'Albany', 'Albury', 'MelbourneAirport',\n",
       "       'PerthAirport', 'Mildura', 'SydneyAirport', 'Nuriootpa', 'Sale',\n",
       "       'Watsonia', 'Tuggeranong', 'Portland', 'Woomera', 'Cairns', 'Cobar',\n",
       "       'Wollongong', 'GoldCoast', 'WaggaWagga', 'Penrith', 'NorfolkIsland',\n",
       "       'Newcastle', 'SalmonGums', 'CoffsHarbour', 'Witchcliffe', 'Richmond',\n",
       "       'Dartmoor', 'NorahHead', 'BadgerysCreek', 'MountGinini', 'Moree',\n",
       "       'Walpole', 'PearceRAAF', 'Williamtown', 'Melbourne', 'Nhil',\n",
       "       'Katherine', 'Uluru'],\n",
       "      dtype='object')"
      ]
     },
     "execution_count": 326,
     "metadata": {},
     "output_type": "execute_result"
    }
   ],
   "source": [
    "data['location'].value_counts().keys()"
   ]
  },
  {
   "cell_type": "code",
   "execution_count": 327,
   "metadata": {},
   "outputs": [],
   "source": [
    "data = data.drop(columns=['evaporation', 'sunshine', 'cloud9am', 'cloud3pm', 'amountOfRain', 'Unnamed: 0'])"
   ]
  },
  {
   "cell_type": "code",
   "execution_count": 328,
   "metadata": {},
   "outputs": [
    {
     "data": {
      "text/plain": [
       "date                0.0000\n",
       "location            0.0000\n",
       "mintemp             0.4480\n",
       "maxtemp             0.2265\n",
       "rainfall            0.9888\n",
       "humidity9am         1.2476\n",
       "humidity3pm         2.5388\n",
       "pressure9am         9.8556\n",
       "pressure3pm         9.8324\n",
       "temp9am             0.6358\n",
       "temp3pm             1.9171\n",
       "raintoday           0.9888\n",
       "raintomorrow        0.0000\n",
       "temp                0.2265\n",
       "humidity            2.5388\n",
       "precipitation3pm    0.0000\n",
       "precipitation9am    0.0000\n",
       "modelo_vigente      0.0000\n",
       "windgustdir         6.5615\n",
       "windgustspeed       6.5193\n",
       "winddir9am          7.0418\n",
       "winddir3pm          2.6570\n",
       "windspeed9am        0.9480\n",
       "windspeed3pm        1.8496\n",
       "dtype: float64"
      ]
     },
     "execution_count": 328,
     "metadata": {},
     "output_type": "execute_result"
    }
   ],
   "source": [
    "round((data.isna().sum())*100/data.shape[0],4)"
   ]
  },
  {
   "cell_type": "code",
   "execution_count": 329,
   "metadata": {},
   "outputs": [],
   "source": [
    "data = data.dropna()"
   ]
  },
  {
   "cell_type": "code",
   "execution_count": 330,
   "metadata": {},
   "outputs": [
    {
     "data": {
      "text/plain": [
       "Index(['date', 'location', 'mintemp', 'maxtemp', 'rainfall', 'humidity9am',\n",
       "       'humidity3pm', 'pressure9am', 'pressure3pm', 'temp9am', 'temp3pm',\n",
       "       'raintoday', 'raintomorrow', 'temp', 'humidity', 'precipitation3pm',\n",
       "       'precipitation9am', 'modelo_vigente', 'windgustdir', 'windgustspeed',\n",
       "       'winddir9am', 'winddir3pm', 'windspeed9am', 'windspeed3pm'],\n",
       "      dtype='object')"
      ]
     },
     "execution_count": 330,
     "metadata": {},
     "output_type": "execute_result"
    }
   ],
   "source": [
    "data.columns"
   ]
  },
  {
   "cell_type": "code",
   "execution_count": 331,
   "metadata": {},
   "outputs": [
    {
     "data": {
      "text/plain": [
       "(112925, 20)"
      ]
     },
     "execution_count": 331,
     "metadata": {},
     "output_type": "execute_result"
    }
   ],
   "source": [
    "X.shape"
   ]
  },
  {
   "cell_type": "code",
   "execution_count": 332,
   "metadata": {},
   "outputs": [
    {
     "data": {
      "text/plain": [
       "Index(['Darwin', 'Hobart', 'Perth', 'Brisbane', 'MelbourneAirport',\n",
       "       'SydneyAirport', 'PerthAirport', 'Cairns', 'Mildura', 'Woomera',\n",
       "       'MountGambier', 'Townsville', 'NorfolkIsland', 'Ballarat', 'GoldCoast',\n",
       "       'Portland', 'Cobar', 'WaggaWagga', 'Nuriootpa', 'NorahHead',\n",
       "       'Wollongong', 'AliceSprings', 'Adelaide', 'Watsonia', 'Sale',\n",
       "       'Canberra', 'Bendigo', 'Moree', 'CoffsHarbour', 'Walpole', 'PearceRAAF',\n",
       "       'Albury', 'BadgerysCreek', 'Witchcliffe', 'Tuggeranong', 'Dartmoor',\n",
       "       'Sydney', 'Melbourne', 'Williamtown', 'Richmond', 'Launceston', 'Nhil',\n",
       "       'Uluru', 'Katherine'],\n",
       "      dtype='object')"
      ]
     },
     "execution_count": 332,
     "metadata": {},
     "output_type": "execute_result"
    }
   ],
   "source": [
    "data.location.value_counts().index"
   ]
  },
  {
   "cell_type": "code",
   "execution_count": 333,
   "metadata": {},
   "outputs": [],
   "source": [
    "data['raintoday'] = data['raintoday'].apply(lambda x: 1 if x == 'Yes' else 0)\n",
    "data['raintomorrow'] = data['raintomorrow'].apply(lambda x: 1 if x == 'Yes' else 0)\n",
    "location_enc = data[['location', 'raintomorrow']]\n",
    "location_enc = round(location_enc.groupby('location').mean(),3)\n",
    "city = data.location.value_counts().index\n",
    "weight = location_enc.iloc[:,0]\n",
    "location_dictt = dict(zip(city.values, weight.values))\n",
    "data = data.replace({'location' : location_dictt})\n",
    "#data['location']= data['location'].map(location_dict) "
   ]
  },
  {
   "cell_type": "code",
   "execution_count": 50,
   "metadata": {},
   "outputs": [],
   "source": [
    "data['raintomorrow'] = data['raintomorrow'].apply(lambda x: 1 if x == 'Yes' else 0)"
   ]
  },
  {
   "cell_type": "code",
   "execution_count": null,
   "metadata": {},
   "outputs": [],
   "source": [
    "data['windgustdir'].value_counts()\n",
    "windgustdir_enc = data[['windgustdir', 'raintomorrow']]\n",
    "windgustdir_enc = round(windgustdir_enc.groupby('windgustdir').mean(),3)\n",
    "windgustdir_dic = dict(zip(windgustdir_enc.index, windgustdir_enc.iloc[:,0]))\n",
    "windgustdir_dic\n",
    "data = data.replace({'windgustdir' : windgustdir_dic})"
   ]
  },
  {
   "cell_type": "code",
   "execution_count": 397,
   "metadata": {},
   "outputs": [],
   "source": [
    "data['winddir9am'].value_counts()\n",
    "winddir9am_enc = data[['winddir9am', 'raintomorrow']]\n",
    "winddir9am_enc = round(winddir9am_enc.groupby('winddir9am').mean(),3)\n",
    "winddir9am_dic = dict(zip(winddir9am_enc.index, winddir9am_enc.iloc[:,0]))\n",
    "winddir9am_dic\n",
    "data = data.replace({'winddir9am' : winddir9am_dic})"
   ]
  },
  {
   "cell_type": "code",
   "execution_count": 365,
   "metadata": {},
   "outputs": [],
   "source": [
    "data['windgustdir'].value_counts()\n",
    "windgustdir_enc = data[['windgustdir', 'raintomorrow']]\n",
    "windgustdir_enc = round(windgustdir_enc.groupby('windgustdir').mean(),3)\n",
    "windgustdir_dic = dict(zip(windgustdir_enc.index, windgustdir_enc.iloc[:,0]))\n",
    "windgustdir_dic\n",
    "data = data.replace({'windgustdir' : windgustdir_dic})"
   ]
  },
  {
   "cell_type": "code",
   "execution_count": 399,
   "metadata": {},
   "outputs": [],
   "source": [
    "data['winddir3pm'].value_counts()\n",
    "winddir3pm_enc = data[['winddir3pm', 'raintomorrow']]\n",
    "winddir3pm_enc = round(winddir3pm_enc.groupby('winddir3pm').mean(),3)\n",
    "winddir3pm_dic = dict(zip(winddir3pm_enc.index, winddir3pm_enc.iloc[:,0]))\n",
    "winddir3pm_dic\n",
    "data = data.replace({'winddir3pm' : winddir3pm_dic})"
   ]
  },
  {
   "cell_type": "code",
   "execution_count": 393,
   "metadata": {},
   "outputs": [],
   "source": []
  },
  {
   "cell_type": "code",
   "execution_count": 401,
   "metadata": {},
   "outputs": [
    {
     "data": {
      "text/plain": [
       "date                 object\n",
       "location            float64\n",
       "mintemp             float64\n",
       "maxtemp             float64\n",
       "rainfall            float64\n",
       "humidity9am         float64\n",
       "humidity3pm         float64\n",
       "pressure9am         float64\n",
       "pressure3pm         float64\n",
       "temp9am             float64\n",
       "temp3pm             float64\n",
       "raintoday             int64\n",
       "raintomorrow          int64\n",
       "temp                float64\n",
       "humidity            float64\n",
       "precipitation3pm      int64\n",
       "precipitation9am    float64\n",
       "modelo_vigente      float64\n",
       "windgustdir         float64\n",
       "windgustspeed       float64\n",
       "winddir9am          float64\n",
       "winddir3pm          float64\n",
       "windspeed9am        float64\n",
       "windspeed3pm        float64\n",
       "dtype: object"
      ]
     },
     "execution_count": 401,
     "metadata": {},
     "output_type": "execute_result"
    }
   ],
   "source": [
    "data.dtypes"
   ]
  },
  {
   "cell_type": "code",
   "execution_count": 402,
   "metadata": {},
   "outputs": [],
   "source": [
    "data.to_csv('australia_ready.csv')"
   ]
  },
  {
   "cell_type": "code",
   "execution_count": 265,
   "metadata": {},
   "outputs": [
    {
     "data": {
      "text/html": [
       "<div>\n",
       "<style scoped>\n",
       "    .dataframe tbody tr th:only-of-type {\n",
       "        vertical-align: middle;\n",
       "    }\n",
       "\n",
       "    .dataframe tbody tr th {\n",
       "        vertical-align: top;\n",
       "    }\n",
       "\n",
       "    .dataframe thead tr th {\n",
       "        text-align: left;\n",
       "    }\n",
       "\n",
       "    .dataframe thead tr:last-of-type th {\n",
       "        text-align: right;\n",
       "    }\n",
       "</style>\n",
       "<table border=\"1\" class=\"dataframe\">\n",
       "  <thead>\n",
       "    <tr>\n",
       "      <th></th>\n",
       "      <th colspan=\"8\" halign=\"left\">raintoday</th>\n",
       "    </tr>\n",
       "    <tr>\n",
       "      <th></th>\n",
       "      <th>count</th>\n",
       "      <th>mean</th>\n",
       "      <th>std</th>\n",
       "      <th>min</th>\n",
       "      <th>25%</th>\n",
       "      <th>50%</th>\n",
       "      <th>75%</th>\n",
       "      <th>max</th>\n",
       "    </tr>\n",
       "    <tr>\n",
       "      <th>windgustdir</th>\n",
       "      <th></th>\n",
       "      <th></th>\n",
       "      <th></th>\n",
       "      <th></th>\n",
       "      <th></th>\n",
       "      <th></th>\n",
       "      <th></th>\n",
       "      <th></th>\n",
       "    </tr>\n",
       "  </thead>\n",
       "  <tbody>\n",
       "    <tr>\n",
       "      <th>E</th>\n",
       "      <td>7835.0</td>\n",
       "      <td>0.144990</td>\n",
       "      <td>0.352114</td>\n",
       "      <td>0.0</td>\n",
       "      <td>0.0</td>\n",
       "      <td>0.0</td>\n",
       "      <td>0.0</td>\n",
       "      <td>1.0</td>\n",
       "    </tr>\n",
       "    <tr>\n",
       "      <th>ENE</th>\n",
       "      <td>6759.0</td>\n",
       "      <td>0.147359</td>\n",
       "      <td>0.354490</td>\n",
       "      <td>0.0</td>\n",
       "      <td>0.0</td>\n",
       "      <td>0.0</td>\n",
       "      <td>0.0</td>\n",
       "      <td>1.0</td>\n",
       "    </tr>\n",
       "    <tr>\n",
       "      <th>ESE</th>\n",
       "      <td>6223.0</td>\n",
       "      <td>0.175478</td>\n",
       "      <td>0.380406</td>\n",
       "      <td>0.0</td>\n",
       "      <td>0.0</td>\n",
       "      <td>0.0</td>\n",
       "      <td>0.0</td>\n",
       "      <td>1.0</td>\n",
       "    </tr>\n",
       "    <tr>\n",
       "      <th>N</th>\n",
       "      <td>7679.0</td>\n",
       "      <td>0.158224</td>\n",
       "      <td>0.364974</td>\n",
       "      <td>0.0</td>\n",
       "      <td>0.0</td>\n",
       "      <td>0.0</td>\n",
       "      <td>0.0</td>\n",
       "      <td>1.0</td>\n",
       "    </tr>\n",
       "    <tr>\n",
       "      <th>NE</th>\n",
       "      <td>6053.0</td>\n",
       "      <td>0.132661</td>\n",
       "      <td>0.339237</td>\n",
       "      <td>0.0</td>\n",
       "      <td>0.0</td>\n",
       "      <td>0.0</td>\n",
       "      <td>0.0</td>\n",
       "      <td>1.0</td>\n",
       "    </tr>\n",
       "    <tr>\n",
       "      <th>NNE</th>\n",
       "      <td>5490.0</td>\n",
       "      <td>0.141530</td>\n",
       "      <td>0.348599</td>\n",
       "      <td>0.0</td>\n",
       "      <td>0.0</td>\n",
       "      <td>0.0</td>\n",
       "      <td>0.0</td>\n",
       "      <td>1.0</td>\n",
       "    </tr>\n",
       "    <tr>\n",
       "      <th>NNW</th>\n",
       "      <td>5234.0</td>\n",
       "      <td>0.200611</td>\n",
       "      <td>0.400496</td>\n",
       "      <td>0.0</td>\n",
       "      <td>0.0</td>\n",
       "      <td>0.0</td>\n",
       "      <td>0.0</td>\n",
       "      <td>1.0</td>\n",
       "    </tr>\n",
       "    <tr>\n",
       "      <th>NW</th>\n",
       "      <td>6404.0</td>\n",
       "      <td>0.237820</td>\n",
       "      <td>0.425782</td>\n",
       "      <td>0.0</td>\n",
       "      <td>0.0</td>\n",
       "      <td>0.0</td>\n",
       "      <td>0.0</td>\n",
       "      <td>1.0</td>\n",
       "    </tr>\n",
       "    <tr>\n",
       "      <th>S</th>\n",
       "      <td>7728.0</td>\n",
       "      <td>0.280021</td>\n",
       "      <td>0.449038</td>\n",
       "      <td>0.0</td>\n",
       "      <td>0.0</td>\n",
       "      <td>0.0</td>\n",
       "      <td>1.0</td>\n",
       "      <td>1.0</td>\n",
       "    </tr>\n",
       "    <tr>\n",
       "      <th>SE</th>\n",
       "      <td>8087.0</td>\n",
       "      <td>0.206628</td>\n",
       "      <td>0.404911</td>\n",
       "      <td>0.0</td>\n",
       "      <td>0.0</td>\n",
       "      <td>0.0</td>\n",
       "      <td>0.0</td>\n",
       "      <td>1.0</td>\n",
       "    </tr>\n",
       "    <tr>\n",
       "      <th>SSE</th>\n",
       "      <td>7728.0</td>\n",
       "      <td>0.232790</td>\n",
       "      <td>0.422637</td>\n",
       "      <td>0.0</td>\n",
       "      <td>0.0</td>\n",
       "      <td>0.0</td>\n",
       "      <td>0.0</td>\n",
       "      <td>1.0</td>\n",
       "    </tr>\n",
       "    <tr>\n",
       "      <th>SSW</th>\n",
       "      <td>7379.0</td>\n",
       "      <td>0.287573</td>\n",
       "      <td>0.452662</td>\n",
       "      <td>0.0</td>\n",
       "      <td>0.0</td>\n",
       "      <td>0.0</td>\n",
       "      <td>1.0</td>\n",
       "      <td>1.0</td>\n",
       "    </tr>\n",
       "    <tr>\n",
       "      <th>SW</th>\n",
       "      <td>7575.0</td>\n",
       "      <td>0.286601</td>\n",
       "      <td>0.452203</td>\n",
       "      <td>0.0</td>\n",
       "      <td>0.0</td>\n",
       "      <td>0.0</td>\n",
       "      <td>1.0</td>\n",
       "      <td>1.0</td>\n",
       "    </tr>\n",
       "    <tr>\n",
       "      <th>W</th>\n",
       "      <td>8380.0</td>\n",
       "      <td>0.311456</td>\n",
       "      <td>0.463116</td>\n",
       "      <td>0.0</td>\n",
       "      <td>0.0</td>\n",
       "      <td>0.0</td>\n",
       "      <td>1.0</td>\n",
       "      <td>1.0</td>\n",
       "    </tr>\n",
       "    <tr>\n",
       "      <th>WNW</th>\n",
       "      <td>6742.0</td>\n",
       "      <td>0.283299</td>\n",
       "      <td>0.450634</td>\n",
       "      <td>0.0</td>\n",
       "      <td>0.0</td>\n",
       "      <td>0.0</td>\n",
       "      <td>1.0</td>\n",
       "      <td>1.0</td>\n",
       "    </tr>\n",
       "    <tr>\n",
       "      <th>WSW</th>\n",
       "      <td>7629.0</td>\n",
       "      <td>0.305414</td>\n",
       "      <td>0.460613</td>\n",
       "      <td>0.0</td>\n",
       "      <td>0.0</td>\n",
       "      <td>0.0</td>\n",
       "      <td>1.0</td>\n",
       "      <td>1.0</td>\n",
       "    </tr>\n",
       "  </tbody>\n",
       "</table>\n",
       "</div>"
      ],
      "text/plain": [
       "            raintoday                                             \n",
       "                count      mean       std  min  25%  50%  75%  max\n",
       "windgustdir                                                       \n",
       "E              7835.0  0.144990  0.352114  0.0  0.0  0.0  0.0  1.0\n",
       "ENE            6759.0  0.147359  0.354490  0.0  0.0  0.0  0.0  1.0\n",
       "ESE            6223.0  0.175478  0.380406  0.0  0.0  0.0  0.0  1.0\n",
       "N              7679.0  0.158224  0.364974  0.0  0.0  0.0  0.0  1.0\n",
       "NE             6053.0  0.132661  0.339237  0.0  0.0  0.0  0.0  1.0\n",
       "NNE            5490.0  0.141530  0.348599  0.0  0.0  0.0  0.0  1.0\n",
       "NNW            5234.0  0.200611  0.400496  0.0  0.0  0.0  0.0  1.0\n",
       "NW             6404.0  0.237820  0.425782  0.0  0.0  0.0  0.0  1.0\n",
       "S              7728.0  0.280021  0.449038  0.0  0.0  0.0  1.0  1.0\n",
       "SE             8087.0  0.206628  0.404911  0.0  0.0  0.0  0.0  1.0\n",
       "SSE            7728.0  0.232790  0.422637  0.0  0.0  0.0  0.0  1.0\n",
       "SSW            7379.0  0.287573  0.452662  0.0  0.0  0.0  1.0  1.0\n",
       "SW             7575.0  0.286601  0.452203  0.0  0.0  0.0  1.0  1.0\n",
       "W              8380.0  0.311456  0.463116  0.0  0.0  0.0  1.0  1.0\n",
       "WNW            6742.0  0.283299  0.450634  0.0  0.0  0.0  1.0  1.0\n",
       "WSW            7629.0  0.305414  0.460613  0.0  0.0  0.0  1.0  1.0"
      ]
     },
     "execution_count": 265,
     "metadata": {},
     "output_type": "execute_result"
    }
   ],
   "source": [
    "windgustdir_enc.groupby('windgustdir').describe()"
   ]
  },
  {
   "cell_type": "code",
   "execution_count": 52,
   "metadata": {},
   "outputs": [],
   "source": [
    "data['windgustdir'].value_counts()\n",
    "windgustdir_enc = data[['windgustdir', 'raintomorrow']]\n",
    "windgustdir_enc = round(windgustdir_enc.groupby('windgustdir').mean(),3)\n",
    "#windgustdir_dic = dict(zip(windgustdir_enc.index, windgustdir_enc.iloc[:,0]))\n",
    "#windgustdir_dic\n",
    "#data = data.replace({'windgustdir' : windgustdir_dic})"
   ]
  },
  {
   "cell_type": "code",
   "execution_count": 53,
   "metadata": {},
   "outputs": [
    {
     "data": {
      "text/html": [
       "<div>\n",
       "<style scoped>\n",
       "    .dataframe tbody tr th:only-of-type {\n",
       "        vertical-align: middle;\n",
       "    }\n",
       "\n",
       "    .dataframe tbody tr th {\n",
       "        vertical-align: top;\n",
       "    }\n",
       "\n",
       "    .dataframe thead th {\n",
       "        text-align: right;\n",
       "    }\n",
       "</style>\n",
       "<table border=\"1\" class=\"dataframe\">\n",
       "  <thead>\n",
       "    <tr style=\"text-align: right;\">\n",
       "      <th></th>\n",
       "      <th>raintomorrow</th>\n",
       "    </tr>\n",
       "    <tr>\n",
       "      <th>windgustdir</th>\n",
       "      <th></th>\n",
       "    </tr>\n",
       "  </thead>\n",
       "  <tbody>\n",
       "    <tr>\n",
       "      <th>E</th>\n",
       "      <td>0.149</td>\n",
       "    </tr>\n",
       "    <tr>\n",
       "      <th>ENE</th>\n",
       "      <td>0.161</td>\n",
       "    </tr>\n",
       "    <tr>\n",
       "      <th>ESE</th>\n",
       "      <td>0.164</td>\n",
       "    </tr>\n",
       "    <tr>\n",
       "      <th>N</th>\n",
       "      <td>0.271</td>\n",
       "    </tr>\n",
       "    <tr>\n",
       "      <th>NE</th>\n",
       "      <td>0.187</td>\n",
       "    </tr>\n",
       "    <tr>\n",
       "      <th>NNE</th>\n",
       "      <td>0.230</td>\n",
       "    </tr>\n",
       "    <tr>\n",
       "      <th>NNW</th>\n",
       "      <td>0.284</td>\n",
       "    </tr>\n",
       "    <tr>\n",
       "      <th>NW</th>\n",
       "      <td>0.285</td>\n",
       "    </tr>\n",
       "    <tr>\n",
       "      <th>S</th>\n",
       "      <td>0.225</td>\n",
       "    </tr>\n",
       "    <tr>\n",
       "      <th>SE</th>\n",
       "      <td>0.186</td>\n",
       "    </tr>\n",
       "    <tr>\n",
       "      <th>SSE</th>\n",
       "      <td>0.195</td>\n",
       "    </tr>\n",
       "    <tr>\n",
       "      <th>SSW</th>\n",
       "      <td>0.220</td>\n",
       "    </tr>\n",
       "    <tr>\n",
       "      <th>SW</th>\n",
       "      <td>0.205</td>\n",
       "    </tr>\n",
       "    <tr>\n",
       "      <th>W</th>\n",
       "      <td>0.267</td>\n",
       "    </tr>\n",
       "    <tr>\n",
       "      <th>WNW</th>\n",
       "      <td>0.282</td>\n",
       "    </tr>\n",
       "    <tr>\n",
       "      <th>WSW</th>\n",
       "      <td>0.234</td>\n",
       "    </tr>\n",
       "  </tbody>\n",
       "</table>\n",
       "</div>"
      ],
      "text/plain": [
       "             raintomorrow\n",
       "windgustdir              \n",
       "E                   0.149\n",
       "ENE                 0.161\n",
       "ESE                 0.164\n",
       "N                   0.271\n",
       "NE                  0.187\n",
       "NNE                 0.230\n",
       "NNW                 0.284\n",
       "NW                  0.285\n",
       "S                   0.225\n",
       "SE                  0.186\n",
       "SSE                 0.195\n",
       "SSW                 0.220\n",
       "SW                  0.205\n",
       "W                   0.267\n",
       "WNW                 0.282\n",
       "WSW                 0.234"
      ]
     },
     "execution_count": 53,
     "metadata": {},
     "output_type": "execute_result"
    }
   ],
   "source": [
    "windgustdir_enc"
   ]
  },
  {
   "cell_type": "code",
   "execution_count": 83,
   "metadata": {},
   "outputs": [
    {
     "data": {
      "text/plain": [
       "'Darwin'"
      ]
     },
     "execution_count": 83,
     "metadata": {},
     "output_type": "execute_result"
    }
   ],
   "source": [
    "for i in len(data.location.value_counts()):\n",
    "    (data.location.value_counts()[i])/"
   ]
  },
  {
   "cell_type": "code",
   "execution_count": 260,
   "metadata": {},
   "outputs": [],
   "source": [
    "X=data[['location', 'mintemp', 'maxtemp', 'rainfall',\n",
    "       'humidity9am', 'humidity3pm', 'pressure9am', 'pressure3pm', 'temp9am',\n",
    "       'temp3pm', 'temp', 'humidity', 'precipitation3pm',\n",
    "       'precipitation9am', 'windgustdir', 'windgustspeed',\n",
    "       'winddir9am', 'winddir3pm', 'windspeed9am', 'windspeed3pm']]\n",
    "\n",
    "y=data['raintoday']"
   ]
  },
  {
   "cell_type": "code",
   "execution_count": null,
   "metadata": {},
   "outputs": [],
   "source": []
  },
  {
   "cell_type": "code",
   "execution_count": null,
   "metadata": {},
   "outputs": [],
   "source": []
  },
  {
   "cell_type": "code",
   "execution_count": null,
   "metadata": {},
   "outputs": [],
   "source": []
  },
  {
   "cell_type": "code",
   "execution_count": null,
   "metadata": {},
   "outputs": [],
   "source": []
  },
  {
   "cell_type": "code",
   "execution_count": null,
   "metadata": {},
   "outputs": [],
   "source": []
  },
  {
   "cell_type": "code",
   "execution_count": null,
   "metadata": {},
   "outputs": [],
   "source": []
  },
  {
   "cell_type": "code",
   "execution_count": 51,
   "metadata": {},
   "outputs": [
    {
     "name": "stderr",
     "output_type": "stream",
     "text": [
      "C:\\Users\\Alvaro Camacho\\AppData\\Roaming\\Python\\Python37\\site-packages\\pandas\\core\\frame.py:3509: SettingWithCopyWarning: \n",
      "A value is trying to be set on a copy of a slice from a DataFrame.\n",
      "Try using .loc[row_indexer,col_indexer] = value instead\n",
      "\n",
      "See the caveats in the documentation: http://pandas.pydata.org/pandas-docs/stable/user_guide/indexing.html#returning-a-view-versus-a-copy\n",
      "  self[k1] = value[k2]\n"
     ]
    }
   ],
   "source": [
    "from sklearn.preprocessing import LabelEncoder\n",
    "labelencoder = LabelEncoder()\n",
    "labelencoder = LabelEncoder()\n",
    "A = X[['location']].apply(lambda A: labelencoder.fit_transform(A))\n",
    "A = A.astype(np.int64)\n",
    "X[['location']]=A\n"
   ]
  },
  {
   "cell_type": "code",
   "execution_count": 60,
   "metadata": {},
   "outputs": [],
   "source": [
    "X[['windgustdir']] = X[['windgustdir']].apply(lambda A: labelencoder.fit_transform(A))"
   ]
  },
  {
   "cell_type": "code",
   "execution_count": 58,
   "metadata": {},
   "outputs": [
    {
     "name": "stderr",
     "output_type": "stream",
     "text": [
      "C:\\Users\\Alvaro Camacho\\Anaconda3\\lib\\site-packages\\ipykernel_launcher.py:1: SettingWithCopyWarning: \n",
      "A value is trying to be set on a copy of a slice from a DataFrame.\n",
      "Try using .loc[row_indexer,col_indexer] = value instead\n",
      "\n",
      "See the caveats in the documentation: http://pandas.pydata.org/pandas-docs/stable/user_guide/indexing.html#returning-a-view-versus-a-copy\n",
      "  \"\"\"Entry point for launching an IPython kernel.\n"
     ]
    }
   ],
   "source": [
    "X['windgustdir'] = X['windgustdir'].astype(str)"
   ]
  },
  {
   "cell_type": "code",
   "execution_count": 67,
   "metadata": {},
   "outputs": [
    {
     "name": "stderr",
     "output_type": "stream",
     "text": [
      "C:\\Users\\Alvaro Camacho\\Anaconda3\\lib\\site-packages\\ipykernel_launcher.py:1: SettingWithCopyWarning: \n",
      "A value is trying to be set on a copy of a slice from a DataFrame.\n",
      "Try using .loc[row_indexer,col_indexer] = value instead\n",
      "\n",
      "See the caveats in the documentation: http://pandas.pydata.org/pandas-docs/stable/user_guide/indexing.html#returning-a-view-versus-a-copy\n",
      "  \"\"\"Entry point for launching an IPython kernel.\n"
     ]
    }
   ],
   "source": [
    "X['winddir3pm'] = X['winddir3pm'].astype(str)"
   ]
  },
  {
   "cell_type": "code",
   "execution_count": 68,
   "metadata": {},
   "outputs": [],
   "source": [
    "X[['winddir3pm']] = X[['winddir3pm']].apply(lambda A: labelencoder.fit_transform(A))"
   ]
  },
  {
   "cell_type": "code",
   "execution_count": 69,
   "metadata": {},
   "outputs": [
    {
     "data": {
      "text/html": [
       "<div>\n",
       "<style scoped>\n",
       "    .dataframe tbody tr th:only-of-type {\n",
       "        vertical-align: middle;\n",
       "    }\n",
       "\n",
       "    .dataframe tbody tr th {\n",
       "        vertical-align: top;\n",
       "    }\n",
       "\n",
       "    .dataframe thead th {\n",
       "        text-align: right;\n",
       "    }\n",
       "</style>\n",
       "<table border=\"1\" class=\"dataframe\">\n",
       "  <thead>\n",
       "    <tr style=\"text-align: right;\">\n",
       "      <th></th>\n",
       "      <th>location</th>\n",
       "      <th>mintemp</th>\n",
       "      <th>maxtemp</th>\n",
       "      <th>rainfall</th>\n",
       "      <th>humidity9am</th>\n",
       "      <th>humidity3pm</th>\n",
       "      <th>pressure9am</th>\n",
       "      <th>pressure3pm</th>\n",
       "      <th>temp9am</th>\n",
       "      <th>temp3pm</th>\n",
       "      <th>temp</th>\n",
       "      <th>humidity</th>\n",
       "      <th>precipitation3pm</th>\n",
       "      <th>precipitation9am</th>\n",
       "      <th>windgustdir</th>\n",
       "      <th>windgustspeed</th>\n",
       "      <th>winddir9am</th>\n",
       "      <th>winddir3pm</th>\n",
       "      <th>windspeed9am</th>\n",
       "      <th>windspeed3pm</th>\n",
       "    </tr>\n",
       "  </thead>\n",
       "  <tbody>\n",
       "    <tr>\n",
       "      <th>0</th>\n",
       "      <td>2</td>\n",
       "      <td>13.4</td>\n",
       "      <td>22.9</td>\n",
       "      <td>0.6</td>\n",
       "      <td>71.0</td>\n",
       "      <td>22.0</td>\n",
       "      <td>1007.7</td>\n",
       "      <td>1007.1</td>\n",
       "      <td>16.9</td>\n",
       "      <td>21.8</td>\n",
       "      <td>29.48</td>\n",
       "      <td>28.400000</td>\n",
       "      <td>12</td>\n",
       "      <td>5.115360</td>\n",
       "      <td>13</td>\n",
       "      <td>44.0</td>\n",
       "      <td>13</td>\n",
       "      <td>14</td>\n",
       "      <td>20.0</td>\n",
       "      <td>24.0</td>\n",
       "    </tr>\n",
       "    <tr>\n",
       "      <th>1</th>\n",
       "      <td>2</td>\n",
       "      <td>7.4</td>\n",
       "      <td>25.1</td>\n",
       "      <td>0.0</td>\n",
       "      <td>44.0</td>\n",
       "      <td>25.0</td>\n",
       "      <td>1010.6</td>\n",
       "      <td>1007.8</td>\n",
       "      <td>17.2</td>\n",
       "      <td>24.3</td>\n",
       "      <td>32.12</td>\n",
       "      <td>2.208569</td>\n",
       "      <td>10</td>\n",
       "      <td>21.497100</td>\n",
       "      <td>14</td>\n",
       "      <td>44.0</td>\n",
       "      <td>6</td>\n",
       "      <td>15</td>\n",
       "      <td>4.0</td>\n",
       "      <td>22.0</td>\n",
       "    </tr>\n",
       "    <tr>\n",
       "      <th>2</th>\n",
       "      <td>2</td>\n",
       "      <td>12.9</td>\n",
       "      <td>25.7</td>\n",
       "      <td>0.0</td>\n",
       "      <td>38.0</td>\n",
       "      <td>30.0</td>\n",
       "      <td>1007.6</td>\n",
       "      <td>1008.7</td>\n",
       "      <td>21.0</td>\n",
       "      <td>23.2</td>\n",
       "      <td>32.84</td>\n",
       "      <td>38.000000</td>\n",
       "      <td>17</td>\n",
       "      <td>20.782859</td>\n",
       "      <td>15</td>\n",
       "      <td>46.0</td>\n",
       "      <td>13</td>\n",
       "      <td>15</td>\n",
       "      <td>19.0</td>\n",
       "      <td>26.0</td>\n",
       "    </tr>\n",
       "    <tr>\n",
       "      <th>3</th>\n",
       "      <td>2</td>\n",
       "      <td>9.2</td>\n",
       "      <td>28.0</td>\n",
       "      <td>0.0</td>\n",
       "      <td>45.0</td>\n",
       "      <td>16.0</td>\n",
       "      <td>1017.6</td>\n",
       "      <td>1012.8</td>\n",
       "      <td>18.1</td>\n",
       "      <td>26.5</td>\n",
       "      <td>35.60</td>\n",
       "      <td>21.200000</td>\n",
       "      <td>8</td>\n",
       "      <td>12.028646</td>\n",
       "      <td>4</td>\n",
       "      <td>24.0</td>\n",
       "      <td>9</td>\n",
       "      <td>0</td>\n",
       "      <td>11.0</td>\n",
       "      <td>9.0</td>\n",
       "    </tr>\n",
       "    <tr>\n",
       "      <th>4</th>\n",
       "      <td>2</td>\n",
       "      <td>17.5</td>\n",
       "      <td>32.3</td>\n",
       "      <td>1.0</td>\n",
       "      <td>82.0</td>\n",
       "      <td>33.0</td>\n",
       "      <td>1010.8</td>\n",
       "      <td>1006.0</td>\n",
       "      <td>17.8</td>\n",
       "      <td>29.7</td>\n",
       "      <td>40.76</td>\n",
       "      <td>41.600000</td>\n",
       "      <td>9</td>\n",
       "      <td>11.883546</td>\n",
       "      <td>13</td>\n",
       "      <td>41.0</td>\n",
       "      <td>1</td>\n",
       "      <td>7</td>\n",
       "      <td>7.0</td>\n",
       "      <td>20.0</td>\n",
       "    </tr>\n",
       "    <tr>\n",
       "      <th>...</th>\n",
       "      <td>...</td>\n",
       "      <td>...</td>\n",
       "      <td>...</td>\n",
       "      <td>...</td>\n",
       "      <td>...</td>\n",
       "      <td>...</td>\n",
       "      <td>...</td>\n",
       "      <td>...</td>\n",
       "      <td>...</td>\n",
       "      <td>...</td>\n",
       "      <td>...</td>\n",
       "      <td>...</td>\n",
       "      <td>...</td>\n",
       "      <td>...</td>\n",
       "      <td>...</td>\n",
       "      <td>...</td>\n",
       "      <td>...</td>\n",
       "      <td>...</td>\n",
       "      <td>...</td>\n",
       "      <td>...</td>\n",
       "    </tr>\n",
       "    <tr>\n",
       "      <th>142188</th>\n",
       "      <td>41</td>\n",
       "      <td>3.5</td>\n",
       "      <td>21.8</td>\n",
       "      <td>0.0</td>\n",
       "      <td>59.0</td>\n",
       "      <td>27.0</td>\n",
       "      <td>1024.7</td>\n",
       "      <td>1021.2</td>\n",
       "      <td>9.4</td>\n",
       "      <td>20.9</td>\n",
       "      <td>28.16</td>\n",
       "      <td>34.400000</td>\n",
       "      <td>12</td>\n",
       "      <td>5.848681</td>\n",
       "      <td>0</td>\n",
       "      <td>31.0</td>\n",
       "      <td>2</td>\n",
       "      <td>0</td>\n",
       "      <td>15.0</td>\n",
       "      <td>13.0</td>\n",
       "    </tr>\n",
       "    <tr>\n",
       "      <th>142189</th>\n",
       "      <td>41</td>\n",
       "      <td>2.8</td>\n",
       "      <td>23.4</td>\n",
       "      <td>0.0</td>\n",
       "      <td>51.0</td>\n",
       "      <td>24.0</td>\n",
       "      <td>1024.6</td>\n",
       "      <td>1020.3</td>\n",
       "      <td>10.1</td>\n",
       "      <td>22.4</td>\n",
       "      <td>30.08</td>\n",
       "      <td>30.800000</td>\n",
       "      <td>10</td>\n",
       "      <td>6.653879</td>\n",
       "      <td>0</td>\n",
       "      <td>31.0</td>\n",
       "      <td>9</td>\n",
       "      <td>1</td>\n",
       "      <td>13.0</td>\n",
       "      <td>11.0</td>\n",
       "    </tr>\n",
       "    <tr>\n",
       "      <th>142190</th>\n",
       "      <td>41</td>\n",
       "      <td>3.6</td>\n",
       "      <td>25.3</td>\n",
       "      <td>0.0</td>\n",
       "      <td>56.0</td>\n",
       "      <td>21.0</td>\n",
       "      <td>1023.5</td>\n",
       "      <td>1019.1</td>\n",
       "      <td>10.9</td>\n",
       "      <td>24.5</td>\n",
       "      <td>32.36</td>\n",
       "      <td>27.200000</td>\n",
       "      <td>9</td>\n",
       "      <td>19.715976</td>\n",
       "      <td>6</td>\n",
       "      <td>22.0</td>\n",
       "      <td>9</td>\n",
       "      <td>3</td>\n",
       "      <td>13.0</td>\n",
       "      <td>9.0</td>\n",
       "    </tr>\n",
       "    <tr>\n",
       "      <th>142191</th>\n",
       "      <td>41</td>\n",
       "      <td>5.4</td>\n",
       "      <td>26.9</td>\n",
       "      <td>0.0</td>\n",
       "      <td>53.0</td>\n",
       "      <td>24.0</td>\n",
       "      <td>1021.0</td>\n",
       "      <td>1016.8</td>\n",
       "      <td>12.5</td>\n",
       "      <td>26.1</td>\n",
       "      <td>34.28</td>\n",
       "      <td>30.800000</td>\n",
       "      <td>12</td>\n",
       "      <td>0.985551</td>\n",
       "      <td>3</td>\n",
       "      <td>37.0</td>\n",
       "      <td>9</td>\n",
       "      <td>14</td>\n",
       "      <td>9.0</td>\n",
       "      <td>9.0</td>\n",
       "    </tr>\n",
       "    <tr>\n",
       "      <th>142192</th>\n",
       "      <td>41</td>\n",
       "      <td>7.8</td>\n",
       "      <td>27.0</td>\n",
       "      <td>0.0</td>\n",
       "      <td>51.0</td>\n",
       "      <td>24.0</td>\n",
       "      <td>1019.4</td>\n",
       "      <td>1016.5</td>\n",
       "      <td>15.1</td>\n",
       "      <td>26.0</td>\n",
       "      <td>34.40</td>\n",
       "      <td>30.800000</td>\n",
       "      <td>15</td>\n",
       "      <td>4.381481</td>\n",
       "      <td>9</td>\n",
       "      <td>28.0</td>\n",
       "      <td>10</td>\n",
       "      <td>3</td>\n",
       "      <td>13.0</td>\n",
       "      <td>7.0</td>\n",
       "    </tr>\n",
       "  </tbody>\n",
       "</table>\n",
       "<p>142193 rows × 20 columns</p>\n",
       "</div>"
      ],
      "text/plain": [
       "        location  mintemp  maxtemp  rainfall  humidity9am  humidity3pm  \\\n",
       "0              2     13.4     22.9       0.6         71.0         22.0   \n",
       "1              2      7.4     25.1       0.0         44.0         25.0   \n",
       "2              2     12.9     25.7       0.0         38.0         30.0   \n",
       "3              2      9.2     28.0       0.0         45.0         16.0   \n",
       "4              2     17.5     32.3       1.0         82.0         33.0   \n",
       "...          ...      ...      ...       ...          ...          ...   \n",
       "142188        41      3.5     21.8       0.0         59.0         27.0   \n",
       "142189        41      2.8     23.4       0.0         51.0         24.0   \n",
       "142190        41      3.6     25.3       0.0         56.0         21.0   \n",
       "142191        41      5.4     26.9       0.0         53.0         24.0   \n",
       "142192        41      7.8     27.0       0.0         51.0         24.0   \n",
       "\n",
       "        pressure9am  pressure3pm  temp9am  temp3pm   temp   humidity  \\\n",
       "0            1007.7       1007.1     16.9     21.8  29.48  28.400000   \n",
       "1            1010.6       1007.8     17.2     24.3  32.12   2.208569   \n",
       "2            1007.6       1008.7     21.0     23.2  32.84  38.000000   \n",
       "3            1017.6       1012.8     18.1     26.5  35.60  21.200000   \n",
       "4            1010.8       1006.0     17.8     29.7  40.76  41.600000   \n",
       "...             ...          ...      ...      ...    ...        ...   \n",
       "142188       1024.7       1021.2      9.4     20.9  28.16  34.400000   \n",
       "142189       1024.6       1020.3     10.1     22.4  30.08  30.800000   \n",
       "142190       1023.5       1019.1     10.9     24.5  32.36  27.200000   \n",
       "142191       1021.0       1016.8     12.5     26.1  34.28  30.800000   \n",
       "142192       1019.4       1016.5     15.1     26.0  34.40  30.800000   \n",
       "\n",
       "        precipitation3pm  precipitation9am  windgustdir  windgustspeed  \\\n",
       "0                     12          5.115360           13           44.0   \n",
       "1                     10         21.497100           14           44.0   \n",
       "2                     17         20.782859           15           46.0   \n",
       "3                      8         12.028646            4           24.0   \n",
       "4                      9         11.883546           13           41.0   \n",
       "...                  ...               ...          ...            ...   \n",
       "142188                12          5.848681            0           31.0   \n",
       "142189                10          6.653879            0           31.0   \n",
       "142190                 9         19.715976            6           22.0   \n",
       "142191                12          0.985551            3           37.0   \n",
       "142192                15          4.381481            9           28.0   \n",
       "\n",
       "        winddir9am  winddir3pm  windspeed9am  windspeed3pm  \n",
       "0               13          14          20.0          24.0  \n",
       "1                6          15           4.0          22.0  \n",
       "2               13          15          19.0          26.0  \n",
       "3                9           0          11.0           9.0  \n",
       "4                1           7           7.0          20.0  \n",
       "...            ...         ...           ...           ...  \n",
       "142188           2           0          15.0          13.0  \n",
       "142189           9           1          13.0          11.0  \n",
       "142190           9           3          13.0           9.0  \n",
       "142191           9          14           9.0           9.0  \n",
       "142192          10           3          13.0           7.0  \n",
       "\n",
       "[142193 rows x 20 columns]"
      ]
     },
     "execution_count": 69,
     "metadata": {},
     "output_type": "execute_result"
    }
   ],
   "source": [
    "X"
   ]
  },
  {
   "cell_type": "code",
   "execution_count": null,
   "metadata": {},
   "outputs": [],
   "source": []
  },
  {
   "cell_type": "markdown",
   "metadata": {},
   "source": [
    "# Tests"
   ]
  },
  {
   "cell_type": "code",
   "execution_count": 12,
   "metadata": {},
   "outputs": [
    {
     "data": {
      "text/html": [
       "<div>\n",
       "<style scoped>\n",
       "    .dataframe tbody tr th:only-of-type {\n",
       "        vertical-align: middle;\n",
       "    }\n",
       "\n",
       "    .dataframe tbody tr th {\n",
       "        vertical-align: top;\n",
       "    }\n",
       "\n",
       "    .dataframe thead th {\n",
       "        text-align: right;\n",
       "    }\n",
       "</style>\n",
       "<table border=\"1\" class=\"dataframe\">\n",
       "  <thead>\n",
       "    <tr style=\"text-align: right;\">\n",
       "      <th></th>\n",
       "      <th>date</th>\n",
       "      <th>location</th>\n",
       "      <th>mintemp</th>\n",
       "      <th>maxtemp</th>\n",
       "      <th>rainfall</th>\n",
       "      <th>humidity9am</th>\n",
       "      <th>humidity3pm</th>\n",
       "      <th>pressure9am</th>\n",
       "      <th>pressure3pm</th>\n",
       "      <th>temp9am</th>\n",
       "      <th>...</th>\n",
       "      <th>humidity</th>\n",
       "      <th>precipitation3pm</th>\n",
       "      <th>precipitation9am</th>\n",
       "      <th>modelo_vigente</th>\n",
       "      <th>windgustdir</th>\n",
       "      <th>windgustspeed</th>\n",
       "      <th>winddir9am</th>\n",
       "      <th>winddir3pm</th>\n",
       "      <th>windspeed9am</th>\n",
       "      <th>windspeed3pm</th>\n",
       "    </tr>\n",
       "  </thead>\n",
       "  <tbody>\n",
       "    <tr>\n",
       "      <th>0</th>\n",
       "      <td>2008-12-01</td>\n",
       "      <td>0.209</td>\n",
       "      <td>13.4</td>\n",
       "      <td>22.9</td>\n",
       "      <td>0.6</td>\n",
       "      <td>71.0</td>\n",
       "      <td>22.0</td>\n",
       "      <td>1007.7</td>\n",
       "      <td>1007.1</td>\n",
       "      <td>16.9</td>\n",
       "      <td>...</td>\n",
       "      <td>28.400000</td>\n",
       "      <td>12</td>\n",
       "      <td>5.115360</td>\n",
       "      <td>0.089825</td>\n",
       "      <td>0.271</td>\n",
       "      <td>44.0</td>\n",
       "      <td>0.262</td>\n",
       "      <td>0.285</td>\n",
       "      <td>20.0</td>\n",
       "      <td>24.0</td>\n",
       "    </tr>\n",
       "    <tr>\n",
       "      <th>1</th>\n",
       "      <td>2008-12-02</td>\n",
       "      <td>0.209</td>\n",
       "      <td>7.4</td>\n",
       "      <td>25.1</td>\n",
       "      <td>0.0</td>\n",
       "      <td>44.0</td>\n",
       "      <td>25.0</td>\n",
       "      <td>1010.6</td>\n",
       "      <td>1007.8</td>\n",
       "      <td>17.2</td>\n",
       "      <td>...</td>\n",
       "      <td>2.208569</td>\n",
       "      <td>10</td>\n",
       "      <td>21.497100</td>\n",
       "      <td>0.023477</td>\n",
       "      <td>0.290</td>\n",
       "      <td>44.0</td>\n",
       "      <td>0.304</td>\n",
       "      <td>0.217</td>\n",
       "      <td>4.0</td>\n",
       "      <td>22.0</td>\n",
       "    </tr>\n",
       "    <tr>\n",
       "      <th>2</th>\n",
       "      <td>2008-12-03</td>\n",
       "      <td>0.209</td>\n",
       "      <td>12.9</td>\n",
       "      <td>25.7</td>\n",
       "      <td>0.0</td>\n",
       "      <td>38.0</td>\n",
       "      <td>30.0</td>\n",
       "      <td>1007.6</td>\n",
       "      <td>1008.7</td>\n",
       "      <td>21.0</td>\n",
       "      <td>...</td>\n",
       "      <td>38.000000</td>\n",
       "      <td>17</td>\n",
       "      <td>20.782859</td>\n",
       "      <td>0.027580</td>\n",
       "      <td>0.236</td>\n",
       "      <td>46.0</td>\n",
       "      <td>0.262</td>\n",
       "      <td>0.217</td>\n",
       "      <td>19.0</td>\n",
       "      <td>26.0</td>\n",
       "    </tr>\n",
       "    <tr>\n",
       "      <th>3</th>\n",
       "      <td>2008-12-04</td>\n",
       "      <td>0.209</td>\n",
       "      <td>9.2</td>\n",
       "      <td>28.0</td>\n",
       "      <td>0.0</td>\n",
       "      <td>45.0</td>\n",
       "      <td>16.0</td>\n",
       "      <td>1017.6</td>\n",
       "      <td>1012.8</td>\n",
       "      <td>18.1</td>\n",
       "      <td>...</td>\n",
       "      <td>21.200000</td>\n",
       "      <td>8</td>\n",
       "      <td>12.028646</td>\n",
       "      <td>0.023962</td>\n",
       "      <td>0.184</td>\n",
       "      <td>24.0</td>\n",
       "      <td>0.152</td>\n",
       "      <td>0.171</td>\n",
       "      <td>11.0</td>\n",
       "      <td>9.0</td>\n",
       "    </tr>\n",
       "    <tr>\n",
       "      <th>4</th>\n",
       "      <td>2008-12-05</td>\n",
       "      <td>0.209</td>\n",
       "      <td>17.5</td>\n",
       "      <td>32.3</td>\n",
       "      <td>1.0</td>\n",
       "      <td>82.0</td>\n",
       "      <td>33.0</td>\n",
       "      <td>1010.8</td>\n",
       "      <td>1006.0</td>\n",
       "      <td>17.8</td>\n",
       "      <td>...</td>\n",
       "      <td>41.600000</td>\n",
       "      <td>9</td>\n",
       "      <td>11.883546</td>\n",
       "      <td>0.220164</td>\n",
       "      <td>0.271</td>\n",
       "      <td>41.0</td>\n",
       "      <td>0.172</td>\n",
       "      <td>0.292</td>\n",
       "      <td>7.0</td>\n",
       "      <td>20.0</td>\n",
       "    </tr>\n",
       "    <tr>\n",
       "      <th>...</th>\n",
       "      <td>...</td>\n",
       "      <td>...</td>\n",
       "      <td>...</td>\n",
       "      <td>...</td>\n",
       "      <td>...</td>\n",
       "      <td>...</td>\n",
       "      <td>...</td>\n",
       "      <td>...</td>\n",
       "      <td>...</td>\n",
       "      <td>...</td>\n",
       "      <td>...</td>\n",
       "      <td>...</td>\n",
       "      <td>...</td>\n",
       "      <td>...</td>\n",
       "      <td>...</td>\n",
       "      <td>...</td>\n",
       "      <td>...</td>\n",
       "      <td>...</td>\n",
       "      <td>...</td>\n",
       "      <td>...</td>\n",
       "      <td>...</td>\n",
       "    </tr>\n",
       "    <tr>\n",
       "      <th>112920</th>\n",
       "      <td>2017-06-20</td>\n",
       "      <td>0.238</td>\n",
       "      <td>3.5</td>\n",
       "      <td>21.8</td>\n",
       "      <td>0.0</td>\n",
       "      <td>59.0</td>\n",
       "      <td>27.0</td>\n",
       "      <td>1024.7</td>\n",
       "      <td>1021.2</td>\n",
       "      <td>9.4</td>\n",
       "      <td>...</td>\n",
       "      <td>34.400000</td>\n",
       "      <td>12</td>\n",
       "      <td>5.848681</td>\n",
       "      <td>0.002556</td>\n",
       "      <td>0.148</td>\n",
       "      <td>31.0</td>\n",
       "      <td>0.144</td>\n",
       "      <td>0.171</td>\n",
       "      <td>15.0</td>\n",
       "      <td>13.0</td>\n",
       "    </tr>\n",
       "    <tr>\n",
       "      <th>112921</th>\n",
       "      <td>2017-06-21</td>\n",
       "      <td>0.238</td>\n",
       "      <td>2.8</td>\n",
       "      <td>23.4</td>\n",
       "      <td>0.0</td>\n",
       "      <td>51.0</td>\n",
       "      <td>24.0</td>\n",
       "      <td>1024.6</td>\n",
       "      <td>1020.3</td>\n",
       "      <td>10.1</td>\n",
       "      <td>...</td>\n",
       "      <td>30.800000</td>\n",
       "      <td>10</td>\n",
       "      <td>6.653879</td>\n",
       "      <td>0.002053</td>\n",
       "      <td>0.148</td>\n",
       "      <td>31.0</td>\n",
       "      <td>0.152</td>\n",
       "      <td>0.176</td>\n",
       "      <td>13.0</td>\n",
       "      <td>11.0</td>\n",
       "    </tr>\n",
       "    <tr>\n",
       "      <th>112922</th>\n",
       "      <td>2017-06-22</td>\n",
       "      <td>0.238</td>\n",
       "      <td>3.6</td>\n",
       "      <td>25.3</td>\n",
       "      <td>0.0</td>\n",
       "      <td>56.0</td>\n",
       "      <td>21.0</td>\n",
       "      <td>1023.5</td>\n",
       "      <td>1019.1</td>\n",
       "      <td>10.9</td>\n",
       "      <td>...</td>\n",
       "      <td>27.200000</td>\n",
       "      <td>9</td>\n",
       "      <td>19.715976</td>\n",
       "      <td>0.023350</td>\n",
       "      <td>0.288</td>\n",
       "      <td>22.0</td>\n",
       "      <td>0.152</td>\n",
       "      <td>0.284</td>\n",
       "      <td>13.0</td>\n",
       "      <td>9.0</td>\n",
       "    </tr>\n",
       "    <tr>\n",
       "      <th>112923</th>\n",
       "      <td>2017-06-23</td>\n",
       "      <td>0.238</td>\n",
       "      <td>5.4</td>\n",
       "      <td>26.9</td>\n",
       "      <td>0.0</td>\n",
       "      <td>53.0</td>\n",
       "      <td>24.0</td>\n",
       "      <td>1021.0</td>\n",
       "      <td>1016.8</td>\n",
       "      <td>12.5</td>\n",
       "      <td>...</td>\n",
       "      <td>30.800000</td>\n",
       "      <td>12</td>\n",
       "      <td>0.985551</td>\n",
       "      <td>0.007195</td>\n",
       "      <td>0.275</td>\n",
       "      <td>37.0</td>\n",
       "      <td>0.152</td>\n",
       "      <td>0.285</td>\n",
       "      <td>9.0</td>\n",
       "      <td>9.0</td>\n",
       "    </tr>\n",
       "    <tr>\n",
       "      <th>112924</th>\n",
       "      <td>2017-06-24</td>\n",
       "      <td>0.238</td>\n",
       "      <td>7.8</td>\n",
       "      <td>27.0</td>\n",
       "      <td>0.0</td>\n",
       "      <td>51.0</td>\n",
       "      <td>24.0</td>\n",
       "      <td>1019.4</td>\n",
       "      <td>1016.5</td>\n",
       "      <td>15.1</td>\n",
       "      <td>...</td>\n",
       "      <td>30.800000</td>\n",
       "      <td>15</td>\n",
       "      <td>4.381481</td>\n",
       "      <td>0.018811</td>\n",
       "      <td>0.188</td>\n",
       "      <td>28.0</td>\n",
       "      <td>0.178</td>\n",
       "      <td>0.284</td>\n",
       "      <td>13.0</td>\n",
       "      <td>7.0</td>\n",
       "    </tr>\n",
       "  </tbody>\n",
       "</table>\n",
       "<p>112925 rows × 24 columns</p>\n",
       "</div>"
      ],
      "text/plain": [
       "              date  location  mintemp  maxtemp  rainfall  humidity9am  \\\n",
       "0       2008-12-01     0.209     13.4     22.9       0.6         71.0   \n",
       "1       2008-12-02     0.209      7.4     25.1       0.0         44.0   \n",
       "2       2008-12-03     0.209     12.9     25.7       0.0         38.0   \n",
       "3       2008-12-04     0.209      9.2     28.0       0.0         45.0   \n",
       "4       2008-12-05     0.209     17.5     32.3       1.0         82.0   \n",
       "...            ...       ...      ...      ...       ...          ...   \n",
       "112920  2017-06-20     0.238      3.5     21.8       0.0         59.0   \n",
       "112921  2017-06-21     0.238      2.8     23.4       0.0         51.0   \n",
       "112922  2017-06-22     0.238      3.6     25.3       0.0         56.0   \n",
       "112923  2017-06-23     0.238      5.4     26.9       0.0         53.0   \n",
       "112924  2017-06-24     0.238      7.8     27.0       0.0         51.0   \n",
       "\n",
       "        humidity3pm  pressure9am  pressure3pm  temp9am  ...   humidity  \\\n",
       "0              22.0       1007.7       1007.1     16.9  ...  28.400000   \n",
       "1              25.0       1010.6       1007.8     17.2  ...   2.208569   \n",
       "2              30.0       1007.6       1008.7     21.0  ...  38.000000   \n",
       "3              16.0       1017.6       1012.8     18.1  ...  21.200000   \n",
       "4              33.0       1010.8       1006.0     17.8  ...  41.600000   \n",
       "...             ...          ...          ...      ...  ...        ...   \n",
       "112920         27.0       1024.7       1021.2      9.4  ...  34.400000   \n",
       "112921         24.0       1024.6       1020.3     10.1  ...  30.800000   \n",
       "112922         21.0       1023.5       1019.1     10.9  ...  27.200000   \n",
       "112923         24.0       1021.0       1016.8     12.5  ...  30.800000   \n",
       "112924         24.0       1019.4       1016.5     15.1  ...  30.800000   \n",
       "\n",
       "        precipitation3pm  precipitation9am  modelo_vigente  windgustdir  \\\n",
       "0                     12          5.115360        0.089825        0.271   \n",
       "1                     10         21.497100        0.023477        0.290   \n",
       "2                     17         20.782859        0.027580        0.236   \n",
       "3                      8         12.028646        0.023962        0.184   \n",
       "4                      9         11.883546        0.220164        0.271   \n",
       "...                  ...               ...             ...          ...   \n",
       "112920                12          5.848681        0.002556        0.148   \n",
       "112921                10          6.653879        0.002053        0.148   \n",
       "112922                 9         19.715976        0.023350        0.288   \n",
       "112923                12          0.985551        0.007195        0.275   \n",
       "112924                15          4.381481        0.018811        0.188   \n",
       "\n",
       "        windgustspeed  winddir9am  winddir3pm  windspeed9am  windspeed3pm  \n",
       "0                44.0       0.262       0.285          20.0          24.0  \n",
       "1                44.0       0.304       0.217           4.0          22.0  \n",
       "2                46.0       0.262       0.217          19.0          26.0  \n",
       "3                24.0       0.152       0.171          11.0           9.0  \n",
       "4                41.0       0.172       0.292           7.0          20.0  \n",
       "...               ...         ...         ...           ...           ...  \n",
       "112920           31.0       0.144       0.171          15.0          13.0  \n",
       "112921           31.0       0.152       0.176          13.0          11.0  \n",
       "112922           22.0       0.152       0.284          13.0           9.0  \n",
       "112923           37.0       0.152       0.285           9.0           9.0  \n",
       "112924           28.0       0.178       0.284          13.0           7.0  \n",
       "\n",
       "[112925 rows x 24 columns]"
      ]
     },
     "execution_count": 12,
     "metadata": {},
     "output_type": "execute_result"
    }
   ],
   "source": [
    "import pandas as pd\n",
    "man_data = pd.read_csv('australia_ready.csv')\n",
    "man_data = man_data.drop(columns=['Unnamed: 0'], axis=1) \n",
    "man_data"
   ]
  },
  {
   "cell_type": "code",
   "execution_count": 13,
   "metadata": {},
   "outputs": [
    {
     "data": {
      "text/plain": [
       "date                 object\n",
       "location            float64\n",
       "mintemp             float64\n",
       "maxtemp             float64\n",
       "rainfall            float64\n",
       "humidity9am         float64\n",
       "humidity3pm         float64\n",
       "pressure9am         float64\n",
       "pressure3pm         float64\n",
       "temp9am             float64\n",
       "temp3pm             float64\n",
       "raintoday             int64\n",
       "raintomorrow          int64\n",
       "temp                float64\n",
       "humidity            float64\n",
       "precipitation3pm      int64\n",
       "precipitation9am    float64\n",
       "modelo_vigente      float64\n",
       "windgustdir         float64\n",
       "windgustspeed       float64\n",
       "winddir9am          float64\n",
       "winddir3pm          float64\n",
       "windspeed9am        float64\n",
       "windspeed3pm        float64\n",
       "dtype: object"
      ]
     },
     "execution_count": 13,
     "metadata": {},
     "output_type": "execute_result"
    }
   ],
   "source": [
    "man_data.dtypes"
   ]
  },
  {
   "cell_type": "code",
   "execution_count": 14,
   "metadata": {},
   "outputs": [],
   "source": [
    "X=man_data[['location', 'mintemp', 'maxtemp', 'humidity9am', \n",
    "            'humidity3pm', 'pressure9am', 'pressure3pm', 'temp9am',\n",
    "            'temp3pm', 'temp', 'humidity', 'precipitation3pm',\n",
    "            'precipitation9am', 'windgustdir', 'windgustspeed',\n",
    "            'winddir9am', 'winddir3pm', 'windspeed9am', 'windspeed3pm']]\n",
    "\n",
    "y=man_data['raintomorrow']"
   ]
  },
  {
   "cell_type": "code",
   "execution_count": 7,
   "metadata": {},
   "outputs": [],
   "source": [
    "import numpy as np\n",
    "from sklearn.model_selection import train_test_split"
   ]
  },
  {
   "cell_type": "code",
   "execution_count": 8,
   "metadata": {},
   "outputs": [],
   "source": [
    "X_train, X_test, y_train, y_test = train_test_split(X, y, train_size= 0.8, test_size=0.2, random_state=0)"
   ]
  },
  {
   "cell_type": "code",
   "execution_count": 10,
   "metadata": {},
   "outputs": [],
   "source": [
    "X_sub_train, X_val, y_sub_train, y_val = train_test_split(X_train, y_train, train_size= 0.8, test_size=0.2, random_state=0)"
   ]
  },
  {
   "cell_type": "markdown",
   "metadata": {},
   "source": [
    "## Decision Tree"
   ]
  },
  {
   "cell_type": "code",
   "execution_count": 25,
   "metadata": {},
   "outputs": [
    {
     "data": {
      "image/png": "[encoded data removed]",
      "text/plain": [
       "<Figure size 864x720 with 1 Axes>"
      ]
     },
     "metadata": {
      "needs_background": "light"
     },
     "output_type": "display_data"
    }
   ],
   "source": [
    "import matplotlib.pyplot as plt\n",
    "from sklearn.tree import DecisionTreeClassifier\n",
    "from sklearn.metrics import plot_roc_curve, roc_auc_score\n",
    "from sklearn.model_selection import cross_val_score, learning_curve, KFold\n",
    "\n",
    "my_cv = KFold(10, shuffle=True)\n",
    "\n",
    "model = DecisionTreeClassifier(max_depth=3)\n",
    "\n",
    "model.fit(X_sub_train, y_sub_train)\n",
    "\n",
    "curve = learning_curve(model, X_sub_train, y_sub_train, cv=my_cv, scoring='roc_auc')\n",
    "\n",
    "train_sizes = curve[0]\n",
    "train_scores = curve[1]\n",
    "test_scores = curve[2]\n",
    "fig, ax = plt.subplots(figsize=(12,10))\n",
    "plt.plot(train_sizes, train_scores.mean(axis=1), '-o', label='Training AUC')\n",
    "plt.plot(train_sizes, test_scores.mean(axis=1), '-o', label='Test AUC')\n",
    "plt.ylim([0., 1])\n",
    "plt.xlabel('Training Sizes')\n",
    "plt.ylabel('Scores')\n",
    "plt.legend(loc=4)\n",
    "plt.grid()"
   ]
  },
  {
   "cell_type": "code",
   "execution_count": 26,
   "metadata": {},
   "outputs": [
    {
     "data": {
      "text/plain": [
       "array([0.80087333, 0.80110798, 0.81348156, 0.80685191, 0.80637713,\n",
       "       0.80959939, 0.80073593, 0.81259818, 0.80318937, 0.82237206])"
      ]
     },
     "execution_count": 26,
     "metadata": {},
     "output_type": "execute_result"
    }
   ],
   "source": [
    "cross_val_score(model, X_sub_train, y_sub_train, cv=my_cv, scoring='roc_auc', n_jobs=-1)"
   ]
  },
  {
   "cell_type": "code",
   "execution_count": 27,
   "metadata": {},
   "outputs": [
    {
     "data": {
      "text/plain": [
       "<matplotlib.legend.Legend at 0x1c00509e148>"
      ]
     },
     "execution_count": 27,
     "metadata": {},
     "output_type": "execute_result"
    },
    {
     "data": {
      "image/png": "[encoded data removed]",
      "text/plain": [
       "<Figure size 432x288 with 1 Axes>"
      ]
     },
     "metadata": {
      "needs_background": "light"
     },
     "output_type": "display_data"
    }
   ],
   "source": [
    "scores = []\n",
    "for max_depth in range(1, 15):\n",
    "    model = DecisionTreeClassifier(max_depth=max_depth)\n",
    "    scores.append(cross_val_score(model, X_sub_train, y_sub_train, scoring='roc_auc', cv=my_cv))\n",
    "    \n",
    "plt.plot(range(1, 15), scores, '-o');\n",
    "plt.ylim([0.6, 1])\n",
    "plt.xlabel('Max Depth')\n",
    "plt.ylabel('AUC Score')\n",
    "plt.grid()\n",
    "plt.legend([f'Trial {i+1}' for i in range(len(scores))])"
   ]
  },
  {
   "cell_type": "code",
   "execution_count": 28,
   "metadata": {},
   "outputs": [
    {
     "data": {
      "image/png": "[encoded data removed]",
      "text/plain": [
       "<Figure size 864x720 with 1 Axes>"
      ]
     },
     "metadata": {
      "needs_background": "light"
     },
     "output_type": "display_data"
    }
   ],
   "source": [
    "model = DecisionTreeClassifier(max_depth=7)\n",
    "\n",
    "model.fit(X_sub_train, y_sub_train)\n",
    "\n",
    "curve = learning_curve(model, X_sub_train, y_sub_train, cv=my_cv, scoring='roc_auc')\n",
    "\n",
    "train_sizes = curve[0]\n",
    "train_scores = curve[1]\n",
    "test_scores = curve[2]\n",
    "fig, ax = plt.subplots(figsize=(12,10))\n",
    "plt.plot(train_sizes, train_scores.mean(axis=1), '-o', label='Training AUC')\n",
    "plt.plot(train_sizes, test_scores.mean(axis=1), '-o', label='Test AUC')\n",
    "plt.ylim([0., 1])\n",
    "plt.xlabel('Training Sizes')\n",
    "plt.ylabel('Scores')\n",
    "plt.legend(loc=4)\n",
    "plt.grid()"
   ]
  },
  {
   "cell_type": "code",
   "execution_count": 29,
   "metadata": {},
   "outputs": [
    {
     "data": {
      "text/plain": [
       "array([0.8513833 , 0.85500625, 0.8536747 , 0.85827663, 0.85376031,\n",
       "       0.85452406, 0.84636987, 0.85043436, 0.8554644 , 0.84452781])"
      ]
     },
     "execution_count": 29,
     "metadata": {},
     "output_type": "execute_result"
    }
   ],
   "source": [
    "cross_val_score(model, X_sub_train, y_sub_train, cv=my_cv, scoring='roc_auc', n_jobs=-1)"
   ]
  },
  {
   "cell_type": "markdown",
   "metadata": {},
   "source": [
    "## Regressão Logistica"
   ]
  },
  {
   "cell_type": "code",
   "execution_count": 32,
   "metadata": {},
   "outputs": [
    {
     "data": {
      "text/plain": [
       "(0.8604703511663508, 0.005710704798379384)"
      ]
     },
     "execution_count": 32,
     "metadata": {},
     "output_type": "execute_result"
    }
   ],
   "source": [
    "from sklearn.linear_model import LogisticRegression\n",
    "logistic = LogisticRegression(max_iter=2000)\n",
    "\n",
    "results = cross_val_score(logistic, X_sub_train, y_sub_train, cv=KFold(10, shuffle=True), scoring='roc_auc')\n",
    "(np.mean(results), np.std(results))"
   ]
  },
  {
   "cell_type": "code",
   "execution_count": 33,
   "metadata": {},
   "outputs": [
    {
     "data": {
      "image/png": "[encoded data removed]",
      "text/plain": [
       "<Figure size 432x288 with 1 Axes>"
      ]
     },
     "metadata": {
      "needs_background": "light"
     },
     "output_type": "display_data"
    }
   ],
   "source": [
    "curves = learning_curve(LogisticRegression(max_iter=2000), X_train, y_train, scoring='roc_auc')\n",
    "\n",
    "train_sizes = curves[0]\n",
    "train_scores = curves[1]\n",
    "test_scores = curves[2]\n",
    "\n",
    "plt.plot(train_sizes, train_scores.mean(axis=1),'-o', label='Training Score')\n",
    "plt.plot(train_sizes, test_scores.mean(axis=1),'-o', label='Validation Score');\n",
    "plt.ylim([0.5, 1])\n",
    "plt.legend()\n",
    "plt.grid()"
   ]
  },
  {
   "cell_type": "markdown",
   "metadata": {
    "heading_collapsed": true
   },
   "source": [
    "## Bagging"
   ]
  },
  {
   "cell_type": "code",
   "execution_count": 36,
   "metadata": {
    "hidden": true
   },
   "outputs": [
    {
     "data": {
      "text/plain": [
       "(0.8663937169396215, 0.004417216664473567)"
      ]
     },
     "execution_count": 36,
     "metadata": {},
     "output_type": "execute_result"
    }
   ],
   "source": [
    "from sklearn.ensemble import BaggingClassifier\n",
    "bagging = BaggingClassifier(\n",
    "            base_estimator= DecisionTreeClassifier(max_depth=7), \n",
    "            n_estimators= 100,\n",
    "            oob_score= True\n",
    ")\n",
    "\n",
    "results = cross_val_score(bagging, X_sub_train, y_sub_train, cv=KFold(10, shuffle=True), scoring='roc_auc')\n",
    "(np.mean(results), np.std(results))"
   ]
  },
  {
   "cell_type": "markdown",
   "metadata": {},
   "source": [
    "## ROC Score Comparison "
   ]
  },
  {
   "cell_type": "code",
   "execution_count": 41,
   "metadata": {},
   "outputs": [
    {
     "data": {
      "text/plain": [
       "<sklearn.metrics._plot.roc_curve.RocCurveDisplay at 0x1c00dec5e48>"
      ]
     },
     "execution_count": 41,
     "metadata": {},
     "output_type": "execute_result"
    },
    {
     "data": {
      "image/png": "[encoded data removed]",
      "text/plain": [
       "<Figure size 864x720 with 1 Axes>"
      ]
     },
     "metadata": {
      "needs_background": "light"
     },
     "output_type": "display_data"
    }
   ],
   "source": [
    "logistic = LogisticRegression(max_iter=2000).fit(X_sub_train, y_sub_train)\n",
    "#model.fit(X_sub_train, y_sub_train)\n",
    "bagging.fit(X_sub_train, y_sub_train)\n",
    "\n",
    "fig, ax = plt.subplots(figsize = (12,10))\n",
    "\n",
    "plot_roc_curve(model, X_val, y_val, name='Tree', ax=ax)\n",
    "plot_roc_curve(bagging, X_val, y_val, name='Bagging', ax=ax)\n",
    "plot_roc_curve(logistic, X_val, y_val, name='Logistic', ax=ax)"
   ]
  },
  {
   "cell_type": "code",
   "execution_count": null,
   "metadata": {},
   "outputs": [],
   "source": []
  },
  {
   "cell_type": "code",
   "execution_count": null,
   "metadata": {},
   "outputs": [],
   "source": []
  },
  {
   "cell_type": "code",
   "execution_count": null,
   "metadata": {},
   "outputs": [],
   "source": []
  }
 ],
 "metadata": {
  "hide_input": false,
  "kernelspec": {
   "display_name": "Python 3",
   "language": "python",
   "name": "python3"
  },
  "language_info": {
   "codemirror_mode": {
    "name": "ipython",
    "version": 3
   },
   "file_extension": ".py",
   "mimetype": "text/x-python",
   "name": "python",
   "nbconvert_exporter": "python",
   "pygments_lexer": "ipython3",
   "version": "3.7.1"
  },
  "varInspector": {
   "cols": {
    "lenName": 16,
    "lenType": 16,
    "lenVar": 40
   },
   "kernels_config": {
    "python": {
     "delete_cmd_postfix": "",
     "delete_cmd_prefix": "del ",
     "library": "var_list.py",
     "varRefreshCmd": "print(var_dic_list())"
    },
    "r": {
     "delete_cmd_postfix": ") ",
     "delete_cmd_prefix": "rm(",
     "library": "var_list.r",
     "varRefreshCmd": "cat(var_dic_list()) "
    }
   },
   "types_to_exclude": [
    "module",
    "function",
    "builtin_function_or_method",
    "instance",
    "_Feature"
   ],
   "window_display": false
  }
 },
 "nbformat": 4,
 "nbformat_minor": 2
}
