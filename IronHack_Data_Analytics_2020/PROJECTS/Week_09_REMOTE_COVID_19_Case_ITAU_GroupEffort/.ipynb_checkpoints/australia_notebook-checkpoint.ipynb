{
 "cells": [
  {
   "cell_type": "code",
   "execution_count": 1,
   "metadata": {},
   "outputs": [],
   "source": [
    "import pandas as pd"
   ]
  },
  {
   "cell_type": "code",
   "execution_count": 269,
   "metadata": {},
   "outputs": [
    {
     "data": {
      "text/html": [
       "<div>\n",
       "<style scoped>\n",
       "    .dataframe tbody tr th:only-of-type {\n",
       "        vertical-align: middle;\n",
       "    }\n",
       "\n",
       "    .dataframe tbody tr th {\n",
       "        vertical-align: top;\n",
       "    }\n",
       "\n",
       "    .dataframe thead th {\n",
       "        text-align: right;\n",
       "    }\n",
       "</style>\n",
       "<table border=\"1\" class=\"dataframe\">\n",
       "  <thead>\n",
       "    <tr style=\"text-align: right;\">\n",
       "      <th></th>\n",
       "      <th>date</th>\n",
       "      <th>location</th>\n",
       "      <th>mintemp</th>\n",
       "      <th>maxtemp</th>\n",
       "      <th>rainfall</th>\n",
       "      <th>evaporation</th>\n",
       "      <th>sunshine</th>\n",
       "      <th>humidity9am</th>\n",
       "      <th>humidity3pm</th>\n",
       "      <th>pressure9am</th>\n",
       "      <th>...</th>\n",
       "      <th>temp9am</th>\n",
       "      <th>temp3pm</th>\n",
       "      <th>raintoday</th>\n",
       "      <th>amountOfRain</th>\n",
       "      <th>raintomorrow</th>\n",
       "      <th>temp</th>\n",
       "      <th>humidity</th>\n",
       "      <th>precipitation3pm</th>\n",
       "      <th>precipitation9am</th>\n",
       "      <th>modelo_vigente</th>\n",
       "    </tr>\n",
       "  </thead>\n",
       "  <tbody>\n",
       "    <tr>\n",
       "      <th>0</th>\n",
       "      <td>2008-12-01</td>\n",
       "      <td>Albury</td>\n",
       "      <td>13.4</td>\n",
       "      <td>22.9</td>\n",
       "      <td>0.6</td>\n",
       "      <td>NaN</td>\n",
       "      <td>NaN</td>\n",
       "      <td>71.0</td>\n",
       "      <td>22.0</td>\n",
       "      <td>1007.7</td>\n",
       "      <td>...</td>\n",
       "      <td>16.9</td>\n",
       "      <td>21.8</td>\n",
       "      <td>No</td>\n",
       "      <td>0.0</td>\n",
       "      <td>No</td>\n",
       "      <td>29.48</td>\n",
       "      <td>28.400000</td>\n",
       "      <td>12</td>\n",
       "      <td>5.11536</td>\n",
       "      <td>0.089825</td>\n",
       "    </tr>\n",
       "    <tr>\n",
       "      <th>1</th>\n",
       "      <td>2008-12-02</td>\n",
       "      <td>Albury</td>\n",
       "      <td>7.4</td>\n",
       "      <td>25.1</td>\n",
       "      <td>0.0</td>\n",
       "      <td>NaN</td>\n",
       "      <td>NaN</td>\n",
       "      <td>44.0</td>\n",
       "      <td>25.0</td>\n",
       "      <td>1010.6</td>\n",
       "      <td>...</td>\n",
       "      <td>17.2</td>\n",
       "      <td>24.3</td>\n",
       "      <td>No</td>\n",
       "      <td>0.0</td>\n",
       "      <td>No</td>\n",
       "      <td>32.12</td>\n",
       "      <td>2.208569</td>\n",
       "      <td>10</td>\n",
       "      <td>21.49710</td>\n",
       "      <td>0.023477</td>\n",
       "    </tr>\n",
       "  </tbody>\n",
       "</table>\n",
       "<p>2 rows × 23 columns</p>\n",
       "</div>"
      ],
      "text/plain": [
       "         date location  mintemp  maxtemp  rainfall  evaporation  sunshine  \\\n",
       "0  2008-12-01   Albury     13.4     22.9       0.6          NaN       NaN   \n",
       "1  2008-12-02   Albury      7.4     25.1       0.0          NaN       NaN   \n",
       "\n",
       "   humidity9am  humidity3pm  pressure9am  ...  temp9am  temp3pm  raintoday  \\\n",
       "0         71.0         22.0       1007.7  ...     16.9     21.8         No   \n",
       "1         44.0         25.0       1010.6  ...     17.2     24.3         No   \n",
       "\n",
       "   amountOfRain  raintomorrow   temp   humidity precipitation3pm  \\\n",
       "0           0.0            No  29.48  28.400000               12   \n",
       "1           0.0            No  32.12   2.208569               10   \n",
       "\n",
       "   precipitation9am  modelo_vigente  \n",
       "0           5.11536        0.089825  \n",
       "1          21.49710        0.023477  \n",
       "\n",
       "[2 rows x 23 columns]"
      ]
     },
     "execution_count": 269,
     "metadata": {},
     "output_type": "execute_result"
    }
   ],
   "source": [
    "chuva = pd.read_csv('rain_data_aus.csv')\n",
    "chuva.head(2)"
   ]
  },
  {
   "cell_type": "code",
   "execution_count": 123,
   "metadata": {},
   "outputs": [
    {
     "data": {
      "text/plain": [
       "(142193, 23)"
      ]
     },
     "execution_count": 123,
     "metadata": {},
     "output_type": "execute_result"
    }
   ],
   "source": [
    "chuva.shape"
   ]
  },
  {
   "cell_type": "code",
   "execution_count": 271,
   "metadata": {},
   "outputs": [
    {
     "data": {
      "text/plain": [
       "date                datetime64[ns]\n",
       "location                    object\n",
       "mintemp                    float64\n",
       "maxtemp                    float64\n",
       "rainfall                   float64\n",
       "evaporation                float64\n",
       "sunshine                   float64\n",
       "humidity9am                float64\n",
       "humidity3pm                float64\n",
       "pressure9am                float64\n",
       "pressure3pm                float64\n",
       "cloud9am                   float64\n",
       "cloud3pm                   float64\n",
       "temp9am                    float64\n",
       "temp3pm                    float64\n",
       "raintoday                   object\n",
       "amountOfRain               float64\n",
       "raintomorrow                object\n",
       "temp                       float64\n",
       "humidity                   float64\n",
       "precipitation3pm             int64\n",
       "precipitation9am           float64\n",
       "modelo_vigente             float64\n",
       "dtype: object"
      ]
     },
     "execution_count": 271,
     "metadata": {},
     "output_type": "execute_result"
    }
   ],
   "source": [
    "chuva.dtypes"
   ]
  },
  {
   "cell_type": "code",
   "execution_count": 270,
   "metadata": {},
   "outputs": [],
   "source": [
    "chuva['date'] = pd.to_datetime(chuva['date'])"
   ]
  },
  {
   "cell_type": "code",
   "execution_count": 275,
   "metadata": {},
   "outputs": [
    {
     "data": {
      "text/plain": [
       "date                    0\n",
       "location                0\n",
       "mintemp               637\n",
       "maxtemp               322\n",
       "rainfall             1406\n",
       "evaporation         60843\n",
       "sunshine            67816\n",
       "humidity9am          1774\n",
       "humidity3pm          3610\n",
       "pressure9am         14014\n",
       "pressure3pm         13981\n",
       "cloud9am            53657\n",
       "cloud3pm            57094\n",
       "temp9am               904\n",
       "temp3pm              2726\n",
       "raintoday            1406\n",
       "amountOfRain            0\n",
       "raintomorrow            0\n",
       "temp                  322\n",
       "humidity             3610\n",
       "precipitation3pm        0\n",
       "precipitation9am        0\n",
       "modelo_vigente          0\n",
       "dtype: int64"
      ]
     },
     "execution_count": 275,
     "metadata": {},
     "output_type": "execute_result"
    }
   ],
   "source": [
    "chuva.isna().sum()"
   ]
  },
  {
   "cell_type": "code",
   "execution_count": 279,
   "metadata": {},
   "outputs": [
    {
     "data": {
      "text/html": [
       "<div>\n",
       "<style scoped>\n",
       "    .dataframe tbody tr th:only-of-type {\n",
       "        vertical-align: middle;\n",
       "    }\n",
       "\n",
       "    .dataframe tbody tr th {\n",
       "        vertical-align: top;\n",
       "    }\n",
       "\n",
       "    .dataframe thead th {\n",
       "        text-align: right;\n",
       "    }\n",
       "</style>\n",
       "<table border=\"1\" class=\"dataframe\">\n",
       "  <thead>\n",
       "    <tr style=\"text-align: right;\">\n",
       "      <th></th>\n",
       "      <th>Unnamed: 0</th>\n",
       "      <th>date</th>\n",
       "      <th>location</th>\n",
       "      <th>mintemp</th>\n",
       "      <th>maxtemp</th>\n",
       "      <th>rainfall</th>\n",
       "      <th>evaporation</th>\n",
       "      <th>sunshine</th>\n",
       "      <th>humidity9am</th>\n",
       "      <th>humidity3pm</th>\n",
       "      <th>...</th>\n",
       "      <th>humidity</th>\n",
       "      <th>precipitation3pm</th>\n",
       "      <th>precipitation9am</th>\n",
       "      <th>modelo_vigente</th>\n",
       "      <th>windgustdir</th>\n",
       "      <th>windgustspeed</th>\n",
       "      <th>winddir9am</th>\n",
       "      <th>winddir3pm</th>\n",
       "      <th>windspeed9am</th>\n",
       "      <th>windspeed3pm</th>\n",
       "    </tr>\n",
       "  </thead>\n",
       "  <tbody>\n",
       "    <tr>\n",
       "      <th>0</th>\n",
       "      <td>0</td>\n",
       "      <td>2008-12-01</td>\n",
       "      <td>Albury</td>\n",
       "      <td>13.4</td>\n",
       "      <td>22.9</td>\n",
       "      <td>0.6</td>\n",
       "      <td>NaN</td>\n",
       "      <td>NaN</td>\n",
       "      <td>71.0</td>\n",
       "      <td>22.0</td>\n",
       "      <td>...</td>\n",
       "      <td>28.400000</td>\n",
       "      <td>12</td>\n",
       "      <td>5.115360</td>\n",
       "      <td>0.089825</td>\n",
       "      <td>W</td>\n",
       "      <td>44.0</td>\n",
       "      <td>W</td>\n",
       "      <td>WNW</td>\n",
       "      <td>20.0</td>\n",
       "      <td>24.0</td>\n",
       "    </tr>\n",
       "    <tr>\n",
       "      <th>1</th>\n",
       "      <td>1</td>\n",
       "      <td>2008-12-02</td>\n",
       "      <td>Albury</td>\n",
       "      <td>7.4</td>\n",
       "      <td>25.1</td>\n",
       "      <td>0.0</td>\n",
       "      <td>NaN</td>\n",
       "      <td>NaN</td>\n",
       "      <td>44.0</td>\n",
       "      <td>25.0</td>\n",
       "      <td>...</td>\n",
       "      <td>2.208569</td>\n",
       "      <td>10</td>\n",
       "      <td>21.497100</td>\n",
       "      <td>0.023477</td>\n",
       "      <td>WNW</td>\n",
       "      <td>44.0</td>\n",
       "      <td>NNW</td>\n",
       "      <td>WSW</td>\n",
       "      <td>4.0</td>\n",
       "      <td>22.0</td>\n",
       "    </tr>\n",
       "    <tr>\n",
       "      <th>2</th>\n",
       "      <td>2</td>\n",
       "      <td>2008-12-03</td>\n",
       "      <td>Albury</td>\n",
       "      <td>12.9</td>\n",
       "      <td>25.7</td>\n",
       "      <td>0.0</td>\n",
       "      <td>NaN</td>\n",
       "      <td>NaN</td>\n",
       "      <td>38.0</td>\n",
       "      <td>30.0</td>\n",
       "      <td>...</td>\n",
       "      <td>38.000000</td>\n",
       "      <td>17</td>\n",
       "      <td>20.782859</td>\n",
       "      <td>0.027580</td>\n",
       "      <td>WSW</td>\n",
       "      <td>46.0</td>\n",
       "      <td>W</td>\n",
       "      <td>WSW</td>\n",
       "      <td>19.0</td>\n",
       "      <td>26.0</td>\n",
       "    </tr>\n",
       "    <tr>\n",
       "      <th>3</th>\n",
       "      <td>3</td>\n",
       "      <td>2008-12-04</td>\n",
       "      <td>Albury</td>\n",
       "      <td>9.2</td>\n",
       "      <td>28.0</td>\n",
       "      <td>0.0</td>\n",
       "      <td>NaN</td>\n",
       "      <td>NaN</td>\n",
       "      <td>45.0</td>\n",
       "      <td>16.0</td>\n",
       "      <td>...</td>\n",
       "      <td>21.200000</td>\n",
       "      <td>8</td>\n",
       "      <td>12.028646</td>\n",
       "      <td>0.023962</td>\n",
       "      <td>NE</td>\n",
       "      <td>24.0</td>\n",
       "      <td>SE</td>\n",
       "      <td>E</td>\n",
       "      <td>11.0</td>\n",
       "      <td>9.0</td>\n",
       "    </tr>\n",
       "    <tr>\n",
       "      <th>4</th>\n",
       "      <td>4</td>\n",
       "      <td>2008-12-05</td>\n",
       "      <td>Albury</td>\n",
       "      <td>17.5</td>\n",
       "      <td>32.3</td>\n",
       "      <td>1.0</td>\n",
       "      <td>NaN</td>\n",
       "      <td>NaN</td>\n",
       "      <td>82.0</td>\n",
       "      <td>33.0</td>\n",
       "      <td>...</td>\n",
       "      <td>41.600000</td>\n",
       "      <td>9</td>\n",
       "      <td>11.883546</td>\n",
       "      <td>0.220164</td>\n",
       "      <td>W</td>\n",
       "      <td>41.0</td>\n",
       "      <td>ENE</td>\n",
       "      <td>NW</td>\n",
       "      <td>7.0</td>\n",
       "      <td>20.0</td>\n",
       "    </tr>\n",
       "    <tr>\n",
       "      <th>...</th>\n",
       "      <td>...</td>\n",
       "      <td>...</td>\n",
       "      <td>...</td>\n",
       "      <td>...</td>\n",
       "      <td>...</td>\n",
       "      <td>...</td>\n",
       "      <td>...</td>\n",
       "      <td>...</td>\n",
       "      <td>...</td>\n",
       "      <td>...</td>\n",
       "      <td>...</td>\n",
       "      <td>...</td>\n",
       "      <td>...</td>\n",
       "      <td>...</td>\n",
       "      <td>...</td>\n",
       "      <td>...</td>\n",
       "      <td>...</td>\n",
       "      <td>...</td>\n",
       "      <td>...</td>\n",
       "      <td>...</td>\n",
       "      <td>...</td>\n",
       "    </tr>\n",
       "    <tr>\n",
       "      <th>142188</th>\n",
       "      <td>142188</td>\n",
       "      <td>2017-06-20</td>\n",
       "      <td>Uluru</td>\n",
       "      <td>3.5</td>\n",
       "      <td>21.8</td>\n",
       "      <td>0.0</td>\n",
       "      <td>NaN</td>\n",
       "      <td>NaN</td>\n",
       "      <td>59.0</td>\n",
       "      <td>27.0</td>\n",
       "      <td>...</td>\n",
       "      <td>34.400000</td>\n",
       "      <td>12</td>\n",
       "      <td>5.848681</td>\n",
       "      <td>0.002556</td>\n",
       "      <td>E</td>\n",
       "      <td>31.0</td>\n",
       "      <td>ESE</td>\n",
       "      <td>E</td>\n",
       "      <td>15.0</td>\n",
       "      <td>13.0</td>\n",
       "    </tr>\n",
       "    <tr>\n",
       "      <th>142189</th>\n",
       "      <td>142189</td>\n",
       "      <td>2017-06-21</td>\n",
       "      <td>Uluru</td>\n",
       "      <td>2.8</td>\n",
       "      <td>23.4</td>\n",
       "      <td>0.0</td>\n",
       "      <td>NaN</td>\n",
       "      <td>NaN</td>\n",
       "      <td>51.0</td>\n",
       "      <td>24.0</td>\n",
       "      <td>...</td>\n",
       "      <td>30.800000</td>\n",
       "      <td>10</td>\n",
       "      <td>6.653879</td>\n",
       "      <td>0.002053</td>\n",
       "      <td>E</td>\n",
       "      <td>31.0</td>\n",
       "      <td>SE</td>\n",
       "      <td>ENE</td>\n",
       "      <td>13.0</td>\n",
       "      <td>11.0</td>\n",
       "    </tr>\n",
       "    <tr>\n",
       "      <th>142190</th>\n",
       "      <td>142190</td>\n",
       "      <td>2017-06-22</td>\n",
       "      <td>Uluru</td>\n",
       "      <td>3.6</td>\n",
       "      <td>25.3</td>\n",
       "      <td>0.0</td>\n",
       "      <td>NaN</td>\n",
       "      <td>NaN</td>\n",
       "      <td>56.0</td>\n",
       "      <td>21.0</td>\n",
       "      <td>...</td>\n",
       "      <td>27.200000</td>\n",
       "      <td>9</td>\n",
       "      <td>19.715976</td>\n",
       "      <td>0.023350</td>\n",
       "      <td>NNW</td>\n",
       "      <td>22.0</td>\n",
       "      <td>SE</td>\n",
       "      <td>N</td>\n",
       "      <td>13.0</td>\n",
       "      <td>9.0</td>\n",
       "    </tr>\n",
       "    <tr>\n",
       "      <th>142191</th>\n",
       "      <td>142191</td>\n",
       "      <td>2017-06-23</td>\n",
       "      <td>Uluru</td>\n",
       "      <td>5.4</td>\n",
       "      <td>26.9</td>\n",
       "      <td>0.0</td>\n",
       "      <td>NaN</td>\n",
       "      <td>NaN</td>\n",
       "      <td>53.0</td>\n",
       "      <td>24.0</td>\n",
       "      <td>...</td>\n",
       "      <td>30.800000</td>\n",
       "      <td>12</td>\n",
       "      <td>0.985551</td>\n",
       "      <td>0.007195</td>\n",
       "      <td>N</td>\n",
       "      <td>37.0</td>\n",
       "      <td>SE</td>\n",
       "      <td>WNW</td>\n",
       "      <td>9.0</td>\n",
       "      <td>9.0</td>\n",
       "    </tr>\n",
       "    <tr>\n",
       "      <th>142192</th>\n",
       "      <td>142192</td>\n",
       "      <td>2017-06-24</td>\n",
       "      <td>Uluru</td>\n",
       "      <td>7.8</td>\n",
       "      <td>27.0</td>\n",
       "      <td>0.0</td>\n",
       "      <td>NaN</td>\n",
       "      <td>NaN</td>\n",
       "      <td>51.0</td>\n",
       "      <td>24.0</td>\n",
       "      <td>...</td>\n",
       "      <td>30.800000</td>\n",
       "      <td>15</td>\n",
       "      <td>4.381481</td>\n",
       "      <td>0.018811</td>\n",
       "      <td>SE</td>\n",
       "      <td>28.0</td>\n",
       "      <td>SSE</td>\n",
       "      <td>N</td>\n",
       "      <td>13.0</td>\n",
       "      <td>7.0</td>\n",
       "    </tr>\n",
       "  </tbody>\n",
       "</table>\n",
       "<p>142193 rows × 30 columns</p>\n",
       "</div>"
      ],
      "text/plain": [
       "        Unnamed: 0        date location  mintemp  maxtemp  rainfall  \\\n",
       "0                0  2008-12-01   Albury     13.4     22.9       0.6   \n",
       "1                1  2008-12-02   Albury      7.4     25.1       0.0   \n",
       "2                2  2008-12-03   Albury     12.9     25.7       0.0   \n",
       "3                3  2008-12-04   Albury      9.2     28.0       0.0   \n",
       "4                4  2008-12-05   Albury     17.5     32.3       1.0   \n",
       "...            ...         ...      ...      ...      ...       ...   \n",
       "142188      142188  2017-06-20    Uluru      3.5     21.8       0.0   \n",
       "142189      142189  2017-06-21    Uluru      2.8     23.4       0.0   \n",
       "142190      142190  2017-06-22    Uluru      3.6     25.3       0.0   \n",
       "142191      142191  2017-06-23    Uluru      5.4     26.9       0.0   \n",
       "142192      142192  2017-06-24    Uluru      7.8     27.0       0.0   \n",
       "\n",
       "        evaporation  sunshine  humidity9am  humidity3pm  ...   humidity  \\\n",
       "0               NaN       NaN         71.0         22.0  ...  28.400000   \n",
       "1               NaN       NaN         44.0         25.0  ...   2.208569   \n",
       "2               NaN       NaN         38.0         30.0  ...  38.000000   \n",
       "3               NaN       NaN         45.0         16.0  ...  21.200000   \n",
       "4               NaN       NaN         82.0         33.0  ...  41.600000   \n",
       "...             ...       ...          ...          ...  ...        ...   \n",
       "142188          NaN       NaN         59.0         27.0  ...  34.400000   \n",
       "142189          NaN       NaN         51.0         24.0  ...  30.800000   \n",
       "142190          NaN       NaN         56.0         21.0  ...  27.200000   \n",
       "142191          NaN       NaN         53.0         24.0  ...  30.800000   \n",
       "142192          NaN       NaN         51.0         24.0  ...  30.800000   \n",
       "\n",
       "        precipitation3pm  precipitation9am  modelo_vigente  windgustdir  \\\n",
       "0                     12          5.115360        0.089825            W   \n",
       "1                     10         21.497100        0.023477          WNW   \n",
       "2                     17         20.782859        0.027580          WSW   \n",
       "3                      8         12.028646        0.023962           NE   \n",
       "4                      9         11.883546        0.220164            W   \n",
       "...                  ...               ...             ...          ...   \n",
       "142188                12          5.848681        0.002556            E   \n",
       "142189                10          6.653879        0.002053            E   \n",
       "142190                 9         19.715976        0.023350          NNW   \n",
       "142191                12          0.985551        0.007195            N   \n",
       "142192                15          4.381481        0.018811           SE   \n",
       "\n",
       "        windgustspeed winddir9am  winddir3pm windspeed9am  windspeed3pm  \n",
       "0                44.0          W         WNW         20.0          24.0  \n",
       "1                44.0        NNW         WSW          4.0          22.0  \n",
       "2                46.0          W         WSW         19.0          26.0  \n",
       "3                24.0         SE           E         11.0           9.0  \n",
       "4                41.0        ENE          NW          7.0          20.0  \n",
       "...               ...        ...         ...          ...           ...  \n",
       "142188           31.0        ESE           E         15.0          13.0  \n",
       "142189           31.0         SE         ENE         13.0          11.0  \n",
       "142190           22.0         SE           N         13.0           9.0  \n",
       "142191           37.0         SE         WNW          9.0           9.0  \n",
       "142192           28.0        SSE           N         13.0           7.0  \n",
       "\n",
       "[142193 rows x 30 columns]"
      ]
     },
     "execution_count": 279,
     "metadata": {},
     "output_type": "execute_result"
    }
   ],
   "source": [
    "australia = pd.read_csv('rain_data_complete.csv')\n",
    "australia"
   ]
  },
  {
   "cell_type": "code",
   "execution_count": 280,
   "metadata": {},
   "outputs": [
    {
     "data": {
      "text/plain": [
       "Unnamed: 0            int64\n",
       "date                 object\n",
       "location             object\n",
       "mintemp             float64\n",
       "maxtemp             float64\n",
       "rainfall            float64\n",
       "evaporation         float64\n",
       "sunshine            float64\n",
       "humidity9am         float64\n",
       "humidity3pm         float64\n",
       "pressure9am         float64\n",
       "pressure3pm         float64\n",
       "cloud9am            float64\n",
       "cloud3pm            float64\n",
       "temp9am             float64\n",
       "temp3pm             float64\n",
       "raintoday            object\n",
       "amountOfRain        float64\n",
       "raintomorrow         object\n",
       "temp                float64\n",
       "humidity            float64\n",
       "precipitation3pm      int64\n",
       "precipitation9am    float64\n",
       "modelo_vigente      float64\n",
       "windgustdir          object\n",
       "windgustspeed       float64\n",
       "winddir9am           object\n",
       "winddir3pm           object\n",
       "windspeed9am        float64\n",
       "windspeed3pm        float64\n",
       "dtype: object"
      ]
     },
     "execution_count": 280,
     "metadata": {},
     "output_type": "execute_result"
    }
   ],
   "source": [
    "australia.dtypes"
   ]
  },
  {
   "cell_type": "code",
   "execution_count": 288,
   "metadata": {},
   "outputs": [
    {
     "data": {
      "text/plain": [
       "Unnamed: 0           0.00\n",
       "date                 0.00\n",
       "location             0.00\n",
       "mintemp              0.45\n",
       "maxtemp              0.23\n",
       "rainfall             0.99\n",
       "evaporation         42.79\n",
       "sunshine            47.69\n",
       "humidity9am          1.25\n",
       "humidity3pm          2.54\n",
       "pressure9am          9.86\n",
       "pressure3pm          9.83\n",
       "cloud9am            37.74\n",
       "cloud3pm            40.15\n",
       "temp9am              0.64\n",
       "temp3pm              1.92\n",
       "raintoday            0.99\n",
       "amountOfRain         0.00\n",
       "raintomorrow         0.00\n",
       "temp                 0.23\n",
       "humidity             2.54\n",
       "precipitation3pm     0.00\n",
       "precipitation9am     0.00\n",
       "modelo_vigente       0.00\n",
       "windgustdir          6.56\n",
       "windgustspeed        6.52\n",
       "winddir9am           7.04\n",
       "winddir3pm           2.66\n",
       "windspeed9am         0.95\n",
       "windspeed3pm         1.85\n",
       "dtype: float64"
      ]
     },
     "execution_count": 288,
     "metadata": {},
     "output_type": "execute_result"
    }
   ],
   "source": [
    "round(((australia.isna().sum())/len(australia))*100,2)"
   ]
  },
  {
   "cell_type": "code",
   "execution_count": 293,
   "metadata": {},
   "outputs": [
    {
     "name": "stdout",
     "output_type": "stream",
     "text": [
      "<class 'pandas.core.frame.DataFrame'>\n",
      "RangeIndex: 142193 entries, 0 to 142192\n",
      "Data columns (total 30 columns):\n",
      "Unnamed: 0          142193 non-null int64\n",
      "date                142193 non-null object\n",
      "location            142193 non-null object\n",
      "mintemp             141556 non-null float64\n",
      "maxtemp             141871 non-null float64\n",
      "rainfall            140787 non-null float64\n",
      "evaporation         81350 non-null float64\n",
      "sunshine            74377 non-null float64\n",
      "humidity9am         140419 non-null float64\n",
      "humidity3pm         138583 non-null float64\n",
      "pressure9am         128179 non-null float64\n",
      "pressure3pm         128212 non-null float64\n",
      "cloud9am            88536 non-null float64\n",
      "cloud3pm            85099 non-null float64\n",
      "temp9am             141289 non-null float64\n",
      "temp3pm             139467 non-null float64\n",
      "raintoday           140787 non-null object\n",
      "amountOfRain        142193 non-null float64\n",
      "raintomorrow        142193 non-null object\n",
      "temp                141871 non-null float64\n",
      "humidity            138583 non-null float64\n",
      "precipitation3pm    142193 non-null int64\n",
      "precipitation9am    142193 non-null float64\n",
      "modelo_vigente      142193 non-null float64\n",
      "windgustdir         132863 non-null object\n",
      "windgustspeed       132923 non-null float64\n",
      "winddir9am          132180 non-null object\n",
      "winddir3pm          138415 non-null object\n",
      "windspeed9am        140845 non-null float64\n",
      "windspeed3pm        139563 non-null float64\n",
      "dtypes: float64(21), int64(2), object(7)\n",
      "memory usage: 32.5+ MB\n"
     ]
    }
   ],
   "source": [
    "australia.info()"
   ]
  },
  {
   "cell_type": "code",
   "execution_count": 128,
   "metadata": {},
   "outputs": [
    {
     "data": {
      "text/plain": [
       "[False    1.0\n",
       " Name: date, dtype: float64,\n",
       " False    1.0\n",
       " Name: location, dtype: float64,\n",
       " False    0.99552\n",
       " True     0.00448\n",
       " Name: mintemp, dtype: float64,\n",
       " False    0.997735\n",
       " True     0.002265\n",
       " Name: maxtemp, dtype: float64,\n",
       " False    0.990112\n",
       " True     0.009888\n",
       " Name: rainfall, dtype: float64,\n",
       " False    0.57211\n",
       " True     0.42789\n",
       " Name: evaporation, dtype: float64,\n",
       " False    0.523071\n",
       " True     0.476929\n",
       " Name: sunshine, dtype: float64,\n",
       " False    0.987524\n",
       " True     0.012476\n",
       " Name: humidity9am, dtype: float64,\n",
       " False    0.974612\n",
       " True     0.025388\n",
       " Name: humidity3pm, dtype: float64,\n",
       " False    0.901444\n",
       " True     0.098556\n",
       " Name: pressure9am, dtype: float64,\n",
       " False    0.901676\n",
       " True     0.098324\n",
       " Name: pressure3pm, dtype: float64,\n",
       " False    0.622647\n",
       " True     0.377353\n",
       " Name: cloud9am, dtype: float64,\n",
       " False    0.598475\n",
       " True     0.401525\n",
       " Name: cloud3pm, dtype: float64,\n",
       " False    0.993642\n",
       " True     0.006358\n",
       " Name: temp9am, dtype: float64,\n",
       " False    0.980829\n",
       " True     0.019171\n",
       " Name: temp3pm, dtype: float64,\n",
       " False    0.990112\n",
       " True     0.009888\n",
       " Name: raintoday, dtype: float64,\n",
       " False    1.0\n",
       " Name: amountOfRain, dtype: float64,\n",
       " False    1.0\n",
       " Name: raintomorrow, dtype: float64,\n",
       " False    0.997735\n",
       " True     0.002265\n",
       " Name: temp, dtype: float64,\n",
       " False    0.974612\n",
       " True     0.025388\n",
       " Name: humidity, dtype: float64,\n",
       " False    1.0\n",
       " Name: precipitation3pm, dtype: float64,\n",
       " False    1.0\n",
       " Name: precipitation9am, dtype: float64,\n",
       " False    1.0\n",
       " Name: modelo_vigente, dtype: float64]"
      ]
     },
     "execution_count": 128,
     "metadata": {},
     "output_type": "execute_result"
    }
   ],
   "source": [
    "features = list(chuva.columns)\n",
    "[(chuva[i].isna().value_counts())/len(chuva) for i in features] "
   ]
  },
  {
   "cell_type": "code",
   "execution_count": 3,
   "metadata": {},
   "outputs": [],
   "source": [
    "import pandas as pd\n",
    "winds = list(range(0,8))\n",
    "for i in range(0,8):\n",
    "    winds[i] = pd.read_csv(f'wind_table_0{i+1}.csv')   \n",
    "    "
   ]
  },
  {
   "cell_type": "code",
   "execution_count": 235,
   "metadata": {},
   "outputs": [
    {
     "data": {
      "text/plain": [
       "(142193, 14)"
      ]
     },
     "execution_count": 235,
     "metadata": {},
     "output_type": "execute_result"
    }
   ],
   "source": [
    "all_winds.shape"
   ]
  },
  {
   "cell_type": "code",
   "execution_count": 251,
   "metadata": {},
   "outputs": [
    {
     "data": {
      "text/plain": [
       "Index(['date', 'location', 'wind_gustdir', 'wind_gustspeed', 'wind_dir9am',\n",
       "       'wind_dir3pm', 'wind_speed9am', 'wind_speed3pm'],\n",
       "      dtype='object')"
      ]
     },
     "execution_count": 251,
     "metadata": {},
     "output_type": "execute_result"
    }
   ],
   "source": [
    "winds[1].columns"
   ]
  },
  {
   "cell_type": "code",
   "execution_count": 254,
   "metadata": {},
   "outputs": [],
   "source": [
    "winds[1].rename(columns=({'wind_gustdir':'windgustdir', 'wind_gustspeed':'windgustspeed', 'wind_dir9am':'winddir9am',\n",
    "       'wind_dir3pm':'winddir3pm', 'wind_speed9am':'windspeed9am', 'wind_speed3pm':'windspeed3pm'}), inplace=True)"
   ]
  },
  {
   "cell_type": "code",
   "execution_count": 257,
   "metadata": {},
   "outputs": [],
   "source": [
    "winds[2].rename(columns=({'wind_gustdir':'windgustdir', 'wind_gustspeed':'windgustspeed', 'wind_dir9am':'winddir9am',\n",
    "       'wind_dir3pm':'winddir3pm', 'wind_speed9am':'windspeed9am', 'wind_speed3pm':'windspeed3pm'}), inplace=True)"
   ]
  },
  {
   "cell_type": "code",
   "execution_count": 260,
   "metadata": {},
   "outputs": [],
   "source": [
    "all_winds = pd.concat([winds[1],winds[2],winds[3],winds[4],winds[5],winds[6],winds[7]], axis=0).reset_index(drop=True)"
   ]
  },
  {
   "cell_type": "code",
   "execution_count": 267,
   "metadata": {},
   "outputs": [],
   "source": [
    "all_winds.to_csv('all_winds.csv')"
   ]
  },
  {
   "cell_type": "code",
   "execution_count": 264,
   "metadata": {},
   "outputs": [
    {
     "data": {
      "text/plain": [
       "(142193, 8)"
      ]
     },
     "execution_count": 264,
     "metadata": {},
     "output_type": "execute_result"
    }
   ],
   "source": [
    "all_winds.shape"
   ]
  },
  {
   "cell_type": "code",
   "execution_count": 303,
   "metadata": {},
   "outputs": [
    {
     "ename": "AttributeError",
     "evalue": "'DataFrame' object has no attribute 'value_counts'",
     "output_type": "error",
     "traceback": [
      "\u001b[1;31m---------------------------------------------------------------------------\u001b[0m",
      "\u001b[1;31mAttributeError\u001b[0m                            Traceback (most recent call last)",
      "\u001b[1;32m<ipython-input-303-3f1b1c2d1e5f>\u001b[0m in \u001b[0;36m<module>\u001b[1;34m\u001b[0m\n\u001b[1;32m----> 1\u001b[1;33m \u001b[0maustralia\u001b[0m\u001b[1;33m.\u001b[0m\u001b[0mquery\u001b[0m\u001b[1;33m(\u001b[0m\u001b[1;34m'raintomorrow == \"No\"'\u001b[0m\u001b[1;33m)\u001b[0m\u001b[1;33m.\u001b[0m\u001b[0mvalue_counts\u001b[0m\u001b[1;33m(\u001b[0m\u001b[1;33m)\u001b[0m\u001b[1;33m\u001b[0m\u001b[1;33m\u001b[0m\u001b[0m\n\u001b[0m",
      "\u001b[1;32m~\\AppData\\Roaming\\Python\\Python37\\site-packages\\pandas\\core\\generic.py\u001b[0m in \u001b[0;36m__getattr__\u001b[1;34m(self, name)\u001b[0m\n\u001b[0;32m   5177\u001b[0m             \u001b[1;32mif\u001b[0m \u001b[0mself\u001b[0m\u001b[1;33m.\u001b[0m\u001b[0m_info_axis\u001b[0m\u001b[1;33m.\u001b[0m\u001b[0m_can_hold_identifiers_and_holds_name\u001b[0m\u001b[1;33m(\u001b[0m\u001b[0mname\u001b[0m\u001b[1;33m)\u001b[0m\u001b[1;33m:\u001b[0m\u001b[1;33m\u001b[0m\u001b[1;33m\u001b[0m\u001b[0m\n\u001b[0;32m   5178\u001b[0m                 \u001b[1;32mreturn\u001b[0m \u001b[0mself\u001b[0m\u001b[1;33m[\u001b[0m\u001b[0mname\u001b[0m\u001b[1;33m]\u001b[0m\u001b[1;33m\u001b[0m\u001b[1;33m\u001b[0m\u001b[0m\n\u001b[1;32m-> 5179\u001b[1;33m             \u001b[1;32mreturn\u001b[0m \u001b[0mobject\u001b[0m\u001b[1;33m.\u001b[0m\u001b[0m__getattribute__\u001b[0m\u001b[1;33m(\u001b[0m\u001b[0mself\u001b[0m\u001b[1;33m,\u001b[0m \u001b[0mname\u001b[0m\u001b[1;33m)\u001b[0m\u001b[1;33m\u001b[0m\u001b[1;33m\u001b[0m\u001b[0m\n\u001b[0m\u001b[0;32m   5180\u001b[0m \u001b[1;33m\u001b[0m\u001b[0m\n\u001b[0;32m   5181\u001b[0m     \u001b[1;32mdef\u001b[0m \u001b[0m__setattr__\u001b[0m\u001b[1;33m(\u001b[0m\u001b[0mself\u001b[0m\u001b[1;33m,\u001b[0m \u001b[0mname\u001b[0m\u001b[1;33m,\u001b[0m \u001b[0mvalue\u001b[0m\u001b[1;33m)\u001b[0m\u001b[1;33m:\u001b[0m\u001b[1;33m\u001b[0m\u001b[1;33m\u001b[0m\u001b[0m\n",
      "\u001b[1;31mAttributeError\u001b[0m: 'DataFrame' object has no attribute 'value_counts'"
     ]
    }
   ],
   "source": [
    "australia.query('raintomorrow == \"No\"').value_counts()"
   ]
  },
  {
   "cell_type": "code",
   "execution_count": null,
   "metadata": {},
   "outputs": [],
   "source": []
  },
  {
   "cell_type": "code",
   "execution_count": null,
   "metadata": {},
   "outputs": [],
   "source": []
  },
  {
   "cell_type": "code",
   "execution_count": null,
   "metadata": {},
   "outputs": [],
   "source": []
  },
  {
   "cell_type": "code",
   "execution_count": null,
   "metadata": {},
   "outputs": [],
   "source": []
  },
  {
   "cell_type": "code",
   "execution_count": 266,
   "metadata": {},
   "outputs": [
    {
     "data": {
      "text/plain": [
       "0        2007-11-01\n",
       "1        2007-11-02\n",
       "2        2007-11-03\n",
       "3        2007-11-04\n",
       "4        2007-11-05\n",
       "            ...    \n",
       "142188   2017-06-25\n",
       "142189   2017-06-25\n",
       "142190   2017-06-25\n",
       "142191   2017-06-25\n",
       "142192   2017-06-25\n",
       "Name: date, Length: 142193, dtype: datetime64[ns]"
      ]
     },
     "execution_count": 266,
     "metadata": {},
     "output_type": "execute_result"
    }
   ],
   "source": [
    "all_winds['date'] = pd.to_datetime(all_winds['date'])\n",
    "all_winds['date']"
   ]
  },
  {
   "cell_type": "code",
   "execution_count": 272,
   "metadata": {},
   "outputs": [
    {
     "data": {
      "text/plain": [
       "date             datetime64[ns]\n",
       "location                 object\n",
       "windgustdir              object\n",
       "windgustspeed           float64\n",
       "winddir9am               object\n",
       "winddir3pm               object\n",
       "windspeed9am            float64\n",
       "windspeed3pm            float64\n",
       "dtype: object"
      ]
     },
     "execution_count": 272,
     "metadata": {},
     "output_type": "execute_result"
    }
   ],
   "source": [
    "all_winds.dtypes"
   ]
  },
  {
   "cell_type": "code",
   "execution_count": 276,
   "metadata": {},
   "outputs": [],
   "source": [
    "data = pd.merge(chuva, all_winds, on=['date','location'])"
   ]
  },
  {
   "cell_type": "code",
   "execution_count": 278,
   "metadata": {},
   "outputs": [],
   "source": [
    "data.to_csv('rain_data_complete.csv')"
   ]
  },
  {
   "cell_type": "code",
   "execution_count": null,
   "metadata": {},
   "outputs": [],
   "source": []
  },
  {
   "cell_type": "code",
   "execution_count": 273,
   "metadata": {},
   "outputs": [
    {
     "data": {
      "text/plain": [
       "<matplotlib.axes._subplots.AxesSubplot at 0x21c93d59f08>"
      ]
     },
     "execution_count": 273,
     "metadata": {},
     "output_type": "execute_result"
    },
    {
     "data": {
      "image/png": "[encoded data removed]",
      "text/plain": [
       "<Figure size 864x576 with 1 Axes>"
      ]
     },
     "metadata": {
      "needs_background": "light"
     },
     "output_type": "display_data"
    }
   ],
   "source": [
    "fig, ax = plt.subplots(figsize=(12,8))\n",
    "sns.scatterplot(chuva['location'], chuva['rainfall'], )"
   ]
  },
  {
   "cell_type": "code",
   "execution_count": 35,
   "metadata": {},
   "outputs": [],
   "source": [
    "\n",
    "wind7['date'] = pd.to_datetime(wind7['date'])\n",
    "wind8['date'] = pd.to_datetime(wind8['date'])"
   ]
  },
  {
   "cell_type": "code",
   "execution_count": 93,
   "metadata": {},
   "outputs": [
    {
     "data": {
      "text/html": [
       "<div>\n",
       "<style scoped>\n",
       "    .dataframe tbody tr th:only-of-type {\n",
       "        vertical-align: middle;\n",
       "    }\n",
       "\n",
       "    .dataframe tbody tr th {\n",
       "        vertical-align: top;\n",
       "    }\n",
       "\n",
       "    .dataframe thead th {\n",
       "        text-align: right;\n",
       "    }\n",
       "</style>\n",
       "<table border=\"1\" class=\"dataframe\">\n",
       "  <thead>\n",
       "    <tr style=\"text-align: right;\">\n",
       "      <th></th>\n",
       "      <th>precipitation9am</th>\n",
       "      <th>precipitation3pm</th>\n",
       "    </tr>\n",
       "  </thead>\n",
       "  <tbody>\n",
       "    <tr>\n",
       "      <th>0</th>\n",
       "      <td>9.613089</td>\n",
       "      <td>11</td>\n",
       "    </tr>\n",
       "    <tr>\n",
       "      <th>1</th>\n",
       "      <td>17.115142</td>\n",
       "      <td>9</td>\n",
       "    </tr>\n",
       "    <tr>\n",
       "      <th>2</th>\n",
       "      <td>17.391294</td>\n",
       "      <td>11</td>\n",
       "    </tr>\n",
       "    <tr>\n",
       "      <th>3</th>\n",
       "      <td>4.679143</td>\n",
       "      <td>11</td>\n",
       "    </tr>\n",
       "    <tr>\n",
       "      <th>4</th>\n",
       "      <td>8.346257</td>\n",
       "      <td>17</td>\n",
       "    </tr>\n",
       "    <tr>\n",
       "      <th>...</th>\n",
       "      <td>...</td>\n",
       "      <td>...</td>\n",
       "    </tr>\n",
       "    <tr>\n",
       "      <th>142188</th>\n",
       "      <td>3.313260</td>\n",
       "      <td>9</td>\n",
       "    </tr>\n",
       "    <tr>\n",
       "      <th>142189</th>\n",
       "      <td>15.827330</td>\n",
       "      <td>15</td>\n",
       "    </tr>\n",
       "    <tr>\n",
       "      <th>142190</th>\n",
       "      <td>5.257638</td>\n",
       "      <td>13</td>\n",
       "    </tr>\n",
       "    <tr>\n",
       "      <th>142191</th>\n",
       "      <td>15.136587</td>\n",
       "      <td>10</td>\n",
       "    </tr>\n",
       "    <tr>\n",
       "      <th>142192</th>\n",
       "      <td>12.327163</td>\n",
       "      <td>7</td>\n",
       "    </tr>\n",
       "  </tbody>\n",
       "</table>\n",
       "<p>142193 rows × 2 columns</p>\n",
       "</div>"
      ],
      "text/plain": [
       "        precipitation9am  precipitation3pm\n",
       "0               9.613089                11\n",
       "1              17.115142                 9\n",
       "2              17.391294                11\n",
       "3               4.679143                11\n",
       "4               8.346257                17\n",
       "...                  ...               ...\n",
       "142188          3.313260                 9\n",
       "142189         15.827330                15\n",
       "142190          5.257638                13\n",
       "142191         15.136587                10\n",
       "142192         12.327163                 7\n",
       "\n",
       "[142193 rows x 2 columns]"
      ]
     },
     "execution_count": 93,
     "metadata": {},
     "output_type": "execute_result"
    }
   ],
   "source": [
    "chuva.loc[:,['precipitation9am','precipitation3pm']]"
   ]
  },
  {
   "cell_type": "code",
   "execution_count": 99,
   "metadata": {},
   "outputs": [
    {
     "data": {
      "text/plain": [
       "<matplotlib.axes._subplots.AxesSubplot at 0x21c89baea08>"
      ]
     },
     "execution_count": 99,
     "metadata": {},
     "output_type": "execute_result"
    },
    {
     "data": {
      "image/png": "[encoded data removed]",
      "text/plain": [
       "<Figure size 864x576 with 1 Axes>"
      ]
     },
     "metadata": {
      "needs_background": "light"
     },
     "output_type": "display_data"
    }
   ],
   "source": [
    "fig, ax = plt.subplots(figsize=(12,8))\n",
    "sns.scatterplot(chuva['precipitation9am'], chuva['precipitation3pm'], palette)"
   ]
  },
  {
   "cell_type": "code",
   "execution_count": null,
   "metadata": {},
   "outputs": [],
   "source": []
  },
  {
   "cell_type": "code",
   "execution_count": null,
   "metadata": {},
   "outputs": [],
   "source": []
  },
  {
   "cell_type": "code",
   "execution_count": null,
   "metadata": {},
   "outputs": [],
   "source": []
  },
  {
   "cell_type": "code",
   "execution_count": null,
   "metadata": {},
   "outputs": [],
   "source": []
  },
  {
   "cell_type": "code",
   "execution_count": null,
   "metadata": {},
   "outputs": [],
   "source": []
  },
  {
   "cell_type": "code",
   "execution_count": 37,
   "metadata": {},
   "outputs": [
    {
     "data": {
      "text/plain": [
       "0       2016-03-21\n",
       "1       2016-03-21\n",
       "2       2016-03-21\n",
       "3       2016-03-21\n",
       "4       2016-03-21\n",
       "           ...    \n",
       "22188   2017-06-25\n",
       "22189   2017-06-25\n",
       "22190   2017-06-25\n",
       "22191   2017-06-25\n",
       "22192   2017-06-25\n",
       "Name: date, Length: 22193, dtype: datetime64[ns]"
      ]
     },
     "execution_count": 37,
     "metadata": {},
     "output_type": "execute_result"
    }
   ],
   "source": [
    "wind8['date']"
   ]
  },
  {
   "cell_type": "code",
   "execution_count": 41,
   "metadata": {},
   "outputs": [],
   "source": [
    "#chuva1 = pd.merge(chuva, wind7, on='date')"
   ]
  },
  {
   "cell_type": "code",
   "execution_count": 42,
   "metadata": {},
   "outputs": [
    {
     "data": {
      "text/html": [
       "<div>\n",
       "<style scoped>\n",
       "    .dataframe tbody tr th:only-of-type {\n",
       "        vertical-align: middle;\n",
       "    }\n",
       "\n",
       "    .dataframe tbody tr th {\n",
       "        vertical-align: top;\n",
       "    }\n",
       "\n",
       "    .dataframe thead th {\n",
       "        text-align: right;\n",
       "    }\n",
       "</style>\n",
       "<table border=\"1\" class=\"dataframe\">\n",
       "  <thead>\n",
       "    <tr style=\"text-align: right;\">\n",
       "      <th></th>\n",
       "      <th>date</th>\n",
       "      <th>location_x</th>\n",
       "      <th>mintemp</th>\n",
       "      <th>maxtemp</th>\n",
       "      <th>rainfall</th>\n",
       "      <th>evaporation</th>\n",
       "      <th>sunshine</th>\n",
       "      <th>humidity9am</th>\n",
       "      <th>humidity3pm</th>\n",
       "      <th>pressure9am</th>\n",
       "      <th>...</th>\n",
       "      <th>precipitation3pm</th>\n",
       "      <th>precipitation9am</th>\n",
       "      <th>modelo_vigente</th>\n",
       "      <th>location_y</th>\n",
       "      <th>windgustdir</th>\n",
       "      <th>windgustspeed</th>\n",
       "      <th>winddir9am</th>\n",
       "      <th>winddir3pm</th>\n",
       "      <th>windspeed9am</th>\n",
       "      <th>windspeed3pm</th>\n",
       "    </tr>\n",
       "  </thead>\n",
       "  <tbody>\n",
       "    <tr>\n",
       "      <th>0</th>\n",
       "      <td>2016-03-21</td>\n",
       "      <td>Albury</td>\n",
       "      <td>12.4</td>\n",
       "      <td>25.2</td>\n",
       "      <td>0.0</td>\n",
       "      <td>NaN</td>\n",
       "      <td>NaN</td>\n",
       "      <td>54.0</td>\n",
       "      <td>34.0</td>\n",
       "      <td>1019.7</td>\n",
       "      <td>...</td>\n",
       "      <td>10</td>\n",
       "      <td>15.631042</td>\n",
       "      <td>0.009995</td>\n",
       "      <td>Nhil</td>\n",
       "      <td>ESE</td>\n",
       "      <td>37.0</td>\n",
       "      <td>SSE</td>\n",
       "      <td>SSE</td>\n",
       "      <td>9.0</td>\n",
       "      <td>15.0</td>\n",
       "    </tr>\n",
       "    <tr>\n",
       "      <th>1</th>\n",
       "      <td>2016-03-21</td>\n",
       "      <td>Albury</td>\n",
       "      <td>12.4</td>\n",
       "      <td>25.2</td>\n",
       "      <td>0.0</td>\n",
       "      <td>NaN</td>\n",
       "      <td>NaN</td>\n",
       "      <td>54.0</td>\n",
       "      <td>34.0</td>\n",
       "      <td>1019.7</td>\n",
       "      <td>...</td>\n",
       "      <td>10</td>\n",
       "      <td>15.631042</td>\n",
       "      <td>0.009995</td>\n",
       "      <td>Portland</td>\n",
       "      <td>SE</td>\n",
       "      <td>35.0</td>\n",
       "      <td>ENE</td>\n",
       "      <td>E</td>\n",
       "      <td>7.0</td>\n",
       "      <td>20.0</td>\n",
       "    </tr>\n",
       "    <tr>\n",
       "      <th>2</th>\n",
       "      <td>2016-03-21</td>\n",
       "      <td>Albury</td>\n",
       "      <td>12.4</td>\n",
       "      <td>25.2</td>\n",
       "      <td>0.0</td>\n",
       "      <td>NaN</td>\n",
       "      <td>NaN</td>\n",
       "      <td>54.0</td>\n",
       "      <td>34.0</td>\n",
       "      <td>1019.7</td>\n",
       "      <td>...</td>\n",
       "      <td>10</td>\n",
       "      <td>15.631042</td>\n",
       "      <td>0.009995</td>\n",
       "      <td>Watsonia</td>\n",
       "      <td>SSW</td>\n",
       "      <td>35.0</td>\n",
       "      <td>E</td>\n",
       "      <td>SSE</td>\n",
       "      <td>4.0</td>\n",
       "      <td>11.0</td>\n",
       "    </tr>\n",
       "    <tr>\n",
       "      <th>3</th>\n",
       "      <td>2016-03-21</td>\n",
       "      <td>Albury</td>\n",
       "      <td>12.4</td>\n",
       "      <td>25.2</td>\n",
       "      <td>0.0</td>\n",
       "      <td>NaN</td>\n",
       "      <td>NaN</td>\n",
       "      <td>54.0</td>\n",
       "      <td>34.0</td>\n",
       "      <td>1019.7</td>\n",
       "      <td>...</td>\n",
       "      <td>10</td>\n",
       "      <td>15.631042</td>\n",
       "      <td>0.009995</td>\n",
       "      <td>Dartmoor</td>\n",
       "      <td>ESE</td>\n",
       "      <td>44.0</td>\n",
       "      <td>ESE</td>\n",
       "      <td>SE</td>\n",
       "      <td>6.0</td>\n",
       "      <td>17.0</td>\n",
       "    </tr>\n",
       "    <tr>\n",
       "      <th>4</th>\n",
       "      <td>2016-03-21</td>\n",
       "      <td>Albury</td>\n",
       "      <td>12.4</td>\n",
       "      <td>25.2</td>\n",
       "      <td>0.0</td>\n",
       "      <td>NaN</td>\n",
       "      <td>NaN</td>\n",
       "      <td>54.0</td>\n",
       "      <td>34.0</td>\n",
       "      <td>1019.7</td>\n",
       "      <td>...</td>\n",
       "      <td>10</td>\n",
       "      <td>15.631042</td>\n",
       "      <td>0.009995</td>\n",
       "      <td>Brisbane</td>\n",
       "      <td>ESE</td>\n",
       "      <td>31.0</td>\n",
       "      <td>S</td>\n",
       "      <td>ESE</td>\n",
       "      <td>7.0</td>\n",
       "      <td>15.0</td>\n",
       "    </tr>\n",
       "    <tr>\n",
       "      <th>...</th>\n",
       "      <td>...</td>\n",
       "      <td>...</td>\n",
       "      <td>...</td>\n",
       "      <td>...</td>\n",
       "      <td>...</td>\n",
       "      <td>...</td>\n",
       "      <td>...</td>\n",
       "      <td>...</td>\n",
       "      <td>...</td>\n",
       "      <td>...</td>\n",
       "      <td>...</td>\n",
       "      <td>...</td>\n",
       "      <td>...</td>\n",
       "      <td>...</td>\n",
       "      <td>...</td>\n",
       "      <td>...</td>\n",
       "      <td>...</td>\n",
       "      <td>...</td>\n",
       "      <td>...</td>\n",
       "      <td>...</td>\n",
       "      <td>...</td>\n",
       "    </tr>\n",
       "    <tr>\n",
       "      <th>1067856</th>\n",
       "      <td>2017-03-22</td>\n",
       "      <td>Uluru</td>\n",
       "      <td>23.1</td>\n",
       "      <td>39.9</td>\n",
       "      <td>0.0</td>\n",
       "      <td>NaN</td>\n",
       "      <td>NaN</td>\n",
       "      <td>33.0</td>\n",
       "      <td>16.0</td>\n",
       "      <td>1012.3</td>\n",
       "      <td>...</td>\n",
       "      <td>9</td>\n",
       "      <td>1.088209</td>\n",
       "      <td>0.083535</td>\n",
       "      <td>Launceston</td>\n",
       "      <td>SSE</td>\n",
       "      <td>43.0</td>\n",
       "      <td>SSE</td>\n",
       "      <td>SE</td>\n",
       "      <td>17.0</td>\n",
       "      <td>20.0</td>\n",
       "    </tr>\n",
       "    <tr>\n",
       "      <th>1067857</th>\n",
       "      <td>2017-03-22</td>\n",
       "      <td>Uluru</td>\n",
       "      <td>23.1</td>\n",
       "      <td>39.9</td>\n",
       "      <td>0.0</td>\n",
       "      <td>NaN</td>\n",
       "      <td>NaN</td>\n",
       "      <td>33.0</td>\n",
       "      <td>16.0</td>\n",
       "      <td>1012.3</td>\n",
       "      <td>...</td>\n",
       "      <td>9</td>\n",
       "      <td>1.088209</td>\n",
       "      <td>0.083535</td>\n",
       "      <td>AliceSprings</td>\n",
       "      <td>SSE</td>\n",
       "      <td>35.0</td>\n",
       "      <td>ESE</td>\n",
       "      <td>ESE</td>\n",
       "      <td>17.0</td>\n",
       "      <td>19.0</td>\n",
       "    </tr>\n",
       "    <tr>\n",
       "      <th>1067858</th>\n",
       "      <td>2017-03-22</td>\n",
       "      <td>Uluru</td>\n",
       "      <td>23.1</td>\n",
       "      <td>39.9</td>\n",
       "      <td>0.0</td>\n",
       "      <td>NaN</td>\n",
       "      <td>NaN</td>\n",
       "      <td>33.0</td>\n",
       "      <td>16.0</td>\n",
       "      <td>1012.3</td>\n",
       "      <td>...</td>\n",
       "      <td>9</td>\n",
       "      <td>1.088209</td>\n",
       "      <td>0.083535</td>\n",
       "      <td>Darwin</td>\n",
       "      <td>N</td>\n",
       "      <td>30.0</td>\n",
       "      <td>SSE</td>\n",
       "      <td>W</td>\n",
       "      <td>9.0</td>\n",
       "      <td>19.0</td>\n",
       "    </tr>\n",
       "    <tr>\n",
       "      <th>1067859</th>\n",
       "      <td>2017-03-22</td>\n",
       "      <td>Uluru</td>\n",
       "      <td>23.1</td>\n",
       "      <td>39.9</td>\n",
       "      <td>0.0</td>\n",
       "      <td>NaN</td>\n",
       "      <td>NaN</td>\n",
       "      <td>33.0</td>\n",
       "      <td>16.0</td>\n",
       "      <td>1012.3</td>\n",
       "      <td>...</td>\n",
       "      <td>9</td>\n",
       "      <td>1.088209</td>\n",
       "      <td>0.083535</td>\n",
       "      <td>Katherine</td>\n",
       "      <td>N</td>\n",
       "      <td>31.0</td>\n",
       "      <td>WNW</td>\n",
       "      <td>ENE</td>\n",
       "      <td>2.0</td>\n",
       "      <td>7.0</td>\n",
       "    </tr>\n",
       "    <tr>\n",
       "      <th>1067860</th>\n",
       "      <td>2017-03-22</td>\n",
       "      <td>Uluru</td>\n",
       "      <td>23.1</td>\n",
       "      <td>39.9</td>\n",
       "      <td>0.0</td>\n",
       "      <td>NaN</td>\n",
       "      <td>NaN</td>\n",
       "      <td>33.0</td>\n",
       "      <td>16.0</td>\n",
       "      <td>1012.3</td>\n",
       "      <td>...</td>\n",
       "      <td>9</td>\n",
       "      <td>1.088209</td>\n",
       "      <td>0.083535</td>\n",
       "      <td>Uluru</td>\n",
       "      <td>ENE</td>\n",
       "      <td>37.0</td>\n",
       "      <td>E</td>\n",
       "      <td>WNW</td>\n",
       "      <td>22.0</td>\n",
       "      <td>13.0</td>\n",
       "    </tr>\n",
       "  </tbody>\n",
       "</table>\n",
       "<p>1067861 rows × 30 columns</p>\n",
       "</div>"
      ],
      "text/plain": [
       "              date location_x  mintemp  maxtemp  rainfall  evaporation  \\\n",
       "0       2016-03-21     Albury     12.4     25.2       0.0          NaN   \n",
       "1       2016-03-21     Albury     12.4     25.2       0.0          NaN   \n",
       "2       2016-03-21     Albury     12.4     25.2       0.0          NaN   \n",
       "3       2016-03-21     Albury     12.4     25.2       0.0          NaN   \n",
       "4       2016-03-21     Albury     12.4     25.2       0.0          NaN   \n",
       "...            ...        ...      ...      ...       ...          ...   \n",
       "1067856 2017-03-22      Uluru     23.1     39.9       0.0          NaN   \n",
       "1067857 2017-03-22      Uluru     23.1     39.9       0.0          NaN   \n",
       "1067858 2017-03-22      Uluru     23.1     39.9       0.0          NaN   \n",
       "1067859 2017-03-22      Uluru     23.1     39.9       0.0          NaN   \n",
       "1067860 2017-03-22      Uluru     23.1     39.9       0.0          NaN   \n",
       "\n",
       "         sunshine  humidity9am  humidity3pm  pressure9am  ...  \\\n",
       "0             NaN         54.0         34.0       1019.7  ...   \n",
       "1             NaN         54.0         34.0       1019.7  ...   \n",
       "2             NaN         54.0         34.0       1019.7  ...   \n",
       "3             NaN         54.0         34.0       1019.7  ...   \n",
       "4             NaN         54.0         34.0       1019.7  ...   \n",
       "...           ...          ...          ...          ...  ...   \n",
       "1067856       NaN         33.0         16.0       1012.3  ...   \n",
       "1067857       NaN         33.0         16.0       1012.3  ...   \n",
       "1067858       NaN         33.0         16.0       1012.3  ...   \n",
       "1067859       NaN         33.0         16.0       1012.3  ...   \n",
       "1067860       NaN         33.0         16.0       1012.3  ...   \n",
       "\n",
       "         precipitation3pm  precipitation9am  modelo_vigente    location_y  \\\n",
       "0                      10         15.631042        0.009995          Nhil   \n",
       "1                      10         15.631042        0.009995      Portland   \n",
       "2                      10         15.631042        0.009995      Watsonia   \n",
       "3                      10         15.631042        0.009995      Dartmoor   \n",
       "4                      10         15.631042        0.009995      Brisbane   \n",
       "...                   ...               ...             ...           ...   \n",
       "1067856                 9          1.088209        0.083535    Launceston   \n",
       "1067857                 9          1.088209        0.083535  AliceSprings   \n",
       "1067858                 9          1.088209        0.083535        Darwin   \n",
       "1067859                 9          1.088209        0.083535     Katherine   \n",
       "1067860                 9          1.088209        0.083535         Uluru   \n",
       "\n",
       "         windgustdir windgustspeed  winddir9am winddir3pm  windspeed9am  \\\n",
       "0                ESE          37.0         SSE        SSE           9.0   \n",
       "1                 SE          35.0         ENE          E           7.0   \n",
       "2                SSW          35.0           E        SSE           4.0   \n",
       "3                ESE          44.0         ESE         SE           6.0   \n",
       "4                ESE          31.0           S        ESE           7.0   \n",
       "...              ...           ...         ...        ...           ...   \n",
       "1067856          SSE          43.0         SSE         SE          17.0   \n",
       "1067857          SSE          35.0         ESE        ESE          17.0   \n",
       "1067858            N          30.0         SSE          W           9.0   \n",
       "1067859            N          31.0         WNW        ENE           2.0   \n",
       "1067860          ENE          37.0           E        WNW          22.0   \n",
       "\n",
       "         windspeed3pm  \n",
       "0                15.0  \n",
       "1                20.0  \n",
       "2                11.0  \n",
       "3                17.0  \n",
       "4                15.0  \n",
       "...               ...  \n",
       "1067856          20.0  \n",
       "1067857          19.0  \n",
       "1067858          19.0  \n",
       "1067859           7.0  \n",
       "1067860          13.0  \n",
       "\n",
       "[1067861 rows x 30 columns]"
      ]
     },
     "execution_count": 42,
     "metadata": {},
     "output_type": "execute_result"
    }
   ],
   "source": [
    "chuva1"
   ]
  },
  {
   "cell_type": "code",
   "execution_count": null,
   "metadata": {},
   "outputs": [],
   "source": []
  },
  {
   "cell_type": "code",
   "execution_count": null,
   "metadata": {},
   "outputs": [],
   "source": []
  },
  {
   "cell_type": "code",
   "execution_count": 14,
   "metadata": {},
   "outputs": [],
   "source": [
    "import pandas_profiling"
   ]
  },
  {
   "cell_type": "code",
   "execution_count": 22,
   "metadata": {},
   "outputs": [
    {
     "data": {
      "text/plain": [
       "False    20945\n",
       "True      1248\n",
       "Name: windgustdir, dtype: int64"
      ]
     },
     "execution_count": 22,
     "metadata": {},
     "output_type": "execute_result"
    }
   ],
   "source": [
    "wind7['windgustdir'].isna().value_counts()"
   ]
  },
  {
   "cell_type": "code",
   "execution_count": 23,
   "metadata": {},
   "outputs": [
    {
     "data": {
      "text/plain": [
       "False    20945\n",
       "True      1248\n",
       "Name: windgustspeed, dtype: int64"
      ]
     },
     "execution_count": 23,
     "metadata": {},
     "output_type": "execute_result"
    }
   ],
   "source": [
    "wind7['windgustspeed'].isna().value_counts()"
   ]
  },
  {
   "cell_type": "code",
   "execution_count": 24,
   "metadata": {},
   "outputs": [
    {
     "data": {
      "text/plain": [
       "False    20778\n",
       "True      1415\n",
       "Name: winddir9am, dtype: int64"
      ]
     },
     "execution_count": 24,
     "metadata": {},
     "output_type": "execute_result"
    }
   ],
   "source": [
    "wind7['winddir9am'].isna().value_counts()"
   ]
  },
  {
   "cell_type": "code",
   "execution_count": 25,
   "metadata": {},
   "outputs": [
    {
     "data": {
      "text/plain": [
       "False    21136\n",
       "True      1057\n",
       "Name: winddir3pm, dtype: int64"
      ]
     },
     "execution_count": 25,
     "metadata": {},
     "output_type": "execute_result"
    }
   ],
   "source": [
    "wind7['winddir3pm'].isna().value_counts()"
   ]
  },
  {
   "cell_type": "code",
   "execution_count": 26,
   "metadata": {},
   "outputs": [
    {
     "data": {
      "text/plain": [
       "False    22088\n",
       "True       105\n",
       "Name: windspeed9am, dtype: int64"
      ]
     },
     "execution_count": 26,
     "metadata": {},
     "output_type": "execute_result"
    }
   ],
   "source": [
    "wind7['windspeed9am'].isna().value_counts()"
   ]
  },
  {
   "cell_type": "code",
   "execution_count": 27,
   "metadata": {},
   "outputs": [
    {
     "data": {
      "text/plain": [
       "False    21240\n",
       "True       953\n",
       "Name: windspeed3pm, dtype: int64"
      ]
     },
     "execution_count": 27,
     "metadata": {},
     "output_type": "execute_result"
    }
   ],
   "source": [
    "wind7['windspeed3pm'].isna().value_counts()"
   ]
  },
  {
   "cell_type": "code",
   "execution_count": 17,
   "metadata": {},
   "outputs": [
    {
     "data": {
      "text/html": [
       "<div>\n",
       "<style scoped>\n",
       "    .dataframe tbody tr th:only-of-type {\n",
       "        vertical-align: middle;\n",
       "    }\n",
       "\n",
       "    .dataframe tbody tr th {\n",
       "        vertical-align: top;\n",
       "    }\n",
       "\n",
       "    .dataframe thead th {\n",
       "        text-align: right;\n",
       "    }\n",
       "</style>\n",
       "<table border=\"1\" class=\"dataframe\">\n",
       "  <thead>\n",
       "    <tr style=\"text-align: right;\">\n",
       "      <th></th>\n",
       "      <th>date</th>\n",
       "      <th>location</th>\n",
       "      <th>windgustdir</th>\n",
       "      <th>windgustspeed</th>\n",
       "      <th>winddir9am</th>\n",
       "      <th>winddir3pm</th>\n",
       "      <th>windspeed9am</th>\n",
       "      <th>windspeed3pm</th>\n",
       "    </tr>\n",
       "  </thead>\n",
       "  <tbody>\n",
       "    <tr>\n",
       "      <th>0</th>\n",
       "      <td>2016-03-21</td>\n",
       "      <td>Nhil</td>\n",
       "      <td>ESE</td>\n",
       "      <td>37.0</td>\n",
       "      <td>SSE</td>\n",
       "      <td>SSE</td>\n",
       "      <td>9.0</td>\n",
       "      <td>15.0</td>\n",
       "    </tr>\n",
       "    <tr>\n",
       "      <th>1</th>\n",
       "      <td>2016-03-21</td>\n",
       "      <td>Portland</td>\n",
       "      <td>SE</td>\n",
       "      <td>35.0</td>\n",
       "      <td>ENE</td>\n",
       "      <td>E</td>\n",
       "      <td>7.0</td>\n",
       "      <td>20.0</td>\n",
       "    </tr>\n",
       "    <tr>\n",
       "      <th>2</th>\n",
       "      <td>2016-03-21</td>\n",
       "      <td>Watsonia</td>\n",
       "      <td>SSW</td>\n",
       "      <td>35.0</td>\n",
       "      <td>E</td>\n",
       "      <td>SSE</td>\n",
       "      <td>4.0</td>\n",
       "      <td>11.0</td>\n",
       "    </tr>\n",
       "    <tr>\n",
       "      <th>3</th>\n",
       "      <td>2016-03-21</td>\n",
       "      <td>Dartmoor</td>\n",
       "      <td>ESE</td>\n",
       "      <td>44.0</td>\n",
       "      <td>ESE</td>\n",
       "      <td>SE</td>\n",
       "      <td>6.0</td>\n",
       "      <td>17.0</td>\n",
       "    </tr>\n",
       "    <tr>\n",
       "      <th>4</th>\n",
       "      <td>2016-03-21</td>\n",
       "      <td>Brisbane</td>\n",
       "      <td>ESE</td>\n",
       "      <td>31.0</td>\n",
       "      <td>S</td>\n",
       "      <td>ESE</td>\n",
       "      <td>7.0</td>\n",
       "      <td>15.0</td>\n",
       "    </tr>\n",
       "    <tr>\n",
       "      <th>...</th>\n",
       "      <td>...</td>\n",
       "      <td>...</td>\n",
       "      <td>...</td>\n",
       "      <td>...</td>\n",
       "      <td>...</td>\n",
       "      <td>...</td>\n",
       "      <td>...</td>\n",
       "      <td>...</td>\n",
       "    </tr>\n",
       "    <tr>\n",
       "      <th>22188</th>\n",
       "      <td>2017-06-25</td>\n",
       "      <td>Perth</td>\n",
       "      <td>E</td>\n",
       "      <td>26.0</td>\n",
       "      <td>SE</td>\n",
       "      <td>SE</td>\n",
       "      <td>4.0</td>\n",
       "      <td>11.0</td>\n",
       "    </tr>\n",
       "    <tr>\n",
       "      <th>22189</th>\n",
       "      <td>2017-06-25</td>\n",
       "      <td>SalmonGums</td>\n",
       "      <td>SE</td>\n",
       "      <td>15.0</td>\n",
       "      <td>SSE</td>\n",
       "      <td>E</td>\n",
       "      <td>7.0</td>\n",
       "      <td>6.0</td>\n",
       "    </tr>\n",
       "    <tr>\n",
       "      <th>22190</th>\n",
       "      <td>2017-06-25</td>\n",
       "      <td>Walpole</td>\n",
       "      <td>SSW</td>\n",
       "      <td>20.0</td>\n",
       "      <td>WNW</td>\n",
       "      <td>SSW</td>\n",
       "      <td>6.0</td>\n",
       "      <td>6.0</td>\n",
       "    </tr>\n",
       "    <tr>\n",
       "      <th>22191</th>\n",
       "      <td>2017-06-25</td>\n",
       "      <td>Hobart</td>\n",
       "      <td>NW</td>\n",
       "      <td>50.0</td>\n",
       "      <td>NNW</td>\n",
       "      <td>NNW</td>\n",
       "      <td>17.0</td>\n",
       "      <td>28.0</td>\n",
       "    </tr>\n",
       "    <tr>\n",
       "      <th>22192</th>\n",
       "      <td>2017-06-25</td>\n",
       "      <td>Launceston</td>\n",
       "      <td>NW</td>\n",
       "      <td>50.0</td>\n",
       "      <td>NNW</td>\n",
       "      <td>NNW</td>\n",
       "      <td>15.0</td>\n",
       "      <td>17.0</td>\n",
       "    </tr>\n",
       "  </tbody>\n",
       "</table>\n",
       "<p>22193 rows × 8 columns</p>\n",
       "</div>"
      ],
      "text/plain": [
       "             date    location windgustdir  windgustspeed winddir9am  \\\n",
       "0      2016-03-21        Nhil         ESE           37.0        SSE   \n",
       "1      2016-03-21    Portland          SE           35.0        ENE   \n",
       "2      2016-03-21    Watsonia         SSW           35.0          E   \n",
       "3      2016-03-21    Dartmoor         ESE           44.0        ESE   \n",
       "4      2016-03-21    Brisbane         ESE           31.0          S   \n",
       "...           ...         ...         ...            ...        ...   \n",
       "22188  2017-06-25       Perth           E           26.0         SE   \n",
       "22189  2017-06-25  SalmonGums          SE           15.0        SSE   \n",
       "22190  2017-06-25     Walpole         SSW           20.0        WNW   \n",
       "22191  2017-06-25      Hobart          NW           50.0        NNW   \n",
       "22192  2017-06-25  Launceston          NW           50.0        NNW   \n",
       "\n",
       "      winddir3pm  windspeed9am  windspeed3pm  \n",
       "0            SSE           9.0          15.0  \n",
       "1              E           7.0          20.0  \n",
       "2            SSE           4.0          11.0  \n",
       "3             SE           6.0          17.0  \n",
       "4            ESE           7.0          15.0  \n",
       "...          ...           ...           ...  \n",
       "22188         SE           4.0          11.0  \n",
       "22189          E           7.0           6.0  \n",
       "22190        SSW           6.0           6.0  \n",
       "22191        NNW          17.0          28.0  \n",
       "22192        NNW          15.0          17.0  \n",
       "\n",
       "[22193 rows x 8 columns]"
      ]
     },
     "execution_count": 17,
     "metadata": {},
     "output_type": "execute_result"
    }
   ],
   "source": [
    "wind8"
   ]
  },
  {
   "cell_type": "code",
   "execution_count": null,
   "metadata": {},
   "outputs": [],
   "source": []
  }
 ],
 "metadata": {
  "hide_input": false,
  "kernelspec": {
   "display_name": "Python 3",
   "language": "python",
   "name": "python3"
  },
  "language_info": {
   "codemirror_mode": {
    "name": "ipython",
    "version": 3
   },
   "file_extension": ".py",
   "mimetype": "text/x-python",
   "name": "python",
   "nbconvert_exporter": "python",
   "pygments_lexer": "ipython3",
   "version": "3.7.1"
  },
  "varInspector": {
   "cols": {
    "lenName": 16,
    "lenType": 16,
    "lenVar": 40
   },
   "kernels_config": {
    "python": {
     "delete_cmd_postfix": "",
     "delete_cmd_prefix": "del ",
     "library": "var_list.py",
     "varRefreshCmd": "print(var_dic_list())"
    },
    "r": {
     "delete_cmd_postfix": ") ",
     "delete_cmd_prefix": "rm(",
     "library": "var_list.r",
     "varRefreshCmd": "cat(var_dic_list()) "
    }
   },
   "types_to_exclude": [
    "module",
    "function",
    "builtin_function_or_method",
    "instance",
    "_Feature"
   ],
   "window_display": false
  }
 },
 "nbformat": 4,
 "nbformat_minor": 2
}
