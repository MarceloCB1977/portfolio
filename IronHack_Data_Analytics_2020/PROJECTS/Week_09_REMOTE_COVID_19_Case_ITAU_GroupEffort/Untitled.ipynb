{
 "cells": [
  {
   "cell_type": "code",
   "execution_count": 2,
   "metadata": {
    "ExecuteTime": {
     "end_time": "2020-05-01T20:10:47.259509Z",
     "start_time": "2020-05-01T20:10:43.983147Z"
    }
   },
   "outputs": [],
   "source": [
    "import pandas as pd\n",
    "import numpy as np\n",
    "import seaborn as sns\n",
    "import matplotlib.pyplot as plt\n",
    "import datetime\n",
    "from sklearn.experimental import enable_iterative_imputer\n",
    "from sklearn.impute import SimpleImputer, KNNImputer, IterativeImputer\n",
    "from geopy.geocoders import Nominatim"
   ]
  },
  {
   "cell_type": "code",
   "execution_count": null,
   "metadata": {
    "ExecuteTime": {
     "end_time": "2020-05-01T19:14:43.395247Z",
     "start_time": "2020-05-01T19:14:42.488750Z"
    }
   },
   "outputs": [],
   "source": [
    "rain = pd.read_csv('data/rain_data_aus.csv')\n",
    "rain.tail(3)"
   ]
  },
  {
   "cell_type": "code",
   "execution_count": null,
   "metadata": {
    "ExecuteTime": {
     "end_time": "2020-04-30T17:25:37.374436Z",
     "start_time": "2020-04-30T17:25:37.342454Z"
    }
   },
   "outputs": [],
   "source": [
    "rain['location'].unique()"
   ]
  },
  {
   "cell_type": "code",
   "execution_count": null,
   "metadata": {
    "ExecuteTime": {
     "end_time": "2020-04-30T17:25:38.533607Z",
     "start_time": "2020-04-30T17:25:38.438661Z"
    }
   },
   "outputs": [],
   "source": [
    "rain.isna().sum()"
   ]
  },
  {
   "cell_type": "code",
   "execution_count": null,
   "metadata": {
    "ExecuteTime": {
     "end_time": "2020-04-30T17:25:39.610570Z",
     "start_time": "2020-04-30T17:25:39.163141Z"
    }
   },
   "outputs": [],
   "source": [
    "rain.describe()"
   ]
  },
  {
   "cell_type": "code",
   "execution_count": null,
   "metadata": {
    "ExecuteTime": {
     "end_time": "2020-04-28T18:44:15.950438Z",
     "start_time": "2020-04-28T18:37:18.814142Z"
    }
   },
   "outputs": [],
   "source": [
    "sns.pairplot(rain)"
   ]
  },
  {
   "cell_type": "code",
   "execution_count": null,
   "metadata": {},
   "outputs": [],
   "source": []
  },
  {
   "cell_type": "code",
   "execution_count": null,
   "metadata": {
    "ExecuteTime": {
     "end_time": "2020-04-30T17:31:43.488470Z",
     "start_time": "2020-04-30T17:31:43.465482Z"
    }
   },
   "outputs": [],
   "source": [
    "def season_group(data):\n",
    "    \"\"\"\n",
    "    Function to create a new column of seasons groups\n",
    "    Selecting DataSet rows and classifing the season by the month\n",
    "    Summer = 1\n",
    "    Autumn = 2\n",
    "    Winter = 3\n",
    "    Spring = 4\n",
    "    \"\"\"\n",
    "    seasons= []\n",
    "    data['date'] = pd.to_datetime(data['date'])\n",
    "    \n",
    "    for x in range(len(data['date'])):\n",
    "        if ((data['date'][x].month) == 12) | ((data['date'][x].month) == 1) | ((data['date'][x].month) == 2):\n",
    "            seasons.append(1)\n",
    "        elif ((data['date'][x].month) == 3) | ((data['date'][x].month) == 4) | ((data['date'][x].month) == 5):\n",
    "            seasons.append(2)\n",
    "        elif ((data['date'][x].month) == 6) | ((data['date'][x].month) == 7) | ((data['date'][x].month) == 8):\n",
    "            seasons.append(3)\n",
    "        elif ((data['date'][x].month) == 9) | ((data['date'][x].month) == 10) | ((data['date'][x].month) == 11):\n",
    "            seasons.append(4)\n",
    "    data['season'] = seasons"
   ]
  },
  {
   "cell_type": "code",
   "execution_count": null,
   "metadata": {},
   "outputs": [],
   "source": []
  },
  {
   "cell_type": "code",
   "execution_count": null,
   "metadata": {
    "ExecuteTime": {
     "end_time": "2020-04-30T18:01:50.609671Z",
     "start_time": "2020-04-30T18:01:50.583686Z"
    }
   },
   "outputs": [],
   "source": [
    "def wind_direction_group(data):\n",
    "    \"\"\"\n",
    "    Function to create a new column of wind direction groups\n",
    "    Selecting DataSet rows and classifing the direction in smaller groups\n",
    "    N = 1\n",
    "    S = 2\n",
    "    E = 3\n",
    "    W = 4\n",
    "    \"\"\"\n",
    "    directions= []\n",
    "    data['winddir3pm'] = data['winddir3pm'].astype('string')\n",
    "    data['winddir9am'] = data['winddir9am'].astype('string')\n",
    "    data['windgustdir'] = data['windgustdir'].astype('string')\n",
    "    \n",
    "    for x in range(len(data['date'])):\n",
    "        if (data['winddir3pm'][x].upper().startswith('N')) | (data['winddir9am'][x].upper().startswith('N')) | (data['windgustdir'][x].upper().startswith('N')):\n",
    "            directions.append(1)\n",
    "        elif (data['winddir3pm'][x].upper().startswith('S')) | (data['winddir9am'][x].upper().startswith('S')) | (data['windgustdir'][x].upper().startswith('S')):\n",
    "            directions.append(2)\n",
    "        elif (data['winddir3pm'][x].upper().startswith('E')) | (data['winddir9am'][x].upper().startswith('E')) | (data['windgustdir'][x].upper().startswith('E')):\n",
    "            directions.append(3)\n",
    "        elif (data['winddir3pm'][x].upper().startswith('W')) | (data['winddir9am'][x].upper().startswith('W')) | (data['windgustdir'][x].upper().startswith('W')):\n",
    "            directions.append(4)\n",
    "            \n",
    "    data['wind_dir_group'] = directions"
   ]
  },
  {
   "cell_type": "code",
   "execution_count": null,
   "metadata": {},
   "outputs": [],
   "source": []
  },
  {
   "cell_type": "code",
   "execution_count": null,
   "metadata": {},
   "outputs": [],
   "source": []
  },
  {
   "cell_type": "code",
   "execution_count": null,
   "metadata": {
    "ExecuteTime": {
     "end_time": "2020-04-30T17:31:48.480248Z",
     "start_time": "2020-04-30T17:31:48.381284Z"
    }
   },
   "outputs": [],
   "source": [
    "wind_05 = pd.read_csv('data/wind_table_05.csv')\n",
    "wind_05"
   ]
  },
  {
   "cell_type": "code",
   "execution_count": null,
   "metadata": {
    "ExecuteTime": {
     "end_time": "2020-04-30T17:31:49.477241Z",
     "start_time": "2020-04-30T17:31:49.453254Z"
    }
   },
   "outputs": [],
   "source": [
    "wind_05.isna().sum()"
   ]
  },
  {
   "cell_type": "code",
   "execution_count": null,
   "metadata": {
    "ExecuteTime": {
     "end_time": "2020-04-30T17:31:50.852440Z",
     "start_time": "2020-04-30T17:31:50.799467Z"
    }
   },
   "outputs": [],
   "source": [
    "wind_05.describe()"
   ]
  },
  {
   "cell_type": "code",
   "execution_count": null,
   "metadata": {
    "ExecuteTime": {
     "end_time": "2020-04-30T17:31:54.351045Z",
     "start_time": "2020-04-30T17:31:54.329056Z"
    }
   },
   "outputs": [],
   "source": [
    "wind_05.corr()"
   ]
  },
  {
   "cell_type": "code",
   "execution_count": null,
   "metadata": {
    "ExecuteTime": {
     "end_time": "2020-04-30T17:31:55.963453Z",
     "start_time": "2020-04-30T17:31:55.951459Z"
    }
   },
   "outputs": [],
   "source": [
    "wind_05['date']"
   ]
  },
  {
   "cell_type": "code",
   "execution_count": null,
   "metadata": {
    "ExecuteTime": {
     "end_time": "2020-04-30T17:32:51.353337Z",
     "start_time": "2020-04-30T17:32:51.321355Z"
    }
   },
   "outputs": [],
   "source": [
    "wind_05.sample(3)"
   ]
  },
  {
   "cell_type": "code",
   "execution_count": null,
   "metadata": {
    "ExecuteTime": {
     "end_time": "2020-04-30T17:32:57.593249Z",
     "start_time": "2020-04-30T17:32:57.575258Z"
    }
   },
   "outputs": [],
   "source": [
    "wind_05[['windgustspeed','windspeed9am','windspeed3pm']].isna().sum()"
   ]
  },
  {
   "cell_type": "code",
   "execution_count": null,
   "metadata": {
    "ExecuteTime": {
     "end_time": "2020-04-30T17:33:26.730082Z",
     "start_time": "2020-04-30T17:33:26.678093Z"
    }
   },
   "outputs": [],
   "source": [
    "imputer = SimpleImputer(missing_values=np.nan, strategy='mean')\n",
    "wind_05[['windgustspeed','windspeed9am','windspeed3pm']] = imputer.fit_transform(wind_05[['windgustspeed','windspeed9am','windspeed3pm']])"
   ]
  },
  {
   "cell_type": "code",
   "execution_count": null,
   "metadata": {
    "ExecuteTime": {
     "end_time": "2020-04-30T17:33:30.070190Z",
     "start_time": "2020-04-30T17:33:30.052200Z"
    }
   },
   "outputs": [],
   "source": [
    "wind_05[['windgustspeed','windspeed9am','windspeed3pm']].isna().sum()"
   ]
  },
  {
   "cell_type": "code",
   "execution_count": null,
   "metadata": {
    "ExecuteTime": {
     "end_time": "2020-04-30T17:48:00.724399Z",
     "start_time": "2020-04-30T17:48:00.694413Z"
    }
   },
   "outputs": [],
   "source": [
    "wind_05[['windgustdir','winddir9am','winddir3pm']].isna().sum()"
   ]
  },
  {
   "cell_type": "code",
   "execution_count": null,
   "metadata": {
    "ExecuteTime": {
     "end_time": "2020-04-30T17:49:11.950362Z",
     "start_time": "2020-04-30T17:49:11.933371Z"
    }
   },
   "outputs": [],
   "source": [
    "print(f\"{wind_05['windgustdir'].unique()}\")\n",
    "print(f\"{wind_05['winddir9am'].unique()}\")\n",
    "print(f\"{wind_05['winddir3pm'].unique()}\")"
   ]
  },
  {
   "cell_type": "code",
   "execution_count": null,
   "metadata": {
    "ExecuteTime": {
     "end_time": "2020-04-30T17:59:24.145787Z",
     "start_time": "2020-04-30T17:59:24.097815Z"
    }
   },
   "outputs": [],
   "source": [
    "imputer = SimpleImputer(strategy='most_frequent')\n",
    "wind_05[['windgustdir','winddir9am','winddir3pm']] = imputer.fit_transform(wind_05[['windgustdir','winddir9am','winddir3pm']])"
   ]
  },
  {
   "cell_type": "code",
   "execution_count": null,
   "metadata": {
    "ExecuteTime": {
     "end_time": "2020-04-30T18:01:17.276436Z",
     "start_time": "2020-04-30T18:01:17.193482Z"
    }
   },
   "outputs": [],
   "source": [
    "wind_direction_group(wind_05)"
   ]
  },
  {
   "cell_type": "code",
   "execution_count": null,
   "metadata": {
    "ExecuteTime": {
     "end_time": "2020-04-30T18:02:56.046798Z",
     "start_time": "2020-04-30T18:02:52.212599Z"
    }
   },
   "outputs": [],
   "source": [
    "season_group(wind_05)"
   ]
  },
  {
   "cell_type": "code",
   "execution_count": null,
   "metadata": {
    "ExecuteTime": {
     "end_time": "2020-04-30T18:03:12.688215Z",
     "start_time": "2020-04-30T18:03:12.648237Z"
    }
   },
   "outputs": [],
   "source": [
    "wind_05.sample(3)"
   ]
  },
  {
   "cell_type": "code",
   "execution_count": null,
   "metadata": {},
   "outputs": [],
   "source": []
  },
  {
   "cell_type": "code",
   "execution_count": 11,
   "metadata": {
    "ExecuteTime": {
     "end_time": "2020-05-01T20:19:56.941912Z",
     "start_time": "2020-05-01T20:19:56.816986Z"
    }
   },
   "outputs": [
    {
     "data": {
      "text/html": [
       "<div>\n",
       "<style scoped>\n",
       "    .dataframe tbody tr th:only-of-type {\n",
       "        vertical-align: middle;\n",
       "    }\n",
       "\n",
       "    .dataframe tbody tr th {\n",
       "        vertical-align: top;\n",
       "    }\n",
       "\n",
       "    .dataframe thead th {\n",
       "        text-align: right;\n",
       "    }\n",
       "</style>\n",
       "<table border=\"1\" class=\"dataframe\">\n",
       "  <thead>\n",
       "    <tr style=\"text-align: right;\">\n",
       "      <th></th>\n",
       "      <th>date</th>\n",
       "      <th>location</th>\n",
       "      <th>windgustdir</th>\n",
       "      <th>windgustspeed</th>\n",
       "      <th>winddir9am</th>\n",
       "      <th>winddir3pm</th>\n",
       "      <th>windspeed9am</th>\n",
       "      <th>windspeed3pm</th>\n",
       "    </tr>\n",
       "  </thead>\n",
       "  <tbody>\n",
       "    <tr>\n",
       "      <th>0</th>\n",
       "      <td>2015-01-22</td>\n",
       "      <td>PearceRAAF</td>\n",
       "      <td>SW</td>\n",
       "      <td>37.0</td>\n",
       "      <td>SSE</td>\n",
       "      <td>SW</td>\n",
       "      <td>19.0</td>\n",
       "      <td>24.0</td>\n",
       "    </tr>\n",
       "    <tr>\n",
       "      <th>1</th>\n",
       "      <td>2015-01-22</td>\n",
       "      <td>PerthAirport</td>\n",
       "      <td>W</td>\n",
       "      <td>37.0</td>\n",
       "      <td>ESE</td>\n",
       "      <td>WSW</td>\n",
       "      <td>15.0</td>\n",
       "      <td>24.0</td>\n",
       "    </tr>\n",
       "    <tr>\n",
       "      <th>2</th>\n",
       "      <td>2015-01-22</td>\n",
       "      <td>Perth</td>\n",
       "      <td>SW</td>\n",
       "      <td>35.0</td>\n",
       "      <td>SE</td>\n",
       "      <td>SW</td>\n",
       "      <td>13.0</td>\n",
       "      <td>20.0</td>\n",
       "    </tr>\n",
       "    <tr>\n",
       "      <th>3</th>\n",
       "      <td>2015-01-22</td>\n",
       "      <td>SalmonGums</td>\n",
       "      <td>S</td>\n",
       "      <td>41.0</td>\n",
       "      <td>S</td>\n",
       "      <td>S</td>\n",
       "      <td>20.0</td>\n",
       "      <td>22.0</td>\n",
       "    </tr>\n",
       "    <tr>\n",
       "      <th>4</th>\n",
       "      <td>2015-01-22</td>\n",
       "      <td>Walpole</td>\n",
       "      <td>S</td>\n",
       "      <td>35.0</td>\n",
       "      <td>SW</td>\n",
       "      <td>SSW</td>\n",
       "      <td>9.0</td>\n",
       "      <td>19.0</td>\n",
       "    </tr>\n",
       "    <tr>\n",
       "      <th>...</th>\n",
       "      <td>...</td>\n",
       "      <td>...</td>\n",
       "      <td>...</td>\n",
       "      <td>...</td>\n",
       "      <td>...</td>\n",
       "      <td>...</td>\n",
       "      <td>...</td>\n",
       "      <td>...</td>\n",
       "    </tr>\n",
       "    <tr>\n",
       "      <th>19995</th>\n",
       "      <td>2016-03-21</td>\n",
       "      <td>Ballarat</td>\n",
       "      <td>SE</td>\n",
       "      <td>48.0</td>\n",
       "      <td>ESE</td>\n",
       "      <td>SE</td>\n",
       "      <td>24.0</td>\n",
       "      <td>30.0</td>\n",
       "    </tr>\n",
       "    <tr>\n",
       "      <th>19996</th>\n",
       "      <td>2016-03-21</td>\n",
       "      <td>Bendigo</td>\n",
       "      <td>SE</td>\n",
       "      <td>33.0</td>\n",
       "      <td>SE</td>\n",
       "      <td>ESE</td>\n",
       "      <td>15.0</td>\n",
       "      <td>13.0</td>\n",
       "    </tr>\n",
       "    <tr>\n",
       "      <th>19997</th>\n",
       "      <td>2016-03-21</td>\n",
       "      <td>Sale</td>\n",
       "      <td>SE</td>\n",
       "      <td>35.0</td>\n",
       "      <td>W</td>\n",
       "      <td>SE</td>\n",
       "      <td>9.0</td>\n",
       "      <td>26.0</td>\n",
       "    </tr>\n",
       "    <tr>\n",
       "      <th>19998</th>\n",
       "      <td>2016-03-21</td>\n",
       "      <td>MelbourneAirport</td>\n",
       "      <td>S</td>\n",
       "      <td>43.0</td>\n",
       "      <td>W</td>\n",
       "      <td>S</td>\n",
       "      <td>7.0</td>\n",
       "      <td>28.0</td>\n",
       "    </tr>\n",
       "    <tr>\n",
       "      <th>19999</th>\n",
       "      <td>2016-03-21</td>\n",
       "      <td>Mildura</td>\n",
       "      <td>SE</td>\n",
       "      <td>33.0</td>\n",
       "      <td>SSE</td>\n",
       "      <td>SE</td>\n",
       "      <td>13.0</td>\n",
       "      <td>19.0</td>\n",
       "    </tr>\n",
       "  </tbody>\n",
       "</table>\n",
       "<p>20000 rows × 8 columns</p>\n",
       "</div>"
      ],
      "text/plain": [
       "             date          location windgustdir  windgustspeed winddir9am  \\\n",
       "0      2015-01-22        PearceRAAF          SW           37.0        SSE   \n",
       "1      2015-01-22      PerthAirport           W           37.0        ESE   \n",
       "2      2015-01-22             Perth          SW           35.0         SE   \n",
       "3      2015-01-22        SalmonGums           S           41.0          S   \n",
       "4      2015-01-22           Walpole           S           35.0         SW   \n",
       "...           ...               ...         ...            ...        ...   \n",
       "19995  2016-03-21          Ballarat          SE           48.0        ESE   \n",
       "19996  2016-03-21           Bendigo          SE           33.0         SE   \n",
       "19997  2016-03-21              Sale          SE           35.0          W   \n",
       "19998  2016-03-21  MelbourneAirport           S           43.0          W   \n",
       "19999  2016-03-21           Mildura          SE           33.0        SSE   \n",
       "\n",
       "      winddir3pm  windspeed9am  windspeed3pm  \n",
       "0             SW          19.0          24.0  \n",
       "1            WSW          15.0          24.0  \n",
       "2             SW          13.0          20.0  \n",
       "3              S          20.0          22.0  \n",
       "4            SSW           9.0          19.0  \n",
       "...          ...           ...           ...  \n",
       "19995         SE          24.0          30.0  \n",
       "19996        ESE          15.0          13.0  \n",
       "19997         SE           9.0          26.0  \n",
       "19998          S           7.0          28.0  \n",
       "19999         SE          13.0          19.0  \n",
       "\n",
       "[20000 rows x 8 columns]"
      ]
     },
     "execution_count": 11,
     "metadata": {},
     "output_type": "execute_result"
    }
   ],
   "source": [
    "wind_06 = pd.read_csv('data/wind_table_06.csv')\n",
    "wind_06"
   ]
  },
  {
   "cell_type": "code",
   "execution_count": null,
   "metadata": {
    "ExecuteTime": {
     "end_time": "2020-04-30T18:05:32.534674Z",
     "start_time": "2020-04-30T18:05:32.506692Z"
    }
   },
   "outputs": [],
   "source": [
    "wind_06.isna().sum()"
   ]
  },
  {
   "cell_type": "code",
   "execution_count": null,
   "metadata": {
    "ExecuteTime": {
     "end_time": "2020-04-30T18:05:32.951644Z",
     "start_time": "2020-04-30T18:05:32.939650Z"
    }
   },
   "outputs": [],
   "source": [
    "wind_06['date']"
   ]
  },
  {
   "cell_type": "code",
   "execution_count": null,
   "metadata": {
    "ExecuteTime": {
     "end_time": "2020-04-30T18:05:43.541764Z",
     "start_time": "2020-04-30T18:05:37.524284Z"
    }
   },
   "outputs": [],
   "source": [
    "season_group(wind_06)"
   ]
  },
  {
   "cell_type": "code",
   "execution_count": null,
   "metadata": {
    "ExecuteTime": {
     "end_time": "2020-04-30T18:05:44.330915Z",
     "start_time": "2020-04-30T18:05:44.295470Z"
    }
   },
   "outputs": [],
   "source": [
    "wind_06.sample(5)"
   ]
  },
  {
   "cell_type": "code",
   "execution_count": null,
   "metadata": {
    "ExecuteTime": {
     "end_time": "2020-04-30T18:05:46.895761Z",
     "start_time": "2020-04-30T18:05:46.883767Z"
    }
   },
   "outputs": [],
   "source": [
    "wind_06.dtypes"
   ]
  },
  {
   "cell_type": "code",
   "execution_count": null,
   "metadata": {
    "ExecuteTime": {
     "end_time": "2020-04-30T18:05:50.560339Z",
     "start_time": "2020-04-30T18:05:50.346462Z"
    }
   },
   "outputs": [],
   "source": [
    "list(zip(wind_06['winddir3pm'], wind_06['winddir9am'], wind_06['windgustdir']))"
   ]
  },
  {
   "cell_type": "code",
   "execution_count": null,
   "metadata": {
    "ExecuteTime": {
     "end_time": "2020-04-30T18:05:55.393807Z",
     "start_time": "2020-04-30T18:05:55.381814Z"
    }
   },
   "outputs": [],
   "source": [
    "wind_06['winddir3pm'].unique()"
   ]
  },
  {
   "cell_type": "code",
   "execution_count": null,
   "metadata": {
    "ExecuteTime": {
     "end_time": "2020-04-30T18:05:58.148328Z",
     "start_time": "2020-04-30T18:05:58.132328Z"
    }
   },
   "outputs": [],
   "source": [
    "len(wind_06['winddir9am'].value_counts())"
   ]
  },
  {
   "cell_type": "code",
   "execution_count": null,
   "metadata": {
    "ExecuteTime": {
     "end_time": "2020-04-30T18:06:00.871960Z",
     "start_time": "2020-04-30T18:06:00.859965Z"
    }
   },
   "outputs": [],
   "source": [
    "wind_06['winddir9am'].isna().sum()"
   ]
  },
  {
   "cell_type": "code",
   "execution_count": null,
   "metadata": {
    "ExecuteTime": {
     "end_time": "2020-04-30T18:06:02.198964Z",
     "start_time": "2020-04-30T18:06:02.180974Z"
    }
   },
   "outputs": [],
   "source": [
    "print(f\"{wind_06['windgustdir'].unique()}\")\n",
    "print(f\"{wind_06['winddir9am'].unique()}\")\n",
    "print(f\"{wind_06['winddir3pm'].unique()}\")"
   ]
  },
  {
   "cell_type": "code",
   "execution_count": null,
   "metadata": {
    "ExecuteTime": {
     "end_time": "2020-04-29T17:47:05.025914Z",
     "start_time": "2020-04-29T17:47:05.013922Z"
    }
   },
   "outputs": [],
   "source": []
  },
  {
   "cell_type": "code",
   "execution_count": null,
   "metadata": {
    "ExecuteTime": {
     "end_time": "2020-04-30T18:06:07.701994Z",
     "start_time": "2020-04-30T18:06:07.454992Z"
    }
   },
   "outputs": [],
   "source": [
    "imputer = SimpleImputer(missing_values=np.nan, strategy='most_frequent')\n",
    "wind_06[['winddir3pm','winddir9am','windgustdir']] = imputer.fit_transform(wind_06[['winddir3pm','winddir9am','windgustdir']])"
   ]
  },
  {
   "cell_type": "code",
   "execution_count": null,
   "metadata": {
    "ExecuteTime": {
     "end_time": "2020-04-30T18:06:09.284684Z",
     "start_time": "2020-04-30T18:06:09.267693Z"
    }
   },
   "outputs": [],
   "source": [
    "print(f\"{wind_06['windgustdir'].isna().sum()}\")\n",
    "print(f\"{wind_06['winddir9am'].isna().sum()}\")\n",
    "print(f\"{wind_06['winddir3pm'].isna().sum()}\")"
   ]
  },
  {
   "cell_type": "code",
   "execution_count": null,
   "metadata": {
    "ExecuteTime": {
     "end_time": "2020-04-30T18:06:22.751364Z",
     "start_time": "2020-04-30T18:06:20.264791Z"
    }
   },
   "outputs": [],
   "source": [
    "wind_direction_group(wind_06)"
   ]
  },
  {
   "cell_type": "code",
   "execution_count": null,
   "metadata": {
    "ExecuteTime": {
     "end_time": "2020-04-30T18:06:25.440525Z",
     "start_time": "2020-04-30T18:06:25.389555Z"
    }
   },
   "outputs": [],
   "source": [
    "wind_06.sample(5)"
   ]
  },
  {
   "cell_type": "code",
   "execution_count": null,
   "metadata": {
    "ExecuteTime": {
     "end_time": "2020-04-30T18:06:41.906732Z",
     "start_time": "2020-04-30T18:06:41.894739Z"
    }
   },
   "outputs": [],
   "source": [
    "print(f\"{wind_06['windgustspeed'].isna().sum()}\")\n",
    "print(f\"{wind_06['windspeed9am'].isna().sum()}\")\n",
    "print(f\"{wind_06['windspeed3pm'].isna().sum()}\")"
   ]
  },
  {
   "cell_type": "code",
   "execution_count": null,
   "metadata": {
    "ExecuteTime": {
     "end_time": "2020-04-30T18:06:43.869342Z",
     "start_time": "2020-04-30T18:06:43.824367Z"
    }
   },
   "outputs": [],
   "source": [
    "imputer = SimpleImputer(missing_values=np.nan, strategy='mean')\n",
    "wind_06[['windgustspeed','windspeed9am','windspeed3pm']] = imputer.fit_transform(wind_06[['windgustspeed','windspeed9am','windspeed3pm']])"
   ]
  },
  {
   "cell_type": "code",
   "execution_count": null,
   "metadata": {
    "ExecuteTime": {
     "end_time": "2020-04-30T18:06:44.770978Z",
     "start_time": "2020-04-30T18:06:44.757984Z"
    }
   },
   "outputs": [],
   "source": [
    "print(f\"{wind_06['windgustspeed'].isna().sum()}\")\n",
    "print(f\"{wind_06['windspeed9am'].isna().sum()}\")\n",
    "print(f\"{wind_06['windspeed3pm'].isna().sum()}\")"
   ]
  },
  {
   "cell_type": "code",
   "execution_count": null,
   "metadata": {
    "ExecuteTime": {
     "end_time": "2020-04-30T18:06:46.759267Z",
     "start_time": "2020-04-30T18:06:46.717291Z"
    }
   },
   "outputs": [],
   "source": [
    "wind_06.sample(5)"
   ]
  },
  {
   "cell_type": "code",
   "execution_count": null,
   "metadata": {
    "ExecuteTime": {
     "end_time": "2020-05-01T19:16:23.214204Z",
     "start_time": "2020-05-01T19:16:11.516101Z"
    }
   },
   "outputs": [],
   "source": [
    "! pip install geopy"
   ]
  },
  {
   "cell_type": "code",
   "execution_count": null,
   "metadata": {
    "ExecuteTime": {
     "end_time": "2020-05-01T19:39:58.224555Z",
     "start_time": "2020-05-01T19:39:58.204566Z"
    }
   },
   "outputs": [],
   "source": [
    "wind_06['location'].unique()"
   ]
  },
  {
   "cell_type": "code",
   "execution_count": null,
   "metadata": {
    "ExecuteTime": {
     "end_time": "2020-05-01T19:49:24.535146Z",
     "start_time": "2020-05-01T19:49:24.484178Z"
    }
   },
   "outputs": [],
   "source": [
    "lista = [x for x in wind_06['location']]\n",
    "lista"
   ]
  },
  {
   "cell_type": "code",
   "execution_count": null,
   "metadata": {
    "ExecuteTime": {
     "end_time": "2020-05-01T19:48:01.547093Z",
     "start_time": "2020-05-01T19:48:01.339019Z"
    }
   },
   "outputs": [],
   "source": [
    "wind_06['location'].str.replace( r\"([A-Z]+)\", r\" \\1\").str.strip()"
   ]
  },
  {
   "cell_type": "code",
   "execution_count": null,
   "metadata": {
    "ExecuteTime": {
     "end_time": "2020-05-01T19:56:16.644205Z",
     "start_time": "2020-05-01T19:56:15.742210Z"
    }
   },
   "outputs": [],
   "source": [
    "\n",
    "geolocator = Nominatim(user_agent=\"my-application\")\n",
    "location = geolocator.geocode('Pearce R A A F', 'Australia')\n",
    "res = [location.latitude, location.longitude]\n",
    "res"
   ]
  },
  {
   "cell_type": "code",
   "execution_count": 8,
   "metadata": {
    "ExecuteTime": {
     "end_time": "2020-05-01T20:12:06.093329Z",
     "start_time": "2020-05-01T20:11:32.170464Z"
    }
   },
   "outputs": [],
   "source": [
    "geolocator = Nominatim(user_agent=\"my-application\")\n",
    "\n",
    "wind_06['location'] = wind_06['location'].str.replace(r\"([A-Z]+)\", r\" \\1\").str.strip()\n",
    "cities = [x for x in wind_06['location'].unique()]\n",
    "lat = []\n",
    "long = []\n",
    "          \n",
    "for city in cities:\n",
    "    location = geolocator.geocode(city, 'Australia')\n",
    "    lat.append(location.latitude)\n",
    "    long.append(location.longitude)"
   ]
  },
  {
   "cell_type": "code",
   "execution_count": null,
   "metadata": {},
   "outputs": [],
   "source": []
  },
  {
   "cell_type": "code",
   "execution_count": 9,
   "metadata": {
    "ExecuteTime": {
     "end_time": "2020-05-01T20:12:13.989709Z",
     "start_time": "2020-05-01T20:12:13.978715Z"
    }
   },
   "outputs": [
    {
     "data": {
      "text/plain": [
       "[-31.6739604,\n",
       " -31.9431218,\n",
       " -31.9527121,\n",
       " -32.9815347,\n",
       " 42.1417653,\n",
       " -42.8825088,\n",
       " -41.4340813,\n",
       " -23.6983884,\n",
       " -12.46044,\n",
       " -14.4642313,\n",
       " -25.3455545,\n",
       " -36.0804766,\n",
       " -35.8348792,\n",
       " -31.4983333,\n",
       " 54.9738474,\n",
       " -33.2816667,\n",
       " -29.0328038,\n",
       " 54.6639133,\n",
       " 37.5385087,\n",
       " -33.8548157,\n",
       " -33.9498935,\n",
       " -35.115,\n",
       " -34.4243941,\n",
       " -35.2975906,\n",
       " -35.4209771,\n",
       " -35.5297196,\n",
       " -37.5622632,\n",
       " -36.7588767,\n",
       " 44.980656,\n",
       " -37.667111000000006,\n",
       " -34.1847265,\n",
       " -35.4325283,\n",
       " 45.5202471,\n",
       " -37.7110022,\n",
       " 50.5657372,\n",
       " -27.4689682,\n",
       " -16.9206657,\n",
       " -28.0023731,\n",
       " -19.2569391,\n",
       " -34.9281805,\n",
       " -37.8246698,\n",
       " -34.4693354,\n",
       " -31.1999142,\n",
       " 42.6511674,\n",
       " -34.0263348,\n",
       " 47.9015941,\n",
       " -32.815,\n",
       " -30.2962407]"
      ]
     },
     "execution_count": 9,
     "metadata": {},
     "output_type": "execute_result"
    }
   ],
   "source": [
    "lat"
   ]
  },
  {
   "cell_type": "code",
   "execution_count": 10,
   "metadata": {
    "ExecuteTime": {
     "end_time": "2020-05-01T20:18:40.525969Z",
     "start_time": "2020-05-01T20:18:40.490989Z"
    }
   },
   "outputs": [
    {
     "data": {
      "text/html": [
       "<div>\n",
       "<style scoped>\n",
       "    .dataframe tbody tr th:only-of-type {\n",
       "        vertical-align: middle;\n",
       "    }\n",
       "\n",
       "    .dataframe tbody tr th {\n",
       "        vertical-align: top;\n",
       "    }\n",
       "\n",
       "    .dataframe thead th {\n",
       "        text-align: right;\n",
       "    }\n",
       "</style>\n",
       "<table border=\"1\" class=\"dataframe\">\n",
       "  <thead>\n",
       "    <tr style=\"text-align: right;\">\n",
       "      <th></th>\n",
       "      <th>date</th>\n",
       "      <th>location</th>\n",
       "      <th>windgustdir</th>\n",
       "      <th>windgustspeed</th>\n",
       "      <th>winddir9am</th>\n",
       "      <th>winddir3pm</th>\n",
       "      <th>windspeed9am</th>\n",
       "      <th>windspeed3pm</th>\n",
       "    </tr>\n",
       "  </thead>\n",
       "  <tbody>\n",
       "    <tr>\n",
       "      <th>0</th>\n",
       "      <td>2015-01-22</td>\n",
       "      <td>Pearce  RAAF</td>\n",
       "      <td>SW</td>\n",
       "      <td>37.0</td>\n",
       "      <td>SSE</td>\n",
       "      <td>SW</td>\n",
       "      <td>19.0</td>\n",
       "      <td>24.0</td>\n",
       "    </tr>\n",
       "    <tr>\n",
       "      <th>1</th>\n",
       "      <td>2015-01-22</td>\n",
       "      <td>Perth  Airport</td>\n",
       "      <td>W</td>\n",
       "      <td>37.0</td>\n",
       "      <td>ESE</td>\n",
       "      <td>WSW</td>\n",
       "      <td>15.0</td>\n",
       "      <td>24.0</td>\n",
       "    </tr>\n",
       "    <tr>\n",
       "      <th>2</th>\n",
       "      <td>2015-01-22</td>\n",
       "      <td>Perth</td>\n",
       "      <td>SW</td>\n",
       "      <td>35.0</td>\n",
       "      <td>SE</td>\n",
       "      <td>SW</td>\n",
       "      <td>13.0</td>\n",
       "      <td>20.0</td>\n",
       "    </tr>\n",
       "    <tr>\n",
       "      <th>3</th>\n",
       "      <td>2015-01-22</td>\n",
       "      <td>Salmon  Gums</td>\n",
       "      <td>S</td>\n",
       "      <td>41.0</td>\n",
       "      <td>S</td>\n",
       "      <td>S</td>\n",
       "      <td>20.0</td>\n",
       "      <td>22.0</td>\n",
       "    </tr>\n",
       "    <tr>\n",
       "      <th>4</th>\n",
       "      <td>2015-01-22</td>\n",
       "      <td>Walpole</td>\n",
       "      <td>S</td>\n",
       "      <td>35.0</td>\n",
       "      <td>SW</td>\n",
       "      <td>SSW</td>\n",
       "      <td>9.0</td>\n",
       "      <td>19.0</td>\n",
       "    </tr>\n",
       "  </tbody>\n",
       "</table>\n",
       "</div>"
      ],
      "text/plain": [
       "         date        location windgustdir  windgustspeed winddir9am  \\\n",
       "0  2015-01-22    Pearce  RAAF          SW           37.0        SSE   \n",
       "1  2015-01-22  Perth  Airport           W           37.0        ESE   \n",
       "2  2015-01-22           Perth          SW           35.0         SE   \n",
       "3  2015-01-22    Salmon  Gums           S           41.0          S   \n",
       "4  2015-01-22         Walpole           S           35.0         SW   \n",
       "\n",
       "  winddir3pm  windspeed9am  windspeed3pm  \n",
       "0         SW          19.0          24.0  \n",
       "1        WSW          15.0          24.0  \n",
       "2         SW          13.0          20.0  \n",
       "3          S          20.0          22.0  \n",
       "4        SSW           9.0          19.0  "
      ]
     },
     "execution_count": 10,
     "metadata": {},
     "output_type": "execute_result"
    }
   ],
   "source": [
    "wind_06.head()"
   ]
  },
  {
   "cell_type": "code",
   "execution_count": 1,
   "metadata": {
    "ExecuteTime": {
     "end_time": "2020-05-05T19:21:05.818937Z",
     "start_time": "2020-05-05T19:21:05.731476Z"
    }
   },
   "outputs": [],
   "source": [
    "## clear jupyter memory\n",
    "import gc"
   ]
  },
  {
   "cell_type": "code",
   "execution_count": 2,
   "metadata": {
    "ExecuteTime": {
     "end_time": "2020-05-05T19:21:20.206295Z",
     "start_time": "2020-05-05T19:21:20.115831Z"
    }
   },
   "outputs": [
    {
     "data": {
      "text/plain": [
       "271"
      ]
     },
     "execution_count": 2,
     "metadata": {},
     "output_type": "execute_result"
    }
   ],
   "source": [
    "gc.collect()"
   ]
  }
 ],
 "metadata": {
  "hide_input": false,
  "kernelspec": {
   "display_name": "Python 3",
   "language": "python",
   "name": "python3"
  },
  "language_info": {
   "codemirror_mode": {
    "name": "ipython",
    "version": 3
   },
   "file_extension": ".py",
   "mimetype": "text/x-python",
   "name": "python",
   "nbconvert_exporter": "python",
   "pygments_lexer": "ipython3",
   "version": "3.7.1"
  },
  "varInspector": {
   "cols": {
    "lenName": 16,
    "lenType": 16,
    "lenVar": 40
   },
   "kernels_config": {
    "python": {
     "delete_cmd_postfix": "",
     "delete_cmd_prefix": "del ",
     "library": "var_list.py",
     "varRefreshCmd": "print(var_dic_list())"
    },
    "r": {
     "delete_cmd_postfix": ") ",
     "delete_cmd_prefix": "rm(",
     "library": "var_list.r",
     "varRefreshCmd": "cat(var_dic_list()) "
    }
   },
   "types_to_exclude": [
    "module",
    "function",
    "builtin_function_or_method",
    "instance",
    "_Feature"
   ],
   "window_display": false
  }
 },
 "nbformat": 4,
 "nbformat_minor": 4
}
